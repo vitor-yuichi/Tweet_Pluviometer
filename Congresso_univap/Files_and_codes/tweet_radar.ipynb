{
    "cells": [
        {
            "cell_type": "markdown",
            "source": [
                "# Generating the date-set"
            ],
            "metadata": {}
        },
        {
            "cell_type": "code",
            "execution_count": 20,
            "source": [
                "import datetime\r\n",
                "import pandas as pd\r\n",
                "import numpy as np "
            ],
            "outputs": [],
            "metadata": {}
        },
        {
            "cell_type": "code",
            "execution_count": 21,
            "source": [
                "start_date = datetime.date(2019, 1, 1)\r\n",
                "end_date = datetime.date(2019, 4, 1)\r\n",
                "\r\n",
                "dates = [\r\n",
                "    start_date + datetime.timedelta(n) for n in range(int((end_date - start_date).days))]\r\n"
            ],
            "outputs": [],
            "metadata": {}
        },
        {
            "cell_type": "code",
            "execution_count": 22,
            "source": [
                "\r\n",
                "date_standard = [0]*(len(dates))\r\n",
                "for i in range(0, (len(dates))):\r\n",
                "    date_standard[i] = datetime.date.strftime(dates[i], '%d-%m-%Y')\r\n"
            ],
            "outputs": [],
            "metadata": {}
        },
        {
            "cell_type": "markdown",
            "source": [
                "# Importing the tweets "
            ],
            "metadata": {}
        },
        {
            "cell_type": "code",
            "execution_count": 23,
            "source": [
                "df = pd.read_csv( r'C:\\Users\\xdead\\Desktop\\Ic\\CONGRESSO UNIVAP\\tweets_jan_mar.csv')\r\n"
            ],
            "outputs": [],
            "metadata": {}
        },
        {
            "cell_type": "code",
            "execution_count": 24,
            "source": [
                "#adjusting the time UTC to BR-SP \r\n",
                "df.date=pd.to_datetime(df.date)\r\n",
                "df['date'] = df['date'].dt.tz_localize('UTC').dt.tz_convert('America/Sao_Paulo')"
            ],
            "outputs": [],
            "metadata": {}
        },
        {
            "cell_type": "code",
            "execution_count": 25,
            "source": [
                "df['Time'] = df['date'].dt.strftime('%H:%M')\r\n",
                "df['Date'] = df['date'].dt.strftime('%Y-%m-%d')\r\n"
            ],
            "outputs": [],
            "metadata": {}
        },
        {
            "cell_type": "markdown",
            "source": [
                "# Filtering tweets by list of words "
            ],
            "metadata": {}
        },
        {
            "cell_type": "code",
            "execution_count": 26,
            "source": [
                "meteo_hidro = ['chuva', 'rain', 'temporal', 'lightning', 'tempestade', 'nublado', 'trovão',\r\n",
                "               'rainbow', 'precipitação', 'alagado', 'alagamento', 'enchente', 'enxente', 'inundação', 'raio']\r\n",
                "tweets_filtered=df[df.text.str.contains('\\W|\\W'.join(meteo_hidro), case=False, regex=True)]"
            ],
            "outputs": [],
            "metadata": {}
        },
        {
            "cell_type": "code",
            "execution_count": 27,
            "source": [
                "tweets_filtered.head(3)"
            ],
            "outputs": [
                {
                    "output_type": "execute_result",
                    "data": {
                        "text/plain": [
                            "     Unnamed: 0                      date  \\\n",
                            "100         100 2019-01-01 19:33:49-02:00   \n",
                            "214         214 2019-01-01 16:58:21-02:00   \n",
                            "507         507 2019-01-01 10:25:28-02:00   \n",
                            "\n",
                            "                                                  text   Time        Date  \n",
                            "100  35’ de natação antes da chuva... \\n#personaltr...  19:33  2019-01-01  \n",
                            "214  'O que dizer da chuva... já que todas às palav...  16:58  2019-01-01  \n",
                            "507  Que a chuva da paz  esperança  felicidade e am...  10:25  2019-01-01  "
                        ],
                        "text/html": [
                            "<div>\n",
                            "<style scoped>\n",
                            "    .dataframe tbody tr th:only-of-type {\n",
                            "        vertical-align: middle;\n",
                            "    }\n",
                            "\n",
                            "    .dataframe tbody tr th {\n",
                            "        vertical-align: top;\n",
                            "    }\n",
                            "\n",
                            "    .dataframe thead th {\n",
                            "        text-align: right;\n",
                            "    }\n",
                            "</style>\n",
                            "<table border=\"1\" class=\"dataframe\">\n",
                            "  <thead>\n",
                            "    <tr style=\"text-align: right;\">\n",
                            "      <th></th>\n",
                            "      <th>Unnamed: 0</th>\n",
                            "      <th>date</th>\n",
                            "      <th>text</th>\n",
                            "      <th>Time</th>\n",
                            "      <th>Date</th>\n",
                            "    </tr>\n",
                            "  </thead>\n",
                            "  <tbody>\n",
                            "    <tr>\n",
                            "      <th>100</th>\n",
                            "      <td>100</td>\n",
                            "      <td>2019-01-01 19:33:49-02:00</td>\n",
                            "      <td>35’ de natação antes da chuva... \\n#personaltr...</td>\n",
                            "      <td>19:33</td>\n",
                            "      <td>2019-01-01</td>\n",
                            "    </tr>\n",
                            "    <tr>\n",
                            "      <th>214</th>\n",
                            "      <td>214</td>\n",
                            "      <td>2019-01-01 16:58:21-02:00</td>\n",
                            "      <td>'O que dizer da chuva... já que todas às palav...</td>\n",
                            "      <td>16:58</td>\n",
                            "      <td>2019-01-01</td>\n",
                            "    </tr>\n",
                            "    <tr>\n",
                            "      <th>507</th>\n",
                            "      <td>507</td>\n",
                            "      <td>2019-01-01 10:25:28-02:00</td>\n",
                            "      <td>Que a chuva da paz  esperança  felicidade e am...</td>\n",
                            "      <td>10:25</td>\n",
                            "      <td>2019-01-01</td>\n",
                            "    </tr>\n",
                            "  </tbody>\n",
                            "</table>\n",
                            "</div>"
                        ]
                    },
                    "metadata": {},
                    "execution_count": 27
                }
            ],
            "metadata": {}
        },
        {
            "cell_type": "code",
            "execution_count": 28,
            "source": [
                "#generating the frequency of tweets in each day \r\n",
                "tweets_frequence=tweets_filtered.Date.value_counts().reset_index().sort_values(by='index')\r\n"
            ],
            "outputs": [],
            "metadata": {}
        },
        {
            "cell_type": "code",
            "execution_count": 29,
            "source": [
                "tweets_frequence.columns=([\"date\", 'Frequence'])"
            ],
            "outputs": [],
            "metadata": {}
        },
        {
            "cell_type": "code",
            "execution_count": 30,
            "source": [
                "import numpy as np "
            ],
            "outputs": [],
            "metadata": {}
        },
        {
            "cell_type": "markdown",
            "source": [
                "# Data Regulation to tweets \r\n",
                "This step consist of filling the gap dates with zeros, to contain the entire temporal series "
            ],
            "metadata": {}
        },
        {
            "cell_type": "code",
            "execution_count": 31,
            "source": [
                "complete_date=pd.DataFrame(date_standard)\r\n",
                "frames = [complete_date, tweets_frequence]\r\n"
            ],
            "outputs": [],
            "metadata": {}
        },
        {
            "cell_type": "code",
            "execution_count": 75,
            "source": [
                "tweets_frequence.index = range(len(tweets_frequence.index))\r\n",
                "complete_date.columns=['date']\r\n",
                "complete_date.date = pd.to_datetime(complete_date.date).dt.strftime(\"%d-%m-%Y\")\r\n",
                "tweets_frequence.date=pd.to_datetime(tweets_frequence.date).dt.strftime(\"%d-%m-%Y\")\r\n",
                "\r\n"
            ],
            "outputs": [],
            "metadata": {}
        },
        {
            "cell_type": "code",
            "execution_count": 80,
            "source": [
                "tweets_frequence.date.unique()"
            ],
            "outputs": [
                {
                    "output_type": "execute_result",
                    "data": {
                        "text/plain": [
                            "array(['01-01-2019', '02-01-2019', '03-01-2019', '04-01-2019',\n",
                            "       '05-01-2019', '06-01-2019', '07-01-2019', '08-01-2019',\n",
                            "       '09-01-2019', '10-01-2019', '11-01-2019', '12-01-2019',\n",
                            "       '14-01-2019', '15-01-2019', '16-01-2019', '17-01-2019',\n",
                            "       '18-01-2019', '19-01-2019', '20-01-2019', '21-01-2019',\n",
                            "       '22-01-2019', '23-01-2019', '24-01-2019', '25-01-2019',\n",
                            "       '26-01-2019', '27-01-2019', '28-01-2019', '29-01-2019',\n",
                            "       '30-01-2019', '31-01-2019', '01-02-2019', '03-02-2019',\n",
                            "       '04-02-2019', '05-02-2019', '06-02-2019', '07-02-2019',\n",
                            "       '09-02-2019', '11-02-2019', '12-02-2019', '13-02-2019',\n",
                            "       '14-02-2019', '15-02-2019', '16-02-2019', '17-02-2019',\n",
                            "       '18-02-2019', '19-02-2019', '20-02-2019', '21-02-2019',\n",
                            "       '22-02-2019', '23-02-2019', '24-02-2019', '25-02-2019',\n",
                            "       '26-02-2019', '27-02-2019', '28-02-2019', '01-03-2019',\n",
                            "       '02-03-2019', '03-03-2019', '04-03-2019', '05-03-2019',\n",
                            "       '06-03-2019', '07-03-2019', '08-03-2019', '09-03-2019',\n",
                            "       '10-03-2019', '11-03-2019', '12-03-2019', '13-03-2019',\n",
                            "       '14-03-2019', '15-03-2019', '16-03-2019', '17-03-2019',\n",
                            "       '19-03-2019', '20-03-2019', '21-03-2019', '22-03-2019',\n",
                            "       '23-03-2019', '25-03-2019', '26-03-2019', '27-03-2019',\n",
                            "       '28-03-2019', '30-03-2019', '31-03-2019'], dtype=object)"
                        ]
                    },
                    "metadata": {},
                    "execution_count": 80
                }
            ],
            "metadata": {}
        },
        {
            "cell_type": "code",
            "execution_count": 81,
            "source": [
                "regularized_data=tweets_frequence.merge(complete_date, how='left')\r\n",
                "regularized_data=regularized_data.fillna(0)\r\n"
            ],
            "outputs": [],
            "metadata": {}
        },
        {
            "cell_type": "code",
            "execution_count": 82,
            "source": [
                "regularized_data.date.unique()"
            ],
            "outputs": [
                {
                    "output_type": "execute_result",
                    "data": {
                        "text/plain": [
                            "array(['01-01-2019', '02-01-2019', '03-01-2019', '04-01-2019',\n",
                            "       '05-01-2019', '06-01-2019', '07-01-2019', '08-01-2019',\n",
                            "       '09-01-2019', '10-01-2019', '11-01-2019', '12-01-2019',\n",
                            "       '14-01-2019', '15-01-2019', '16-01-2019', '17-01-2019',\n",
                            "       '18-01-2019', '19-01-2019', '20-01-2019', '21-01-2019',\n",
                            "       '22-01-2019', '23-01-2019', '24-01-2019', '25-01-2019',\n",
                            "       '26-01-2019', '27-01-2019', '28-01-2019', '29-01-2019',\n",
                            "       '30-01-2019', '31-01-2019', '01-02-2019', '03-02-2019',\n",
                            "       '04-02-2019', '05-02-2019', '06-02-2019', '07-02-2019',\n",
                            "       '09-02-2019', '11-02-2019', '12-02-2019', '13-02-2019',\n",
                            "       '14-02-2019', '15-02-2019', '16-02-2019', '17-02-2019',\n",
                            "       '18-02-2019', '19-02-2019', '20-02-2019', '21-02-2019',\n",
                            "       '22-02-2019', '23-02-2019', '24-02-2019', '25-02-2019',\n",
                            "       '26-02-2019', '27-02-2019', '28-02-2019', '01-03-2019',\n",
                            "       '02-03-2019', '03-03-2019', '04-03-2019', '05-03-2019',\n",
                            "       '06-03-2019', '07-03-2019', '08-03-2019', '09-03-2019',\n",
                            "       '10-03-2019', '11-03-2019', '12-03-2019', '13-03-2019',\n",
                            "       '14-03-2019', '15-03-2019', '16-03-2019', '17-03-2019',\n",
                            "       '19-03-2019', '20-03-2019', '21-03-2019', '22-03-2019',\n",
                            "       '23-03-2019', '25-03-2019', '26-03-2019', '27-03-2019',\n",
                            "       '28-03-2019', '30-03-2019', '31-03-2019'], dtype=object)"
                        ]
                    },
                    "metadata": {},
                    "execution_count": 82
                }
            ],
            "metadata": {}
        },
        {
            "cell_type": "markdown",
            "source": [
                "# Plots"
            ],
            "metadata": {}
        },
        {
            "cell_type": "code",
            "execution_count": 83,
            "source": [
                "import matplotlib.pyplot as plt"
            ],
            "outputs": [],
            "metadata": {}
        },
        {
            "cell_type": "code",
            "execution_count": 84,
            "source": [
                "ax=regularized_data.plot.bar(x='date', figsize=(10,10))\r\n",
                "ax.tick_params(axis='x', rotation=90)\r\n",
                "ax = plt.gca()\r\n",
                "ax.tick_params(axis='both', which='major', labelsize=5)\r\n",
                "ax.tick_params(axis='both', which='minor', labelsize=5)\r\n"
            ],
            "outputs": [
                {
                    "output_type": "display_data",
                    "data": {
                        "text/plain": [
                            "<Figure size 720x720 with 1 Axes>"
                        ],
                        "image/svg+xml": "<?xml version=\"1.0\" encoding=\"utf-8\" standalone=\"no\"?>\r\n<!DOCTYPE svg PUBLIC \"-//W3C//DTD SVG 1.1//EN\"\r\n  \"http://www.w3.org/Graphics/SVG/1.1/DTD/svg11.dtd\">\r\n<!-- Created with matplotlib (https://matplotlib.org/) -->\r\n<svg height=\"607.735937pt\" version=\"1.1\" viewBox=\"0 0 585.7625 607.735937\" width=\"585.7625pt\" xmlns=\"http://www.w3.org/2000/svg\" xmlns:xlink=\"http://www.w3.org/1999/xlink\">\r\n <metadata>\r\n  <rdf:RDF xmlns:cc=\"http://creativecommons.org/ns#\" xmlns:dc=\"http://purl.org/dc/elements/1.1/\" xmlns:rdf=\"http://www.w3.org/1999/02/22-rdf-syntax-ns#\">\r\n   <cc:Work>\r\n    <dc:type rdf:resource=\"http://purl.org/dc/dcmitype/StillImage\"/>\r\n    <dc:date>2021-08-20T10:37:11.015329</dc:date>\r\n    <dc:format>image/svg+xml</dc:format>\r\n    <dc:creator>\r\n     <cc:Agent>\r\n      <dc:title>Matplotlib v3.3.3, https://matplotlib.org/</dc:title>\r\n     </cc:Agent>\r\n    </dc:creator>\r\n   </cc:Work>\r\n  </rdf:RDF>\r\n </metadata>\r\n <defs>\r\n  <style type=\"text/css\">*{stroke-linecap:butt;stroke-linejoin:round;}</style>\r\n </defs>\r\n <g id=\"figure_1\">\r\n  <g id=\"patch_1\">\r\n   <path d=\"M 0 607.735937 \r\nL 585.7625 607.735937 \r\nL 585.7625 0 \r\nL 0 0 \r\nz\r\n\" style=\"fill:none;\"/>\r\n  </g>\r\n  <g id=\"axes_1\">\r\n   <g id=\"patch_2\">\r\n    <path d=\"M 20.5625 550.8 \r\nL 578.5625 550.8 \r\nL 578.5625 7.2 \r\nL 20.5625 7.2 \r\nz\r\n\" style=\"fill:#ffffff;\"/>\r\n   </g>\r\n   <g id=\"patch_3\">\r\n    <path clip-path=\"url(#pfc9397c007)\" d=\"M 22.243223 550.8 \r\nL 25.604669 550.8 \r\nL 25.604669 491.063736 \r\nL 22.243223 491.063736 \r\nz\r\n\" style=\"fill:#1f77b4;\"/>\r\n   </g>\r\n   <g id=\"patch_4\">\r\n    <path clip-path=\"url(#pfc9397c007)\" d=\"M 28.966114 550.8 \r\nL 32.32756 550.8 \r\nL 32.32756 510.975824 \r\nL 28.966114 510.975824 \r\nz\r\n\" style=\"fill:#1f77b4;\"/>\r\n   </g>\r\n   <g id=\"patch_5\">\r\n    <path clip-path=\"url(#pfc9397c007)\" d=\"M 35.689006 550.8 \r\nL 39.050452 550.8 \r\nL 39.050452 431.327473 \r\nL 35.689006 431.327473 \r\nz\r\n\" style=\"fill:#1f77b4;\"/>\r\n   </g>\r\n   <g id=\"patch_6\">\r\n    <path clip-path=\"url(#pfc9397c007)\" d=\"M 42.411898 550.8 \r\nL 45.773343 550.8 \r\nL 45.773343 451.23956 \r\nL 42.411898 451.23956 \r\nz\r\n\" style=\"fill:#1f77b4;\"/>\r\n   </g>\r\n   <g id=\"patch_7\">\r\n    <path clip-path=\"url(#pfc9397c007)\" d=\"M 49.134789 550.8 \r\nL 52.496235 550.8 \r\nL 52.496235 331.767033 \r\nL 49.134789 331.767033 \r\nz\r\n\" style=\"fill:#1f77b4;\"/>\r\n   </g>\r\n   <g id=\"patch_8\">\r\n    <path clip-path=\"url(#pfc9397c007)\" d=\"M 55.857681 550.8 \r\nL 59.219127 550.8 \r\nL 59.219127 371.591209 \r\nL 55.857681 371.591209 \r\nz\r\n\" style=\"fill:#1f77b4;\"/>\r\n   </g>\r\n   <g id=\"patch_9\">\r\n    <path clip-path=\"url(#pfc9397c007)\" d=\"M 62.580572 550.8 \r\nL 65.942018 550.8 \r\nL 65.942018 431.327473 \r\nL 62.580572 431.327473 \r\nz\r\n\" style=\"fill:#1f77b4;\"/>\r\n   </g>\r\n   <g id=\"patch_10\">\r\n    <path clip-path=\"url(#pfc9397c007)\" d=\"M 69.303464 550.8 \r\nL 72.66491 550.8 \r\nL 72.66491 411.415385 \r\nL 69.303464 411.415385 \r\nz\r\n\" style=\"fill:#1f77b4;\"/>\r\n   </g>\r\n   <g id=\"patch_11\">\r\n    <path clip-path=\"url(#pfc9397c007)\" d=\"M 76.026355 550.8 \r\nL 79.387801 550.8 \r\nL 79.387801 471.151648 \r\nL 76.026355 471.151648 \r\nz\r\n\" style=\"fill:#1f77b4;\"/>\r\n   </g>\r\n   <g id=\"patch_12\">\r\n    <path clip-path=\"url(#pfc9397c007)\" d=\"M 82.749247 550.8 \r\nL 86.110693 550.8 \r\nL 86.110693 491.063736 \r\nL 82.749247 491.063736 \r\nz\r\n\" style=\"fill:#1f77b4;\"/>\r\n   </g>\r\n   <g id=\"patch_13\">\r\n    <path clip-path=\"url(#pfc9397c007)\" d=\"M 89.472139 550.8 \r\nL 92.833584 550.8 \r\nL 92.833584 371.591209 \r\nL 89.472139 371.591209 \r\nz\r\n\" style=\"fill:#1f77b4;\"/>\r\n   </g>\r\n   <g id=\"patch_14\">\r\n    <path clip-path=\"url(#pfc9397c007)\" d=\"M 96.19503 550.8 \r\nL 99.556476 550.8 \r\nL 99.556476 510.975824 \r\nL 96.19503 510.975824 \r\nz\r\n\" style=\"fill:#1f77b4;\"/>\r\n   </g>\r\n   <g id=\"patch_15\">\r\n    <path clip-path=\"url(#pfc9397c007)\" d=\"M 102.917922 550.8 \r\nL 106.279367 550.8 \r\nL 106.279367 471.151648 \r\nL 102.917922 471.151648 \r\nz\r\n\" style=\"fill:#1f77b4;\"/>\r\n   </g>\r\n   <g id=\"patch_16\">\r\n    <path clip-path=\"url(#pfc9397c007)\" d=\"M 109.640813 550.8 \r\nL 113.002259 550.8 \r\nL 113.002259 391.503297 \r\nL 109.640813 391.503297 \r\nz\r\n\" style=\"fill:#1f77b4;\"/>\r\n   </g>\r\n   <g id=\"patch_17\">\r\n    <path clip-path=\"url(#pfc9397c007)\" d=\"M 116.363705 550.8 \r\nL 119.725151 550.8 \r\nL 119.725151 530.887912 \r\nL 116.363705 530.887912 \r\nz\r\n\" style=\"fill:#1f77b4;\"/>\r\n   </g>\r\n   <g id=\"patch_18\">\r\n    <path clip-path=\"url(#pfc9397c007)\" d=\"M 123.086596 550.8 \r\nL 126.448042 550.8 \r\nL 126.448042 391.503297 \r\nL 123.086596 391.503297 \r\nz\r\n\" style=\"fill:#1f77b4;\"/>\r\n   </g>\r\n   <g id=\"patch_19\">\r\n    <path clip-path=\"url(#pfc9397c007)\" d=\"M 129.809488 550.8 \r\nL 133.170934 550.8 \r\nL 133.170934 510.975824 \r\nL 129.809488 510.975824 \r\nz\r\n\" style=\"fill:#1f77b4;\"/>\r\n   </g>\r\n   <g id=\"patch_20\">\r\n    <path clip-path=\"url(#pfc9397c007)\" d=\"M 136.53238 550.8 \r\nL 139.893825 550.8 \r\nL 139.893825 491.063736 \r\nL 136.53238 491.063736 \r\nz\r\n\" style=\"fill:#1f77b4;\"/>\r\n   </g>\r\n   <g id=\"patch_21\">\r\n    <path clip-path=\"url(#pfc9397c007)\" d=\"M 143.255271 550.8 \r\nL 146.616717 550.8 \r\nL 146.616717 510.975824 \r\nL 143.255271 510.975824 \r\nz\r\n\" style=\"fill:#1f77b4;\"/>\r\n   </g>\r\n   <g id=\"patch_22\">\r\n    <path clip-path=\"url(#pfc9397c007)\" d=\"M 149.978163 550.8 \r\nL 153.339608 550.8 \r\nL 153.339608 491.063736 \r\nL 149.978163 491.063736 \r\nz\r\n\" style=\"fill:#1f77b4;\"/>\r\n   </g>\r\n   <g id=\"patch_23\">\r\n    <path clip-path=\"url(#pfc9397c007)\" d=\"M 156.701054 550.8 \r\nL 160.0625 550.8 \r\nL 160.0625 471.151648 \r\nL 156.701054 471.151648 \r\nz\r\n\" style=\"fill:#1f77b4;\"/>\r\n   </g>\r\n   <g id=\"patch_24\">\r\n    <path clip-path=\"url(#pfc9397c007)\" d=\"M 163.423946 550.8 \r\nL 166.785392 550.8 \r\nL 166.785392 431.327473 \r\nL 163.423946 431.327473 \r\nz\r\n\" style=\"fill:#1f77b4;\"/>\r\n   </g>\r\n   <g id=\"patch_25\">\r\n    <path clip-path=\"url(#pfc9397c007)\" d=\"M 170.146837 550.8 \r\nL 173.508283 550.8 \r\nL 173.508283 451.23956 \r\nL 170.146837 451.23956 \r\nz\r\n\" style=\"fill:#1f77b4;\"/>\r\n   </g>\r\n   <g id=\"patch_26\">\r\n    <path clip-path=\"url(#pfc9397c007)\" d=\"M 176.869729 550.8 \r\nL 180.231175 550.8 \r\nL 180.231175 371.591209 \r\nL 176.869729 371.591209 \r\nz\r\n\" style=\"fill:#1f77b4;\"/>\r\n   </g>\r\n   <g id=\"patch_27\">\r\n    <path clip-path=\"url(#pfc9397c007)\" d=\"M 183.59262 550.8 \r\nL 186.954066 550.8 \r\nL 186.954066 451.23956 \r\nL 183.59262 451.23956 \r\nz\r\n\" style=\"fill:#1f77b4;\"/>\r\n   </g>\r\n   <g id=\"patch_28\">\r\n    <path clip-path=\"url(#pfc9397c007)\" d=\"M 190.315512 550.8 \r\nL 193.676958 550.8 \r\nL 193.676958 431.327473 \r\nL 190.315512 431.327473 \r\nz\r\n\" style=\"fill:#1f77b4;\"/>\r\n   </g>\r\n   <g id=\"patch_29\">\r\n    <path clip-path=\"url(#pfc9397c007)\" d=\"M 197.038404 550.8 \r\nL 200.399849 550.8 \r\nL 200.399849 530.887912 \r\nL 197.038404 530.887912 \r\nz\r\n\" style=\"fill:#1f77b4;\"/>\r\n   </g>\r\n   <g id=\"patch_30\">\r\n    <path clip-path=\"url(#pfc9397c007)\" d=\"M 203.761295 550.8 \r\nL 207.122741 550.8 \r\nL 207.122741 510.975824 \r\nL 203.761295 510.975824 \r\nz\r\n\" style=\"fill:#1f77b4;\"/>\r\n   </g>\r\n   <g id=\"patch_31\">\r\n    <path clip-path=\"url(#pfc9397c007)\" d=\"M 210.484187 550.8 \r\nL 213.845633 550.8 \r\nL 213.845633 351.679121 \r\nL 210.484187 351.679121 \r\nz\r\n\" style=\"fill:#1f77b4;\"/>\r\n   </g>\r\n   <g id=\"patch_32\">\r\n    <path clip-path=\"url(#pfc9397c007)\" d=\"M 217.207078 550.8 \r\nL 220.568524 550.8 \r\nL 220.568524 451.23956 \r\nL 217.207078 451.23956 \r\nz\r\n\" style=\"fill:#1f77b4;\"/>\r\n   </g>\r\n   <g id=\"patch_33\">\r\n    <path clip-path=\"url(#pfc9397c007)\" d=\"M 223.92997 550.8 \r\nL 227.291416 550.8 \r\nL 227.291416 530.887912 \r\nL 223.92997 530.887912 \r\nz\r\n\" style=\"fill:#1f77b4;\"/>\r\n   </g>\r\n   <g id=\"patch_34\">\r\n    <path clip-path=\"url(#pfc9397c007)\" d=\"M 230.652861 550.8 \r\nL 234.014307 550.8 \r\nL 234.014307 510.975824 \r\nL 230.652861 510.975824 \r\nz\r\n\" style=\"fill:#1f77b4;\"/>\r\n   </g>\r\n   <g id=\"patch_35\">\r\n    <path clip-path=\"url(#pfc9397c007)\" d=\"M 237.375753 550.8 \r\nL 240.737199 550.8 \r\nL 240.737199 311.854945 \r\nL 237.375753 311.854945 \r\nz\r\n\" style=\"fill:#1f77b4;\"/>\r\n   </g>\r\n   <g id=\"patch_36\">\r\n    <path clip-path=\"url(#pfc9397c007)\" d=\"M 244.098645 550.8 \r\nL 247.46009 550.8 \r\nL 247.46009 510.975824 \r\nL 244.098645 510.975824 \r\nz\r\n\" style=\"fill:#1f77b4;\"/>\r\n   </g>\r\n   <g id=\"patch_37\">\r\n    <path clip-path=\"url(#pfc9397c007)\" d=\"M 250.821536 550.8 \r\nL 254.182982 550.8 \r\nL 254.182982 112.734066 \r\nL 250.821536 112.734066 \r\nz\r\n\" style=\"fill:#1f77b4;\"/>\r\n   </g>\r\n   <g id=\"patch_38\">\r\n    <path clip-path=\"url(#pfc9397c007)\" d=\"M 257.544428 550.8 \r\nL 260.905873 550.8 \r\nL 260.905873 431.327473 \r\nL 257.544428 431.327473 \r\nz\r\n\" style=\"fill:#1f77b4;\"/>\r\n   </g>\r\n   <g id=\"patch_39\">\r\n    <path clip-path=\"url(#pfc9397c007)\" d=\"M 264.267319 550.8 \r\nL 267.628765 550.8 \r\nL 267.628765 510.975824 \r\nL 264.267319 510.975824 \r\nz\r\n\" style=\"fill:#1f77b4;\"/>\r\n   </g>\r\n   <g id=\"patch_40\">\r\n    <path clip-path=\"url(#pfc9397c007)\" d=\"M 270.990211 550.8 \r\nL 274.351657 550.8 \r\nL 274.351657 491.063736 \r\nL 270.990211 491.063736 \r\nz\r\n\" style=\"fill:#1f77b4;\"/>\r\n   </g>\r\n   <g id=\"patch_41\">\r\n    <path clip-path=\"url(#pfc9397c007)\" d=\"M 277.713102 550.8 \r\nL 281.074548 550.8 \r\nL 281.074548 431.327473 \r\nL 277.713102 431.327473 \r\nz\r\n\" style=\"fill:#1f77b4;\"/>\r\n   </g>\r\n   <g id=\"patch_42\">\r\n    <path clip-path=\"url(#pfc9397c007)\" d=\"M 284.435994 550.8 \r\nL 287.79744 550.8 \r\nL 287.79744 491.063736 \r\nL 284.435994 491.063736 \r\nz\r\n\" style=\"fill:#1f77b4;\"/>\r\n   </g>\r\n   <g id=\"patch_43\">\r\n    <path clip-path=\"url(#pfc9397c007)\" d=\"M 291.158886 550.8 \r\nL 294.520331 550.8 \r\nL 294.520331 331.767033 \r\nL 291.158886 331.767033 \r\nz\r\n\" style=\"fill:#1f77b4;\"/>\r\n   </g>\r\n   <g id=\"patch_44\">\r\n    <path clip-path=\"url(#pfc9397c007)\" d=\"M 297.881777 550.8 \r\nL 301.243223 550.8 \r\nL 301.243223 371.591209 \r\nL 297.881777 371.591209 \r\nz\r\n\" style=\"fill:#1f77b4;\"/>\r\n   </g>\r\n   <g id=\"patch_45\">\r\n    <path clip-path=\"url(#pfc9397c007)\" d=\"M 304.604669 550.8 \r\nL 307.966114 550.8 \r\nL 307.966114 252.118681 \r\nL 304.604669 252.118681 \r\nz\r\n\" style=\"fill:#1f77b4;\"/>\r\n   </g>\r\n   <g id=\"patch_46\">\r\n    <path clip-path=\"url(#pfc9397c007)\" d=\"M 311.32756 550.8 \r\nL 314.689006 550.8 \r\nL 314.689006 291.942857 \r\nL 311.32756 291.942857 \r\nz\r\n\" style=\"fill:#1f77b4;\"/>\r\n   </g>\r\n   <g id=\"patch_47\">\r\n    <path clip-path=\"url(#pfc9397c007)\" d=\"M 318.050452 550.8 \r\nL 321.411898 550.8 \r\nL 321.411898 451.23956 \r\nL 318.050452 451.23956 \r\nz\r\n\" style=\"fill:#1f77b4;\"/>\r\n   </g>\r\n   <g id=\"patch_48\">\r\n    <path clip-path=\"url(#pfc9397c007)\" d=\"M 324.773343 550.8 \r\nL 328.134789 550.8 \r\nL 328.134789 451.23956 \r\nL 324.773343 451.23956 \r\nz\r\n\" style=\"fill:#1f77b4;\"/>\r\n   </g>\r\n   <g id=\"patch_49\">\r\n    <path clip-path=\"url(#pfc9397c007)\" d=\"M 331.496235 550.8 \r\nL 334.857681 550.8 \r\nL 334.857681 371.591209 \r\nL 331.496235 371.591209 \r\nz\r\n\" style=\"fill:#1f77b4;\"/>\r\n   </g>\r\n   <g id=\"patch_50\">\r\n    <path clip-path=\"url(#pfc9397c007)\" d=\"M 338.219127 550.8 \r\nL 341.580572 550.8 \r\nL 341.580572 411.415385 \r\nL 338.219127 411.415385 \r\nz\r\n\" style=\"fill:#1f77b4;\"/>\r\n   </g>\r\n   <g id=\"patch_51\">\r\n    <path clip-path=\"url(#pfc9397c007)\" d=\"M 344.942018 550.8 \r\nL 348.303464 550.8 \r\nL 348.303464 252.118681 \r\nL 344.942018 252.118681 \r\nz\r\n\" style=\"fill:#1f77b4;\"/>\r\n   </g>\r\n   <g id=\"patch_52\">\r\n    <path clip-path=\"url(#pfc9397c007)\" d=\"M 351.66491 550.8 \r\nL 355.026355 550.8 \r\nL 355.026355 311.854945 \r\nL 351.66491 311.854945 \r\nz\r\n\" style=\"fill:#1f77b4;\"/>\r\n   </g>\r\n   <g id=\"patch_53\">\r\n    <path clip-path=\"url(#pfc9397c007)\" d=\"M 358.387801 550.8 \r\nL 361.749247 550.8 \r\nL 361.749247 411.415385 \r\nL 358.387801 411.415385 \r\nz\r\n\" style=\"fill:#1f77b4;\"/>\r\n   </g>\r\n   <g id=\"patch_54\">\r\n    <path clip-path=\"url(#pfc9397c007)\" d=\"M 365.110693 550.8 \r\nL 368.472139 550.8 \r\nL 368.472139 351.679121 \r\nL 365.110693 351.679121 \r\nz\r\n\" style=\"fill:#1f77b4;\"/>\r\n   </g>\r\n   <g id=\"patch_55\">\r\n    <path clip-path=\"url(#pfc9397c007)\" d=\"M 371.833584 550.8 \r\nL 375.19503 550.8 \r\nL 375.19503 272.030769 \r\nL 371.833584 272.030769 \r\nz\r\n\" style=\"fill:#1f77b4;\"/>\r\n   </g>\r\n   <g id=\"patch_56\">\r\n    <path clip-path=\"url(#pfc9397c007)\" d=\"M 378.556476 550.8 \r\nL 381.917922 550.8 \r\nL 381.917922 391.503297 \r\nL 378.556476 391.503297 \r\nz\r\n\" style=\"fill:#1f77b4;\"/>\r\n   </g>\r\n   <g id=\"patch_57\">\r\n    <path clip-path=\"url(#pfc9397c007)\" d=\"M 385.279367 550.8 \r\nL 388.640813 550.8 \r\nL 388.640813 272.030769 \r\nL 385.279367 272.030769 \r\nz\r\n\" style=\"fill:#1f77b4;\"/>\r\n   </g>\r\n   <g id=\"patch_58\">\r\n    <path clip-path=\"url(#pfc9397c007)\" d=\"M 392.002259 550.8 \r\nL 395.363705 550.8 \r\nL 395.363705 391.503297 \r\nL 392.002259 391.503297 \r\nz\r\n\" style=\"fill:#1f77b4;\"/>\r\n   </g>\r\n   <g id=\"patch_59\">\r\n    <path clip-path=\"url(#pfc9397c007)\" d=\"M 398.725151 550.8 \r\nL 402.086596 550.8 \r\nL 402.086596 212.294505 \r\nL 398.725151 212.294505 \r\nz\r\n\" style=\"fill:#1f77b4;\"/>\r\n   </g>\r\n   <g id=\"patch_60\">\r\n    <path clip-path=\"url(#pfc9397c007)\" d=\"M 405.448042 550.8 \r\nL 408.809488 550.8 \r\nL 408.809488 252.118681 \r\nL 405.448042 252.118681 \r\nz\r\n\" style=\"fill:#1f77b4;\"/>\r\n   </g>\r\n   <g id=\"patch_61\">\r\n    <path clip-path=\"url(#pfc9397c007)\" d=\"M 412.170934 550.8 \r\nL 415.53238 550.8 \r\nL 415.53238 491.063736 \r\nL 412.170934 491.063736 \r\nz\r\n\" style=\"fill:#1f77b4;\"/>\r\n   </g>\r\n   <g id=\"patch_62\">\r\n    <path clip-path=\"url(#pfc9397c007)\" d=\"M 418.893825 550.8 \r\nL 422.255271 550.8 \r\nL 422.255271 431.327473 \r\nL 418.893825 431.327473 \r\nz\r\n\" style=\"fill:#1f77b4;\"/>\r\n   </g>\r\n   <g id=\"patch_63\">\r\n    <path clip-path=\"url(#pfc9397c007)\" d=\"M 425.616717 550.8 \r\nL 428.978163 550.8 \r\nL 428.978163 451.23956 \r\nL 425.616717 451.23956 \r\nz\r\n\" style=\"fill:#1f77b4;\"/>\r\n   </g>\r\n   <g id=\"patch_64\">\r\n    <path clip-path=\"url(#pfc9397c007)\" d=\"M 432.339608 550.8 \r\nL 435.701054 550.8 \r\nL 435.701054 291.942857 \r\nL 432.339608 291.942857 \r\nz\r\n\" style=\"fill:#1f77b4;\"/>\r\n   </g>\r\n   <g id=\"patch_65\">\r\n    <path clip-path=\"url(#pfc9397c007)\" d=\"M 439.0625 550.8 \r\nL 442.423946 550.8 \r\nL 442.423946 530.887912 \r\nL 439.0625 530.887912 \r\nz\r\n\" style=\"fill:#1f77b4;\"/>\r\n   </g>\r\n   <g id=\"patch_66\">\r\n    <path clip-path=\"url(#pfc9397c007)\" d=\"M 445.785392 550.8 \r\nL 449.146837 550.8 \r\nL 449.146837 232.206593 \r\nL 445.785392 232.206593 \r\nz\r\n\" style=\"fill:#1f77b4;\"/>\r\n   </g>\r\n   <g id=\"patch_67\">\r\n    <path clip-path=\"url(#pfc9397c007)\" d=\"M 452.508283 550.8 \r\nL 455.869729 550.8 \r\nL 455.869729 431.327473 \r\nL 452.508283 431.327473 \r\nz\r\n\" style=\"fill:#1f77b4;\"/>\r\n   </g>\r\n   <g id=\"patch_68\">\r\n    <path clip-path=\"url(#pfc9397c007)\" d=\"M 459.231175 550.8 \r\nL 462.59262 550.8 \r\nL 462.59262 33.085714 \r\nL 459.231175 33.085714 \r\nz\r\n\" style=\"fill:#1f77b4;\"/>\r\n   </g>\r\n   <g id=\"patch_69\">\r\n    <path clip-path=\"url(#pfc9397c007)\" d=\"M 465.954066 550.8 \r\nL 469.315512 550.8 \r\nL 469.315512 192.382418 \r\nL 465.954066 192.382418 \r\nz\r\n\" style=\"fill:#1f77b4;\"/>\r\n   </g>\r\n   <g id=\"patch_70\">\r\n    <path clip-path=\"url(#pfc9397c007)\" d=\"M 472.676958 550.8 \r\nL 476.038404 550.8 \r\nL 476.038404 510.975824 \r\nL 472.676958 510.975824 \r\nz\r\n\" style=\"fill:#1f77b4;\"/>\r\n   </g>\r\n   <g id=\"patch_71\">\r\n    <path clip-path=\"url(#pfc9397c007)\" d=\"M 479.399849 550.8 \r\nL 482.761295 550.8 \r\nL 482.761295 431.327473 \r\nL 479.399849 431.327473 \r\nz\r\n\" style=\"fill:#1f77b4;\"/>\r\n   </g>\r\n   <g id=\"patch_72\">\r\n    <path clip-path=\"url(#pfc9397c007)\" d=\"M 486.122741 550.8 \r\nL 489.484187 550.8 \r\nL 489.484187 471.151648 \r\nL 486.122741 471.151648 \r\nz\r\n\" style=\"fill:#1f77b4;\"/>\r\n   </g>\r\n   <g id=\"patch_73\">\r\n    <path clip-path=\"url(#pfc9397c007)\" d=\"M 492.845633 550.8 \r\nL 496.207078 550.8 \r\nL 496.207078 471.151648 \r\nL 492.845633 471.151648 \r\nz\r\n\" style=\"fill:#1f77b4;\"/>\r\n   </g>\r\n   <g id=\"patch_74\">\r\n    <path clip-path=\"url(#pfc9397c007)\" d=\"M 499.568524 550.8 \r\nL 502.92997 550.8 \r\nL 502.92997 272.030769 \r\nL 499.568524 272.030769 \r\nz\r\n\" style=\"fill:#1f77b4;\"/>\r\n   </g>\r\n   <g id=\"patch_75\">\r\n    <path clip-path=\"url(#pfc9397c007)\" d=\"M 506.291416 550.8 \r\nL 509.652861 550.8 \r\nL 509.652861 451.23956 \r\nL 506.291416 451.23956 \r\nz\r\n\" style=\"fill:#1f77b4;\"/>\r\n   </g>\r\n   <g id=\"patch_76\">\r\n    <path clip-path=\"url(#pfc9397c007)\" d=\"M 513.014307 550.8 \r\nL 516.375753 550.8 \r\nL 516.375753 491.063736 \r\nL 513.014307 491.063736 \r\nz\r\n\" style=\"fill:#1f77b4;\"/>\r\n   </g>\r\n   <g id=\"patch_77\">\r\n    <path clip-path=\"url(#pfc9397c007)\" d=\"M 519.737199 550.8 \r\nL 523.098645 550.8 \r\nL 523.098645 232.206593 \r\nL 519.737199 232.206593 \r\nz\r\n\" style=\"fill:#1f77b4;\"/>\r\n   </g>\r\n   <g id=\"patch_78\">\r\n    <path clip-path=\"url(#pfc9397c007)\" d=\"M 526.46009 550.8 \r\nL 529.821536 550.8 \r\nL 529.821536 510.975824 \r\nL 526.46009 510.975824 \r\nz\r\n\" style=\"fill:#1f77b4;\"/>\r\n   </g>\r\n   <g id=\"patch_79\">\r\n    <path clip-path=\"url(#pfc9397c007)\" d=\"M 533.182982 550.8 \r\nL 536.544428 550.8 \r\nL 536.544428 530.887912 \r\nL 533.182982 530.887912 \r\nz\r\n\" style=\"fill:#1f77b4;\"/>\r\n   </g>\r\n   <g id=\"patch_80\">\r\n    <path clip-path=\"url(#pfc9397c007)\" d=\"M 539.905873 550.8 \r\nL 543.267319 550.8 \r\nL 543.267319 530.887912 \r\nL 539.905873 530.887912 \r\nz\r\n\" style=\"fill:#1f77b4;\"/>\r\n   </g>\r\n   <g id=\"patch_81\">\r\n    <path clip-path=\"url(#pfc9397c007)\" d=\"M 546.628765 550.8 \r\nL 549.990211 550.8 \r\nL 549.990211 530.887912 \r\nL 546.628765 530.887912 \r\nz\r\n\" style=\"fill:#1f77b4;\"/>\r\n   </g>\r\n   <g id=\"patch_82\">\r\n    <path clip-path=\"url(#pfc9397c007)\" d=\"M 553.351657 550.8 \r\nL 556.713102 550.8 \r\nL 556.713102 530.887912 \r\nL 553.351657 530.887912 \r\nz\r\n\" style=\"fill:#1f77b4;\"/>\r\n   </g>\r\n   <g id=\"patch_83\">\r\n    <path clip-path=\"url(#pfc9397c007)\" d=\"M 560.074548 550.8 \r\nL 563.435994 550.8 \r\nL 563.435994 491.063736 \r\nL 560.074548 491.063736 \r\nz\r\n\" style=\"fill:#1f77b4;\"/>\r\n   </g>\r\n   <g id=\"patch_84\">\r\n    <path clip-path=\"url(#pfc9397c007)\" d=\"M 566.79744 550.8 \r\nL 570.158886 550.8 \r\nL 570.158886 510.975824 \r\nL 566.79744 510.975824 \r\nz\r\n\" style=\"fill:#1f77b4;\"/>\r\n   </g>\r\n   <g id=\"patch_85\">\r\n    <path clip-path=\"url(#pfc9397c007)\" d=\"M 573.520331 550.8 \r\nL 576.881777 550.8 \r\nL 576.881777 491.063736 \r\nL 573.520331 491.063736 \r\nz\r\n\" style=\"fill:#1f77b4;\"/>\r\n   </g>\r\n   <g id=\"matplotlib.axis_1\">\r\n    <g id=\"xtick_1\">\r\n     <g id=\"line2d_1\">\r\n      <defs>\r\n       <path d=\"M 0 0 \r\nL 0 3.5 \r\n\" id=\"m44c98f0f23\" style=\"stroke:#000000;stroke-width:0.8;\"/>\r\n      </defs>\r\n      <g>\r\n       <use style=\"stroke:#000000;stroke-width:0.8;\" x=\"23.923946\" xlink:href=\"#m44c98f0f23\" y=\"550.8\"/>\r\n      </g>\r\n     </g>\r\n     <g id=\"text_1\">\r\n      <!-- 01-01-2019 -->\r\n      <g transform=\"translate(25.303633 586.857813)rotate(-90)scale(0.05 -0.05)\">\r\n       <defs>\r\n        <path d=\"M 31.78125 66.40625 \r\nQ 24.171875 66.40625 20.328125 58.90625 \r\nQ 16.5 51.421875 16.5 36.375 \r\nQ 16.5 21.390625 20.328125 13.890625 \r\nQ 24.171875 6.390625 31.78125 6.390625 \r\nQ 39.453125 6.390625 43.28125 13.890625 \r\nQ 47.125 21.390625 47.125 36.375 \r\nQ 47.125 51.421875 43.28125 58.90625 \r\nQ 39.453125 66.40625 31.78125 66.40625 \r\nz\r\nM 31.78125 74.21875 \r\nQ 44.046875 74.21875 50.515625 64.515625 \r\nQ 56.984375 54.828125 56.984375 36.375 \r\nQ 56.984375 17.96875 50.515625 8.265625 \r\nQ 44.046875 -1.421875 31.78125 -1.421875 \r\nQ 19.53125 -1.421875 13.0625 8.265625 \r\nQ 6.59375 17.96875 6.59375 36.375 \r\nQ 6.59375 54.828125 13.0625 64.515625 \r\nQ 19.53125 74.21875 31.78125 74.21875 \r\nz\r\n\" id=\"DejaVuSans-48\"/>\r\n        <path d=\"M 12.40625 8.296875 \r\nL 28.515625 8.296875 \r\nL 28.515625 63.921875 \r\nL 10.984375 60.40625 \r\nL 10.984375 69.390625 \r\nL 28.421875 72.90625 \r\nL 38.28125 72.90625 \r\nL 38.28125 8.296875 \r\nL 54.390625 8.296875 \r\nL 54.390625 0 \r\nL 12.40625 0 \r\nz\r\n\" id=\"DejaVuSans-49\"/>\r\n        <path d=\"M 4.890625 31.390625 \r\nL 31.203125 31.390625 \r\nL 31.203125 23.390625 \r\nL 4.890625 23.390625 \r\nz\r\n\" id=\"DejaVuSans-45\"/>\r\n        <path d=\"M 19.1875 8.296875 \r\nL 53.609375 8.296875 \r\nL 53.609375 0 \r\nL 7.328125 0 \r\nL 7.328125 8.296875 \r\nQ 12.9375 14.109375 22.625 23.890625 \r\nQ 32.328125 33.6875 34.8125 36.53125 \r\nQ 39.546875 41.84375 41.421875 45.53125 \r\nQ 43.3125 49.21875 43.3125 52.78125 \r\nQ 43.3125 58.59375 39.234375 62.25 \r\nQ 35.15625 65.921875 28.609375 65.921875 \r\nQ 23.96875 65.921875 18.8125 64.3125 \r\nQ 13.671875 62.703125 7.8125 59.421875 \r\nL 7.8125 69.390625 \r\nQ 13.765625 71.78125 18.9375 73 \r\nQ 24.125 74.21875 28.421875 74.21875 \r\nQ 39.75 74.21875 46.484375 68.546875 \r\nQ 53.21875 62.890625 53.21875 53.421875 \r\nQ 53.21875 48.921875 51.53125 44.890625 \r\nQ 49.859375 40.875 45.40625 35.40625 \r\nQ 44.1875 33.984375 37.640625 27.21875 \r\nQ 31.109375 20.453125 19.1875 8.296875 \r\nz\r\n\" id=\"DejaVuSans-50\"/>\r\n        <path d=\"M 10.984375 1.515625 \r\nL 10.984375 10.5 \r\nQ 14.703125 8.734375 18.5 7.8125 \r\nQ 22.3125 6.890625 25.984375 6.890625 \r\nQ 35.75 6.890625 40.890625 13.453125 \r\nQ 46.046875 20.015625 46.78125 33.40625 \r\nQ 43.953125 29.203125 39.59375 26.953125 \r\nQ 35.25 24.703125 29.984375 24.703125 \r\nQ 19.046875 24.703125 12.671875 31.3125 \r\nQ 6.296875 37.9375 6.296875 49.421875 \r\nQ 6.296875 60.640625 12.9375 67.421875 \r\nQ 19.578125 74.21875 30.609375 74.21875 \r\nQ 43.265625 74.21875 49.921875 64.515625 \r\nQ 56.59375 54.828125 56.59375 36.375 \r\nQ 56.59375 19.140625 48.40625 8.859375 \r\nQ 40.234375 -1.421875 26.421875 -1.421875 \r\nQ 22.703125 -1.421875 18.890625 -0.6875 \r\nQ 15.09375 0.046875 10.984375 1.515625 \r\nz\r\nM 30.609375 32.421875 \r\nQ 37.25 32.421875 41.125 36.953125 \r\nQ 45.015625 41.5 45.015625 49.421875 \r\nQ 45.015625 57.28125 41.125 61.84375 \r\nQ 37.25 66.40625 30.609375 66.40625 \r\nQ 23.96875 66.40625 20.09375 61.84375 \r\nQ 16.21875 57.28125 16.21875 49.421875 \r\nQ 16.21875 41.5 20.09375 36.953125 \r\nQ 23.96875 32.421875 30.609375 32.421875 \r\nz\r\n\" id=\"DejaVuSans-57\"/>\r\n       </defs>\r\n       <use xlink:href=\"#DejaVuSans-48\"/>\r\n       <use x=\"63.623047\" xlink:href=\"#DejaVuSans-49\"/>\r\n       <use x=\"127.246094\" xlink:href=\"#DejaVuSans-45\"/>\r\n       <use x=\"163.330078\" xlink:href=\"#DejaVuSans-48\"/>\r\n       <use x=\"226.953125\" xlink:href=\"#DejaVuSans-49\"/>\r\n       <use x=\"290.576172\" xlink:href=\"#DejaVuSans-45\"/>\r\n       <use x=\"326.660156\" xlink:href=\"#DejaVuSans-50\"/>\r\n       <use x=\"390.283203\" xlink:href=\"#DejaVuSans-48\"/>\r\n       <use x=\"453.90625\" xlink:href=\"#DejaVuSans-49\"/>\r\n       <use x=\"517.529297\" xlink:href=\"#DejaVuSans-57\"/>\r\n      </g>\r\n     </g>\r\n    </g>\r\n    <g id=\"xtick_2\">\r\n     <g id=\"line2d_2\">\r\n      <g>\r\n       <use style=\"stroke:#000000;stroke-width:0.8;\" x=\"30.646837\" xlink:href=\"#m44c98f0f23\" y=\"550.8\"/>\r\n      </g>\r\n     </g>\r\n     <g id=\"text_2\">\r\n      <!-- 02-01-2019 -->\r\n      <g transform=\"translate(32.026525 586.857813)rotate(-90)scale(0.05 -0.05)\">\r\n       <use xlink:href=\"#DejaVuSans-48\"/>\r\n       <use x=\"63.623047\" xlink:href=\"#DejaVuSans-50\"/>\r\n       <use x=\"127.246094\" xlink:href=\"#DejaVuSans-45\"/>\r\n       <use x=\"163.330078\" xlink:href=\"#DejaVuSans-48\"/>\r\n       <use x=\"226.953125\" xlink:href=\"#DejaVuSans-49\"/>\r\n       <use x=\"290.576172\" xlink:href=\"#DejaVuSans-45\"/>\r\n       <use x=\"326.660156\" xlink:href=\"#DejaVuSans-50\"/>\r\n       <use x=\"390.283203\" xlink:href=\"#DejaVuSans-48\"/>\r\n       <use x=\"453.90625\" xlink:href=\"#DejaVuSans-49\"/>\r\n       <use x=\"517.529297\" xlink:href=\"#DejaVuSans-57\"/>\r\n      </g>\r\n     </g>\r\n    </g>\r\n    <g id=\"xtick_3\">\r\n     <g id=\"line2d_3\">\r\n      <g>\r\n       <use style=\"stroke:#000000;stroke-width:0.8;\" x=\"37.369729\" xlink:href=\"#m44c98f0f23\" y=\"550.8\"/>\r\n      </g>\r\n     </g>\r\n     <g id=\"text_3\">\r\n      <!-- 03-01-2019 -->\r\n      <g transform=\"translate(38.749416 586.857813)rotate(-90)scale(0.05 -0.05)\">\r\n       <defs>\r\n        <path d=\"M 40.578125 39.3125 \r\nQ 47.65625 37.796875 51.625 33 \r\nQ 55.609375 28.21875 55.609375 21.1875 \r\nQ 55.609375 10.40625 48.1875 4.484375 \r\nQ 40.765625 -1.421875 27.09375 -1.421875 \r\nQ 22.515625 -1.421875 17.65625 -0.515625 \r\nQ 12.796875 0.390625 7.625 2.203125 \r\nL 7.625 11.71875 \r\nQ 11.71875 9.328125 16.59375 8.109375 \r\nQ 21.484375 6.890625 26.8125 6.890625 \r\nQ 36.078125 6.890625 40.9375 10.546875 \r\nQ 45.796875 14.203125 45.796875 21.1875 \r\nQ 45.796875 27.640625 41.28125 31.265625 \r\nQ 36.765625 34.90625 28.71875 34.90625 \r\nL 20.21875 34.90625 \r\nL 20.21875 43.015625 \r\nL 29.109375 43.015625 \r\nQ 36.375 43.015625 40.234375 45.921875 \r\nQ 44.09375 48.828125 44.09375 54.296875 \r\nQ 44.09375 59.90625 40.109375 62.90625 \r\nQ 36.140625 65.921875 28.71875 65.921875 \r\nQ 24.65625 65.921875 20.015625 65.03125 \r\nQ 15.375 64.15625 9.8125 62.3125 \r\nL 9.8125 71.09375 \r\nQ 15.4375 72.65625 20.34375 73.4375 \r\nQ 25.25 74.21875 29.59375 74.21875 \r\nQ 40.828125 74.21875 47.359375 69.109375 \r\nQ 53.90625 64.015625 53.90625 55.328125 \r\nQ 53.90625 49.265625 50.4375 45.09375 \r\nQ 46.96875 40.921875 40.578125 39.3125 \r\nz\r\n\" id=\"DejaVuSans-51\"/>\r\n       </defs>\r\n       <use xlink:href=\"#DejaVuSans-48\"/>\r\n       <use x=\"63.623047\" xlink:href=\"#DejaVuSans-51\"/>\r\n       <use x=\"127.246094\" xlink:href=\"#DejaVuSans-45\"/>\r\n       <use x=\"163.330078\" xlink:href=\"#DejaVuSans-48\"/>\r\n       <use x=\"226.953125\" xlink:href=\"#DejaVuSans-49\"/>\r\n       <use x=\"290.576172\" xlink:href=\"#DejaVuSans-45\"/>\r\n       <use x=\"326.660156\" xlink:href=\"#DejaVuSans-50\"/>\r\n       <use x=\"390.283203\" xlink:href=\"#DejaVuSans-48\"/>\r\n       <use x=\"453.90625\" xlink:href=\"#DejaVuSans-49\"/>\r\n       <use x=\"517.529297\" xlink:href=\"#DejaVuSans-57\"/>\r\n      </g>\r\n     </g>\r\n    </g>\r\n    <g id=\"xtick_4\">\r\n     <g id=\"line2d_4\">\r\n      <g>\r\n       <use style=\"stroke:#000000;stroke-width:0.8;\" x=\"44.09262\" xlink:href=\"#m44c98f0f23\" y=\"550.8\"/>\r\n      </g>\r\n     </g>\r\n     <g id=\"text_4\">\r\n      <!-- 04-01-2019 -->\r\n      <g transform=\"translate(45.472308 586.857813)rotate(-90)scale(0.05 -0.05)\">\r\n       <defs>\r\n        <path d=\"M 37.796875 64.3125 \r\nL 12.890625 25.390625 \r\nL 37.796875 25.390625 \r\nz\r\nM 35.203125 72.90625 \r\nL 47.609375 72.90625 \r\nL 47.609375 25.390625 \r\nL 58.015625 25.390625 \r\nL 58.015625 17.1875 \r\nL 47.609375 17.1875 \r\nL 47.609375 0 \r\nL 37.796875 0 \r\nL 37.796875 17.1875 \r\nL 4.890625 17.1875 \r\nL 4.890625 26.703125 \r\nz\r\n\" id=\"DejaVuSans-52\"/>\r\n       </defs>\r\n       <use xlink:href=\"#DejaVuSans-48\"/>\r\n       <use x=\"63.623047\" xlink:href=\"#DejaVuSans-52\"/>\r\n       <use x=\"127.246094\" xlink:href=\"#DejaVuSans-45\"/>\r\n       <use x=\"163.330078\" xlink:href=\"#DejaVuSans-48\"/>\r\n       <use x=\"226.953125\" xlink:href=\"#DejaVuSans-49\"/>\r\n       <use x=\"290.576172\" xlink:href=\"#DejaVuSans-45\"/>\r\n       <use x=\"326.660156\" xlink:href=\"#DejaVuSans-50\"/>\r\n       <use x=\"390.283203\" xlink:href=\"#DejaVuSans-48\"/>\r\n       <use x=\"453.90625\" xlink:href=\"#DejaVuSans-49\"/>\r\n       <use x=\"517.529297\" xlink:href=\"#DejaVuSans-57\"/>\r\n      </g>\r\n     </g>\r\n    </g>\r\n    <g id=\"xtick_5\">\r\n     <g id=\"line2d_5\">\r\n      <g>\r\n       <use style=\"stroke:#000000;stroke-width:0.8;\" x=\"50.815512\" xlink:href=\"#m44c98f0f23\" y=\"550.8\"/>\r\n      </g>\r\n     </g>\r\n     <g id=\"text_5\">\r\n      <!-- 05-01-2019 -->\r\n      <g transform=\"translate(52.1952 586.857813)rotate(-90)scale(0.05 -0.05)\">\r\n       <defs>\r\n        <path d=\"M 10.796875 72.90625 \r\nL 49.515625 72.90625 \r\nL 49.515625 64.59375 \r\nL 19.828125 64.59375 \r\nL 19.828125 46.734375 \r\nQ 21.96875 47.46875 24.109375 47.828125 \r\nQ 26.265625 48.1875 28.421875 48.1875 \r\nQ 40.625 48.1875 47.75 41.5 \r\nQ 54.890625 34.8125 54.890625 23.390625 \r\nQ 54.890625 11.625 47.5625 5.09375 \r\nQ 40.234375 -1.421875 26.90625 -1.421875 \r\nQ 22.3125 -1.421875 17.546875 -0.640625 \r\nQ 12.796875 0.140625 7.71875 1.703125 \r\nL 7.71875 11.625 \r\nQ 12.109375 9.234375 16.796875 8.0625 \r\nQ 21.484375 6.890625 26.703125 6.890625 \r\nQ 35.15625 6.890625 40.078125 11.328125 \r\nQ 45.015625 15.765625 45.015625 23.390625 \r\nQ 45.015625 31 40.078125 35.4375 \r\nQ 35.15625 39.890625 26.703125 39.890625 \r\nQ 22.75 39.890625 18.8125 39.015625 \r\nQ 14.890625 38.140625 10.796875 36.28125 \r\nz\r\n\" id=\"DejaVuSans-53\"/>\r\n       </defs>\r\n       <use xlink:href=\"#DejaVuSans-48\"/>\r\n       <use x=\"63.623047\" xlink:href=\"#DejaVuSans-53\"/>\r\n       <use x=\"127.246094\" xlink:href=\"#DejaVuSans-45\"/>\r\n       <use x=\"163.330078\" xlink:href=\"#DejaVuSans-48\"/>\r\n       <use x=\"226.953125\" xlink:href=\"#DejaVuSans-49\"/>\r\n       <use x=\"290.576172\" xlink:href=\"#DejaVuSans-45\"/>\r\n       <use x=\"326.660156\" xlink:href=\"#DejaVuSans-50\"/>\r\n       <use x=\"390.283203\" xlink:href=\"#DejaVuSans-48\"/>\r\n       <use x=\"453.90625\" xlink:href=\"#DejaVuSans-49\"/>\r\n       <use x=\"517.529297\" xlink:href=\"#DejaVuSans-57\"/>\r\n      </g>\r\n     </g>\r\n    </g>\r\n    <g id=\"xtick_6\">\r\n     <g id=\"line2d_6\">\r\n      <g>\r\n       <use style=\"stroke:#000000;stroke-width:0.8;\" x=\"57.538404\" xlink:href=\"#m44c98f0f23\" y=\"550.8\"/>\r\n      </g>\r\n     </g>\r\n     <g id=\"text_6\">\r\n      <!-- 06-01-2019 -->\r\n      <g transform=\"translate(58.918091 586.857813)rotate(-90)scale(0.05 -0.05)\">\r\n       <defs>\r\n        <path d=\"M 33.015625 40.375 \r\nQ 26.375 40.375 22.484375 35.828125 \r\nQ 18.609375 31.296875 18.609375 23.390625 \r\nQ 18.609375 15.53125 22.484375 10.953125 \r\nQ 26.375 6.390625 33.015625 6.390625 \r\nQ 39.65625 6.390625 43.53125 10.953125 \r\nQ 47.40625 15.53125 47.40625 23.390625 \r\nQ 47.40625 31.296875 43.53125 35.828125 \r\nQ 39.65625 40.375 33.015625 40.375 \r\nz\r\nM 52.59375 71.296875 \r\nL 52.59375 62.3125 \r\nQ 48.875 64.0625 45.09375 64.984375 \r\nQ 41.3125 65.921875 37.59375 65.921875 \r\nQ 27.828125 65.921875 22.671875 59.328125 \r\nQ 17.53125 52.734375 16.796875 39.40625 \r\nQ 19.671875 43.65625 24.015625 45.921875 \r\nQ 28.375 48.1875 33.59375 48.1875 \r\nQ 44.578125 48.1875 50.953125 41.515625 \r\nQ 57.328125 34.859375 57.328125 23.390625 \r\nQ 57.328125 12.15625 50.6875 5.359375 \r\nQ 44.046875 -1.421875 33.015625 -1.421875 \r\nQ 20.359375 -1.421875 13.671875 8.265625 \r\nQ 6.984375 17.96875 6.984375 36.375 \r\nQ 6.984375 53.65625 15.1875 63.9375 \r\nQ 23.390625 74.21875 37.203125 74.21875 \r\nQ 40.921875 74.21875 44.703125 73.484375 \r\nQ 48.484375 72.75 52.59375 71.296875 \r\nz\r\n\" id=\"DejaVuSans-54\"/>\r\n       </defs>\r\n       <use xlink:href=\"#DejaVuSans-48\"/>\r\n       <use x=\"63.623047\" xlink:href=\"#DejaVuSans-54\"/>\r\n       <use x=\"127.246094\" xlink:href=\"#DejaVuSans-45\"/>\r\n       <use x=\"163.330078\" xlink:href=\"#DejaVuSans-48\"/>\r\n       <use x=\"226.953125\" xlink:href=\"#DejaVuSans-49\"/>\r\n       <use x=\"290.576172\" xlink:href=\"#DejaVuSans-45\"/>\r\n       <use x=\"326.660156\" xlink:href=\"#DejaVuSans-50\"/>\r\n       <use x=\"390.283203\" xlink:href=\"#DejaVuSans-48\"/>\r\n       <use x=\"453.90625\" xlink:href=\"#DejaVuSans-49\"/>\r\n       <use x=\"517.529297\" xlink:href=\"#DejaVuSans-57\"/>\r\n      </g>\r\n     </g>\r\n    </g>\r\n    <g id=\"xtick_7\">\r\n     <g id=\"line2d_7\">\r\n      <g>\r\n       <use style=\"stroke:#000000;stroke-width:0.8;\" x=\"64.261295\" xlink:href=\"#m44c98f0f23\" y=\"550.8\"/>\r\n      </g>\r\n     </g>\r\n     <g id=\"text_7\">\r\n      <!-- 07-01-2019 -->\r\n      <g transform=\"translate(65.640983 586.857813)rotate(-90)scale(0.05 -0.05)\">\r\n       <defs>\r\n        <path d=\"M 8.203125 72.90625 \r\nL 55.078125 72.90625 \r\nL 55.078125 68.703125 \r\nL 28.609375 0 \r\nL 18.3125 0 \r\nL 43.21875 64.59375 \r\nL 8.203125 64.59375 \r\nz\r\n\" id=\"DejaVuSans-55\"/>\r\n       </defs>\r\n       <use xlink:href=\"#DejaVuSans-48\"/>\r\n       <use x=\"63.623047\" xlink:href=\"#DejaVuSans-55\"/>\r\n       <use x=\"127.246094\" xlink:href=\"#DejaVuSans-45\"/>\r\n       <use x=\"163.330078\" xlink:href=\"#DejaVuSans-48\"/>\r\n       <use x=\"226.953125\" xlink:href=\"#DejaVuSans-49\"/>\r\n       <use x=\"290.576172\" xlink:href=\"#DejaVuSans-45\"/>\r\n       <use x=\"326.660156\" xlink:href=\"#DejaVuSans-50\"/>\r\n       <use x=\"390.283203\" xlink:href=\"#DejaVuSans-48\"/>\r\n       <use x=\"453.90625\" xlink:href=\"#DejaVuSans-49\"/>\r\n       <use x=\"517.529297\" xlink:href=\"#DejaVuSans-57\"/>\r\n      </g>\r\n     </g>\r\n    </g>\r\n    <g id=\"xtick_8\">\r\n     <g id=\"line2d_8\">\r\n      <g>\r\n       <use style=\"stroke:#000000;stroke-width:0.8;\" x=\"70.984187\" xlink:href=\"#m44c98f0f23\" y=\"550.8\"/>\r\n      </g>\r\n     </g>\r\n     <g id=\"text_8\">\r\n      <!-- 08-01-2019 -->\r\n      <g transform=\"translate(72.363874 586.857813)rotate(-90)scale(0.05 -0.05)\">\r\n       <defs>\r\n        <path d=\"M 31.78125 34.625 \r\nQ 24.75 34.625 20.71875 30.859375 \r\nQ 16.703125 27.09375 16.703125 20.515625 \r\nQ 16.703125 13.921875 20.71875 10.15625 \r\nQ 24.75 6.390625 31.78125 6.390625 \r\nQ 38.8125 6.390625 42.859375 10.171875 \r\nQ 46.921875 13.96875 46.921875 20.515625 \r\nQ 46.921875 27.09375 42.890625 30.859375 \r\nQ 38.875 34.625 31.78125 34.625 \r\nz\r\nM 21.921875 38.8125 \r\nQ 15.578125 40.375 12.03125 44.71875 \r\nQ 8.5 49.078125 8.5 55.328125 \r\nQ 8.5 64.0625 14.71875 69.140625 \r\nQ 20.953125 74.21875 31.78125 74.21875 \r\nQ 42.671875 74.21875 48.875 69.140625 \r\nQ 55.078125 64.0625 55.078125 55.328125 \r\nQ 55.078125 49.078125 51.53125 44.71875 \r\nQ 48 40.375 41.703125 38.8125 \r\nQ 48.828125 37.15625 52.796875 32.3125 \r\nQ 56.78125 27.484375 56.78125 20.515625 \r\nQ 56.78125 9.90625 50.3125 4.234375 \r\nQ 43.84375 -1.421875 31.78125 -1.421875 \r\nQ 19.734375 -1.421875 13.25 4.234375 \r\nQ 6.78125 9.90625 6.78125 20.515625 \r\nQ 6.78125 27.484375 10.78125 32.3125 \r\nQ 14.796875 37.15625 21.921875 38.8125 \r\nz\r\nM 18.3125 54.390625 \r\nQ 18.3125 48.734375 21.84375 45.5625 \r\nQ 25.390625 42.390625 31.78125 42.390625 \r\nQ 38.140625 42.390625 41.71875 45.5625 \r\nQ 45.3125 48.734375 45.3125 54.390625 \r\nQ 45.3125 60.0625 41.71875 63.234375 \r\nQ 38.140625 66.40625 31.78125 66.40625 \r\nQ 25.390625 66.40625 21.84375 63.234375 \r\nQ 18.3125 60.0625 18.3125 54.390625 \r\nz\r\n\" id=\"DejaVuSans-56\"/>\r\n       </defs>\r\n       <use xlink:href=\"#DejaVuSans-48\"/>\r\n       <use x=\"63.623047\" xlink:href=\"#DejaVuSans-56\"/>\r\n       <use x=\"127.246094\" xlink:href=\"#DejaVuSans-45\"/>\r\n       <use x=\"163.330078\" xlink:href=\"#DejaVuSans-48\"/>\r\n       <use x=\"226.953125\" xlink:href=\"#DejaVuSans-49\"/>\r\n       <use x=\"290.576172\" xlink:href=\"#DejaVuSans-45\"/>\r\n       <use x=\"326.660156\" xlink:href=\"#DejaVuSans-50\"/>\r\n       <use x=\"390.283203\" xlink:href=\"#DejaVuSans-48\"/>\r\n       <use x=\"453.90625\" xlink:href=\"#DejaVuSans-49\"/>\r\n       <use x=\"517.529297\" xlink:href=\"#DejaVuSans-57\"/>\r\n      </g>\r\n     </g>\r\n    </g>\r\n    <g id=\"xtick_9\">\r\n     <g id=\"line2d_9\">\r\n      <g>\r\n       <use style=\"stroke:#000000;stroke-width:0.8;\" x=\"77.707078\" xlink:href=\"#m44c98f0f23\" y=\"550.8\"/>\r\n      </g>\r\n     </g>\r\n     <g id=\"text_9\">\r\n      <!-- 09-01-2019 -->\r\n      <g transform=\"translate(79.086766 586.857813)rotate(-90)scale(0.05 -0.05)\">\r\n       <use xlink:href=\"#DejaVuSans-48\"/>\r\n       <use x=\"63.623047\" xlink:href=\"#DejaVuSans-57\"/>\r\n       <use x=\"127.246094\" xlink:href=\"#DejaVuSans-45\"/>\r\n       <use x=\"163.330078\" xlink:href=\"#DejaVuSans-48\"/>\r\n       <use x=\"226.953125\" xlink:href=\"#DejaVuSans-49\"/>\r\n       <use x=\"290.576172\" xlink:href=\"#DejaVuSans-45\"/>\r\n       <use x=\"326.660156\" xlink:href=\"#DejaVuSans-50\"/>\r\n       <use x=\"390.283203\" xlink:href=\"#DejaVuSans-48\"/>\r\n       <use x=\"453.90625\" xlink:href=\"#DejaVuSans-49\"/>\r\n       <use x=\"517.529297\" xlink:href=\"#DejaVuSans-57\"/>\r\n      </g>\r\n     </g>\r\n    </g>\r\n    <g id=\"xtick_10\">\r\n     <g id=\"line2d_10\">\r\n      <g>\r\n       <use style=\"stroke:#000000;stroke-width:0.8;\" x=\"84.42997\" xlink:href=\"#m44c98f0f23\" y=\"550.8\"/>\r\n      </g>\r\n     </g>\r\n     <g id=\"text_10\">\r\n      <!-- 10-01-2019 -->\r\n      <g transform=\"translate(85.809657 586.857813)rotate(-90)scale(0.05 -0.05)\">\r\n       <use xlink:href=\"#DejaVuSans-49\"/>\r\n       <use x=\"63.623047\" xlink:href=\"#DejaVuSans-48\"/>\r\n       <use x=\"127.246094\" xlink:href=\"#DejaVuSans-45\"/>\r\n       <use x=\"163.330078\" xlink:href=\"#DejaVuSans-48\"/>\r\n       <use x=\"226.953125\" xlink:href=\"#DejaVuSans-49\"/>\r\n       <use x=\"290.576172\" xlink:href=\"#DejaVuSans-45\"/>\r\n       <use x=\"326.660156\" xlink:href=\"#DejaVuSans-50\"/>\r\n       <use x=\"390.283203\" xlink:href=\"#DejaVuSans-48\"/>\r\n       <use x=\"453.90625\" xlink:href=\"#DejaVuSans-49\"/>\r\n       <use x=\"517.529297\" xlink:href=\"#DejaVuSans-57\"/>\r\n      </g>\r\n     </g>\r\n    </g>\r\n    <g id=\"xtick_11\">\r\n     <g id=\"line2d_11\">\r\n      <g>\r\n       <use style=\"stroke:#000000;stroke-width:0.8;\" x=\"91.152861\" xlink:href=\"#m44c98f0f23\" y=\"550.8\"/>\r\n      </g>\r\n     </g>\r\n     <g id=\"text_11\">\r\n      <!-- 11-01-2019 -->\r\n      <g transform=\"translate(92.532549 586.857813)rotate(-90)scale(0.05 -0.05)\">\r\n       <use xlink:href=\"#DejaVuSans-49\"/>\r\n       <use x=\"63.623047\" xlink:href=\"#DejaVuSans-49\"/>\r\n       <use x=\"127.246094\" xlink:href=\"#DejaVuSans-45\"/>\r\n       <use x=\"163.330078\" xlink:href=\"#DejaVuSans-48\"/>\r\n       <use x=\"226.953125\" xlink:href=\"#DejaVuSans-49\"/>\r\n       <use x=\"290.576172\" xlink:href=\"#DejaVuSans-45\"/>\r\n       <use x=\"326.660156\" xlink:href=\"#DejaVuSans-50\"/>\r\n       <use x=\"390.283203\" xlink:href=\"#DejaVuSans-48\"/>\r\n       <use x=\"453.90625\" xlink:href=\"#DejaVuSans-49\"/>\r\n       <use x=\"517.529297\" xlink:href=\"#DejaVuSans-57\"/>\r\n      </g>\r\n     </g>\r\n    </g>\r\n    <g id=\"xtick_12\">\r\n     <g id=\"line2d_12\">\r\n      <g>\r\n       <use style=\"stroke:#000000;stroke-width:0.8;\" x=\"97.875753\" xlink:href=\"#m44c98f0f23\" y=\"550.8\"/>\r\n      </g>\r\n     </g>\r\n     <g id=\"text_12\">\r\n      <!-- 12-01-2019 -->\r\n      <g transform=\"translate(99.255441 586.857813)rotate(-90)scale(0.05 -0.05)\">\r\n       <use xlink:href=\"#DejaVuSans-49\"/>\r\n       <use x=\"63.623047\" xlink:href=\"#DejaVuSans-50\"/>\r\n       <use x=\"127.246094\" xlink:href=\"#DejaVuSans-45\"/>\r\n       <use x=\"163.330078\" xlink:href=\"#DejaVuSans-48\"/>\r\n       <use x=\"226.953125\" xlink:href=\"#DejaVuSans-49\"/>\r\n       <use x=\"290.576172\" xlink:href=\"#DejaVuSans-45\"/>\r\n       <use x=\"326.660156\" xlink:href=\"#DejaVuSans-50\"/>\r\n       <use x=\"390.283203\" xlink:href=\"#DejaVuSans-48\"/>\r\n       <use x=\"453.90625\" xlink:href=\"#DejaVuSans-49\"/>\r\n       <use x=\"517.529297\" xlink:href=\"#DejaVuSans-57\"/>\r\n      </g>\r\n     </g>\r\n    </g>\r\n    <g id=\"xtick_13\">\r\n     <g id=\"line2d_13\">\r\n      <g>\r\n       <use style=\"stroke:#000000;stroke-width:0.8;\" x=\"104.598645\" xlink:href=\"#m44c98f0f23\" y=\"550.8\"/>\r\n      </g>\r\n     </g>\r\n     <g id=\"text_13\">\r\n      <!-- 14-01-2019 -->\r\n      <g transform=\"translate(105.978332 586.857813)rotate(-90)scale(0.05 -0.05)\">\r\n       <use xlink:href=\"#DejaVuSans-49\"/>\r\n       <use x=\"63.623047\" xlink:href=\"#DejaVuSans-52\"/>\r\n       <use x=\"127.246094\" xlink:href=\"#DejaVuSans-45\"/>\r\n       <use x=\"163.330078\" xlink:href=\"#DejaVuSans-48\"/>\r\n       <use x=\"226.953125\" xlink:href=\"#DejaVuSans-49\"/>\r\n       <use x=\"290.576172\" xlink:href=\"#DejaVuSans-45\"/>\r\n       <use x=\"326.660156\" xlink:href=\"#DejaVuSans-50\"/>\r\n       <use x=\"390.283203\" xlink:href=\"#DejaVuSans-48\"/>\r\n       <use x=\"453.90625\" xlink:href=\"#DejaVuSans-49\"/>\r\n       <use x=\"517.529297\" xlink:href=\"#DejaVuSans-57\"/>\r\n      </g>\r\n     </g>\r\n    </g>\r\n    <g id=\"xtick_14\">\r\n     <g id=\"line2d_14\">\r\n      <g>\r\n       <use style=\"stroke:#000000;stroke-width:0.8;\" x=\"111.321536\" xlink:href=\"#m44c98f0f23\" y=\"550.8\"/>\r\n      </g>\r\n     </g>\r\n     <g id=\"text_14\">\r\n      <!-- 15-01-2019 -->\r\n      <g transform=\"translate(112.701224 586.857813)rotate(-90)scale(0.05 -0.05)\">\r\n       <use xlink:href=\"#DejaVuSans-49\"/>\r\n       <use x=\"63.623047\" xlink:href=\"#DejaVuSans-53\"/>\r\n       <use x=\"127.246094\" xlink:href=\"#DejaVuSans-45\"/>\r\n       <use x=\"163.330078\" xlink:href=\"#DejaVuSans-48\"/>\r\n       <use x=\"226.953125\" xlink:href=\"#DejaVuSans-49\"/>\r\n       <use x=\"290.576172\" xlink:href=\"#DejaVuSans-45\"/>\r\n       <use x=\"326.660156\" xlink:href=\"#DejaVuSans-50\"/>\r\n       <use x=\"390.283203\" xlink:href=\"#DejaVuSans-48\"/>\r\n       <use x=\"453.90625\" xlink:href=\"#DejaVuSans-49\"/>\r\n       <use x=\"517.529297\" xlink:href=\"#DejaVuSans-57\"/>\r\n      </g>\r\n     </g>\r\n    </g>\r\n    <g id=\"xtick_15\">\r\n     <g id=\"line2d_15\">\r\n      <g>\r\n       <use style=\"stroke:#000000;stroke-width:0.8;\" x=\"118.044428\" xlink:href=\"#m44c98f0f23\" y=\"550.8\"/>\r\n      </g>\r\n     </g>\r\n     <g id=\"text_15\">\r\n      <!-- 16-01-2019 -->\r\n      <g transform=\"translate(119.424115 586.857813)rotate(-90)scale(0.05 -0.05)\">\r\n       <use xlink:href=\"#DejaVuSans-49\"/>\r\n       <use x=\"63.623047\" xlink:href=\"#DejaVuSans-54\"/>\r\n       <use x=\"127.246094\" xlink:href=\"#DejaVuSans-45\"/>\r\n       <use x=\"163.330078\" xlink:href=\"#DejaVuSans-48\"/>\r\n       <use x=\"226.953125\" xlink:href=\"#DejaVuSans-49\"/>\r\n       <use x=\"290.576172\" xlink:href=\"#DejaVuSans-45\"/>\r\n       <use x=\"326.660156\" xlink:href=\"#DejaVuSans-50\"/>\r\n       <use x=\"390.283203\" xlink:href=\"#DejaVuSans-48\"/>\r\n       <use x=\"453.90625\" xlink:href=\"#DejaVuSans-49\"/>\r\n       <use x=\"517.529297\" xlink:href=\"#DejaVuSans-57\"/>\r\n      </g>\r\n     </g>\r\n    </g>\r\n    <g id=\"xtick_16\">\r\n     <g id=\"line2d_16\">\r\n      <g>\r\n       <use style=\"stroke:#000000;stroke-width:0.8;\" x=\"124.767319\" xlink:href=\"#m44c98f0f23\" y=\"550.8\"/>\r\n      </g>\r\n     </g>\r\n     <g id=\"text_16\">\r\n      <!-- 17-01-2019 -->\r\n      <g transform=\"translate(126.147007 586.857813)rotate(-90)scale(0.05 -0.05)\">\r\n       <use xlink:href=\"#DejaVuSans-49\"/>\r\n       <use x=\"63.623047\" xlink:href=\"#DejaVuSans-55\"/>\r\n       <use x=\"127.246094\" xlink:href=\"#DejaVuSans-45\"/>\r\n       <use x=\"163.330078\" xlink:href=\"#DejaVuSans-48\"/>\r\n       <use x=\"226.953125\" xlink:href=\"#DejaVuSans-49\"/>\r\n       <use x=\"290.576172\" xlink:href=\"#DejaVuSans-45\"/>\r\n       <use x=\"326.660156\" xlink:href=\"#DejaVuSans-50\"/>\r\n       <use x=\"390.283203\" xlink:href=\"#DejaVuSans-48\"/>\r\n       <use x=\"453.90625\" xlink:href=\"#DejaVuSans-49\"/>\r\n       <use x=\"517.529297\" xlink:href=\"#DejaVuSans-57\"/>\r\n      </g>\r\n     </g>\r\n    </g>\r\n    <g id=\"xtick_17\">\r\n     <g id=\"line2d_17\">\r\n      <g>\r\n       <use style=\"stroke:#000000;stroke-width:0.8;\" x=\"131.490211\" xlink:href=\"#m44c98f0f23\" y=\"550.8\"/>\r\n      </g>\r\n     </g>\r\n     <g id=\"text_17\">\r\n      <!-- 18-01-2019 -->\r\n      <g transform=\"translate(132.869898 586.857813)rotate(-90)scale(0.05 -0.05)\">\r\n       <use xlink:href=\"#DejaVuSans-49\"/>\r\n       <use x=\"63.623047\" xlink:href=\"#DejaVuSans-56\"/>\r\n       <use x=\"127.246094\" xlink:href=\"#DejaVuSans-45\"/>\r\n       <use x=\"163.330078\" xlink:href=\"#DejaVuSans-48\"/>\r\n       <use x=\"226.953125\" xlink:href=\"#DejaVuSans-49\"/>\r\n       <use x=\"290.576172\" xlink:href=\"#DejaVuSans-45\"/>\r\n       <use x=\"326.660156\" xlink:href=\"#DejaVuSans-50\"/>\r\n       <use x=\"390.283203\" xlink:href=\"#DejaVuSans-48\"/>\r\n       <use x=\"453.90625\" xlink:href=\"#DejaVuSans-49\"/>\r\n       <use x=\"517.529297\" xlink:href=\"#DejaVuSans-57\"/>\r\n      </g>\r\n     </g>\r\n    </g>\r\n    <g id=\"xtick_18\">\r\n     <g id=\"line2d_18\">\r\n      <g>\r\n       <use style=\"stroke:#000000;stroke-width:0.8;\" x=\"138.213102\" xlink:href=\"#m44c98f0f23\" y=\"550.8\"/>\r\n      </g>\r\n     </g>\r\n     <g id=\"text_18\">\r\n      <!-- 19-01-2019 -->\r\n      <g transform=\"translate(139.59279 586.857813)rotate(-90)scale(0.05 -0.05)\">\r\n       <use xlink:href=\"#DejaVuSans-49\"/>\r\n       <use x=\"63.623047\" xlink:href=\"#DejaVuSans-57\"/>\r\n       <use x=\"127.246094\" xlink:href=\"#DejaVuSans-45\"/>\r\n       <use x=\"163.330078\" xlink:href=\"#DejaVuSans-48\"/>\r\n       <use x=\"226.953125\" xlink:href=\"#DejaVuSans-49\"/>\r\n       <use x=\"290.576172\" xlink:href=\"#DejaVuSans-45\"/>\r\n       <use x=\"326.660156\" xlink:href=\"#DejaVuSans-50\"/>\r\n       <use x=\"390.283203\" xlink:href=\"#DejaVuSans-48\"/>\r\n       <use x=\"453.90625\" xlink:href=\"#DejaVuSans-49\"/>\r\n       <use x=\"517.529297\" xlink:href=\"#DejaVuSans-57\"/>\r\n      </g>\r\n     </g>\r\n    </g>\r\n    <g id=\"xtick_19\">\r\n     <g id=\"line2d_19\">\r\n      <g>\r\n       <use style=\"stroke:#000000;stroke-width:0.8;\" x=\"144.935994\" xlink:href=\"#m44c98f0f23\" y=\"550.8\"/>\r\n      </g>\r\n     </g>\r\n     <g id=\"text_19\">\r\n      <!-- 20-01-2019 -->\r\n      <g transform=\"translate(146.315681 586.857813)rotate(-90)scale(0.05 -0.05)\">\r\n       <use xlink:href=\"#DejaVuSans-50\"/>\r\n       <use x=\"63.623047\" xlink:href=\"#DejaVuSans-48\"/>\r\n       <use x=\"127.246094\" xlink:href=\"#DejaVuSans-45\"/>\r\n       <use x=\"163.330078\" xlink:href=\"#DejaVuSans-48\"/>\r\n       <use x=\"226.953125\" xlink:href=\"#DejaVuSans-49\"/>\r\n       <use x=\"290.576172\" xlink:href=\"#DejaVuSans-45\"/>\r\n       <use x=\"326.660156\" xlink:href=\"#DejaVuSans-50\"/>\r\n       <use x=\"390.283203\" xlink:href=\"#DejaVuSans-48\"/>\r\n       <use x=\"453.90625\" xlink:href=\"#DejaVuSans-49\"/>\r\n       <use x=\"517.529297\" xlink:href=\"#DejaVuSans-57\"/>\r\n      </g>\r\n     </g>\r\n    </g>\r\n    <g id=\"xtick_20\">\r\n     <g id=\"line2d_20\">\r\n      <g>\r\n       <use style=\"stroke:#000000;stroke-width:0.8;\" x=\"151.658886\" xlink:href=\"#m44c98f0f23\" y=\"550.8\"/>\r\n      </g>\r\n     </g>\r\n     <g id=\"text_20\">\r\n      <!-- 21-01-2019 -->\r\n      <g transform=\"translate(153.038573 586.857813)rotate(-90)scale(0.05 -0.05)\">\r\n       <use xlink:href=\"#DejaVuSans-50\"/>\r\n       <use x=\"63.623047\" xlink:href=\"#DejaVuSans-49\"/>\r\n       <use x=\"127.246094\" xlink:href=\"#DejaVuSans-45\"/>\r\n       <use x=\"163.330078\" xlink:href=\"#DejaVuSans-48\"/>\r\n       <use x=\"226.953125\" xlink:href=\"#DejaVuSans-49\"/>\r\n       <use x=\"290.576172\" xlink:href=\"#DejaVuSans-45\"/>\r\n       <use x=\"326.660156\" xlink:href=\"#DejaVuSans-50\"/>\r\n       <use x=\"390.283203\" xlink:href=\"#DejaVuSans-48\"/>\r\n       <use x=\"453.90625\" xlink:href=\"#DejaVuSans-49\"/>\r\n       <use x=\"517.529297\" xlink:href=\"#DejaVuSans-57\"/>\r\n      </g>\r\n     </g>\r\n    </g>\r\n    <g id=\"xtick_21\">\r\n     <g id=\"line2d_21\">\r\n      <g>\r\n       <use style=\"stroke:#000000;stroke-width:0.8;\" x=\"158.381777\" xlink:href=\"#m44c98f0f23\" y=\"550.8\"/>\r\n      </g>\r\n     </g>\r\n     <g id=\"text_21\">\r\n      <!-- 22-01-2019 -->\r\n      <g transform=\"translate(159.761465 586.857813)rotate(-90)scale(0.05 -0.05)\">\r\n       <use xlink:href=\"#DejaVuSans-50\"/>\r\n       <use x=\"63.623047\" xlink:href=\"#DejaVuSans-50\"/>\r\n       <use x=\"127.246094\" xlink:href=\"#DejaVuSans-45\"/>\r\n       <use x=\"163.330078\" xlink:href=\"#DejaVuSans-48\"/>\r\n       <use x=\"226.953125\" xlink:href=\"#DejaVuSans-49\"/>\r\n       <use x=\"290.576172\" xlink:href=\"#DejaVuSans-45\"/>\r\n       <use x=\"326.660156\" xlink:href=\"#DejaVuSans-50\"/>\r\n       <use x=\"390.283203\" xlink:href=\"#DejaVuSans-48\"/>\r\n       <use x=\"453.90625\" xlink:href=\"#DejaVuSans-49\"/>\r\n       <use x=\"517.529297\" xlink:href=\"#DejaVuSans-57\"/>\r\n      </g>\r\n     </g>\r\n    </g>\r\n    <g id=\"xtick_22\">\r\n     <g id=\"line2d_22\">\r\n      <g>\r\n       <use style=\"stroke:#000000;stroke-width:0.8;\" x=\"165.104669\" xlink:href=\"#m44c98f0f23\" y=\"550.8\"/>\r\n      </g>\r\n     </g>\r\n     <g id=\"text_22\">\r\n      <!-- 23-01-2019 -->\r\n      <g transform=\"translate(166.484356 586.857813)rotate(-90)scale(0.05 -0.05)\">\r\n       <use xlink:href=\"#DejaVuSans-50\"/>\r\n       <use x=\"63.623047\" xlink:href=\"#DejaVuSans-51\"/>\r\n       <use x=\"127.246094\" xlink:href=\"#DejaVuSans-45\"/>\r\n       <use x=\"163.330078\" xlink:href=\"#DejaVuSans-48\"/>\r\n       <use x=\"226.953125\" xlink:href=\"#DejaVuSans-49\"/>\r\n       <use x=\"290.576172\" xlink:href=\"#DejaVuSans-45\"/>\r\n       <use x=\"326.660156\" xlink:href=\"#DejaVuSans-50\"/>\r\n       <use x=\"390.283203\" xlink:href=\"#DejaVuSans-48\"/>\r\n       <use x=\"453.90625\" xlink:href=\"#DejaVuSans-49\"/>\r\n       <use x=\"517.529297\" xlink:href=\"#DejaVuSans-57\"/>\r\n      </g>\r\n     </g>\r\n    </g>\r\n    <g id=\"xtick_23\">\r\n     <g id=\"line2d_23\">\r\n      <g>\r\n       <use style=\"stroke:#000000;stroke-width:0.8;\" x=\"171.82756\" xlink:href=\"#m44c98f0f23\" y=\"550.8\"/>\r\n      </g>\r\n     </g>\r\n     <g id=\"text_23\">\r\n      <!-- 24-01-2019 -->\r\n      <g transform=\"translate(173.207248 586.857813)rotate(-90)scale(0.05 -0.05)\">\r\n       <use xlink:href=\"#DejaVuSans-50\"/>\r\n       <use x=\"63.623047\" xlink:href=\"#DejaVuSans-52\"/>\r\n       <use x=\"127.246094\" xlink:href=\"#DejaVuSans-45\"/>\r\n       <use x=\"163.330078\" xlink:href=\"#DejaVuSans-48\"/>\r\n       <use x=\"226.953125\" xlink:href=\"#DejaVuSans-49\"/>\r\n       <use x=\"290.576172\" xlink:href=\"#DejaVuSans-45\"/>\r\n       <use x=\"326.660156\" xlink:href=\"#DejaVuSans-50\"/>\r\n       <use x=\"390.283203\" xlink:href=\"#DejaVuSans-48\"/>\r\n       <use x=\"453.90625\" xlink:href=\"#DejaVuSans-49\"/>\r\n       <use x=\"517.529297\" xlink:href=\"#DejaVuSans-57\"/>\r\n      </g>\r\n     </g>\r\n    </g>\r\n    <g id=\"xtick_24\">\r\n     <g id=\"line2d_24\">\r\n      <g>\r\n       <use style=\"stroke:#000000;stroke-width:0.8;\" x=\"178.550452\" xlink:href=\"#m44c98f0f23\" y=\"550.8\"/>\r\n      </g>\r\n     </g>\r\n     <g id=\"text_24\">\r\n      <!-- 25-01-2019 -->\r\n      <g transform=\"translate(179.930139 586.857813)rotate(-90)scale(0.05 -0.05)\">\r\n       <use xlink:href=\"#DejaVuSans-50\"/>\r\n       <use x=\"63.623047\" xlink:href=\"#DejaVuSans-53\"/>\r\n       <use x=\"127.246094\" xlink:href=\"#DejaVuSans-45\"/>\r\n       <use x=\"163.330078\" xlink:href=\"#DejaVuSans-48\"/>\r\n       <use x=\"226.953125\" xlink:href=\"#DejaVuSans-49\"/>\r\n       <use x=\"290.576172\" xlink:href=\"#DejaVuSans-45\"/>\r\n       <use x=\"326.660156\" xlink:href=\"#DejaVuSans-50\"/>\r\n       <use x=\"390.283203\" xlink:href=\"#DejaVuSans-48\"/>\r\n       <use x=\"453.90625\" xlink:href=\"#DejaVuSans-49\"/>\r\n       <use x=\"517.529297\" xlink:href=\"#DejaVuSans-57\"/>\r\n      </g>\r\n     </g>\r\n    </g>\r\n    <g id=\"xtick_25\">\r\n     <g id=\"line2d_25\">\r\n      <g>\r\n       <use style=\"stroke:#000000;stroke-width:0.8;\" x=\"185.273343\" xlink:href=\"#m44c98f0f23\" y=\"550.8\"/>\r\n      </g>\r\n     </g>\r\n     <g id=\"text_25\">\r\n      <!-- 26-01-2019 -->\r\n      <g transform=\"translate(186.653031 586.857813)rotate(-90)scale(0.05 -0.05)\">\r\n       <use xlink:href=\"#DejaVuSans-50\"/>\r\n       <use x=\"63.623047\" xlink:href=\"#DejaVuSans-54\"/>\r\n       <use x=\"127.246094\" xlink:href=\"#DejaVuSans-45\"/>\r\n       <use x=\"163.330078\" xlink:href=\"#DejaVuSans-48\"/>\r\n       <use x=\"226.953125\" xlink:href=\"#DejaVuSans-49\"/>\r\n       <use x=\"290.576172\" xlink:href=\"#DejaVuSans-45\"/>\r\n       <use x=\"326.660156\" xlink:href=\"#DejaVuSans-50\"/>\r\n       <use x=\"390.283203\" xlink:href=\"#DejaVuSans-48\"/>\r\n       <use x=\"453.90625\" xlink:href=\"#DejaVuSans-49\"/>\r\n       <use x=\"517.529297\" xlink:href=\"#DejaVuSans-57\"/>\r\n      </g>\r\n     </g>\r\n    </g>\r\n    <g id=\"xtick_26\">\r\n     <g id=\"line2d_26\">\r\n      <g>\r\n       <use style=\"stroke:#000000;stroke-width:0.8;\" x=\"191.996235\" xlink:href=\"#m44c98f0f23\" y=\"550.8\"/>\r\n      </g>\r\n     </g>\r\n     <g id=\"text_26\">\r\n      <!-- 27-01-2019 -->\r\n      <g transform=\"translate(193.375922 586.857813)rotate(-90)scale(0.05 -0.05)\">\r\n       <use xlink:href=\"#DejaVuSans-50\"/>\r\n       <use x=\"63.623047\" xlink:href=\"#DejaVuSans-55\"/>\r\n       <use x=\"127.246094\" xlink:href=\"#DejaVuSans-45\"/>\r\n       <use x=\"163.330078\" xlink:href=\"#DejaVuSans-48\"/>\r\n       <use x=\"226.953125\" xlink:href=\"#DejaVuSans-49\"/>\r\n       <use x=\"290.576172\" xlink:href=\"#DejaVuSans-45\"/>\r\n       <use x=\"326.660156\" xlink:href=\"#DejaVuSans-50\"/>\r\n       <use x=\"390.283203\" xlink:href=\"#DejaVuSans-48\"/>\r\n       <use x=\"453.90625\" xlink:href=\"#DejaVuSans-49\"/>\r\n       <use x=\"517.529297\" xlink:href=\"#DejaVuSans-57\"/>\r\n      </g>\r\n     </g>\r\n    </g>\r\n    <g id=\"xtick_27\">\r\n     <g id=\"line2d_27\">\r\n      <g>\r\n       <use style=\"stroke:#000000;stroke-width:0.8;\" x=\"198.719127\" xlink:href=\"#m44c98f0f23\" y=\"550.8\"/>\r\n      </g>\r\n     </g>\r\n     <g id=\"text_27\">\r\n      <!-- 28-01-2019 -->\r\n      <g transform=\"translate(200.098814 586.857813)rotate(-90)scale(0.05 -0.05)\">\r\n       <use xlink:href=\"#DejaVuSans-50\"/>\r\n       <use x=\"63.623047\" xlink:href=\"#DejaVuSans-56\"/>\r\n       <use x=\"127.246094\" xlink:href=\"#DejaVuSans-45\"/>\r\n       <use x=\"163.330078\" xlink:href=\"#DejaVuSans-48\"/>\r\n       <use x=\"226.953125\" xlink:href=\"#DejaVuSans-49\"/>\r\n       <use x=\"290.576172\" xlink:href=\"#DejaVuSans-45\"/>\r\n       <use x=\"326.660156\" xlink:href=\"#DejaVuSans-50\"/>\r\n       <use x=\"390.283203\" xlink:href=\"#DejaVuSans-48\"/>\r\n       <use x=\"453.90625\" xlink:href=\"#DejaVuSans-49\"/>\r\n       <use x=\"517.529297\" xlink:href=\"#DejaVuSans-57\"/>\r\n      </g>\r\n     </g>\r\n    </g>\r\n    <g id=\"xtick_28\">\r\n     <g id=\"line2d_28\">\r\n      <g>\r\n       <use style=\"stroke:#000000;stroke-width:0.8;\" x=\"205.442018\" xlink:href=\"#m44c98f0f23\" y=\"550.8\"/>\r\n      </g>\r\n     </g>\r\n     <g id=\"text_28\">\r\n      <!-- 29-01-2019 -->\r\n      <g transform=\"translate(206.821706 586.857813)rotate(-90)scale(0.05 -0.05)\">\r\n       <use xlink:href=\"#DejaVuSans-50\"/>\r\n       <use x=\"63.623047\" xlink:href=\"#DejaVuSans-57\"/>\r\n       <use x=\"127.246094\" xlink:href=\"#DejaVuSans-45\"/>\r\n       <use x=\"163.330078\" xlink:href=\"#DejaVuSans-48\"/>\r\n       <use x=\"226.953125\" xlink:href=\"#DejaVuSans-49\"/>\r\n       <use x=\"290.576172\" xlink:href=\"#DejaVuSans-45\"/>\r\n       <use x=\"326.660156\" xlink:href=\"#DejaVuSans-50\"/>\r\n       <use x=\"390.283203\" xlink:href=\"#DejaVuSans-48\"/>\r\n       <use x=\"453.90625\" xlink:href=\"#DejaVuSans-49\"/>\r\n       <use x=\"517.529297\" xlink:href=\"#DejaVuSans-57\"/>\r\n      </g>\r\n     </g>\r\n    </g>\r\n    <g id=\"xtick_29\">\r\n     <g id=\"line2d_29\">\r\n      <g>\r\n       <use style=\"stroke:#000000;stroke-width:0.8;\" x=\"212.16491\" xlink:href=\"#m44c98f0f23\" y=\"550.8\"/>\r\n      </g>\r\n     </g>\r\n     <g id=\"text_29\">\r\n      <!-- 30-01-2019 -->\r\n      <g transform=\"translate(213.544597 586.857813)rotate(-90)scale(0.05 -0.05)\">\r\n       <use xlink:href=\"#DejaVuSans-51\"/>\r\n       <use x=\"63.623047\" xlink:href=\"#DejaVuSans-48\"/>\r\n       <use x=\"127.246094\" xlink:href=\"#DejaVuSans-45\"/>\r\n       <use x=\"163.330078\" xlink:href=\"#DejaVuSans-48\"/>\r\n       <use x=\"226.953125\" xlink:href=\"#DejaVuSans-49\"/>\r\n       <use x=\"290.576172\" xlink:href=\"#DejaVuSans-45\"/>\r\n       <use x=\"326.660156\" xlink:href=\"#DejaVuSans-50\"/>\r\n       <use x=\"390.283203\" xlink:href=\"#DejaVuSans-48\"/>\r\n       <use x=\"453.90625\" xlink:href=\"#DejaVuSans-49\"/>\r\n       <use x=\"517.529297\" xlink:href=\"#DejaVuSans-57\"/>\r\n      </g>\r\n     </g>\r\n    </g>\r\n    <g id=\"xtick_30\">\r\n     <g id=\"line2d_30\">\r\n      <g>\r\n       <use style=\"stroke:#000000;stroke-width:0.8;\" x=\"218.887801\" xlink:href=\"#m44c98f0f23\" y=\"550.8\"/>\r\n      </g>\r\n     </g>\r\n     <g id=\"text_30\">\r\n      <!-- 31-01-2019 -->\r\n      <g transform=\"translate(220.267489 586.857813)rotate(-90)scale(0.05 -0.05)\">\r\n       <use xlink:href=\"#DejaVuSans-51\"/>\r\n       <use x=\"63.623047\" xlink:href=\"#DejaVuSans-49\"/>\r\n       <use x=\"127.246094\" xlink:href=\"#DejaVuSans-45\"/>\r\n       <use x=\"163.330078\" xlink:href=\"#DejaVuSans-48\"/>\r\n       <use x=\"226.953125\" xlink:href=\"#DejaVuSans-49\"/>\r\n       <use x=\"290.576172\" xlink:href=\"#DejaVuSans-45\"/>\r\n       <use x=\"326.660156\" xlink:href=\"#DejaVuSans-50\"/>\r\n       <use x=\"390.283203\" xlink:href=\"#DejaVuSans-48\"/>\r\n       <use x=\"453.90625\" xlink:href=\"#DejaVuSans-49\"/>\r\n       <use x=\"517.529297\" xlink:href=\"#DejaVuSans-57\"/>\r\n      </g>\r\n     </g>\r\n    </g>\r\n    <g id=\"xtick_31\">\r\n     <g id=\"line2d_31\">\r\n      <g>\r\n       <use style=\"stroke:#000000;stroke-width:0.8;\" x=\"225.610693\" xlink:href=\"#m44c98f0f23\" y=\"550.8\"/>\r\n      </g>\r\n     </g>\r\n     <g id=\"text_31\">\r\n      <!-- 01-02-2019 -->\r\n      <g transform=\"translate(226.99038 586.857813)rotate(-90)scale(0.05 -0.05)\">\r\n       <use xlink:href=\"#DejaVuSans-48\"/>\r\n       <use x=\"63.623047\" xlink:href=\"#DejaVuSans-49\"/>\r\n       <use x=\"127.246094\" xlink:href=\"#DejaVuSans-45\"/>\r\n       <use x=\"163.330078\" xlink:href=\"#DejaVuSans-48\"/>\r\n       <use x=\"226.953125\" xlink:href=\"#DejaVuSans-50\"/>\r\n       <use x=\"290.576172\" xlink:href=\"#DejaVuSans-45\"/>\r\n       <use x=\"326.660156\" xlink:href=\"#DejaVuSans-50\"/>\r\n       <use x=\"390.283203\" xlink:href=\"#DejaVuSans-48\"/>\r\n       <use x=\"453.90625\" xlink:href=\"#DejaVuSans-49\"/>\r\n       <use x=\"517.529297\" xlink:href=\"#DejaVuSans-57\"/>\r\n      </g>\r\n     </g>\r\n    </g>\r\n    <g id=\"xtick_32\">\r\n     <g id=\"line2d_32\">\r\n      <g>\r\n       <use style=\"stroke:#000000;stroke-width:0.8;\" x=\"232.333584\" xlink:href=\"#m44c98f0f23\" y=\"550.8\"/>\r\n      </g>\r\n     </g>\r\n     <g id=\"text_32\">\r\n      <!-- 03-02-2019 -->\r\n      <g transform=\"translate(233.713272 586.857813)rotate(-90)scale(0.05 -0.05)\">\r\n       <use xlink:href=\"#DejaVuSans-48\"/>\r\n       <use x=\"63.623047\" xlink:href=\"#DejaVuSans-51\"/>\r\n       <use x=\"127.246094\" xlink:href=\"#DejaVuSans-45\"/>\r\n       <use x=\"163.330078\" xlink:href=\"#DejaVuSans-48\"/>\r\n       <use x=\"226.953125\" xlink:href=\"#DejaVuSans-50\"/>\r\n       <use x=\"290.576172\" xlink:href=\"#DejaVuSans-45\"/>\r\n       <use x=\"326.660156\" xlink:href=\"#DejaVuSans-50\"/>\r\n       <use x=\"390.283203\" xlink:href=\"#DejaVuSans-48\"/>\r\n       <use x=\"453.90625\" xlink:href=\"#DejaVuSans-49\"/>\r\n       <use x=\"517.529297\" xlink:href=\"#DejaVuSans-57\"/>\r\n      </g>\r\n     </g>\r\n    </g>\r\n    <g id=\"xtick_33\">\r\n     <g id=\"line2d_33\">\r\n      <g>\r\n       <use style=\"stroke:#000000;stroke-width:0.8;\" x=\"239.056476\" xlink:href=\"#m44c98f0f23\" y=\"550.8\"/>\r\n      </g>\r\n     </g>\r\n     <g id=\"text_33\">\r\n      <!-- 04-02-2019 -->\r\n      <g transform=\"translate(240.436163 586.857813)rotate(-90)scale(0.05 -0.05)\">\r\n       <use xlink:href=\"#DejaVuSans-48\"/>\r\n       <use x=\"63.623047\" xlink:href=\"#DejaVuSans-52\"/>\r\n       <use x=\"127.246094\" xlink:href=\"#DejaVuSans-45\"/>\r\n       <use x=\"163.330078\" xlink:href=\"#DejaVuSans-48\"/>\r\n       <use x=\"226.953125\" xlink:href=\"#DejaVuSans-50\"/>\r\n       <use x=\"290.576172\" xlink:href=\"#DejaVuSans-45\"/>\r\n       <use x=\"326.660156\" xlink:href=\"#DejaVuSans-50\"/>\r\n       <use x=\"390.283203\" xlink:href=\"#DejaVuSans-48\"/>\r\n       <use x=\"453.90625\" xlink:href=\"#DejaVuSans-49\"/>\r\n       <use x=\"517.529297\" xlink:href=\"#DejaVuSans-57\"/>\r\n      </g>\r\n     </g>\r\n    </g>\r\n    <g id=\"xtick_34\">\r\n     <g id=\"line2d_34\">\r\n      <g>\r\n       <use style=\"stroke:#000000;stroke-width:0.8;\" x=\"245.779367\" xlink:href=\"#m44c98f0f23\" y=\"550.8\"/>\r\n      </g>\r\n     </g>\r\n     <g id=\"text_34\">\r\n      <!-- 05-02-2019 -->\r\n      <g transform=\"translate(247.159055 586.857813)rotate(-90)scale(0.05 -0.05)\">\r\n       <use xlink:href=\"#DejaVuSans-48\"/>\r\n       <use x=\"63.623047\" xlink:href=\"#DejaVuSans-53\"/>\r\n       <use x=\"127.246094\" xlink:href=\"#DejaVuSans-45\"/>\r\n       <use x=\"163.330078\" xlink:href=\"#DejaVuSans-48\"/>\r\n       <use x=\"226.953125\" xlink:href=\"#DejaVuSans-50\"/>\r\n       <use x=\"290.576172\" xlink:href=\"#DejaVuSans-45\"/>\r\n       <use x=\"326.660156\" xlink:href=\"#DejaVuSans-50\"/>\r\n       <use x=\"390.283203\" xlink:href=\"#DejaVuSans-48\"/>\r\n       <use x=\"453.90625\" xlink:href=\"#DejaVuSans-49\"/>\r\n       <use x=\"517.529297\" xlink:href=\"#DejaVuSans-57\"/>\r\n      </g>\r\n     </g>\r\n    </g>\r\n    <g id=\"xtick_35\">\r\n     <g id=\"line2d_35\">\r\n      <g>\r\n       <use style=\"stroke:#000000;stroke-width:0.8;\" x=\"252.502259\" xlink:href=\"#m44c98f0f23\" y=\"550.8\"/>\r\n      </g>\r\n     </g>\r\n     <g id=\"text_35\">\r\n      <!-- 06-02-2019 -->\r\n      <g transform=\"translate(253.881947 586.857813)rotate(-90)scale(0.05 -0.05)\">\r\n       <use xlink:href=\"#DejaVuSans-48\"/>\r\n       <use x=\"63.623047\" xlink:href=\"#DejaVuSans-54\"/>\r\n       <use x=\"127.246094\" xlink:href=\"#DejaVuSans-45\"/>\r\n       <use x=\"163.330078\" xlink:href=\"#DejaVuSans-48\"/>\r\n       <use x=\"226.953125\" xlink:href=\"#DejaVuSans-50\"/>\r\n       <use x=\"290.576172\" xlink:href=\"#DejaVuSans-45\"/>\r\n       <use x=\"326.660156\" xlink:href=\"#DejaVuSans-50\"/>\r\n       <use x=\"390.283203\" xlink:href=\"#DejaVuSans-48\"/>\r\n       <use x=\"453.90625\" xlink:href=\"#DejaVuSans-49\"/>\r\n       <use x=\"517.529297\" xlink:href=\"#DejaVuSans-57\"/>\r\n      </g>\r\n     </g>\r\n    </g>\r\n    <g id=\"xtick_36\">\r\n     <g id=\"line2d_36\">\r\n      <g>\r\n       <use style=\"stroke:#000000;stroke-width:0.8;\" x=\"259.225151\" xlink:href=\"#m44c98f0f23\" y=\"550.8\"/>\r\n      </g>\r\n     </g>\r\n     <g id=\"text_36\">\r\n      <!-- 07-02-2019 -->\r\n      <g transform=\"translate(260.604838 586.857813)rotate(-90)scale(0.05 -0.05)\">\r\n       <use xlink:href=\"#DejaVuSans-48\"/>\r\n       <use x=\"63.623047\" xlink:href=\"#DejaVuSans-55\"/>\r\n       <use x=\"127.246094\" xlink:href=\"#DejaVuSans-45\"/>\r\n       <use x=\"163.330078\" xlink:href=\"#DejaVuSans-48\"/>\r\n       <use x=\"226.953125\" xlink:href=\"#DejaVuSans-50\"/>\r\n       <use x=\"290.576172\" xlink:href=\"#DejaVuSans-45\"/>\r\n       <use x=\"326.660156\" xlink:href=\"#DejaVuSans-50\"/>\r\n       <use x=\"390.283203\" xlink:href=\"#DejaVuSans-48\"/>\r\n       <use x=\"453.90625\" xlink:href=\"#DejaVuSans-49\"/>\r\n       <use x=\"517.529297\" xlink:href=\"#DejaVuSans-57\"/>\r\n      </g>\r\n     </g>\r\n    </g>\r\n    <g id=\"xtick_37\">\r\n     <g id=\"line2d_37\">\r\n      <g>\r\n       <use style=\"stroke:#000000;stroke-width:0.8;\" x=\"265.948042\" xlink:href=\"#m44c98f0f23\" y=\"550.8\"/>\r\n      </g>\r\n     </g>\r\n     <g id=\"text_37\">\r\n      <!-- 09-02-2019 -->\r\n      <g transform=\"translate(267.32773 586.857813)rotate(-90)scale(0.05 -0.05)\">\r\n       <use xlink:href=\"#DejaVuSans-48\"/>\r\n       <use x=\"63.623047\" xlink:href=\"#DejaVuSans-57\"/>\r\n       <use x=\"127.246094\" xlink:href=\"#DejaVuSans-45\"/>\r\n       <use x=\"163.330078\" xlink:href=\"#DejaVuSans-48\"/>\r\n       <use x=\"226.953125\" xlink:href=\"#DejaVuSans-50\"/>\r\n       <use x=\"290.576172\" xlink:href=\"#DejaVuSans-45\"/>\r\n       <use x=\"326.660156\" xlink:href=\"#DejaVuSans-50\"/>\r\n       <use x=\"390.283203\" xlink:href=\"#DejaVuSans-48\"/>\r\n       <use x=\"453.90625\" xlink:href=\"#DejaVuSans-49\"/>\r\n       <use x=\"517.529297\" xlink:href=\"#DejaVuSans-57\"/>\r\n      </g>\r\n     </g>\r\n    </g>\r\n    <g id=\"xtick_38\">\r\n     <g id=\"line2d_38\">\r\n      <g>\r\n       <use style=\"stroke:#000000;stroke-width:0.8;\" x=\"272.670934\" xlink:href=\"#m44c98f0f23\" y=\"550.8\"/>\r\n      </g>\r\n     </g>\r\n     <g id=\"text_38\">\r\n      <!-- 11-02-2019 -->\r\n      <g transform=\"translate(274.050621 586.857813)rotate(-90)scale(0.05 -0.05)\">\r\n       <use xlink:href=\"#DejaVuSans-49\"/>\r\n       <use x=\"63.623047\" xlink:href=\"#DejaVuSans-49\"/>\r\n       <use x=\"127.246094\" xlink:href=\"#DejaVuSans-45\"/>\r\n       <use x=\"163.330078\" xlink:href=\"#DejaVuSans-48\"/>\r\n       <use x=\"226.953125\" xlink:href=\"#DejaVuSans-50\"/>\r\n       <use x=\"290.576172\" xlink:href=\"#DejaVuSans-45\"/>\r\n       <use x=\"326.660156\" xlink:href=\"#DejaVuSans-50\"/>\r\n       <use x=\"390.283203\" xlink:href=\"#DejaVuSans-48\"/>\r\n       <use x=\"453.90625\" xlink:href=\"#DejaVuSans-49\"/>\r\n       <use x=\"517.529297\" xlink:href=\"#DejaVuSans-57\"/>\r\n      </g>\r\n     </g>\r\n    </g>\r\n    <g id=\"xtick_39\">\r\n     <g id=\"line2d_39\">\r\n      <g>\r\n       <use style=\"stroke:#000000;stroke-width:0.8;\" x=\"279.393825\" xlink:href=\"#m44c98f0f23\" y=\"550.8\"/>\r\n      </g>\r\n     </g>\r\n     <g id=\"text_39\">\r\n      <!-- 12-02-2019 -->\r\n      <g transform=\"translate(280.773513 586.857813)rotate(-90)scale(0.05 -0.05)\">\r\n       <use xlink:href=\"#DejaVuSans-49\"/>\r\n       <use x=\"63.623047\" xlink:href=\"#DejaVuSans-50\"/>\r\n       <use x=\"127.246094\" xlink:href=\"#DejaVuSans-45\"/>\r\n       <use x=\"163.330078\" xlink:href=\"#DejaVuSans-48\"/>\r\n       <use x=\"226.953125\" xlink:href=\"#DejaVuSans-50\"/>\r\n       <use x=\"290.576172\" xlink:href=\"#DejaVuSans-45\"/>\r\n       <use x=\"326.660156\" xlink:href=\"#DejaVuSans-50\"/>\r\n       <use x=\"390.283203\" xlink:href=\"#DejaVuSans-48\"/>\r\n       <use x=\"453.90625\" xlink:href=\"#DejaVuSans-49\"/>\r\n       <use x=\"517.529297\" xlink:href=\"#DejaVuSans-57\"/>\r\n      </g>\r\n     </g>\r\n    </g>\r\n    <g id=\"xtick_40\">\r\n     <g id=\"line2d_40\">\r\n      <g>\r\n       <use style=\"stroke:#000000;stroke-width:0.8;\" x=\"286.116717\" xlink:href=\"#m44c98f0f23\" y=\"550.8\"/>\r\n      </g>\r\n     </g>\r\n     <g id=\"text_40\">\r\n      <!-- 13-02-2019 -->\r\n      <g transform=\"translate(287.496404 586.857813)rotate(-90)scale(0.05 -0.05)\">\r\n       <use xlink:href=\"#DejaVuSans-49\"/>\r\n       <use x=\"63.623047\" xlink:href=\"#DejaVuSans-51\"/>\r\n       <use x=\"127.246094\" xlink:href=\"#DejaVuSans-45\"/>\r\n       <use x=\"163.330078\" xlink:href=\"#DejaVuSans-48\"/>\r\n       <use x=\"226.953125\" xlink:href=\"#DejaVuSans-50\"/>\r\n       <use x=\"290.576172\" xlink:href=\"#DejaVuSans-45\"/>\r\n       <use x=\"326.660156\" xlink:href=\"#DejaVuSans-50\"/>\r\n       <use x=\"390.283203\" xlink:href=\"#DejaVuSans-48\"/>\r\n       <use x=\"453.90625\" xlink:href=\"#DejaVuSans-49\"/>\r\n       <use x=\"517.529297\" xlink:href=\"#DejaVuSans-57\"/>\r\n      </g>\r\n     </g>\r\n    </g>\r\n    <g id=\"xtick_41\">\r\n     <g id=\"line2d_41\">\r\n      <g>\r\n       <use style=\"stroke:#000000;stroke-width:0.8;\" x=\"292.839608\" xlink:href=\"#m44c98f0f23\" y=\"550.8\"/>\r\n      </g>\r\n     </g>\r\n     <g id=\"text_41\">\r\n      <!-- 14-02-2019 -->\r\n      <g transform=\"translate(294.219296 586.857813)rotate(-90)scale(0.05 -0.05)\">\r\n       <use xlink:href=\"#DejaVuSans-49\"/>\r\n       <use x=\"63.623047\" xlink:href=\"#DejaVuSans-52\"/>\r\n       <use x=\"127.246094\" xlink:href=\"#DejaVuSans-45\"/>\r\n       <use x=\"163.330078\" xlink:href=\"#DejaVuSans-48\"/>\r\n       <use x=\"226.953125\" xlink:href=\"#DejaVuSans-50\"/>\r\n       <use x=\"290.576172\" xlink:href=\"#DejaVuSans-45\"/>\r\n       <use x=\"326.660156\" xlink:href=\"#DejaVuSans-50\"/>\r\n       <use x=\"390.283203\" xlink:href=\"#DejaVuSans-48\"/>\r\n       <use x=\"453.90625\" xlink:href=\"#DejaVuSans-49\"/>\r\n       <use x=\"517.529297\" xlink:href=\"#DejaVuSans-57\"/>\r\n      </g>\r\n     </g>\r\n    </g>\r\n    <g id=\"xtick_42\">\r\n     <g id=\"line2d_42\">\r\n      <g>\r\n       <use style=\"stroke:#000000;stroke-width:0.8;\" x=\"299.5625\" xlink:href=\"#m44c98f0f23\" y=\"550.8\"/>\r\n      </g>\r\n     </g>\r\n     <g id=\"text_42\">\r\n      <!-- 15-02-2019 -->\r\n      <g transform=\"translate(300.942187 586.857813)rotate(-90)scale(0.05 -0.05)\">\r\n       <use xlink:href=\"#DejaVuSans-49\"/>\r\n       <use x=\"63.623047\" xlink:href=\"#DejaVuSans-53\"/>\r\n       <use x=\"127.246094\" xlink:href=\"#DejaVuSans-45\"/>\r\n       <use x=\"163.330078\" xlink:href=\"#DejaVuSans-48\"/>\r\n       <use x=\"226.953125\" xlink:href=\"#DejaVuSans-50\"/>\r\n       <use x=\"290.576172\" xlink:href=\"#DejaVuSans-45\"/>\r\n       <use x=\"326.660156\" xlink:href=\"#DejaVuSans-50\"/>\r\n       <use x=\"390.283203\" xlink:href=\"#DejaVuSans-48\"/>\r\n       <use x=\"453.90625\" xlink:href=\"#DejaVuSans-49\"/>\r\n       <use x=\"517.529297\" xlink:href=\"#DejaVuSans-57\"/>\r\n      </g>\r\n     </g>\r\n    </g>\r\n    <g id=\"xtick_43\">\r\n     <g id=\"line2d_43\">\r\n      <g>\r\n       <use style=\"stroke:#000000;stroke-width:0.8;\" x=\"306.285392\" xlink:href=\"#m44c98f0f23\" y=\"550.8\"/>\r\n      </g>\r\n     </g>\r\n     <g id=\"text_43\">\r\n      <!-- 16-02-2019 -->\r\n      <g transform=\"translate(307.665079 586.857813)rotate(-90)scale(0.05 -0.05)\">\r\n       <use xlink:href=\"#DejaVuSans-49\"/>\r\n       <use x=\"63.623047\" xlink:href=\"#DejaVuSans-54\"/>\r\n       <use x=\"127.246094\" xlink:href=\"#DejaVuSans-45\"/>\r\n       <use x=\"163.330078\" xlink:href=\"#DejaVuSans-48\"/>\r\n       <use x=\"226.953125\" xlink:href=\"#DejaVuSans-50\"/>\r\n       <use x=\"290.576172\" xlink:href=\"#DejaVuSans-45\"/>\r\n       <use x=\"326.660156\" xlink:href=\"#DejaVuSans-50\"/>\r\n       <use x=\"390.283203\" xlink:href=\"#DejaVuSans-48\"/>\r\n       <use x=\"453.90625\" xlink:href=\"#DejaVuSans-49\"/>\r\n       <use x=\"517.529297\" xlink:href=\"#DejaVuSans-57\"/>\r\n      </g>\r\n     </g>\r\n    </g>\r\n    <g id=\"xtick_44\">\r\n     <g id=\"line2d_44\">\r\n      <g>\r\n       <use style=\"stroke:#000000;stroke-width:0.8;\" x=\"313.008283\" xlink:href=\"#m44c98f0f23\" y=\"550.8\"/>\r\n      </g>\r\n     </g>\r\n     <g id=\"text_44\">\r\n      <!-- 17-02-2019 -->\r\n      <g transform=\"translate(314.387971 586.857813)rotate(-90)scale(0.05 -0.05)\">\r\n       <use xlink:href=\"#DejaVuSans-49\"/>\r\n       <use x=\"63.623047\" xlink:href=\"#DejaVuSans-55\"/>\r\n       <use x=\"127.246094\" xlink:href=\"#DejaVuSans-45\"/>\r\n       <use x=\"163.330078\" xlink:href=\"#DejaVuSans-48\"/>\r\n       <use x=\"226.953125\" xlink:href=\"#DejaVuSans-50\"/>\r\n       <use x=\"290.576172\" xlink:href=\"#DejaVuSans-45\"/>\r\n       <use x=\"326.660156\" xlink:href=\"#DejaVuSans-50\"/>\r\n       <use x=\"390.283203\" xlink:href=\"#DejaVuSans-48\"/>\r\n       <use x=\"453.90625\" xlink:href=\"#DejaVuSans-49\"/>\r\n       <use x=\"517.529297\" xlink:href=\"#DejaVuSans-57\"/>\r\n      </g>\r\n     </g>\r\n    </g>\r\n    <g id=\"xtick_45\">\r\n     <g id=\"line2d_45\">\r\n      <g>\r\n       <use style=\"stroke:#000000;stroke-width:0.8;\" x=\"319.731175\" xlink:href=\"#m44c98f0f23\" y=\"550.8\"/>\r\n      </g>\r\n     </g>\r\n     <g id=\"text_45\">\r\n      <!-- 18-02-2019 -->\r\n      <g transform=\"translate(321.110862 586.857813)rotate(-90)scale(0.05 -0.05)\">\r\n       <use xlink:href=\"#DejaVuSans-49\"/>\r\n       <use x=\"63.623047\" xlink:href=\"#DejaVuSans-56\"/>\r\n       <use x=\"127.246094\" xlink:href=\"#DejaVuSans-45\"/>\r\n       <use x=\"163.330078\" xlink:href=\"#DejaVuSans-48\"/>\r\n       <use x=\"226.953125\" xlink:href=\"#DejaVuSans-50\"/>\r\n       <use x=\"290.576172\" xlink:href=\"#DejaVuSans-45\"/>\r\n       <use x=\"326.660156\" xlink:href=\"#DejaVuSans-50\"/>\r\n       <use x=\"390.283203\" xlink:href=\"#DejaVuSans-48\"/>\r\n       <use x=\"453.90625\" xlink:href=\"#DejaVuSans-49\"/>\r\n       <use x=\"517.529297\" xlink:href=\"#DejaVuSans-57\"/>\r\n      </g>\r\n     </g>\r\n    </g>\r\n    <g id=\"xtick_46\">\r\n     <g id=\"line2d_46\">\r\n      <g>\r\n       <use style=\"stroke:#000000;stroke-width:0.8;\" x=\"326.454066\" xlink:href=\"#m44c98f0f23\" y=\"550.8\"/>\r\n      </g>\r\n     </g>\r\n     <g id=\"text_46\">\r\n      <!-- 19-02-2019 -->\r\n      <g transform=\"translate(327.833754 586.857813)rotate(-90)scale(0.05 -0.05)\">\r\n       <use xlink:href=\"#DejaVuSans-49\"/>\r\n       <use x=\"63.623047\" xlink:href=\"#DejaVuSans-57\"/>\r\n       <use x=\"127.246094\" xlink:href=\"#DejaVuSans-45\"/>\r\n       <use x=\"163.330078\" xlink:href=\"#DejaVuSans-48\"/>\r\n       <use x=\"226.953125\" xlink:href=\"#DejaVuSans-50\"/>\r\n       <use x=\"290.576172\" xlink:href=\"#DejaVuSans-45\"/>\r\n       <use x=\"326.660156\" xlink:href=\"#DejaVuSans-50\"/>\r\n       <use x=\"390.283203\" xlink:href=\"#DejaVuSans-48\"/>\r\n       <use x=\"453.90625\" xlink:href=\"#DejaVuSans-49\"/>\r\n       <use x=\"517.529297\" xlink:href=\"#DejaVuSans-57\"/>\r\n      </g>\r\n     </g>\r\n    </g>\r\n    <g id=\"xtick_47\">\r\n     <g id=\"line2d_47\">\r\n      <g>\r\n       <use style=\"stroke:#000000;stroke-width:0.8;\" x=\"333.176958\" xlink:href=\"#m44c98f0f23\" y=\"550.8\"/>\r\n      </g>\r\n     </g>\r\n     <g id=\"text_47\">\r\n      <!-- 20-02-2019 -->\r\n      <g transform=\"translate(334.556645 586.857813)rotate(-90)scale(0.05 -0.05)\">\r\n       <use xlink:href=\"#DejaVuSans-50\"/>\r\n       <use x=\"63.623047\" xlink:href=\"#DejaVuSans-48\"/>\r\n       <use x=\"127.246094\" xlink:href=\"#DejaVuSans-45\"/>\r\n       <use x=\"163.330078\" xlink:href=\"#DejaVuSans-48\"/>\r\n       <use x=\"226.953125\" xlink:href=\"#DejaVuSans-50\"/>\r\n       <use x=\"290.576172\" xlink:href=\"#DejaVuSans-45\"/>\r\n       <use x=\"326.660156\" xlink:href=\"#DejaVuSans-50\"/>\r\n       <use x=\"390.283203\" xlink:href=\"#DejaVuSans-48\"/>\r\n       <use x=\"453.90625\" xlink:href=\"#DejaVuSans-49\"/>\r\n       <use x=\"517.529297\" xlink:href=\"#DejaVuSans-57\"/>\r\n      </g>\r\n     </g>\r\n    </g>\r\n    <g id=\"xtick_48\">\r\n     <g id=\"line2d_48\">\r\n      <g>\r\n       <use style=\"stroke:#000000;stroke-width:0.8;\" x=\"339.899849\" xlink:href=\"#m44c98f0f23\" y=\"550.8\"/>\r\n      </g>\r\n     </g>\r\n     <g id=\"text_48\">\r\n      <!-- 21-02-2019 -->\r\n      <g transform=\"translate(341.279537 586.857813)rotate(-90)scale(0.05 -0.05)\">\r\n       <use xlink:href=\"#DejaVuSans-50\"/>\r\n       <use x=\"63.623047\" xlink:href=\"#DejaVuSans-49\"/>\r\n       <use x=\"127.246094\" xlink:href=\"#DejaVuSans-45\"/>\r\n       <use x=\"163.330078\" xlink:href=\"#DejaVuSans-48\"/>\r\n       <use x=\"226.953125\" xlink:href=\"#DejaVuSans-50\"/>\r\n       <use x=\"290.576172\" xlink:href=\"#DejaVuSans-45\"/>\r\n       <use x=\"326.660156\" xlink:href=\"#DejaVuSans-50\"/>\r\n       <use x=\"390.283203\" xlink:href=\"#DejaVuSans-48\"/>\r\n       <use x=\"453.90625\" xlink:href=\"#DejaVuSans-49\"/>\r\n       <use x=\"517.529297\" xlink:href=\"#DejaVuSans-57\"/>\r\n      </g>\r\n     </g>\r\n    </g>\r\n    <g id=\"xtick_49\">\r\n     <g id=\"line2d_49\">\r\n      <g>\r\n       <use style=\"stroke:#000000;stroke-width:0.8;\" x=\"346.622741\" xlink:href=\"#m44c98f0f23\" y=\"550.8\"/>\r\n      </g>\r\n     </g>\r\n     <g id=\"text_49\">\r\n      <!-- 22-02-2019 -->\r\n      <g transform=\"translate(348.002428 586.857813)rotate(-90)scale(0.05 -0.05)\">\r\n       <use xlink:href=\"#DejaVuSans-50\"/>\r\n       <use x=\"63.623047\" xlink:href=\"#DejaVuSans-50\"/>\r\n       <use x=\"127.246094\" xlink:href=\"#DejaVuSans-45\"/>\r\n       <use x=\"163.330078\" xlink:href=\"#DejaVuSans-48\"/>\r\n       <use x=\"226.953125\" xlink:href=\"#DejaVuSans-50\"/>\r\n       <use x=\"290.576172\" xlink:href=\"#DejaVuSans-45\"/>\r\n       <use x=\"326.660156\" xlink:href=\"#DejaVuSans-50\"/>\r\n       <use x=\"390.283203\" xlink:href=\"#DejaVuSans-48\"/>\r\n       <use x=\"453.90625\" xlink:href=\"#DejaVuSans-49\"/>\r\n       <use x=\"517.529297\" xlink:href=\"#DejaVuSans-57\"/>\r\n      </g>\r\n     </g>\r\n    </g>\r\n    <g id=\"xtick_50\">\r\n     <g id=\"line2d_50\">\r\n      <g>\r\n       <use style=\"stroke:#000000;stroke-width:0.8;\" x=\"353.345633\" xlink:href=\"#m44c98f0f23\" y=\"550.8\"/>\r\n      </g>\r\n     </g>\r\n     <g id=\"text_50\">\r\n      <!-- 23-02-2019 -->\r\n      <g transform=\"translate(354.72532 586.857813)rotate(-90)scale(0.05 -0.05)\">\r\n       <use xlink:href=\"#DejaVuSans-50\"/>\r\n       <use x=\"63.623047\" xlink:href=\"#DejaVuSans-51\"/>\r\n       <use x=\"127.246094\" xlink:href=\"#DejaVuSans-45\"/>\r\n       <use x=\"163.330078\" xlink:href=\"#DejaVuSans-48\"/>\r\n       <use x=\"226.953125\" xlink:href=\"#DejaVuSans-50\"/>\r\n       <use x=\"290.576172\" xlink:href=\"#DejaVuSans-45\"/>\r\n       <use x=\"326.660156\" xlink:href=\"#DejaVuSans-50\"/>\r\n       <use x=\"390.283203\" xlink:href=\"#DejaVuSans-48\"/>\r\n       <use x=\"453.90625\" xlink:href=\"#DejaVuSans-49\"/>\r\n       <use x=\"517.529297\" xlink:href=\"#DejaVuSans-57\"/>\r\n      </g>\r\n     </g>\r\n    </g>\r\n    <g id=\"xtick_51\">\r\n     <g id=\"line2d_51\">\r\n      <g>\r\n       <use style=\"stroke:#000000;stroke-width:0.8;\" x=\"360.068524\" xlink:href=\"#m44c98f0f23\" y=\"550.8\"/>\r\n      </g>\r\n     </g>\r\n     <g id=\"text_51\">\r\n      <!-- 24-02-2019 -->\r\n      <g transform=\"translate(361.448212 586.857813)rotate(-90)scale(0.05 -0.05)\">\r\n       <use xlink:href=\"#DejaVuSans-50\"/>\r\n       <use x=\"63.623047\" xlink:href=\"#DejaVuSans-52\"/>\r\n       <use x=\"127.246094\" xlink:href=\"#DejaVuSans-45\"/>\r\n       <use x=\"163.330078\" xlink:href=\"#DejaVuSans-48\"/>\r\n       <use x=\"226.953125\" xlink:href=\"#DejaVuSans-50\"/>\r\n       <use x=\"290.576172\" xlink:href=\"#DejaVuSans-45\"/>\r\n       <use x=\"326.660156\" xlink:href=\"#DejaVuSans-50\"/>\r\n       <use x=\"390.283203\" xlink:href=\"#DejaVuSans-48\"/>\r\n       <use x=\"453.90625\" xlink:href=\"#DejaVuSans-49\"/>\r\n       <use x=\"517.529297\" xlink:href=\"#DejaVuSans-57\"/>\r\n      </g>\r\n     </g>\r\n    </g>\r\n    <g id=\"xtick_52\">\r\n     <g id=\"line2d_52\">\r\n      <g>\r\n       <use style=\"stroke:#000000;stroke-width:0.8;\" x=\"366.791416\" xlink:href=\"#m44c98f0f23\" y=\"550.8\"/>\r\n      </g>\r\n     </g>\r\n     <g id=\"text_52\">\r\n      <!-- 25-02-2019 -->\r\n      <g transform=\"translate(368.171103 586.857813)rotate(-90)scale(0.05 -0.05)\">\r\n       <use xlink:href=\"#DejaVuSans-50\"/>\r\n       <use x=\"63.623047\" xlink:href=\"#DejaVuSans-53\"/>\r\n       <use x=\"127.246094\" xlink:href=\"#DejaVuSans-45\"/>\r\n       <use x=\"163.330078\" xlink:href=\"#DejaVuSans-48\"/>\r\n       <use x=\"226.953125\" xlink:href=\"#DejaVuSans-50\"/>\r\n       <use x=\"290.576172\" xlink:href=\"#DejaVuSans-45\"/>\r\n       <use x=\"326.660156\" xlink:href=\"#DejaVuSans-50\"/>\r\n       <use x=\"390.283203\" xlink:href=\"#DejaVuSans-48\"/>\r\n       <use x=\"453.90625\" xlink:href=\"#DejaVuSans-49\"/>\r\n       <use x=\"517.529297\" xlink:href=\"#DejaVuSans-57\"/>\r\n      </g>\r\n     </g>\r\n    </g>\r\n    <g id=\"xtick_53\">\r\n     <g id=\"line2d_53\">\r\n      <g>\r\n       <use style=\"stroke:#000000;stroke-width:0.8;\" x=\"373.514307\" xlink:href=\"#m44c98f0f23\" y=\"550.8\"/>\r\n      </g>\r\n     </g>\r\n     <g id=\"text_53\">\r\n      <!-- 26-02-2019 -->\r\n      <g transform=\"translate(374.893995 586.857813)rotate(-90)scale(0.05 -0.05)\">\r\n       <use xlink:href=\"#DejaVuSans-50\"/>\r\n       <use x=\"63.623047\" xlink:href=\"#DejaVuSans-54\"/>\r\n       <use x=\"127.246094\" xlink:href=\"#DejaVuSans-45\"/>\r\n       <use x=\"163.330078\" xlink:href=\"#DejaVuSans-48\"/>\r\n       <use x=\"226.953125\" xlink:href=\"#DejaVuSans-50\"/>\r\n       <use x=\"290.576172\" xlink:href=\"#DejaVuSans-45\"/>\r\n       <use x=\"326.660156\" xlink:href=\"#DejaVuSans-50\"/>\r\n       <use x=\"390.283203\" xlink:href=\"#DejaVuSans-48\"/>\r\n       <use x=\"453.90625\" xlink:href=\"#DejaVuSans-49\"/>\r\n       <use x=\"517.529297\" xlink:href=\"#DejaVuSans-57\"/>\r\n      </g>\r\n     </g>\r\n    </g>\r\n    <g id=\"xtick_54\">\r\n     <g id=\"line2d_54\">\r\n      <g>\r\n       <use style=\"stroke:#000000;stroke-width:0.8;\" x=\"380.237199\" xlink:href=\"#m44c98f0f23\" y=\"550.8\"/>\r\n      </g>\r\n     </g>\r\n     <g id=\"text_54\">\r\n      <!-- 27-02-2019 -->\r\n      <g transform=\"translate(381.616886 586.857813)rotate(-90)scale(0.05 -0.05)\">\r\n       <use xlink:href=\"#DejaVuSans-50\"/>\r\n       <use x=\"63.623047\" xlink:href=\"#DejaVuSans-55\"/>\r\n       <use x=\"127.246094\" xlink:href=\"#DejaVuSans-45\"/>\r\n       <use x=\"163.330078\" xlink:href=\"#DejaVuSans-48\"/>\r\n       <use x=\"226.953125\" xlink:href=\"#DejaVuSans-50\"/>\r\n       <use x=\"290.576172\" xlink:href=\"#DejaVuSans-45\"/>\r\n       <use x=\"326.660156\" xlink:href=\"#DejaVuSans-50\"/>\r\n       <use x=\"390.283203\" xlink:href=\"#DejaVuSans-48\"/>\r\n       <use x=\"453.90625\" xlink:href=\"#DejaVuSans-49\"/>\r\n       <use x=\"517.529297\" xlink:href=\"#DejaVuSans-57\"/>\r\n      </g>\r\n     </g>\r\n    </g>\r\n    <g id=\"xtick_55\">\r\n     <g id=\"line2d_55\">\r\n      <g>\r\n       <use style=\"stroke:#000000;stroke-width:0.8;\" x=\"386.96009\" xlink:href=\"#m44c98f0f23\" y=\"550.8\"/>\r\n      </g>\r\n     </g>\r\n     <g id=\"text_55\">\r\n      <!-- 28-02-2019 -->\r\n      <g transform=\"translate(388.339778 586.857813)rotate(-90)scale(0.05 -0.05)\">\r\n       <use xlink:href=\"#DejaVuSans-50\"/>\r\n       <use x=\"63.623047\" xlink:href=\"#DejaVuSans-56\"/>\r\n       <use x=\"127.246094\" xlink:href=\"#DejaVuSans-45\"/>\r\n       <use x=\"163.330078\" xlink:href=\"#DejaVuSans-48\"/>\r\n       <use x=\"226.953125\" xlink:href=\"#DejaVuSans-50\"/>\r\n       <use x=\"290.576172\" xlink:href=\"#DejaVuSans-45\"/>\r\n       <use x=\"326.660156\" xlink:href=\"#DejaVuSans-50\"/>\r\n       <use x=\"390.283203\" xlink:href=\"#DejaVuSans-48\"/>\r\n       <use x=\"453.90625\" xlink:href=\"#DejaVuSans-49\"/>\r\n       <use x=\"517.529297\" xlink:href=\"#DejaVuSans-57\"/>\r\n      </g>\r\n     </g>\r\n    </g>\r\n    <g id=\"xtick_56\">\r\n     <g id=\"line2d_56\">\r\n      <g>\r\n       <use style=\"stroke:#000000;stroke-width:0.8;\" x=\"393.682982\" xlink:href=\"#m44c98f0f23\" y=\"550.8\"/>\r\n      </g>\r\n     </g>\r\n     <g id=\"text_56\">\r\n      <!-- 01-03-2019 -->\r\n      <g transform=\"translate(395.062669 586.857813)rotate(-90)scale(0.05 -0.05)\">\r\n       <use xlink:href=\"#DejaVuSans-48\"/>\r\n       <use x=\"63.623047\" xlink:href=\"#DejaVuSans-49\"/>\r\n       <use x=\"127.246094\" xlink:href=\"#DejaVuSans-45\"/>\r\n       <use x=\"163.330078\" xlink:href=\"#DejaVuSans-48\"/>\r\n       <use x=\"226.953125\" xlink:href=\"#DejaVuSans-51\"/>\r\n       <use x=\"290.576172\" xlink:href=\"#DejaVuSans-45\"/>\r\n       <use x=\"326.660156\" xlink:href=\"#DejaVuSans-50\"/>\r\n       <use x=\"390.283203\" xlink:href=\"#DejaVuSans-48\"/>\r\n       <use x=\"453.90625\" xlink:href=\"#DejaVuSans-49\"/>\r\n       <use x=\"517.529297\" xlink:href=\"#DejaVuSans-57\"/>\r\n      </g>\r\n     </g>\r\n    </g>\r\n    <g id=\"xtick_57\">\r\n     <g id=\"line2d_57\">\r\n      <g>\r\n       <use style=\"stroke:#000000;stroke-width:0.8;\" x=\"400.405873\" xlink:href=\"#m44c98f0f23\" y=\"550.8\"/>\r\n      </g>\r\n     </g>\r\n     <g id=\"text_57\">\r\n      <!-- 02-03-2019 -->\r\n      <g transform=\"translate(401.785561 586.857813)rotate(-90)scale(0.05 -0.05)\">\r\n       <use xlink:href=\"#DejaVuSans-48\"/>\r\n       <use x=\"63.623047\" xlink:href=\"#DejaVuSans-50\"/>\r\n       <use x=\"127.246094\" xlink:href=\"#DejaVuSans-45\"/>\r\n       <use x=\"163.330078\" xlink:href=\"#DejaVuSans-48\"/>\r\n       <use x=\"226.953125\" xlink:href=\"#DejaVuSans-51\"/>\r\n       <use x=\"290.576172\" xlink:href=\"#DejaVuSans-45\"/>\r\n       <use x=\"326.660156\" xlink:href=\"#DejaVuSans-50\"/>\r\n       <use x=\"390.283203\" xlink:href=\"#DejaVuSans-48\"/>\r\n       <use x=\"453.90625\" xlink:href=\"#DejaVuSans-49\"/>\r\n       <use x=\"517.529297\" xlink:href=\"#DejaVuSans-57\"/>\r\n      </g>\r\n     </g>\r\n    </g>\r\n    <g id=\"xtick_58\">\r\n     <g id=\"line2d_58\">\r\n      <g>\r\n       <use style=\"stroke:#000000;stroke-width:0.8;\" x=\"407.128765\" xlink:href=\"#m44c98f0f23\" y=\"550.8\"/>\r\n      </g>\r\n     </g>\r\n     <g id=\"text_58\">\r\n      <!-- 03-03-2019 -->\r\n      <g transform=\"translate(408.508453 586.857813)rotate(-90)scale(0.05 -0.05)\">\r\n       <use xlink:href=\"#DejaVuSans-48\"/>\r\n       <use x=\"63.623047\" xlink:href=\"#DejaVuSans-51\"/>\r\n       <use x=\"127.246094\" xlink:href=\"#DejaVuSans-45\"/>\r\n       <use x=\"163.330078\" xlink:href=\"#DejaVuSans-48\"/>\r\n       <use x=\"226.953125\" xlink:href=\"#DejaVuSans-51\"/>\r\n       <use x=\"290.576172\" xlink:href=\"#DejaVuSans-45\"/>\r\n       <use x=\"326.660156\" xlink:href=\"#DejaVuSans-50\"/>\r\n       <use x=\"390.283203\" xlink:href=\"#DejaVuSans-48\"/>\r\n       <use x=\"453.90625\" xlink:href=\"#DejaVuSans-49\"/>\r\n       <use x=\"517.529297\" xlink:href=\"#DejaVuSans-57\"/>\r\n      </g>\r\n     </g>\r\n    </g>\r\n    <g id=\"xtick_59\">\r\n     <g id=\"line2d_59\">\r\n      <g>\r\n       <use style=\"stroke:#000000;stroke-width:0.8;\" x=\"413.851657\" xlink:href=\"#m44c98f0f23\" y=\"550.8\"/>\r\n      </g>\r\n     </g>\r\n     <g id=\"text_59\">\r\n      <!-- 04-03-2019 -->\r\n      <g transform=\"translate(415.231344 586.857813)rotate(-90)scale(0.05 -0.05)\">\r\n       <use xlink:href=\"#DejaVuSans-48\"/>\r\n       <use x=\"63.623047\" xlink:href=\"#DejaVuSans-52\"/>\r\n       <use x=\"127.246094\" xlink:href=\"#DejaVuSans-45\"/>\r\n       <use x=\"163.330078\" xlink:href=\"#DejaVuSans-48\"/>\r\n       <use x=\"226.953125\" xlink:href=\"#DejaVuSans-51\"/>\r\n       <use x=\"290.576172\" xlink:href=\"#DejaVuSans-45\"/>\r\n       <use x=\"326.660156\" xlink:href=\"#DejaVuSans-50\"/>\r\n       <use x=\"390.283203\" xlink:href=\"#DejaVuSans-48\"/>\r\n       <use x=\"453.90625\" xlink:href=\"#DejaVuSans-49\"/>\r\n       <use x=\"517.529297\" xlink:href=\"#DejaVuSans-57\"/>\r\n      </g>\r\n     </g>\r\n    </g>\r\n    <g id=\"xtick_60\">\r\n     <g id=\"line2d_60\">\r\n      <g>\r\n       <use style=\"stroke:#000000;stroke-width:0.8;\" x=\"420.574548\" xlink:href=\"#m44c98f0f23\" y=\"550.8\"/>\r\n      </g>\r\n     </g>\r\n     <g id=\"text_60\">\r\n      <!-- 05-03-2019 -->\r\n      <g transform=\"translate(421.954236 586.857813)rotate(-90)scale(0.05 -0.05)\">\r\n       <use xlink:href=\"#DejaVuSans-48\"/>\r\n       <use x=\"63.623047\" xlink:href=\"#DejaVuSans-53\"/>\r\n       <use x=\"127.246094\" xlink:href=\"#DejaVuSans-45\"/>\r\n       <use x=\"163.330078\" xlink:href=\"#DejaVuSans-48\"/>\r\n       <use x=\"226.953125\" xlink:href=\"#DejaVuSans-51\"/>\r\n       <use x=\"290.576172\" xlink:href=\"#DejaVuSans-45\"/>\r\n       <use x=\"326.660156\" xlink:href=\"#DejaVuSans-50\"/>\r\n       <use x=\"390.283203\" xlink:href=\"#DejaVuSans-48\"/>\r\n       <use x=\"453.90625\" xlink:href=\"#DejaVuSans-49\"/>\r\n       <use x=\"517.529297\" xlink:href=\"#DejaVuSans-57\"/>\r\n      </g>\r\n     </g>\r\n    </g>\r\n    <g id=\"xtick_61\">\r\n     <g id=\"line2d_61\">\r\n      <g>\r\n       <use style=\"stroke:#000000;stroke-width:0.8;\" x=\"427.29744\" xlink:href=\"#m44c98f0f23\" y=\"550.8\"/>\r\n      </g>\r\n     </g>\r\n     <g id=\"text_61\">\r\n      <!-- 06-03-2019 -->\r\n      <g transform=\"translate(428.677127 586.857813)rotate(-90)scale(0.05 -0.05)\">\r\n       <use xlink:href=\"#DejaVuSans-48\"/>\r\n       <use x=\"63.623047\" xlink:href=\"#DejaVuSans-54\"/>\r\n       <use x=\"127.246094\" xlink:href=\"#DejaVuSans-45\"/>\r\n       <use x=\"163.330078\" xlink:href=\"#DejaVuSans-48\"/>\r\n       <use x=\"226.953125\" xlink:href=\"#DejaVuSans-51\"/>\r\n       <use x=\"290.576172\" xlink:href=\"#DejaVuSans-45\"/>\r\n       <use x=\"326.660156\" xlink:href=\"#DejaVuSans-50\"/>\r\n       <use x=\"390.283203\" xlink:href=\"#DejaVuSans-48\"/>\r\n       <use x=\"453.90625\" xlink:href=\"#DejaVuSans-49\"/>\r\n       <use x=\"517.529297\" xlink:href=\"#DejaVuSans-57\"/>\r\n      </g>\r\n     </g>\r\n    </g>\r\n    <g id=\"xtick_62\">\r\n     <g id=\"line2d_62\">\r\n      <g>\r\n       <use style=\"stroke:#000000;stroke-width:0.8;\" x=\"434.020331\" xlink:href=\"#m44c98f0f23\" y=\"550.8\"/>\r\n      </g>\r\n     </g>\r\n     <g id=\"text_62\">\r\n      <!-- 07-03-2019 -->\r\n      <g transform=\"translate(435.400019 586.857813)rotate(-90)scale(0.05 -0.05)\">\r\n       <use xlink:href=\"#DejaVuSans-48\"/>\r\n       <use x=\"63.623047\" xlink:href=\"#DejaVuSans-55\"/>\r\n       <use x=\"127.246094\" xlink:href=\"#DejaVuSans-45\"/>\r\n       <use x=\"163.330078\" xlink:href=\"#DejaVuSans-48\"/>\r\n       <use x=\"226.953125\" xlink:href=\"#DejaVuSans-51\"/>\r\n       <use x=\"290.576172\" xlink:href=\"#DejaVuSans-45\"/>\r\n       <use x=\"326.660156\" xlink:href=\"#DejaVuSans-50\"/>\r\n       <use x=\"390.283203\" xlink:href=\"#DejaVuSans-48\"/>\r\n       <use x=\"453.90625\" xlink:href=\"#DejaVuSans-49\"/>\r\n       <use x=\"517.529297\" xlink:href=\"#DejaVuSans-57\"/>\r\n      </g>\r\n     </g>\r\n    </g>\r\n    <g id=\"xtick_63\">\r\n     <g id=\"line2d_63\">\r\n      <g>\r\n       <use style=\"stroke:#000000;stroke-width:0.8;\" x=\"440.743223\" xlink:href=\"#m44c98f0f23\" y=\"550.8\"/>\r\n      </g>\r\n     </g>\r\n     <g id=\"text_63\">\r\n      <!-- 08-03-2019 -->\r\n      <g transform=\"translate(442.12291 586.857813)rotate(-90)scale(0.05 -0.05)\">\r\n       <use xlink:href=\"#DejaVuSans-48\"/>\r\n       <use x=\"63.623047\" xlink:href=\"#DejaVuSans-56\"/>\r\n       <use x=\"127.246094\" xlink:href=\"#DejaVuSans-45\"/>\r\n       <use x=\"163.330078\" xlink:href=\"#DejaVuSans-48\"/>\r\n       <use x=\"226.953125\" xlink:href=\"#DejaVuSans-51\"/>\r\n       <use x=\"290.576172\" xlink:href=\"#DejaVuSans-45\"/>\r\n       <use x=\"326.660156\" xlink:href=\"#DejaVuSans-50\"/>\r\n       <use x=\"390.283203\" xlink:href=\"#DejaVuSans-48\"/>\r\n       <use x=\"453.90625\" xlink:href=\"#DejaVuSans-49\"/>\r\n       <use x=\"517.529297\" xlink:href=\"#DejaVuSans-57\"/>\r\n      </g>\r\n     </g>\r\n    </g>\r\n    <g id=\"xtick_64\">\r\n     <g id=\"line2d_64\">\r\n      <g>\r\n       <use style=\"stroke:#000000;stroke-width:0.8;\" x=\"447.466114\" xlink:href=\"#m44c98f0f23\" y=\"550.8\"/>\r\n      </g>\r\n     </g>\r\n     <g id=\"text_64\">\r\n      <!-- 09-03-2019 -->\r\n      <g transform=\"translate(448.845802 586.857813)rotate(-90)scale(0.05 -0.05)\">\r\n       <use xlink:href=\"#DejaVuSans-48\"/>\r\n       <use x=\"63.623047\" xlink:href=\"#DejaVuSans-57\"/>\r\n       <use x=\"127.246094\" xlink:href=\"#DejaVuSans-45\"/>\r\n       <use x=\"163.330078\" xlink:href=\"#DejaVuSans-48\"/>\r\n       <use x=\"226.953125\" xlink:href=\"#DejaVuSans-51\"/>\r\n       <use x=\"290.576172\" xlink:href=\"#DejaVuSans-45\"/>\r\n       <use x=\"326.660156\" xlink:href=\"#DejaVuSans-50\"/>\r\n       <use x=\"390.283203\" xlink:href=\"#DejaVuSans-48\"/>\r\n       <use x=\"453.90625\" xlink:href=\"#DejaVuSans-49\"/>\r\n       <use x=\"517.529297\" xlink:href=\"#DejaVuSans-57\"/>\r\n      </g>\r\n     </g>\r\n    </g>\r\n    <g id=\"xtick_65\">\r\n     <g id=\"line2d_65\">\r\n      <g>\r\n       <use style=\"stroke:#000000;stroke-width:0.8;\" x=\"454.189006\" xlink:href=\"#m44c98f0f23\" y=\"550.8\"/>\r\n      </g>\r\n     </g>\r\n     <g id=\"text_65\">\r\n      <!-- 10-03-2019 -->\r\n      <g transform=\"translate(455.568694 586.857813)rotate(-90)scale(0.05 -0.05)\">\r\n       <use xlink:href=\"#DejaVuSans-49\"/>\r\n       <use x=\"63.623047\" xlink:href=\"#DejaVuSans-48\"/>\r\n       <use x=\"127.246094\" xlink:href=\"#DejaVuSans-45\"/>\r\n       <use x=\"163.330078\" xlink:href=\"#DejaVuSans-48\"/>\r\n       <use x=\"226.953125\" xlink:href=\"#DejaVuSans-51\"/>\r\n       <use x=\"290.576172\" xlink:href=\"#DejaVuSans-45\"/>\r\n       <use x=\"326.660156\" xlink:href=\"#DejaVuSans-50\"/>\r\n       <use x=\"390.283203\" xlink:href=\"#DejaVuSans-48\"/>\r\n       <use x=\"453.90625\" xlink:href=\"#DejaVuSans-49\"/>\r\n       <use x=\"517.529297\" xlink:href=\"#DejaVuSans-57\"/>\r\n      </g>\r\n     </g>\r\n    </g>\r\n    <g id=\"xtick_66\">\r\n     <g id=\"line2d_66\">\r\n      <g>\r\n       <use style=\"stroke:#000000;stroke-width:0.8;\" x=\"460.911898\" xlink:href=\"#m44c98f0f23\" y=\"550.8\"/>\r\n      </g>\r\n     </g>\r\n     <g id=\"text_66\">\r\n      <!-- 11-03-2019 -->\r\n      <g transform=\"translate(462.291585 586.857813)rotate(-90)scale(0.05 -0.05)\">\r\n       <use xlink:href=\"#DejaVuSans-49\"/>\r\n       <use x=\"63.623047\" xlink:href=\"#DejaVuSans-49\"/>\r\n       <use x=\"127.246094\" xlink:href=\"#DejaVuSans-45\"/>\r\n       <use x=\"163.330078\" xlink:href=\"#DejaVuSans-48\"/>\r\n       <use x=\"226.953125\" xlink:href=\"#DejaVuSans-51\"/>\r\n       <use x=\"290.576172\" xlink:href=\"#DejaVuSans-45\"/>\r\n       <use x=\"326.660156\" xlink:href=\"#DejaVuSans-50\"/>\r\n       <use x=\"390.283203\" xlink:href=\"#DejaVuSans-48\"/>\r\n       <use x=\"453.90625\" xlink:href=\"#DejaVuSans-49\"/>\r\n       <use x=\"517.529297\" xlink:href=\"#DejaVuSans-57\"/>\r\n      </g>\r\n     </g>\r\n    </g>\r\n    <g id=\"xtick_67\">\r\n     <g id=\"line2d_67\">\r\n      <g>\r\n       <use style=\"stroke:#000000;stroke-width:0.8;\" x=\"467.634789\" xlink:href=\"#m44c98f0f23\" y=\"550.8\"/>\r\n      </g>\r\n     </g>\r\n     <g id=\"text_67\">\r\n      <!-- 12-03-2019 -->\r\n      <g transform=\"translate(469.014477 586.857813)rotate(-90)scale(0.05 -0.05)\">\r\n       <use xlink:href=\"#DejaVuSans-49\"/>\r\n       <use x=\"63.623047\" xlink:href=\"#DejaVuSans-50\"/>\r\n       <use x=\"127.246094\" xlink:href=\"#DejaVuSans-45\"/>\r\n       <use x=\"163.330078\" xlink:href=\"#DejaVuSans-48\"/>\r\n       <use x=\"226.953125\" xlink:href=\"#DejaVuSans-51\"/>\r\n       <use x=\"290.576172\" xlink:href=\"#DejaVuSans-45\"/>\r\n       <use x=\"326.660156\" xlink:href=\"#DejaVuSans-50\"/>\r\n       <use x=\"390.283203\" xlink:href=\"#DejaVuSans-48\"/>\r\n       <use x=\"453.90625\" xlink:href=\"#DejaVuSans-49\"/>\r\n       <use x=\"517.529297\" xlink:href=\"#DejaVuSans-57\"/>\r\n      </g>\r\n     </g>\r\n    </g>\r\n    <g id=\"xtick_68\">\r\n     <g id=\"line2d_68\">\r\n      <g>\r\n       <use style=\"stroke:#000000;stroke-width:0.8;\" x=\"474.357681\" xlink:href=\"#m44c98f0f23\" y=\"550.8\"/>\r\n      </g>\r\n     </g>\r\n     <g id=\"text_68\">\r\n      <!-- 13-03-2019 -->\r\n      <g transform=\"translate(475.737368 586.857813)rotate(-90)scale(0.05 -0.05)\">\r\n       <use xlink:href=\"#DejaVuSans-49\"/>\r\n       <use x=\"63.623047\" xlink:href=\"#DejaVuSans-51\"/>\r\n       <use x=\"127.246094\" xlink:href=\"#DejaVuSans-45\"/>\r\n       <use x=\"163.330078\" xlink:href=\"#DejaVuSans-48\"/>\r\n       <use x=\"226.953125\" xlink:href=\"#DejaVuSans-51\"/>\r\n       <use x=\"290.576172\" xlink:href=\"#DejaVuSans-45\"/>\r\n       <use x=\"326.660156\" xlink:href=\"#DejaVuSans-50\"/>\r\n       <use x=\"390.283203\" xlink:href=\"#DejaVuSans-48\"/>\r\n       <use x=\"453.90625\" xlink:href=\"#DejaVuSans-49\"/>\r\n       <use x=\"517.529297\" xlink:href=\"#DejaVuSans-57\"/>\r\n      </g>\r\n     </g>\r\n    </g>\r\n    <g id=\"xtick_69\">\r\n     <g id=\"line2d_69\">\r\n      <g>\r\n       <use style=\"stroke:#000000;stroke-width:0.8;\" x=\"481.080572\" xlink:href=\"#m44c98f0f23\" y=\"550.8\"/>\r\n      </g>\r\n     </g>\r\n     <g id=\"text_69\">\r\n      <!-- 14-03-2019 -->\r\n      <g transform=\"translate(482.46026 586.857813)rotate(-90)scale(0.05 -0.05)\">\r\n       <use xlink:href=\"#DejaVuSans-49\"/>\r\n       <use x=\"63.623047\" xlink:href=\"#DejaVuSans-52\"/>\r\n       <use x=\"127.246094\" xlink:href=\"#DejaVuSans-45\"/>\r\n       <use x=\"163.330078\" xlink:href=\"#DejaVuSans-48\"/>\r\n       <use x=\"226.953125\" xlink:href=\"#DejaVuSans-51\"/>\r\n       <use x=\"290.576172\" xlink:href=\"#DejaVuSans-45\"/>\r\n       <use x=\"326.660156\" xlink:href=\"#DejaVuSans-50\"/>\r\n       <use x=\"390.283203\" xlink:href=\"#DejaVuSans-48\"/>\r\n       <use x=\"453.90625\" xlink:href=\"#DejaVuSans-49\"/>\r\n       <use x=\"517.529297\" xlink:href=\"#DejaVuSans-57\"/>\r\n      </g>\r\n     </g>\r\n    </g>\r\n    <g id=\"xtick_70\">\r\n     <g id=\"line2d_70\">\r\n      <g>\r\n       <use style=\"stroke:#000000;stroke-width:0.8;\" x=\"487.803464\" xlink:href=\"#m44c98f0f23\" y=\"550.8\"/>\r\n      </g>\r\n     </g>\r\n     <g id=\"text_70\">\r\n      <!-- 15-03-2019 -->\r\n      <g transform=\"translate(489.183151 586.857813)rotate(-90)scale(0.05 -0.05)\">\r\n       <use xlink:href=\"#DejaVuSans-49\"/>\r\n       <use x=\"63.623047\" xlink:href=\"#DejaVuSans-53\"/>\r\n       <use x=\"127.246094\" xlink:href=\"#DejaVuSans-45\"/>\r\n       <use x=\"163.330078\" xlink:href=\"#DejaVuSans-48\"/>\r\n       <use x=\"226.953125\" xlink:href=\"#DejaVuSans-51\"/>\r\n       <use x=\"290.576172\" xlink:href=\"#DejaVuSans-45\"/>\r\n       <use x=\"326.660156\" xlink:href=\"#DejaVuSans-50\"/>\r\n       <use x=\"390.283203\" xlink:href=\"#DejaVuSans-48\"/>\r\n       <use x=\"453.90625\" xlink:href=\"#DejaVuSans-49\"/>\r\n       <use x=\"517.529297\" xlink:href=\"#DejaVuSans-57\"/>\r\n      </g>\r\n     </g>\r\n    </g>\r\n    <g id=\"xtick_71\">\r\n     <g id=\"line2d_71\">\r\n      <g>\r\n       <use style=\"stroke:#000000;stroke-width:0.8;\" x=\"494.526355\" xlink:href=\"#m44c98f0f23\" y=\"550.8\"/>\r\n      </g>\r\n     </g>\r\n     <g id=\"text_71\">\r\n      <!-- 16-03-2019 -->\r\n      <g transform=\"translate(495.906043 586.857813)rotate(-90)scale(0.05 -0.05)\">\r\n       <use xlink:href=\"#DejaVuSans-49\"/>\r\n       <use x=\"63.623047\" xlink:href=\"#DejaVuSans-54\"/>\r\n       <use x=\"127.246094\" xlink:href=\"#DejaVuSans-45\"/>\r\n       <use x=\"163.330078\" xlink:href=\"#DejaVuSans-48\"/>\r\n       <use x=\"226.953125\" xlink:href=\"#DejaVuSans-51\"/>\r\n       <use x=\"290.576172\" xlink:href=\"#DejaVuSans-45\"/>\r\n       <use x=\"326.660156\" xlink:href=\"#DejaVuSans-50\"/>\r\n       <use x=\"390.283203\" xlink:href=\"#DejaVuSans-48\"/>\r\n       <use x=\"453.90625\" xlink:href=\"#DejaVuSans-49\"/>\r\n       <use x=\"517.529297\" xlink:href=\"#DejaVuSans-57\"/>\r\n      </g>\r\n     </g>\r\n    </g>\r\n    <g id=\"xtick_72\">\r\n     <g id=\"line2d_72\">\r\n      <g>\r\n       <use style=\"stroke:#000000;stroke-width:0.8;\" x=\"501.249247\" xlink:href=\"#m44c98f0f23\" y=\"550.8\"/>\r\n      </g>\r\n     </g>\r\n     <g id=\"text_72\">\r\n      <!-- 17-03-2019 -->\r\n      <g transform=\"translate(502.628934 586.857813)rotate(-90)scale(0.05 -0.05)\">\r\n       <use xlink:href=\"#DejaVuSans-49\"/>\r\n       <use x=\"63.623047\" xlink:href=\"#DejaVuSans-55\"/>\r\n       <use x=\"127.246094\" xlink:href=\"#DejaVuSans-45\"/>\r\n       <use x=\"163.330078\" xlink:href=\"#DejaVuSans-48\"/>\r\n       <use x=\"226.953125\" xlink:href=\"#DejaVuSans-51\"/>\r\n       <use x=\"290.576172\" xlink:href=\"#DejaVuSans-45\"/>\r\n       <use x=\"326.660156\" xlink:href=\"#DejaVuSans-50\"/>\r\n       <use x=\"390.283203\" xlink:href=\"#DejaVuSans-48\"/>\r\n       <use x=\"453.90625\" xlink:href=\"#DejaVuSans-49\"/>\r\n       <use x=\"517.529297\" xlink:href=\"#DejaVuSans-57\"/>\r\n      </g>\r\n     </g>\r\n    </g>\r\n    <g id=\"xtick_73\">\r\n     <g id=\"line2d_73\">\r\n      <g>\r\n       <use style=\"stroke:#000000;stroke-width:0.8;\" x=\"507.972139\" xlink:href=\"#m44c98f0f23\" y=\"550.8\"/>\r\n      </g>\r\n     </g>\r\n     <g id=\"text_73\">\r\n      <!-- 19-03-2019 -->\r\n      <g transform=\"translate(509.351826 586.857813)rotate(-90)scale(0.05 -0.05)\">\r\n       <use xlink:href=\"#DejaVuSans-49\"/>\r\n       <use x=\"63.623047\" xlink:href=\"#DejaVuSans-57\"/>\r\n       <use x=\"127.246094\" xlink:href=\"#DejaVuSans-45\"/>\r\n       <use x=\"163.330078\" xlink:href=\"#DejaVuSans-48\"/>\r\n       <use x=\"226.953125\" xlink:href=\"#DejaVuSans-51\"/>\r\n       <use x=\"290.576172\" xlink:href=\"#DejaVuSans-45\"/>\r\n       <use x=\"326.660156\" xlink:href=\"#DejaVuSans-50\"/>\r\n       <use x=\"390.283203\" xlink:href=\"#DejaVuSans-48\"/>\r\n       <use x=\"453.90625\" xlink:href=\"#DejaVuSans-49\"/>\r\n       <use x=\"517.529297\" xlink:href=\"#DejaVuSans-57\"/>\r\n      </g>\r\n     </g>\r\n    </g>\r\n    <g id=\"xtick_74\">\r\n     <g id=\"line2d_74\">\r\n      <g>\r\n       <use style=\"stroke:#000000;stroke-width:0.8;\" x=\"514.69503\" xlink:href=\"#m44c98f0f23\" y=\"550.8\"/>\r\n      </g>\r\n     </g>\r\n     <g id=\"text_74\">\r\n      <!-- 20-03-2019 -->\r\n      <g transform=\"translate(516.074718 586.857813)rotate(-90)scale(0.05 -0.05)\">\r\n       <use xlink:href=\"#DejaVuSans-50\"/>\r\n       <use x=\"63.623047\" xlink:href=\"#DejaVuSans-48\"/>\r\n       <use x=\"127.246094\" xlink:href=\"#DejaVuSans-45\"/>\r\n       <use x=\"163.330078\" xlink:href=\"#DejaVuSans-48\"/>\r\n       <use x=\"226.953125\" xlink:href=\"#DejaVuSans-51\"/>\r\n       <use x=\"290.576172\" xlink:href=\"#DejaVuSans-45\"/>\r\n       <use x=\"326.660156\" xlink:href=\"#DejaVuSans-50\"/>\r\n       <use x=\"390.283203\" xlink:href=\"#DejaVuSans-48\"/>\r\n       <use x=\"453.90625\" xlink:href=\"#DejaVuSans-49\"/>\r\n       <use x=\"517.529297\" xlink:href=\"#DejaVuSans-57\"/>\r\n      </g>\r\n     </g>\r\n    </g>\r\n    <g id=\"xtick_75\">\r\n     <g id=\"line2d_75\">\r\n      <g>\r\n       <use style=\"stroke:#000000;stroke-width:0.8;\" x=\"521.417922\" xlink:href=\"#m44c98f0f23\" y=\"550.8\"/>\r\n      </g>\r\n     </g>\r\n     <g id=\"text_75\">\r\n      <!-- 21-03-2019 -->\r\n      <g transform=\"translate(522.797609 586.857813)rotate(-90)scale(0.05 -0.05)\">\r\n       <use xlink:href=\"#DejaVuSans-50\"/>\r\n       <use x=\"63.623047\" xlink:href=\"#DejaVuSans-49\"/>\r\n       <use x=\"127.246094\" xlink:href=\"#DejaVuSans-45\"/>\r\n       <use x=\"163.330078\" xlink:href=\"#DejaVuSans-48\"/>\r\n       <use x=\"226.953125\" xlink:href=\"#DejaVuSans-51\"/>\r\n       <use x=\"290.576172\" xlink:href=\"#DejaVuSans-45\"/>\r\n       <use x=\"326.660156\" xlink:href=\"#DejaVuSans-50\"/>\r\n       <use x=\"390.283203\" xlink:href=\"#DejaVuSans-48\"/>\r\n       <use x=\"453.90625\" xlink:href=\"#DejaVuSans-49\"/>\r\n       <use x=\"517.529297\" xlink:href=\"#DejaVuSans-57\"/>\r\n      </g>\r\n     </g>\r\n    </g>\r\n    <g id=\"xtick_76\">\r\n     <g id=\"line2d_76\">\r\n      <g>\r\n       <use style=\"stroke:#000000;stroke-width:0.8;\" x=\"528.140813\" xlink:href=\"#m44c98f0f23\" y=\"550.8\"/>\r\n      </g>\r\n     </g>\r\n     <g id=\"text_76\">\r\n      <!-- 22-03-2019 -->\r\n      <g transform=\"translate(529.520501 586.857813)rotate(-90)scale(0.05 -0.05)\">\r\n       <use xlink:href=\"#DejaVuSans-50\"/>\r\n       <use x=\"63.623047\" xlink:href=\"#DejaVuSans-50\"/>\r\n       <use x=\"127.246094\" xlink:href=\"#DejaVuSans-45\"/>\r\n       <use x=\"163.330078\" xlink:href=\"#DejaVuSans-48\"/>\r\n       <use x=\"226.953125\" xlink:href=\"#DejaVuSans-51\"/>\r\n       <use x=\"290.576172\" xlink:href=\"#DejaVuSans-45\"/>\r\n       <use x=\"326.660156\" xlink:href=\"#DejaVuSans-50\"/>\r\n       <use x=\"390.283203\" xlink:href=\"#DejaVuSans-48\"/>\r\n       <use x=\"453.90625\" xlink:href=\"#DejaVuSans-49\"/>\r\n       <use x=\"517.529297\" xlink:href=\"#DejaVuSans-57\"/>\r\n      </g>\r\n     </g>\r\n    </g>\r\n    <g id=\"xtick_77\">\r\n     <g id=\"line2d_77\">\r\n      <g>\r\n       <use style=\"stroke:#000000;stroke-width:0.8;\" x=\"534.863705\" xlink:href=\"#m44c98f0f23\" y=\"550.8\"/>\r\n      </g>\r\n     </g>\r\n     <g id=\"text_77\">\r\n      <!-- 23-03-2019 -->\r\n      <g transform=\"translate(536.243392 586.857813)rotate(-90)scale(0.05 -0.05)\">\r\n       <use xlink:href=\"#DejaVuSans-50\"/>\r\n       <use x=\"63.623047\" xlink:href=\"#DejaVuSans-51\"/>\r\n       <use x=\"127.246094\" xlink:href=\"#DejaVuSans-45\"/>\r\n       <use x=\"163.330078\" xlink:href=\"#DejaVuSans-48\"/>\r\n       <use x=\"226.953125\" xlink:href=\"#DejaVuSans-51\"/>\r\n       <use x=\"290.576172\" xlink:href=\"#DejaVuSans-45\"/>\r\n       <use x=\"326.660156\" xlink:href=\"#DejaVuSans-50\"/>\r\n       <use x=\"390.283203\" xlink:href=\"#DejaVuSans-48\"/>\r\n       <use x=\"453.90625\" xlink:href=\"#DejaVuSans-49\"/>\r\n       <use x=\"517.529297\" xlink:href=\"#DejaVuSans-57\"/>\r\n      </g>\r\n     </g>\r\n    </g>\r\n    <g id=\"xtick_78\">\r\n     <g id=\"line2d_78\">\r\n      <g>\r\n       <use style=\"stroke:#000000;stroke-width:0.8;\" x=\"541.586596\" xlink:href=\"#m44c98f0f23\" y=\"550.8\"/>\r\n      </g>\r\n     </g>\r\n     <g id=\"text_78\">\r\n      <!-- 25-03-2019 -->\r\n      <g transform=\"translate(542.966284 586.857813)rotate(-90)scale(0.05 -0.05)\">\r\n       <use xlink:href=\"#DejaVuSans-50\"/>\r\n       <use x=\"63.623047\" xlink:href=\"#DejaVuSans-53\"/>\r\n       <use x=\"127.246094\" xlink:href=\"#DejaVuSans-45\"/>\r\n       <use x=\"163.330078\" xlink:href=\"#DejaVuSans-48\"/>\r\n       <use x=\"226.953125\" xlink:href=\"#DejaVuSans-51\"/>\r\n       <use x=\"290.576172\" xlink:href=\"#DejaVuSans-45\"/>\r\n       <use x=\"326.660156\" xlink:href=\"#DejaVuSans-50\"/>\r\n       <use x=\"390.283203\" xlink:href=\"#DejaVuSans-48\"/>\r\n       <use x=\"453.90625\" xlink:href=\"#DejaVuSans-49\"/>\r\n       <use x=\"517.529297\" xlink:href=\"#DejaVuSans-57\"/>\r\n      </g>\r\n     </g>\r\n    </g>\r\n    <g id=\"xtick_79\">\r\n     <g id=\"line2d_79\">\r\n      <g>\r\n       <use style=\"stroke:#000000;stroke-width:0.8;\" x=\"548.309488\" xlink:href=\"#m44c98f0f23\" y=\"550.8\"/>\r\n      </g>\r\n     </g>\r\n     <g id=\"text_79\">\r\n      <!-- 26-03-2019 -->\r\n      <g transform=\"translate(549.689175 586.857813)rotate(-90)scale(0.05 -0.05)\">\r\n       <use xlink:href=\"#DejaVuSans-50\"/>\r\n       <use x=\"63.623047\" xlink:href=\"#DejaVuSans-54\"/>\r\n       <use x=\"127.246094\" xlink:href=\"#DejaVuSans-45\"/>\r\n       <use x=\"163.330078\" xlink:href=\"#DejaVuSans-48\"/>\r\n       <use x=\"226.953125\" xlink:href=\"#DejaVuSans-51\"/>\r\n       <use x=\"290.576172\" xlink:href=\"#DejaVuSans-45\"/>\r\n       <use x=\"326.660156\" xlink:href=\"#DejaVuSans-50\"/>\r\n       <use x=\"390.283203\" xlink:href=\"#DejaVuSans-48\"/>\r\n       <use x=\"453.90625\" xlink:href=\"#DejaVuSans-49\"/>\r\n       <use x=\"517.529297\" xlink:href=\"#DejaVuSans-57\"/>\r\n      </g>\r\n     </g>\r\n    </g>\r\n    <g id=\"xtick_80\">\r\n     <g id=\"line2d_80\">\r\n      <g>\r\n       <use style=\"stroke:#000000;stroke-width:0.8;\" x=\"555.03238\" xlink:href=\"#m44c98f0f23\" y=\"550.8\"/>\r\n      </g>\r\n     </g>\r\n     <g id=\"text_80\">\r\n      <!-- 27-03-2019 -->\r\n      <g transform=\"translate(556.412067 586.857813)rotate(-90)scale(0.05 -0.05)\">\r\n       <use xlink:href=\"#DejaVuSans-50\"/>\r\n       <use x=\"63.623047\" xlink:href=\"#DejaVuSans-55\"/>\r\n       <use x=\"127.246094\" xlink:href=\"#DejaVuSans-45\"/>\r\n       <use x=\"163.330078\" xlink:href=\"#DejaVuSans-48\"/>\r\n       <use x=\"226.953125\" xlink:href=\"#DejaVuSans-51\"/>\r\n       <use x=\"290.576172\" xlink:href=\"#DejaVuSans-45\"/>\r\n       <use x=\"326.660156\" xlink:href=\"#DejaVuSans-50\"/>\r\n       <use x=\"390.283203\" xlink:href=\"#DejaVuSans-48\"/>\r\n       <use x=\"453.90625\" xlink:href=\"#DejaVuSans-49\"/>\r\n       <use x=\"517.529297\" xlink:href=\"#DejaVuSans-57\"/>\r\n      </g>\r\n     </g>\r\n    </g>\r\n    <g id=\"xtick_81\">\r\n     <g id=\"line2d_81\">\r\n      <g>\r\n       <use style=\"stroke:#000000;stroke-width:0.8;\" x=\"561.755271\" xlink:href=\"#m44c98f0f23\" y=\"550.8\"/>\r\n      </g>\r\n     </g>\r\n     <g id=\"text_81\">\r\n      <!-- 28-03-2019 -->\r\n      <g transform=\"translate(563.134959 586.857813)rotate(-90)scale(0.05 -0.05)\">\r\n       <use xlink:href=\"#DejaVuSans-50\"/>\r\n       <use x=\"63.623047\" xlink:href=\"#DejaVuSans-56\"/>\r\n       <use x=\"127.246094\" xlink:href=\"#DejaVuSans-45\"/>\r\n       <use x=\"163.330078\" xlink:href=\"#DejaVuSans-48\"/>\r\n       <use x=\"226.953125\" xlink:href=\"#DejaVuSans-51\"/>\r\n       <use x=\"290.576172\" xlink:href=\"#DejaVuSans-45\"/>\r\n       <use x=\"326.660156\" xlink:href=\"#DejaVuSans-50\"/>\r\n       <use x=\"390.283203\" xlink:href=\"#DejaVuSans-48\"/>\r\n       <use x=\"453.90625\" xlink:href=\"#DejaVuSans-49\"/>\r\n       <use x=\"517.529297\" xlink:href=\"#DejaVuSans-57\"/>\r\n      </g>\r\n     </g>\r\n    </g>\r\n    <g id=\"xtick_82\">\r\n     <g id=\"line2d_82\">\r\n      <g>\r\n       <use style=\"stroke:#000000;stroke-width:0.8;\" x=\"568.478163\" xlink:href=\"#m44c98f0f23\" y=\"550.8\"/>\r\n      </g>\r\n     </g>\r\n     <g id=\"text_82\">\r\n      <!-- 30-03-2019 -->\r\n      <g transform=\"translate(569.85785 586.857813)rotate(-90)scale(0.05 -0.05)\">\r\n       <use xlink:href=\"#DejaVuSans-51\"/>\r\n       <use x=\"63.623047\" xlink:href=\"#DejaVuSans-48\"/>\r\n       <use x=\"127.246094\" xlink:href=\"#DejaVuSans-45\"/>\r\n       <use x=\"163.330078\" xlink:href=\"#DejaVuSans-48\"/>\r\n       <use x=\"226.953125\" xlink:href=\"#DejaVuSans-51\"/>\r\n       <use x=\"290.576172\" xlink:href=\"#DejaVuSans-45\"/>\r\n       <use x=\"326.660156\" xlink:href=\"#DejaVuSans-50\"/>\r\n       <use x=\"390.283203\" xlink:href=\"#DejaVuSans-48\"/>\r\n       <use x=\"453.90625\" xlink:href=\"#DejaVuSans-49\"/>\r\n       <use x=\"517.529297\" xlink:href=\"#DejaVuSans-57\"/>\r\n      </g>\r\n     </g>\r\n    </g>\r\n    <g id=\"xtick_83\">\r\n     <g id=\"line2d_83\">\r\n      <g>\r\n       <use style=\"stroke:#000000;stroke-width:0.8;\" x=\"575.201054\" xlink:href=\"#m44c98f0f23\" y=\"550.8\"/>\r\n      </g>\r\n     </g>\r\n     <g id=\"text_83\">\r\n      <!-- 31-03-2019 -->\r\n      <g transform=\"translate(576.580742 586.857813)rotate(-90)scale(0.05 -0.05)\">\r\n       <use xlink:href=\"#DejaVuSans-51\"/>\r\n       <use x=\"63.623047\" xlink:href=\"#DejaVuSans-49\"/>\r\n       <use x=\"127.246094\" xlink:href=\"#DejaVuSans-45\"/>\r\n       <use x=\"163.330078\" xlink:href=\"#DejaVuSans-48\"/>\r\n       <use x=\"226.953125\" xlink:href=\"#DejaVuSans-51\"/>\r\n       <use x=\"290.576172\" xlink:href=\"#DejaVuSans-45\"/>\r\n       <use x=\"326.660156\" xlink:href=\"#DejaVuSans-50\"/>\r\n       <use x=\"390.283203\" xlink:href=\"#DejaVuSans-48\"/>\r\n       <use x=\"453.90625\" xlink:href=\"#DejaVuSans-49\"/>\r\n       <use x=\"517.529297\" xlink:href=\"#DejaVuSans-57\"/>\r\n      </g>\r\n     </g>\r\n    </g>\r\n    <g id=\"text_84\">\r\n     <!-- date -->\r\n     <g transform=\"translate(288.2875 598.45625)scale(0.1 -0.1)\">\r\n      <defs>\r\n       <path d=\"M 45.40625 46.390625 \r\nL 45.40625 75.984375 \r\nL 54.390625 75.984375 \r\nL 54.390625 0 \r\nL 45.40625 0 \r\nL 45.40625 8.203125 \r\nQ 42.578125 3.328125 38.25 0.953125 \r\nQ 33.9375 -1.421875 27.875 -1.421875 \r\nQ 17.96875 -1.421875 11.734375 6.484375 \r\nQ 5.515625 14.40625 5.515625 27.296875 \r\nQ 5.515625 40.1875 11.734375 48.09375 \r\nQ 17.96875 56 27.875 56 \r\nQ 33.9375 56 38.25 53.625 \r\nQ 42.578125 51.265625 45.40625 46.390625 \r\nz\r\nM 14.796875 27.296875 \r\nQ 14.796875 17.390625 18.875 11.75 \r\nQ 22.953125 6.109375 30.078125 6.109375 \r\nQ 37.203125 6.109375 41.296875 11.75 \r\nQ 45.40625 17.390625 45.40625 27.296875 \r\nQ 45.40625 37.203125 41.296875 42.84375 \r\nQ 37.203125 48.484375 30.078125 48.484375 \r\nQ 22.953125 48.484375 18.875 42.84375 \r\nQ 14.796875 37.203125 14.796875 27.296875 \r\nz\r\n\" id=\"DejaVuSans-100\"/>\r\n       <path d=\"M 34.28125 27.484375 \r\nQ 23.390625 27.484375 19.1875 25 \r\nQ 14.984375 22.515625 14.984375 16.5 \r\nQ 14.984375 11.71875 18.140625 8.90625 \r\nQ 21.296875 6.109375 26.703125 6.109375 \r\nQ 34.1875 6.109375 38.703125 11.40625 \r\nQ 43.21875 16.703125 43.21875 25.484375 \r\nL 43.21875 27.484375 \r\nz\r\nM 52.203125 31.203125 \r\nL 52.203125 0 \r\nL 43.21875 0 \r\nL 43.21875 8.296875 \r\nQ 40.140625 3.328125 35.546875 0.953125 \r\nQ 30.953125 -1.421875 24.3125 -1.421875 \r\nQ 15.921875 -1.421875 10.953125 3.296875 \r\nQ 6 8.015625 6 15.921875 \r\nQ 6 25.140625 12.171875 29.828125 \r\nQ 18.359375 34.515625 30.609375 34.515625 \r\nL 43.21875 34.515625 \r\nL 43.21875 35.40625 \r\nQ 43.21875 41.609375 39.140625 45 \r\nQ 35.0625 48.390625 27.6875 48.390625 \r\nQ 23 48.390625 18.546875 47.265625 \r\nQ 14.109375 46.140625 10.015625 43.890625 \r\nL 10.015625 52.203125 \r\nQ 14.9375 54.109375 19.578125 55.046875 \r\nQ 24.21875 56 28.609375 56 \r\nQ 40.484375 56 46.34375 49.84375 \r\nQ 52.203125 43.703125 52.203125 31.203125 \r\nz\r\n\" id=\"DejaVuSans-97\"/>\r\n       <path d=\"M 18.3125 70.21875 \r\nL 18.3125 54.6875 \r\nL 36.8125 54.6875 \r\nL 36.8125 47.703125 \r\nL 18.3125 47.703125 \r\nL 18.3125 18.015625 \r\nQ 18.3125 11.328125 20.140625 9.421875 \r\nQ 21.96875 7.515625 27.59375 7.515625 \r\nL 36.8125 7.515625 \r\nL 36.8125 0 \r\nL 27.59375 0 \r\nQ 17.1875 0 13.234375 3.875 \r\nQ 9.28125 7.765625 9.28125 18.015625 \r\nL 9.28125 47.703125 \r\nL 2.6875 47.703125 \r\nL 2.6875 54.6875 \r\nL 9.28125 54.6875 \r\nL 9.28125 70.21875 \r\nz\r\n\" id=\"DejaVuSans-116\"/>\r\n       <path d=\"M 56.203125 29.59375 \r\nL 56.203125 25.203125 \r\nL 14.890625 25.203125 \r\nQ 15.484375 15.921875 20.484375 11.0625 \r\nQ 25.484375 6.203125 34.421875 6.203125 \r\nQ 39.59375 6.203125 44.453125 7.46875 \r\nQ 49.3125 8.734375 54.109375 11.28125 \r\nL 54.109375 2.78125 \r\nQ 49.265625 0.734375 44.1875 -0.34375 \r\nQ 39.109375 -1.421875 33.890625 -1.421875 \r\nQ 20.796875 -1.421875 13.15625 6.1875 \r\nQ 5.515625 13.8125 5.515625 26.8125 \r\nQ 5.515625 40.234375 12.765625 48.109375 \r\nQ 20.015625 56 32.328125 56 \r\nQ 43.359375 56 49.78125 48.890625 \r\nQ 56.203125 41.796875 56.203125 29.59375 \r\nz\r\nM 47.21875 32.234375 \r\nQ 47.125 39.59375 43.09375 43.984375 \r\nQ 39.0625 48.390625 32.421875 48.390625 \r\nQ 24.90625 48.390625 20.390625 44.140625 \r\nQ 15.875 39.890625 15.1875 32.171875 \r\nz\r\n\" id=\"DejaVuSans-101\"/>\r\n      </defs>\r\n      <use xlink:href=\"#DejaVuSans-100\"/>\r\n      <use x=\"63.476562\" xlink:href=\"#DejaVuSans-97\"/>\r\n      <use x=\"124.755859\" xlink:href=\"#DejaVuSans-116\"/>\r\n      <use x=\"163.964844\" xlink:href=\"#DejaVuSans-101\"/>\r\n     </g>\r\n    </g>\r\n   </g>\r\n   <g id=\"matplotlib.axis_2\">\r\n    <g id=\"ytick_1\">\r\n     <g id=\"line2d_84\">\r\n      <defs>\r\n       <path d=\"M 0 0 \r\nL -3.5 0 \r\n\" id=\"mcdc2b5c625\" style=\"stroke:#000000;stroke-width:0.8;\"/>\r\n      </defs>\r\n      <g>\r\n       <use style=\"stroke:#000000;stroke-width:0.8;\" x=\"20.5625\" xlink:href=\"#mcdc2b5c625\" y=\"550.8\"/>\r\n      </g>\r\n     </g>\r\n     <g id=\"text_85\">\r\n      <!-- 0 -->\r\n      <g transform=\"translate(10.38125 552.699609)scale(0.05 -0.05)\">\r\n       <use xlink:href=\"#DejaVuSans-48\"/>\r\n      </g>\r\n     </g>\r\n    </g>\r\n    <g id=\"ytick_2\">\r\n     <g id=\"line2d_85\">\r\n      <g>\r\n       <use style=\"stroke:#000000;stroke-width:0.8;\" x=\"20.5625\" xlink:href=\"#mcdc2b5c625\" y=\"451.23956\"/>\r\n      </g>\r\n     </g>\r\n     <g id=\"text_86\">\r\n      <!-- 5 -->\r\n      <g transform=\"translate(10.38125 453.13917)scale(0.05 -0.05)\">\r\n       <use xlink:href=\"#DejaVuSans-53\"/>\r\n      </g>\r\n     </g>\r\n    </g>\r\n    <g id=\"ytick_3\">\r\n     <g id=\"line2d_86\">\r\n      <g>\r\n       <use style=\"stroke:#000000;stroke-width:0.8;\" x=\"20.5625\" xlink:href=\"#mcdc2b5c625\" y=\"351.679121\"/>\r\n      </g>\r\n     </g>\r\n     <g id=\"text_87\">\r\n      <!-- 10 -->\r\n      <g transform=\"translate(7.2 353.57873)scale(0.05 -0.05)\">\r\n       <use xlink:href=\"#DejaVuSans-49\"/>\r\n       <use x=\"63.623047\" xlink:href=\"#DejaVuSans-48\"/>\r\n      </g>\r\n     </g>\r\n    </g>\r\n    <g id=\"ytick_4\">\r\n     <g id=\"line2d_87\">\r\n      <g>\r\n       <use style=\"stroke:#000000;stroke-width:0.8;\" x=\"20.5625\" xlink:href=\"#mcdc2b5c625\" y=\"252.118681\"/>\r\n      </g>\r\n     </g>\r\n     <g id=\"text_88\">\r\n      <!-- 15 -->\r\n      <g transform=\"translate(7.2 254.018291)scale(0.05 -0.05)\">\r\n       <use xlink:href=\"#DejaVuSans-49\"/>\r\n       <use x=\"63.623047\" xlink:href=\"#DejaVuSans-53\"/>\r\n      </g>\r\n     </g>\r\n    </g>\r\n    <g id=\"ytick_5\">\r\n     <g id=\"line2d_88\">\r\n      <g>\r\n       <use style=\"stroke:#000000;stroke-width:0.8;\" x=\"20.5625\" xlink:href=\"#mcdc2b5c625\" y=\"152.558242\"/>\r\n      </g>\r\n     </g>\r\n     <g id=\"text_89\">\r\n      <!-- 20 -->\r\n      <g transform=\"translate(7.2 154.457851)scale(0.05 -0.05)\">\r\n       <use xlink:href=\"#DejaVuSans-50\"/>\r\n       <use x=\"63.623047\" xlink:href=\"#DejaVuSans-48\"/>\r\n      </g>\r\n     </g>\r\n    </g>\r\n    <g id=\"ytick_6\">\r\n     <g id=\"line2d_89\">\r\n      <g>\r\n       <use style=\"stroke:#000000;stroke-width:0.8;\" x=\"20.5625\" xlink:href=\"#mcdc2b5c625\" y=\"52.997802\"/>\r\n      </g>\r\n     </g>\r\n     <g id=\"text_90\">\r\n      <!-- 25 -->\r\n      <g transform=\"translate(7.2 54.897412)scale(0.05 -0.05)\">\r\n       <use xlink:href=\"#DejaVuSans-50\"/>\r\n       <use x=\"63.623047\" xlink:href=\"#DejaVuSans-53\"/>\r\n      </g>\r\n     </g>\r\n    </g>\r\n   </g>\r\n   <g id=\"patch_86\">\r\n    <path d=\"M 20.5625 550.8 \r\nL 20.5625 7.2 \r\n\" style=\"fill:none;stroke:#000000;stroke-linecap:square;stroke-linejoin:miter;stroke-width:0.8;\"/>\r\n   </g>\r\n   <g id=\"patch_87\">\r\n    <path d=\"M 578.5625 550.8 \r\nL 578.5625 7.2 \r\n\" style=\"fill:none;stroke:#000000;stroke-linecap:square;stroke-linejoin:miter;stroke-width:0.8;\"/>\r\n   </g>\r\n   <g id=\"patch_88\">\r\n    <path d=\"M 20.5625 550.8 \r\nL 578.5625 550.8 \r\n\" style=\"fill:none;stroke:#000000;stroke-linecap:square;stroke-linejoin:miter;stroke-width:0.8;\"/>\r\n   </g>\r\n   <g id=\"patch_89\">\r\n    <path d=\"M 20.5625 7.2 \r\nL 578.5625 7.2 \r\n\" style=\"fill:none;stroke:#000000;stroke-linecap:square;stroke-linejoin:miter;stroke-width:0.8;\"/>\r\n   </g>\r\n   <g id=\"legend_1\">\r\n    <g id=\"patch_90\">\r\n     <path d=\"M 487.66875 29.878125 \r\nL 571.5625 29.878125 \r\nQ 573.5625 29.878125 573.5625 27.878125 \r\nL 573.5625 14.2 \r\nQ 573.5625 12.2 571.5625 12.2 \r\nL 487.66875 12.2 \r\nQ 485.66875 12.2 485.66875 14.2 \r\nL 485.66875 27.878125 \r\nQ 485.66875 29.878125 487.66875 29.878125 \r\nz\r\n\" style=\"fill:#ffffff;opacity:0.8;stroke:#cccccc;stroke-linejoin:miter;\"/>\r\n    </g>\r\n    <g id=\"patch_91\">\r\n     <path d=\"M 489.66875 23.798437 \r\nL 509.66875 23.798437 \r\nL 509.66875 16.798437 \r\nL 489.66875 16.798437 \r\nz\r\n\" style=\"fill:#1f77b4;\"/>\r\n    </g>\r\n    <g id=\"text_91\">\r\n     <!-- Frequence -->\r\n     <g transform=\"translate(517.66875 23.798437)scale(0.1 -0.1)\">\r\n      <defs>\r\n       <path d=\"M 9.8125 72.90625 \r\nL 51.703125 72.90625 \r\nL 51.703125 64.59375 \r\nL 19.671875 64.59375 \r\nL 19.671875 43.109375 \r\nL 48.578125 43.109375 \r\nL 48.578125 34.8125 \r\nL 19.671875 34.8125 \r\nL 19.671875 0 \r\nL 9.8125 0 \r\nz\r\n\" id=\"DejaVuSans-70\"/>\r\n       <path d=\"M 41.109375 46.296875 \r\nQ 39.59375 47.171875 37.8125 47.578125 \r\nQ 36.03125 48 33.890625 48 \r\nQ 26.265625 48 22.1875 43.046875 \r\nQ 18.109375 38.09375 18.109375 28.8125 \r\nL 18.109375 0 \r\nL 9.078125 0 \r\nL 9.078125 54.6875 \r\nL 18.109375 54.6875 \r\nL 18.109375 46.1875 \r\nQ 20.953125 51.171875 25.484375 53.578125 \r\nQ 30.03125 56 36.53125 56 \r\nQ 37.453125 56 38.578125 55.875 \r\nQ 39.703125 55.765625 41.0625 55.515625 \r\nz\r\n\" id=\"DejaVuSans-114\"/>\r\n       <path d=\"M 14.796875 27.296875 \r\nQ 14.796875 17.390625 18.875 11.75 \r\nQ 22.953125 6.109375 30.078125 6.109375 \r\nQ 37.203125 6.109375 41.296875 11.75 \r\nQ 45.40625 17.390625 45.40625 27.296875 \r\nQ 45.40625 37.203125 41.296875 42.84375 \r\nQ 37.203125 48.484375 30.078125 48.484375 \r\nQ 22.953125 48.484375 18.875 42.84375 \r\nQ 14.796875 37.203125 14.796875 27.296875 \r\nz\r\nM 45.40625 8.203125 \r\nQ 42.578125 3.328125 38.25 0.953125 \r\nQ 33.9375 -1.421875 27.875 -1.421875 \r\nQ 17.96875 -1.421875 11.734375 6.484375 \r\nQ 5.515625 14.40625 5.515625 27.296875 \r\nQ 5.515625 40.1875 11.734375 48.09375 \r\nQ 17.96875 56 27.875 56 \r\nQ 33.9375 56 38.25 53.625 \r\nQ 42.578125 51.265625 45.40625 46.390625 \r\nL 45.40625 54.6875 \r\nL 54.390625 54.6875 \r\nL 54.390625 -20.796875 \r\nL 45.40625 -20.796875 \r\nz\r\n\" id=\"DejaVuSans-113\"/>\r\n       <path d=\"M 8.5 21.578125 \r\nL 8.5 54.6875 \r\nL 17.484375 54.6875 \r\nL 17.484375 21.921875 \r\nQ 17.484375 14.15625 20.5 10.265625 \r\nQ 23.53125 6.390625 29.59375 6.390625 \r\nQ 36.859375 6.390625 41.078125 11.03125 \r\nQ 45.3125 15.671875 45.3125 23.6875 \r\nL 45.3125 54.6875 \r\nL 54.296875 54.6875 \r\nL 54.296875 0 \r\nL 45.3125 0 \r\nL 45.3125 8.40625 \r\nQ 42.046875 3.421875 37.71875 1 \r\nQ 33.40625 -1.421875 27.6875 -1.421875 \r\nQ 18.265625 -1.421875 13.375 4.4375 \r\nQ 8.5 10.296875 8.5 21.578125 \r\nz\r\nM 31.109375 56 \r\nz\r\n\" id=\"DejaVuSans-117\"/>\r\n       <path d=\"M 54.890625 33.015625 \r\nL 54.890625 0 \r\nL 45.90625 0 \r\nL 45.90625 32.71875 \r\nQ 45.90625 40.484375 42.875 44.328125 \r\nQ 39.84375 48.1875 33.796875 48.1875 \r\nQ 26.515625 48.1875 22.3125 43.546875 \r\nQ 18.109375 38.921875 18.109375 30.90625 \r\nL 18.109375 0 \r\nL 9.078125 0 \r\nL 9.078125 54.6875 \r\nL 18.109375 54.6875 \r\nL 18.109375 46.1875 \r\nQ 21.34375 51.125 25.703125 53.5625 \r\nQ 30.078125 56 35.796875 56 \r\nQ 45.21875 56 50.046875 50.171875 \r\nQ 54.890625 44.34375 54.890625 33.015625 \r\nz\r\n\" id=\"DejaVuSans-110\"/>\r\n       <path d=\"M 48.78125 52.59375 \r\nL 48.78125 44.1875 \r\nQ 44.96875 46.296875 41.140625 47.34375 \r\nQ 37.3125 48.390625 33.40625 48.390625 \r\nQ 24.65625 48.390625 19.8125 42.84375 \r\nQ 14.984375 37.3125 14.984375 27.296875 \r\nQ 14.984375 17.28125 19.8125 11.734375 \r\nQ 24.65625 6.203125 33.40625 6.203125 \r\nQ 37.3125 6.203125 41.140625 7.25 \r\nQ 44.96875 8.296875 48.78125 10.40625 \r\nL 48.78125 2.09375 \r\nQ 45.015625 0.34375 40.984375 -0.53125 \r\nQ 36.96875 -1.421875 32.421875 -1.421875 \r\nQ 20.0625 -1.421875 12.78125 6.34375 \r\nQ 5.515625 14.109375 5.515625 27.296875 \r\nQ 5.515625 40.671875 12.859375 48.328125 \r\nQ 20.21875 56 33.015625 56 \r\nQ 37.15625 56 41.109375 55.140625 \r\nQ 45.0625 54.296875 48.78125 52.59375 \r\nz\r\n\" id=\"DejaVuSans-99\"/>\r\n      </defs>\r\n      <use xlink:href=\"#DejaVuSans-70\"/>\r\n      <use x=\"50.269531\" xlink:href=\"#DejaVuSans-114\"/>\r\n      <use x=\"89.132812\" xlink:href=\"#DejaVuSans-101\"/>\r\n      <use x=\"150.65625\" xlink:href=\"#DejaVuSans-113\"/>\r\n      <use x=\"214.132812\" xlink:href=\"#DejaVuSans-117\"/>\r\n      <use x=\"277.511719\" xlink:href=\"#DejaVuSans-101\"/>\r\n      <use x=\"339.035156\" xlink:href=\"#DejaVuSans-110\"/>\r\n      <use x=\"402.414062\" xlink:href=\"#DejaVuSans-99\"/>\r\n      <use x=\"457.394531\" xlink:href=\"#DejaVuSans-101\"/>\r\n     </g>\r\n    </g>\r\n   </g>\r\n  </g>\r\n </g>\r\n <defs>\r\n  <clipPath id=\"pfc9397c007\">\r\n   <rect height=\"543.6\" width=\"558\" x=\"20.5625\" y=\"7.2\"/>\r\n  </clipPath>\r\n </defs>\r\n</svg>\r\n",
                        "image/png": "[encoded data removed]"
                    },
                    "metadata": {
                        "needs_background": "light"
                    }
                }
            ],
            "metadata": {}
        },
        {
            "cell_type": "code",
            "execution_count": 111,
            "source": [
                "tweets_filtered[tweets_filtered.Date=='2019-03-11']"
            ],
            "outputs": [
                {
                    "output_type": "execute_result",
                    "data": {
                        "text/plain": [
                            "       Unnamed: 0                      date  \\\n",
                            "60796       60796 2019-03-11 20:40:22-03:00   \n",
                            "60869       60869 2019-03-11 19:12:42-03:00   \n",
                            "60903       60903 2019-03-11 18:33:26-03:00   \n",
                            "60959       60959 2019-03-11 17:30:37-03:00   \n",
                            "60961       60961 2019-03-11 17:26:51-03:00   \n",
                            "60980       60980 2019-03-11 17:08:18-03:00   \n",
                            "61059       61059 2019-03-11 15:32:29-03:00   \n",
                            "61067       61067 2019-03-11 15:25:42-03:00   \n",
                            "61155       61155 2019-03-11 13:23:11-03:00   \n",
                            "61227       61227 2019-03-11 12:09:19-03:00   \n",
                            "61240       61240 2019-03-11 11:54:26-03:00   \n",
                            "61250       61250 2019-03-11 11:40:20-03:00   \n",
                            "61255       61255 2019-03-11 11:26:16-03:00   \n",
                            "61290       61290 2019-03-11 10:47:59-03:00   \n",
                            "61312       61312 2019-03-11 10:01:04-03:00   \n",
                            "61327       61327 2019-03-11 09:46:36-03:00   \n",
                            "61328       61328 2019-03-11 09:46:03-03:00   \n",
                            "61330       61330 2019-03-11 09:44:38-03:00   \n",
                            "61344       61344 2019-03-11 08:59:21-03:00   \n",
                            "61407       61407 2019-03-11 06:50:29-03:00   \n",
                            "61408       61408 2019-03-11 06:47:14-03:00   \n",
                            "61412       61412 2019-03-11 06:24:07-03:00   \n",
                            "61447       61447 2019-03-11 02:27:11-03:00   \n",
                            "62405       62405 2019-03-11 22:51:21-03:00   \n",
                            "62462       62462 2019-03-11 21:48:40-03:00   \n",
                            "62520       62520 2019-03-11 21:06:43-03:00   \n",
                            "\n",
                            "                                                    text   Time        Date  \n",
                            "60796  #Madamemanstyle#sampacity #prettosoficial@lecc...  20:40  2019-03-11  \n",
                            "60869  🔴 LINK NOS STORIES.\\nWee Gee - In The Rain\\n#B...  19:12  2019-03-11  \n",
                            "60903  dia caótico sampa/ #temporal #sampa #brasil em...  18:33  2019-03-11  \n",
                            "60959  Boa tarde galera. E em Sao Paulo  a chuva caus...  17:30  2019-03-11  \n",
                            "60961  🙏\\nDiante do Caos... MEDITE!\\n🙏✨❤️\\nSim  ela m...  17:26  2019-03-11  \n",
                            "60980  #breakingnews🚨 12 dead and 6 injured joao dori...  17:08  2019-03-11  \n",
                            "61059  E seguimos alegres tirando onda nesse que é o ...  15:32  2019-03-11  \n",
                            "61067  ... Já passei por tantas tempestades que até p...  15:25  2019-03-11  \n",
                            "61155  #SAÚDE #PÚBLICA PREJUDICADA COM A   FORTE CHUV...  13:23  2019-03-11  \n",
                            "61227  A semana começou tensa aqui em SP. Muita chuva...  12:09  2019-03-11  \n",
                            "61240  #alagamento #chuva #chuvatorrencial #uber #ube...  11:54  2019-03-11  \n",
                            "61250  Um pouquinho do dia de hoje ☔📺🎥 #primeiroimpac...  11:40  2019-03-11  \n",
                            "61255  Essa belezinha resolveu se esconder da chuva e...  11:26  2019-03-11  \n",
                            "61290  A forte chuva que atingiu a Grande São Paulo  ...  10:47  2019-03-11  \n",
                            "61312  Eita pra que sair de casa.   Chuva.. frio... 👀...  10:01  2019-03-11  \n",
                            "61327  Chuva forte durante noite e madrugada provocam...  09:46  2019-03-11  \n",
                            "61328  Chuva forte durante noite e madrugada provocam...  09:46  2019-03-11  \n",
                            "61330  Chuva forte durante noite e madrugada provocam...  09:44  2019-03-11  \n",
                            "61344  Quase 4 horas para chegar ao trabalho 🤦‍♂ chuv...  08:59  2019-03-11  \n",
                            "61407  CHUVA FORTE E MUITOS ALAGAMENTOS NO ESTADO DE ...  06:50  2019-03-11  \n",
                            "61408  Bom dia  assim amanhece  São Paulo  Aricanduva...  06:47  2019-03-11  \n",
                            "61412  Imagem de São Paulo hoje.\\nAlagamento Metrô Ta...  06:24  2019-03-11  \n",
                            "61447  Essa Chuva que Não passa lá fora... E esse Cal...  02:27  2019-03-11  \n",
                            "62405  Amiga nova 🦋 #billy #borboleta #butterfly #ami...  22:51  2019-03-11  \n",
                            "62462  •Chove Chuva  chove sem parar• em Praça da Sé ...  21:48  2019-03-11  \n",
                            "62520  Acho que nunca andei em São Paulo sem trânsito...  21:06  2019-03-11  "
                        ],
                        "text/html": [
                            "<div>\n",
                            "<style scoped>\n",
                            "    .dataframe tbody tr th:only-of-type {\n",
                            "        vertical-align: middle;\n",
                            "    }\n",
                            "\n",
                            "    .dataframe tbody tr th {\n",
                            "        vertical-align: top;\n",
                            "    }\n",
                            "\n",
                            "    .dataframe thead th {\n",
                            "        text-align: right;\n",
                            "    }\n",
                            "</style>\n",
                            "<table border=\"1\" class=\"dataframe\">\n",
                            "  <thead>\n",
                            "    <tr style=\"text-align: right;\">\n",
                            "      <th></th>\n",
                            "      <th>Unnamed: 0</th>\n",
                            "      <th>date</th>\n",
                            "      <th>text</th>\n",
                            "      <th>Time</th>\n",
                            "      <th>Date</th>\n",
                            "    </tr>\n",
                            "  </thead>\n",
                            "  <tbody>\n",
                            "    <tr>\n",
                            "      <th>60796</th>\n",
                            "      <td>60796</td>\n",
                            "      <td>2019-03-11 20:40:22-03:00</td>\n",
                            "      <td>#Madamemanstyle#sampacity #prettosoficial@lecc...</td>\n",
                            "      <td>20:40</td>\n",
                            "      <td>2019-03-11</td>\n",
                            "    </tr>\n",
                            "    <tr>\n",
                            "      <th>60869</th>\n",
                            "      <td>60869</td>\n",
                            "      <td>2019-03-11 19:12:42-03:00</td>\n",
                            "      <td>🔴 LINK NOS STORIES.\\nWee Gee - In The Rain\\n#B...</td>\n",
                            "      <td>19:12</td>\n",
                            "      <td>2019-03-11</td>\n",
                            "    </tr>\n",
                            "    <tr>\n",
                            "      <th>60903</th>\n",
                            "      <td>60903</td>\n",
                            "      <td>2019-03-11 18:33:26-03:00</td>\n",
                            "      <td>dia caótico sampa/ #temporal #sampa #brasil em...</td>\n",
                            "      <td>18:33</td>\n",
                            "      <td>2019-03-11</td>\n",
                            "    </tr>\n",
                            "    <tr>\n",
                            "      <th>60959</th>\n",
                            "      <td>60959</td>\n",
                            "      <td>2019-03-11 17:30:37-03:00</td>\n",
                            "      <td>Boa tarde galera. E em Sao Paulo  a chuva caus...</td>\n",
                            "      <td>17:30</td>\n",
                            "      <td>2019-03-11</td>\n",
                            "    </tr>\n",
                            "    <tr>\n",
                            "      <th>60961</th>\n",
                            "      <td>60961</td>\n",
                            "      <td>2019-03-11 17:26:51-03:00</td>\n",
                            "      <td>🙏\\nDiante do Caos... MEDITE!\\n🙏✨❤️\\nSim  ela m...</td>\n",
                            "      <td>17:26</td>\n",
                            "      <td>2019-03-11</td>\n",
                            "    </tr>\n",
                            "    <tr>\n",
                            "      <th>60980</th>\n",
                            "      <td>60980</td>\n",
                            "      <td>2019-03-11 17:08:18-03:00</td>\n",
                            "      <td>#breakingnews🚨 12 dead and 6 injured joao dori...</td>\n",
                            "      <td>17:08</td>\n",
                            "      <td>2019-03-11</td>\n",
                            "    </tr>\n",
                            "    <tr>\n",
                            "      <th>61059</th>\n",
                            "      <td>61059</td>\n",
                            "      <td>2019-03-11 15:32:29-03:00</td>\n",
                            "      <td>E seguimos alegres tirando onda nesse que é o ...</td>\n",
                            "      <td>15:32</td>\n",
                            "      <td>2019-03-11</td>\n",
                            "    </tr>\n",
                            "    <tr>\n",
                            "      <th>61067</th>\n",
                            "      <td>61067</td>\n",
                            "      <td>2019-03-11 15:25:42-03:00</td>\n",
                            "      <td>... Já passei por tantas tempestades que até p...</td>\n",
                            "      <td>15:25</td>\n",
                            "      <td>2019-03-11</td>\n",
                            "    </tr>\n",
                            "    <tr>\n",
                            "      <th>61155</th>\n",
                            "      <td>61155</td>\n",
                            "      <td>2019-03-11 13:23:11-03:00</td>\n",
                            "      <td>#SAÚDE #PÚBLICA PREJUDICADA COM A   FORTE CHUV...</td>\n",
                            "      <td>13:23</td>\n",
                            "      <td>2019-03-11</td>\n",
                            "    </tr>\n",
                            "    <tr>\n",
                            "      <th>61227</th>\n",
                            "      <td>61227</td>\n",
                            "      <td>2019-03-11 12:09:19-03:00</td>\n",
                            "      <td>A semana começou tensa aqui em SP. Muita chuva...</td>\n",
                            "      <td>12:09</td>\n",
                            "      <td>2019-03-11</td>\n",
                            "    </tr>\n",
                            "    <tr>\n",
                            "      <th>61240</th>\n",
                            "      <td>61240</td>\n",
                            "      <td>2019-03-11 11:54:26-03:00</td>\n",
                            "      <td>#alagamento #chuva #chuvatorrencial #uber #ube...</td>\n",
                            "      <td>11:54</td>\n",
                            "      <td>2019-03-11</td>\n",
                            "    </tr>\n",
                            "    <tr>\n",
                            "      <th>61250</th>\n",
                            "      <td>61250</td>\n",
                            "      <td>2019-03-11 11:40:20-03:00</td>\n",
                            "      <td>Um pouquinho do dia de hoje ☔📺🎥 #primeiroimpac...</td>\n",
                            "      <td>11:40</td>\n",
                            "      <td>2019-03-11</td>\n",
                            "    </tr>\n",
                            "    <tr>\n",
                            "      <th>61255</th>\n",
                            "      <td>61255</td>\n",
                            "      <td>2019-03-11 11:26:16-03:00</td>\n",
                            "      <td>Essa belezinha resolveu se esconder da chuva e...</td>\n",
                            "      <td>11:26</td>\n",
                            "      <td>2019-03-11</td>\n",
                            "    </tr>\n",
                            "    <tr>\n",
                            "      <th>61290</th>\n",
                            "      <td>61290</td>\n",
                            "      <td>2019-03-11 10:47:59-03:00</td>\n",
                            "      <td>A forte chuva que atingiu a Grande São Paulo  ...</td>\n",
                            "      <td>10:47</td>\n",
                            "      <td>2019-03-11</td>\n",
                            "    </tr>\n",
                            "    <tr>\n",
                            "      <th>61312</th>\n",
                            "      <td>61312</td>\n",
                            "      <td>2019-03-11 10:01:04-03:00</td>\n",
                            "      <td>Eita pra que sair de casa.   Chuva.. frio... 👀...</td>\n",
                            "      <td>10:01</td>\n",
                            "      <td>2019-03-11</td>\n",
                            "    </tr>\n",
                            "    <tr>\n",
                            "      <th>61327</th>\n",
                            "      <td>61327</td>\n",
                            "      <td>2019-03-11 09:46:36-03:00</td>\n",
                            "      <td>Chuva forte durante noite e madrugada provocam...</td>\n",
                            "      <td>09:46</td>\n",
                            "      <td>2019-03-11</td>\n",
                            "    </tr>\n",
                            "    <tr>\n",
                            "      <th>61328</th>\n",
                            "      <td>61328</td>\n",
                            "      <td>2019-03-11 09:46:03-03:00</td>\n",
                            "      <td>Chuva forte durante noite e madrugada provocam...</td>\n",
                            "      <td>09:46</td>\n",
                            "      <td>2019-03-11</td>\n",
                            "    </tr>\n",
                            "    <tr>\n",
                            "      <th>61330</th>\n",
                            "      <td>61330</td>\n",
                            "      <td>2019-03-11 09:44:38-03:00</td>\n",
                            "      <td>Chuva forte durante noite e madrugada provocam...</td>\n",
                            "      <td>09:44</td>\n",
                            "      <td>2019-03-11</td>\n",
                            "    </tr>\n",
                            "    <tr>\n",
                            "      <th>61344</th>\n",
                            "      <td>61344</td>\n",
                            "      <td>2019-03-11 08:59:21-03:00</td>\n",
                            "      <td>Quase 4 horas para chegar ao trabalho 🤦‍♂ chuv...</td>\n",
                            "      <td>08:59</td>\n",
                            "      <td>2019-03-11</td>\n",
                            "    </tr>\n",
                            "    <tr>\n",
                            "      <th>61407</th>\n",
                            "      <td>61407</td>\n",
                            "      <td>2019-03-11 06:50:29-03:00</td>\n",
                            "      <td>CHUVA FORTE E MUITOS ALAGAMENTOS NO ESTADO DE ...</td>\n",
                            "      <td>06:50</td>\n",
                            "      <td>2019-03-11</td>\n",
                            "    </tr>\n",
                            "    <tr>\n",
                            "      <th>61408</th>\n",
                            "      <td>61408</td>\n",
                            "      <td>2019-03-11 06:47:14-03:00</td>\n",
                            "      <td>Bom dia  assim amanhece  São Paulo  Aricanduva...</td>\n",
                            "      <td>06:47</td>\n",
                            "      <td>2019-03-11</td>\n",
                            "    </tr>\n",
                            "    <tr>\n",
                            "      <th>61412</th>\n",
                            "      <td>61412</td>\n",
                            "      <td>2019-03-11 06:24:07-03:00</td>\n",
                            "      <td>Imagem de São Paulo hoje.\\nAlagamento Metrô Ta...</td>\n",
                            "      <td>06:24</td>\n",
                            "      <td>2019-03-11</td>\n",
                            "    </tr>\n",
                            "    <tr>\n",
                            "      <th>61447</th>\n",
                            "      <td>61447</td>\n",
                            "      <td>2019-03-11 02:27:11-03:00</td>\n",
                            "      <td>Essa Chuva que Não passa lá fora... E esse Cal...</td>\n",
                            "      <td>02:27</td>\n",
                            "      <td>2019-03-11</td>\n",
                            "    </tr>\n",
                            "    <tr>\n",
                            "      <th>62405</th>\n",
                            "      <td>62405</td>\n",
                            "      <td>2019-03-11 22:51:21-03:00</td>\n",
                            "      <td>Amiga nova 🦋 #billy #borboleta #butterfly #ami...</td>\n",
                            "      <td>22:51</td>\n",
                            "      <td>2019-03-11</td>\n",
                            "    </tr>\n",
                            "    <tr>\n",
                            "      <th>62462</th>\n",
                            "      <td>62462</td>\n",
                            "      <td>2019-03-11 21:48:40-03:00</td>\n",
                            "      <td>•Chove Chuva  chove sem parar• em Praça da Sé ...</td>\n",
                            "      <td>21:48</td>\n",
                            "      <td>2019-03-11</td>\n",
                            "    </tr>\n",
                            "    <tr>\n",
                            "      <th>62520</th>\n",
                            "      <td>62520</td>\n",
                            "      <td>2019-03-11 21:06:43-03:00</td>\n",
                            "      <td>Acho que nunca andei em São Paulo sem trânsito...</td>\n",
                            "      <td>21:06</td>\n",
                            "      <td>2019-03-11</td>\n",
                            "    </tr>\n",
                            "  </tbody>\n",
                            "</table>\n",
                            "</div>"
                        ]
                    },
                    "metadata": {},
                    "execution_count": 111
                }
            ],
            "metadata": {}
        },
        {
            "cell_type": "markdown",
            "source": [
                "# Importing the radar data "
            ],
            "metadata": {}
        },
        {
            "cell_type": "code",
            "execution_count": 39,
            "source": [
                "radar = pd.read_csv(r'C:\\Users\\xdead\\Desktop\\Ic\\CONGRESSO UNIVAP\\cappi_01012019_31032019_diario_mm.csv')\r\n",
                "radar.head(2)"
            ],
            "outputs": [
                {
                    "output_type": "execute_result",
                    "data": {
                        "text/plain": [
                            "         date        p1        p2        p3        p4        p5        p6  \\\n",
                            "0  2019-01-01  3.173042  3.226428  4.195124  3.648779  4.265342  5.528599   \n",
                            "1  2019-01-02  0.000000  0.000000  0.000000  0.000000  0.000000  0.000000   \n",
                            "\n",
                            "         p7        p8        p9  ...       p16       p17       p18       p19  \\\n",
                            "0  4.249552  3.934576  6.090778  ...  5.142183  2.907812  5.841916  3.983348   \n",
                            "1  0.000000  0.000000  0.000000  ...  0.000000  0.000000  0.000000  0.000000   \n",
                            "\n",
                            "       p20       p21      p22      p23       p24       p25  \n",
                            "0  6.38728  5.346278  4.68607  6.47143  6.455297  4.995254  \n",
                            "1  0.00000  0.000000  0.00000  0.00000  0.000000  0.000000  \n",
                            "\n",
                            "[2 rows x 26 columns]"
                        ],
                        "text/html": [
                            "<div>\n",
                            "<style scoped>\n",
                            "    .dataframe tbody tr th:only-of-type {\n",
                            "        vertical-align: middle;\n",
                            "    }\n",
                            "\n",
                            "    .dataframe tbody tr th {\n",
                            "        vertical-align: top;\n",
                            "    }\n",
                            "\n",
                            "    .dataframe thead th {\n",
                            "        text-align: right;\n",
                            "    }\n",
                            "</style>\n",
                            "<table border=\"1\" class=\"dataframe\">\n",
                            "  <thead>\n",
                            "    <tr style=\"text-align: right;\">\n",
                            "      <th></th>\n",
                            "      <th>date</th>\n",
                            "      <th>p1</th>\n",
                            "      <th>p2</th>\n",
                            "      <th>p3</th>\n",
                            "      <th>p4</th>\n",
                            "      <th>p5</th>\n",
                            "      <th>p6</th>\n",
                            "      <th>p7</th>\n",
                            "      <th>p8</th>\n",
                            "      <th>p9</th>\n",
                            "      <th>...</th>\n",
                            "      <th>p16</th>\n",
                            "      <th>p17</th>\n",
                            "      <th>p18</th>\n",
                            "      <th>p19</th>\n",
                            "      <th>p20</th>\n",
                            "      <th>p21</th>\n",
                            "      <th>p22</th>\n",
                            "      <th>p23</th>\n",
                            "      <th>p24</th>\n",
                            "      <th>p25</th>\n",
                            "    </tr>\n",
                            "  </thead>\n",
                            "  <tbody>\n",
                            "    <tr>\n",
                            "      <th>0</th>\n",
                            "      <td>2019-01-01</td>\n",
                            "      <td>3.173042</td>\n",
                            "      <td>3.226428</td>\n",
                            "      <td>4.195124</td>\n",
                            "      <td>3.648779</td>\n",
                            "      <td>4.265342</td>\n",
                            "      <td>5.528599</td>\n",
                            "      <td>4.249552</td>\n",
                            "      <td>3.934576</td>\n",
                            "      <td>6.090778</td>\n",
                            "      <td>...</td>\n",
                            "      <td>5.142183</td>\n",
                            "      <td>2.907812</td>\n",
                            "      <td>5.841916</td>\n",
                            "      <td>3.983348</td>\n",
                            "      <td>6.38728</td>\n",
                            "      <td>5.346278</td>\n",
                            "      <td>4.68607</td>\n",
                            "      <td>6.47143</td>\n",
                            "      <td>6.455297</td>\n",
                            "      <td>4.995254</td>\n",
                            "    </tr>\n",
                            "    <tr>\n",
                            "      <th>1</th>\n",
                            "      <td>2019-01-02</td>\n",
                            "      <td>0.000000</td>\n",
                            "      <td>0.000000</td>\n",
                            "      <td>0.000000</td>\n",
                            "      <td>0.000000</td>\n",
                            "      <td>0.000000</td>\n",
                            "      <td>0.000000</td>\n",
                            "      <td>0.000000</td>\n",
                            "      <td>0.000000</td>\n",
                            "      <td>0.000000</td>\n",
                            "      <td>...</td>\n",
                            "      <td>0.000000</td>\n",
                            "      <td>0.000000</td>\n",
                            "      <td>0.000000</td>\n",
                            "      <td>0.000000</td>\n",
                            "      <td>0.00000</td>\n",
                            "      <td>0.000000</td>\n",
                            "      <td>0.00000</td>\n",
                            "      <td>0.00000</td>\n",
                            "      <td>0.000000</td>\n",
                            "      <td>0.000000</td>\n",
                            "    </tr>\n",
                            "  </tbody>\n",
                            "</table>\n",
                            "<p>2 rows × 26 columns</p>\n",
                            "</div>"
                        ]
                    },
                    "metadata": {},
                    "execution_count": 39
                }
            ],
            "metadata": {}
        },
        {
            "cell_type": "code",
            "execution_count": 42,
            "source": [
                "radar_857A=radar[['date', 'p2']]"
            ],
            "outputs": [],
            "metadata": {}
        },
        {
            "cell_type": "code",
            "execution_count": 55,
            "source": [
                "radar_857A=radar_857A.copy()\r\n",
                "radar_857A.date=pd.to_datetime(radar_857A.date).dt.strftime('%d-%m-%Y')"
            ],
            "outputs": [],
            "metadata": {}
        },
        {
            "cell_type": "code",
            "execution_count": 57,
            "source": [
                "radar_857A.date.unique()"
            ],
            "outputs": [
                {
                    "output_type": "execute_result",
                    "data": {
                        "text/plain": [
                            "array(['01-01-2019', '02-01-2019', '03-01-2019', '04-01-2019',\n",
                            "       '05-01-2019', '06-01-2019', '07-01-2019', '08-01-2019',\n",
                            "       '09-01-2019', '10-01-2019', '11-01-2019', '12-01-2019',\n",
                            "       '13-01-2019', '14-01-2019', '15-01-2019', '16-01-2019',\n",
                            "       '17-01-2019', '18-01-2019', '19-01-2019', '20-01-2019',\n",
                            "       '21-01-2019', '22-01-2019', '23-01-2019', '24-01-2019',\n",
                            "       '25-01-2019', '26-01-2019', '27-01-2019', '28-01-2019',\n",
                            "       '29-01-2019', '30-01-2019', '31-01-2019', '01-02-2019',\n",
                            "       '02-02-2019', '03-02-2019', '04-02-2019', '05-02-2019',\n",
                            "       '06-02-2019', '07-02-2019', '08-02-2019', '09-02-2019',\n",
                            "       '10-02-2019', '11-02-2019', '12-02-2019', '13-02-2019',\n",
                            "       '14-02-2019', '15-02-2019', '16-02-2019', '17-02-2019',\n",
                            "       '18-02-2019', '19-02-2019', '20-02-2019', '21-02-2019',\n",
                            "       '22-02-2019', '23-02-2019', '24-02-2019', '25-02-2019',\n",
                            "       '26-02-2019', '27-02-2019', '28-02-2019', '01-03-2019',\n",
                            "       '02-03-2019', '03-03-2019', '04-03-2019', '05-03-2019',\n",
                            "       '06-03-2019', '07-03-2019', '08-03-2019', '09-03-2019',\n",
                            "       '10-03-2019', '11-03-2019', '12-03-2019', '13-03-2019',\n",
                            "       '14-03-2019', '15-03-2019', '16-03-2019', '17-03-2019',\n",
                            "       '18-03-2019', '19-03-2019', '20-03-2019', '21-03-2019',\n",
                            "       '22-03-2019', '23-03-2019', '24-03-2019', '25-03-2019',\n",
                            "       '26-03-2019', '27-03-2019', '28-03-2019', '29-03-2019',\n",
                            "       '30-03-2019', '31-03-2019'], dtype=object)"
                        ]
                    },
                    "metadata": {},
                    "execution_count": 57
                }
            ],
            "metadata": {}
        },
        {
            "cell_type": "code",
            "execution_count": 91,
            "source": [
                "radar_tweet=regularized_data.merge(radar_857A, how='inner')\r\n"
            ],
            "outputs": [],
            "metadata": {}
        },
        {
            "cell_type": "code",
            "execution_count": 100,
            "source": [
                "radar_tweet[radar_tweet.Frequence==max(radar_tweet.Frequence)]"
            ],
            "outputs": [
                {
                    "output_type": "execute_result",
                    "data": {
                        "text/plain": [
                            "          date  Frequence   p2\n",
                            "65  11-03-2019         26  0.0"
                        ],
                        "text/html": [
                            "<div>\n",
                            "<style scoped>\n",
                            "    .dataframe tbody tr th:only-of-type {\n",
                            "        vertical-align: middle;\n",
                            "    }\n",
                            "\n",
                            "    .dataframe tbody tr th {\n",
                            "        vertical-align: top;\n",
                            "    }\n",
                            "\n",
                            "    .dataframe thead th {\n",
                            "        text-align: right;\n",
                            "    }\n",
                            "</style>\n",
                            "<table border=\"1\" class=\"dataframe\">\n",
                            "  <thead>\n",
                            "    <tr style=\"text-align: right;\">\n",
                            "      <th></th>\n",
                            "      <th>date</th>\n",
                            "      <th>Frequence</th>\n",
                            "      <th>p2</th>\n",
                            "    </tr>\n",
                            "  </thead>\n",
                            "  <tbody>\n",
                            "    <tr>\n",
                            "      <th>65</th>\n",
                            "      <td>11-03-2019</td>\n",
                            "      <td>26</td>\n",
                            "      <td>0.0</td>\n",
                            "    </tr>\n",
                            "  </tbody>\n",
                            "</table>\n",
                            "</div>"
                        ]
                    },
                    "metadata": {},
                    "execution_count": 100
                }
            ],
            "metadata": {}
        },
        {
            "cell_type": "markdown",
            "source": [
                "# Exploratory Analysis "
            ],
            "metadata": {}
        },
        {
            "cell_type": "code",
            "execution_count": 96,
            "source": [
                "import plotly.express as px"
            ],
            "outputs": [],
            "metadata": {}
        },
        {
            "cell_type": "code",
            "execution_count": 122,
            "source": [
                "grap = px.treemap(radar_tweet, path=['p2', 'date', 'Frequence'])\r\n",
                "grap.show()\r\n",
                "#the majority of dates that \r\n"
            ],
            "outputs": [
                {
                    "output_type": "display_data",
                    "data": {
                        "application/vnd.plotly.v1+json": {
                            "config": {
                                "plotlyServerURL": "https://plot.ly"
                            },
                            "data": [
                                {
                                    "branchvalues": "total",
                                    "domain": {
                                        "x": [
                                            0,
                                            1
                                        ],
                                        "y": [
                                            0,
                                            1
                                        ]
                                    },
                                    "hovertemplate": "labels=%{label}<br>count=%{value}<br>parent=%{parent}<br>id=%{id}<extra></extra>",
                                    "ids": [
                                        "0.0/01-02-2019/1",
                                        "0.0/08-03-2019/1",
                                        "0.4076824206025275/16-01-2019/1",
                                        "0.0/23-03-2019/1",
                                        "0.0/25-03-2019/1",
                                        "0.0/26-03-2019/1",
                                        "0.0/27-03-2019/1",
                                        "0.0/28-01-2019/1",
                                        "0.0/02-01-2019/2",
                                        "0.0/03-02-2019/2",
                                        "0.0/05-02-2019/2",
                                        "0.0/09-02-2019/2",
                                        "0.0/12-01-2019/2",
                                        "0.0/13-03-2019/2",
                                        "0.0/18-01-2019/2",
                                        "0.8618755598851776/20-01-2019/2",
                                        "0.0/22-03-2019/2",
                                        "3.224116280130845/29-01-2019/2",
                                        "0.0/30-03-2019/2",
                                        "3.226427814231424/01-01-2019/3",
                                        "0.0/04-03-2019/3",
                                        "0.4133861840286545/10-01-2019/3",
                                        "0.0/11-02-2019/3",
                                        "0.5455442746543394/13-02-2019/3",
                                        "31.720934514307235/19-01-2019/3",
                                        "0.0/20-03-2019/3",
                                        "0.0/21-01-2019/3",
                                        "0.0/28-03-2019/3",
                                        "0.0/31-03-2019/3",
                                        "0.0/09-01-2019/4",
                                        "3.4026625775708164/14-01-2019/4",
                                        "0.8313157865954388/15-03-2019/4",
                                        "0.0/16-03-2019/4",
                                        "5.928236872633495/22-01-2019/4",
                                        "5.292353485655289/04-01-2019/5",
                                        "1.8426665919024143/06-03-2019/5",
                                        "0.1513404468240313/18-02-2019/5",
                                        "0.0/19-02-2019/5",
                                        "2.102268910530252/19-03-2019/5",
                                        "3.63947882413236/24-01-2019/5",
                                        "0.820893034579347/26-01-2019/5",
                                        "0.0/31-01-2019/5",
                                        "1.3648317549489184/03-01-2019/6",
                                        "18.554606581585748/05-03-2019/6",
                                        "0.0/07-01-2019/6",
                                        "0.0/07-02-2019/6",
                                        "0.2290630079686977/10-03-2019/6",
                                        "0.4731558991612316/12-02-2019/6",
                                        "3.145896796985037/14-03-2019/6",
                                        "0.3803650085650885/23-01-2019/6",
                                        "0.0/27-01-2019/6",
                                        "20.995756594575045/08-01-2019/7",
                                        "12.10426151475294/21-02-2019/7",
                                        "0.0/24-02-2019/7",
                                        "0.0/01-03-2019/8",
                                        "0.0/15-01-2019/8",
                                        "13.809446011888486/17-01-2019/8",
                                        "0.0/27-02-2019/8",
                                        "3.030927136185733/06-01-2019/9",
                                        "6.568709638656523/11-01-2019/9",
                                        "1.7533227766138164/15-02-2019/9",
                                        "12.760457155738267/20-02-2019/9",
                                        "13.239195352885751/25-01-2019/9",
                                        "0.0/25-02-2019/10",
                                        "7.764431287675812/30-01-2019/10",
                                        "0.0/05-01-2019/11",
                                        "0.0/14-02-2019/11",
                                        "0.0/04-02-2019/12",
                                        "3.6109210365866886/23-02-2019/12",
                                        "1.0912386255697637/07-03-2019/13",
                                        "0.0/17-02-2019/13",
                                        "1.4192892558893844/17-03-2019/14",
                                        "2.497415378106691/26-02-2019/14",
                                        "0.6437168840331176/28-02-2019/14",
                                        "0.0/03-03-2019/15",
                                        "12.63719207344412/16-02-2019/15",
                                        "4.099373604766108/22-02-2019/15",
                                        "22.22316773402944/09-03-2019/16",
                                        "0.0/21-03-2019/16",
                                        "17.13453533415555/02-03-2019/17",
                                        "1.3387157638229508/12-03-2019/18",
                                        "7.423708119536945/06-02-2019/22",
                                        "0.0/11-03-2019/26",
                                        "3.226427814231424/01-01-2019",
                                        "0.0/01-02-2019",
                                        "0.0/01-03-2019",
                                        "0.0/02-01-2019",
                                        "17.13453533415555/02-03-2019",
                                        "1.3648317549489184/03-01-2019",
                                        "0.0/03-02-2019",
                                        "0.0/03-03-2019",
                                        "5.292353485655289/04-01-2019",
                                        "0.0/04-02-2019",
                                        "0.0/04-03-2019",
                                        "0.0/05-01-2019",
                                        "0.0/05-02-2019",
                                        "18.554606581585748/05-03-2019",
                                        "3.030927136185733/06-01-2019",
                                        "7.423708119536945/06-02-2019",
                                        "1.8426665919024143/06-03-2019",
                                        "0.0/07-01-2019",
                                        "0.0/07-02-2019",
                                        "1.0912386255697637/07-03-2019",
                                        "20.995756594575045/08-01-2019",
                                        "0.0/08-03-2019",
                                        "0.0/09-01-2019",
                                        "0.0/09-02-2019",
                                        "22.22316773402944/09-03-2019",
                                        "0.4133861840286545/10-01-2019",
                                        "0.2290630079686977/10-03-2019",
                                        "6.568709638656523/11-01-2019",
                                        "0.0/11-02-2019",
                                        "0.0/11-03-2019",
                                        "0.0/12-01-2019",
                                        "0.4731558991612316/12-02-2019",
                                        "1.3387157638229508/12-03-2019",
                                        "0.5455442746543394/13-02-2019",
                                        "0.0/13-03-2019",
                                        "3.4026625775708164/14-01-2019",
                                        "0.0/14-02-2019",
                                        "3.145896796985037/14-03-2019",
                                        "0.0/15-01-2019",
                                        "1.7533227766138164/15-02-2019",
                                        "0.8313157865954388/15-03-2019",
                                        "0.4076824206025275/16-01-2019",
                                        "12.63719207344412/16-02-2019",
                                        "0.0/16-03-2019",
                                        "13.809446011888486/17-01-2019",
                                        "0.0/17-02-2019",
                                        "1.4192892558893844/17-03-2019",
                                        "0.0/18-01-2019",
                                        "0.1513404468240313/18-02-2019",
                                        "31.720934514307235/19-01-2019",
                                        "0.0/19-02-2019",
                                        "2.102268910530252/19-03-2019",
                                        "0.8618755598851776/20-01-2019",
                                        "12.760457155738267/20-02-2019",
                                        "0.0/20-03-2019",
                                        "0.0/21-01-2019",
                                        "12.10426151475294/21-02-2019",
                                        "0.0/21-03-2019",
                                        "5.928236872633495/22-01-2019",
                                        "4.099373604766108/22-02-2019",
                                        "0.0/22-03-2019",
                                        "0.3803650085650885/23-01-2019",
                                        "3.6109210365866886/23-02-2019",
                                        "0.0/23-03-2019",
                                        "3.63947882413236/24-01-2019",
                                        "0.0/24-02-2019",
                                        "13.239195352885751/25-01-2019",
                                        "0.0/25-02-2019",
                                        "0.0/25-03-2019",
                                        "0.820893034579347/26-01-2019",
                                        "2.497415378106691/26-02-2019",
                                        "0.0/26-03-2019",
                                        "0.0/27-01-2019",
                                        "0.0/27-02-2019",
                                        "0.0/27-03-2019",
                                        "0.0/28-01-2019",
                                        "0.6437168840331176/28-02-2019",
                                        "0.0/28-03-2019",
                                        "3.224116280130845/29-01-2019",
                                        "7.764431287675812/30-01-2019",
                                        "0.0/30-03-2019",
                                        "0.0/31-01-2019",
                                        "0.0/31-03-2019",
                                        "0.0",
                                        "0.1513404468240313",
                                        "0.2290630079686977",
                                        "0.3803650085650885",
                                        "0.4076824206025275",
                                        "0.4133861840286545",
                                        "0.4731558991612316",
                                        "0.5455442746543394",
                                        "0.6437168840331176",
                                        "0.820893034579347",
                                        "0.8313157865954388",
                                        "0.8618755598851776",
                                        "1.0912386255697637",
                                        "1.3387157638229508",
                                        "1.3648317549489184",
                                        "1.4192892558893844",
                                        "1.7533227766138164",
                                        "1.8426665919024143",
                                        "2.102268910530252",
                                        "2.497415378106691",
                                        "3.030927136185733",
                                        "3.145896796985037",
                                        "3.224116280130845",
                                        "3.226427814231424",
                                        "3.4026625775708164",
                                        "3.6109210365866886",
                                        "3.63947882413236",
                                        "4.099373604766108",
                                        "5.292353485655289",
                                        "5.928236872633495",
                                        "6.568709638656523",
                                        "7.423708119536945",
                                        "7.764431287675812",
                                        "12.10426151475294",
                                        "12.63719207344412",
                                        "12.760457155738267",
                                        "13.239195352885751",
                                        "13.809446011888486",
                                        "17.13453533415555",
                                        "18.554606581585748",
                                        "20.995756594575045",
                                        "22.22316773402944",
                                        "31.720934514307235"
                                    ],
                                    "labels": [
                                        "1",
                                        "1",
                                        "1",
                                        "1",
                                        "1",
                                        "1",
                                        "1",
                                        "1",
                                        "2",
                                        "2",
                                        "2",
                                        "2",
                                        "2",
                                        "2",
                                        "2",
                                        "2",
                                        "2",
                                        "2",
                                        "2",
                                        "3",
                                        "3",
                                        "3",
                                        "3",
                                        "3",
                                        "3",
                                        "3",
                                        "3",
                                        "3",
                                        "3",
                                        "4",
                                        "4",
                                        "4",
                                        "4",
                                        "4",
                                        "5",
                                        "5",
                                        "5",
                                        "5",
                                        "5",
                                        "5",
                                        "5",
                                        "5",
                                        "6",
                                        "6",
                                        "6",
                                        "6",
                                        "6",
                                        "6",
                                        "6",
                                        "6",
                                        "6",
                                        "7",
                                        "7",
                                        "7",
                                        "8",
                                        "8",
                                        "8",
                                        "8",
                                        "9",
                                        "9",
                                        "9",
                                        "9",
                                        "9",
                                        "10",
                                        "10",
                                        "11",
                                        "11",
                                        "12",
                                        "12",
                                        "13",
                                        "13",
                                        "14",
                                        "14",
                                        "14",
                                        "15",
                                        "15",
                                        "15",
                                        "16",
                                        "16",
                                        "17",
                                        "18",
                                        "22",
                                        "26",
                                        "01-01-2019",
                                        "01-02-2019",
                                        "01-03-2019",
                                        "02-01-2019",
                                        "02-03-2019",
                                        "03-01-2019",
                                        "03-02-2019",
                                        "03-03-2019",
                                        "04-01-2019",
                                        "04-02-2019",
                                        "04-03-2019",
                                        "05-01-2019",
                                        "05-02-2019",
                                        "05-03-2019",
                                        "06-01-2019",
                                        "06-02-2019",
                                        "06-03-2019",
                                        "07-01-2019",
                                        "07-02-2019",
                                        "07-03-2019",
                                        "08-01-2019",
                                        "08-03-2019",
                                        "09-01-2019",
                                        "09-02-2019",
                                        "09-03-2019",
                                        "10-01-2019",
                                        "10-03-2019",
                                        "11-01-2019",
                                        "11-02-2019",
                                        "11-03-2019",
                                        "12-01-2019",
                                        "12-02-2019",
                                        "12-03-2019",
                                        "13-02-2019",
                                        "13-03-2019",
                                        "14-01-2019",
                                        "14-02-2019",
                                        "14-03-2019",
                                        "15-01-2019",
                                        "15-02-2019",
                                        "15-03-2019",
                                        "16-01-2019",
                                        "16-02-2019",
                                        "16-03-2019",
                                        "17-01-2019",
                                        "17-02-2019",
                                        "17-03-2019",
                                        "18-01-2019",
                                        "18-02-2019",
                                        "19-01-2019",
                                        "19-02-2019",
                                        "19-03-2019",
                                        "20-01-2019",
                                        "20-02-2019",
                                        "20-03-2019",
                                        "21-01-2019",
                                        "21-02-2019",
                                        "21-03-2019",
                                        "22-01-2019",
                                        "22-02-2019",
                                        "22-03-2019",
                                        "23-01-2019",
                                        "23-02-2019",
                                        "23-03-2019",
                                        "24-01-2019",
                                        "24-02-2019",
                                        "25-01-2019",
                                        "25-02-2019",
                                        "25-03-2019",
                                        "26-01-2019",
                                        "26-02-2019",
                                        "26-03-2019",
                                        "27-01-2019",
                                        "27-02-2019",
                                        "27-03-2019",
                                        "28-01-2019",
                                        "28-02-2019",
                                        "28-03-2019",
                                        "29-01-2019",
                                        "30-01-2019",
                                        "30-03-2019",
                                        "31-01-2019",
                                        "31-03-2019",
                                        "0.0",
                                        "0.1513404468240313",
                                        "0.2290630079686977",
                                        "0.3803650085650885",
                                        "0.4076824206025275",
                                        "0.4133861840286545",
                                        "0.4731558991612316",
                                        "0.5455442746543394",
                                        "0.6437168840331176",
                                        "0.820893034579347",
                                        "0.8313157865954388",
                                        "0.8618755598851776",
                                        "1.0912386255697637",
                                        "1.3387157638229508",
                                        "1.3648317549489184",
                                        "1.4192892558893844",
                                        "1.7533227766138164",
                                        "1.8426665919024143",
                                        "2.102268910530252",
                                        "2.497415378106691",
                                        "3.030927136185733",
                                        "3.145896796985037",
                                        "3.224116280130845",
                                        "3.226427814231424",
                                        "3.4026625775708164",
                                        "3.6109210365866886",
                                        "3.63947882413236",
                                        "4.099373604766108",
                                        "5.292353485655289",
                                        "5.928236872633495",
                                        "6.568709638656523",
                                        "7.423708119536945",
                                        "7.764431287675812",
                                        "12.10426151475294",
                                        "12.63719207344412",
                                        "12.760457155738267",
                                        "13.239195352885751",
                                        "13.809446011888486",
                                        "17.13453533415555",
                                        "18.554606581585748",
                                        "20.995756594575045",
                                        "22.22316773402944",
                                        "31.720934514307235"
                                    ],
                                    "name": "",
                                    "parents": [
                                        "0.0/01-02-2019",
                                        "0.0/08-03-2019",
                                        "0.4076824206025275/16-01-2019",
                                        "0.0/23-03-2019",
                                        "0.0/25-03-2019",
                                        "0.0/26-03-2019",
                                        "0.0/27-03-2019",
                                        "0.0/28-01-2019",
                                        "0.0/02-01-2019",
                                        "0.0/03-02-2019",
                                        "0.0/05-02-2019",
                                        "0.0/09-02-2019",
                                        "0.0/12-01-2019",
                                        "0.0/13-03-2019",
                                        "0.0/18-01-2019",
                                        "0.8618755598851776/20-01-2019",
                                        "0.0/22-03-2019",
                                        "3.224116280130845/29-01-2019",
                                        "0.0/30-03-2019",
                                        "3.226427814231424/01-01-2019",
                                        "0.0/04-03-2019",
                                        "0.4133861840286545/10-01-2019",
                                        "0.0/11-02-2019",
                                        "0.5455442746543394/13-02-2019",
                                        "31.720934514307235/19-01-2019",
                                        "0.0/20-03-2019",
                                        "0.0/21-01-2019",
                                        "0.0/28-03-2019",
                                        "0.0/31-03-2019",
                                        "0.0/09-01-2019",
                                        "3.4026625775708164/14-01-2019",
                                        "0.8313157865954388/15-03-2019",
                                        "0.0/16-03-2019",
                                        "5.928236872633495/22-01-2019",
                                        "5.292353485655289/04-01-2019",
                                        "1.8426665919024143/06-03-2019",
                                        "0.1513404468240313/18-02-2019",
                                        "0.0/19-02-2019",
                                        "2.102268910530252/19-03-2019",
                                        "3.63947882413236/24-01-2019",
                                        "0.820893034579347/26-01-2019",
                                        "0.0/31-01-2019",
                                        "1.3648317549489184/03-01-2019",
                                        "18.554606581585748/05-03-2019",
                                        "0.0/07-01-2019",
                                        "0.0/07-02-2019",
                                        "0.2290630079686977/10-03-2019",
                                        "0.4731558991612316/12-02-2019",
                                        "3.145896796985037/14-03-2019",
                                        "0.3803650085650885/23-01-2019",
                                        "0.0/27-01-2019",
                                        "20.995756594575045/08-01-2019",
                                        "12.10426151475294/21-02-2019",
                                        "0.0/24-02-2019",
                                        "0.0/01-03-2019",
                                        "0.0/15-01-2019",
                                        "13.809446011888486/17-01-2019",
                                        "0.0/27-02-2019",
                                        "3.030927136185733/06-01-2019",
                                        "6.568709638656523/11-01-2019",
                                        "1.7533227766138164/15-02-2019",
                                        "12.760457155738267/20-02-2019",
                                        "13.239195352885751/25-01-2019",
                                        "0.0/25-02-2019",
                                        "7.764431287675812/30-01-2019",
                                        "0.0/05-01-2019",
                                        "0.0/14-02-2019",
                                        "0.0/04-02-2019",
                                        "3.6109210365866886/23-02-2019",
                                        "1.0912386255697637/07-03-2019",
                                        "0.0/17-02-2019",
                                        "1.4192892558893844/17-03-2019",
                                        "2.497415378106691/26-02-2019",
                                        "0.6437168840331176/28-02-2019",
                                        "0.0/03-03-2019",
                                        "12.63719207344412/16-02-2019",
                                        "4.099373604766108/22-02-2019",
                                        "22.22316773402944/09-03-2019",
                                        "0.0/21-03-2019",
                                        "17.13453533415555/02-03-2019",
                                        "1.3387157638229508/12-03-2019",
                                        "7.423708119536945/06-02-2019",
                                        "0.0/11-03-2019",
                                        "3.226427814231424",
                                        "0.0",
                                        "0.0",
                                        "0.0",
                                        "17.13453533415555",
                                        "1.3648317549489184",
                                        "0.0",
                                        "0.0",
                                        "5.292353485655289",
                                        "0.0",
                                        "0.0",
                                        "0.0",
                                        "0.0",
                                        "18.554606581585748",
                                        "3.030927136185733",
                                        "7.423708119536945",
                                        "1.8426665919024143",
                                        "0.0",
                                        "0.0",
                                        "1.0912386255697637",
                                        "20.995756594575045",
                                        "0.0",
                                        "0.0",
                                        "0.0",
                                        "22.22316773402944",
                                        "0.4133861840286545",
                                        "0.2290630079686977",
                                        "6.568709638656523",
                                        "0.0",
                                        "0.0",
                                        "0.0",
                                        "0.4731558991612316",
                                        "1.3387157638229508",
                                        "0.5455442746543394",
                                        "0.0",
                                        "3.4026625775708164",
                                        "0.0",
                                        "3.145896796985037",
                                        "0.0",
                                        "1.7533227766138164",
                                        "0.8313157865954388",
                                        "0.4076824206025275",
                                        "12.63719207344412",
                                        "0.0",
                                        "13.809446011888486",
                                        "0.0",
                                        "1.4192892558893844",
                                        "0.0",
                                        "0.1513404468240313",
                                        "31.720934514307235",
                                        "0.0",
                                        "2.102268910530252",
                                        "0.8618755598851776",
                                        "12.760457155738267",
                                        "0.0",
                                        "0.0",
                                        "12.10426151475294",
                                        "0.0",
                                        "5.928236872633495",
                                        "4.099373604766108",
                                        "0.0",
                                        "0.3803650085650885",
                                        "3.6109210365866886",
                                        "0.0",
                                        "3.63947882413236",
                                        "0.0",
                                        "13.239195352885751",
                                        "0.0",
                                        "0.0",
                                        "0.820893034579347",
                                        "2.497415378106691",
                                        "0.0",
                                        "0.0",
                                        "0.0",
                                        "0.0",
                                        "0.0",
                                        "0.6437168840331176",
                                        "0.0",
                                        "3.224116280130845",
                                        "7.764431287675812",
                                        "0.0",
                                        "0.0",
                                        "0.0",
                                        "",
                                        "",
                                        "",
                                        "",
                                        "",
                                        "",
                                        "",
                                        "",
                                        "",
                                        "",
                                        "",
                                        "",
                                        "",
                                        "",
                                        "",
                                        "",
                                        "",
                                        "",
                                        "",
                                        "",
                                        "",
                                        "",
                                        "",
                                        "",
                                        "",
                                        "",
                                        "",
                                        "",
                                        "",
                                        "",
                                        "",
                                        "",
                                        "",
                                        "",
                                        "",
                                        "",
                                        "",
                                        "",
                                        "",
                                        "",
                                        "",
                                        "",
                                        ""
                                    ],
                                    "type": "treemap",
                                    "values": [
                                        1,
                                        1,
                                        1,
                                        1,
                                        1,
                                        1,
                                        1,
                                        1,
                                        1,
                                        1,
                                        1,
                                        1,
                                        1,
                                        1,
                                        1,
                                        1,
                                        1,
                                        1,
                                        1,
                                        1,
                                        1,
                                        1,
                                        1,
                                        1,
                                        1,
                                        1,
                                        1,
                                        1,
                                        1,
                                        1,
                                        1,
                                        1,
                                        1,
                                        1,
                                        1,
                                        1,
                                        1,
                                        1,
                                        1,
                                        1,
                                        1,
                                        1,
                                        1,
                                        1,
                                        1,
                                        1,
                                        1,
                                        1,
                                        1,
                                        1,
                                        1,
                                        1,
                                        1,
                                        1,
                                        1,
                                        1,
                                        1,
                                        1,
                                        1,
                                        1,
                                        1,
                                        1,
                                        1,
                                        1,
                                        1,
                                        1,
                                        1,
                                        1,
                                        1,
                                        1,
                                        1,
                                        1,
                                        1,
                                        1,
                                        1,
                                        1,
                                        1,
                                        1,
                                        1,
                                        1,
                                        1,
                                        1,
                                        1,
                                        1,
                                        1,
                                        1,
                                        1,
                                        1,
                                        1,
                                        1,
                                        1,
                                        1,
                                        1,
                                        1,
                                        1,
                                        1,
                                        1,
                                        1,
                                        1,
                                        1,
                                        1,
                                        1,
                                        1,
                                        1,
                                        1,
                                        1,
                                        1,
                                        1,
                                        1,
                                        1,
                                        1,
                                        1,
                                        1,
                                        1,
                                        1,
                                        1,
                                        1,
                                        1,
                                        1,
                                        1,
                                        1,
                                        1,
                                        1,
                                        1,
                                        1,
                                        1,
                                        1,
                                        1,
                                        1,
                                        1,
                                        1,
                                        1,
                                        1,
                                        1,
                                        1,
                                        1,
                                        1,
                                        1,
                                        1,
                                        1,
                                        1,
                                        1,
                                        1,
                                        1,
                                        1,
                                        1,
                                        1,
                                        1,
                                        1,
                                        1,
                                        1,
                                        1,
                                        1,
                                        1,
                                        1,
                                        1,
                                        1,
                                        1,
                                        1,
                                        1,
                                        1,
                                        1,
                                        1,
                                        1,
                                        1,
                                        1,
                                        41,
                                        1,
                                        1,
                                        1,
                                        1,
                                        1,
                                        1,
                                        1,
                                        1,
                                        1,
                                        1,
                                        1,
                                        1,
                                        1,
                                        1,
                                        1,
                                        1,
                                        1,
                                        1,
                                        1,
                                        1,
                                        1,
                                        1,
                                        1,
                                        1,
                                        1,
                                        1,
                                        1,
                                        1,
                                        1,
                                        1,
                                        1,
                                        1,
                                        1,
                                        1,
                                        1,
                                        1,
                                        1,
                                        1,
                                        1,
                                        1,
                                        1,
                                        1
                                    ]
                                }
                            ],
                            "layout": {
                                "legend": {
                                    "tracegroupgap": 0
                                },
                                "margin": {
                                    "t": 60
                                },
                                "template": {
                                    "data": {
                                        "bar": [
                                            {
                                                "error_x": {
                                                    "color": "#2a3f5f"
                                                },
                                                "error_y": {
                                                    "color": "#2a3f5f"
                                                },
                                                "marker": {
                                                    "line": {
                                                        "color": "#E5ECF6",
                                                        "width": 0.5
                                                    },
                                                    "pattern": {
                                                        "fillmode": "overlay",
                                                        "size": 10,
                                                        "solidity": 0.2
                                                    }
                                                },
                                                "type": "bar"
                                            }
                                        ],
                                        "barpolar": [
                                            {
                                                "marker": {
                                                    "line": {
                                                        "color": "#E5ECF6",
                                                        "width": 0.5
                                                    },
                                                    "pattern": {
                                                        "fillmode": "overlay",
                                                        "size": 10,
                                                        "solidity": 0.2
                                                    }
                                                },
                                                "type": "barpolar"
                                            }
                                        ],
                                        "carpet": [
                                            {
                                                "aaxis": {
                                                    "endlinecolor": "#2a3f5f",
                                                    "gridcolor": "white",
                                                    "linecolor": "white",
                                                    "minorgridcolor": "white",
                                                    "startlinecolor": "#2a3f5f"
                                                },
                                                "baxis": {
                                                    "endlinecolor": "#2a3f5f",
                                                    "gridcolor": "white",
                                                    "linecolor": "white",
                                                    "minorgridcolor": "white",
                                                    "startlinecolor": "#2a3f5f"
                                                },
                                                "type": "carpet"
                                            }
                                        ],
                                        "choropleth": [
                                            {
                                                "colorbar": {
                                                    "outlinewidth": 0,
                                                    "ticks": ""
                                                },
                                                "type": "choropleth"
                                            }
                                        ],
                                        "contour": [
                                            {
                                                "colorbar": {
                                                    "outlinewidth": 0,
                                                    "ticks": ""
                                                },
                                                "colorscale": [
                                                    [
                                                        0,
                                                        "#0d0887"
                                                    ],
                                                    [
                                                        0.1111111111111111,
                                                        "#46039f"
                                                    ],
                                                    [
                                                        0.2222222222222222,
                                                        "#7201a8"
                                                    ],
                                                    [
                                                        0.3333333333333333,
                                                        "#9c179e"
                                                    ],
                                                    [
                                                        0.4444444444444444,
                                                        "#bd3786"
                                                    ],
                                                    [
                                                        0.5555555555555556,
                                                        "#d8576b"
                                                    ],
                                                    [
                                                        0.6666666666666666,
                                                        "#ed7953"
                                                    ],
                                                    [
                                                        0.7777777777777778,
                                                        "#fb9f3a"
                                                    ],
                                                    [
                                                        0.8888888888888888,
                                                        "#fdca26"
                                                    ],
                                                    [
                                                        1,
                                                        "#f0f921"
                                                    ]
                                                ],
                                                "type": "contour"
                                            }
                                        ],
                                        "contourcarpet": [
                                            {
                                                "colorbar": {
                                                    "outlinewidth": 0,
                                                    "ticks": ""
                                                },
                                                "type": "contourcarpet"
                                            }
                                        ],
                                        "heatmap": [
                                            {
                                                "colorbar": {
                                                    "outlinewidth": 0,
                                                    "ticks": ""
                                                },
                                                "colorscale": [
                                                    [
                                                        0,
                                                        "#0d0887"
                                                    ],
                                                    [
                                                        0.1111111111111111,
                                                        "#46039f"
                                                    ],
                                                    [
                                                        0.2222222222222222,
                                                        "#7201a8"
                                                    ],
                                                    [
                                                        0.3333333333333333,
                                                        "#9c179e"
                                                    ],
                                                    [
                                                        0.4444444444444444,
                                                        "#bd3786"
                                                    ],
                                                    [
                                                        0.5555555555555556,
                                                        "#d8576b"
                                                    ],
                                                    [
                                                        0.6666666666666666,
                                                        "#ed7953"
                                                    ],
                                                    [
                                                        0.7777777777777778,
                                                        "#fb9f3a"
                                                    ],
                                                    [
                                                        0.8888888888888888,
                                                        "#fdca26"
                                                    ],
                                                    [
                                                        1,
                                                        "#f0f921"
                                                    ]
                                                ],
                                                "type": "heatmap"
                                            }
                                        ],
                                        "heatmapgl": [
                                            {
                                                "colorbar": {
                                                    "outlinewidth": 0,
                                                    "ticks": ""
                                                },
                                                "colorscale": [
                                                    [
                                                        0,
                                                        "#0d0887"
                                                    ],
                                                    [
                                                        0.1111111111111111,
                                                        "#46039f"
                                                    ],
                                                    [
                                                        0.2222222222222222,
                                                        "#7201a8"
                                                    ],
                                                    [
                                                        0.3333333333333333,
                                                        "#9c179e"
                                                    ],
                                                    [
                                                        0.4444444444444444,
                                                        "#bd3786"
                                                    ],
                                                    [
                                                        0.5555555555555556,
                                                        "#d8576b"
                                                    ],
                                                    [
                                                        0.6666666666666666,
                                                        "#ed7953"
                                                    ],
                                                    [
                                                        0.7777777777777778,
                                                        "#fb9f3a"
                                                    ],
                                                    [
                                                        0.8888888888888888,
                                                        "#fdca26"
                                                    ],
                                                    [
                                                        1,
                                                        "#f0f921"
                                                    ]
                                                ],
                                                "type": "heatmapgl"
                                            }
                                        ],
                                        "histogram": [
                                            {
                                                "marker": {
                                                    "pattern": {
                                                        "fillmode": "overlay",
                                                        "size": 10,
                                                        "solidity": 0.2
                                                    }
                                                },
                                                "type": "histogram"
                                            }
                                        ],
                                        "histogram2d": [
                                            {
                                                "colorbar": {
                                                    "outlinewidth": 0,
                                                    "ticks": ""
                                                },
                                                "colorscale": [
                                                    [
                                                        0,
                                                        "#0d0887"
                                                    ],
                                                    [
                                                        0.1111111111111111,
                                                        "#46039f"
                                                    ],
                                                    [
                                                        0.2222222222222222,
                                                        "#7201a8"
                                                    ],
                                                    [
                                                        0.3333333333333333,
                                                        "#9c179e"
                                                    ],
                                                    [
                                                        0.4444444444444444,
                                                        "#bd3786"
                                                    ],
                                                    [
                                                        0.5555555555555556,
                                                        "#d8576b"
                                                    ],
                                                    [
                                                        0.6666666666666666,
                                                        "#ed7953"
                                                    ],
                                                    [
                                                        0.7777777777777778,
                                                        "#fb9f3a"
                                                    ],
                                                    [
                                                        0.8888888888888888,
                                                        "#fdca26"
                                                    ],
                                                    [
                                                        1,
                                                        "#f0f921"
                                                    ]
                                                ],
                                                "type": "histogram2d"
                                            }
                                        ],
                                        "histogram2dcontour": [
                                            {
                                                "colorbar": {
                                                    "outlinewidth": 0,
                                                    "ticks": ""
                                                },
                                                "colorscale": [
                                                    [
                                                        0,
                                                        "#0d0887"
                                                    ],
                                                    [
                                                        0.1111111111111111,
                                                        "#46039f"
                                                    ],
                                                    [
                                                        0.2222222222222222,
                                                        "#7201a8"
                                                    ],
                                                    [
                                                        0.3333333333333333,
                                                        "#9c179e"
                                                    ],
                                                    [
                                                        0.4444444444444444,
                                                        "#bd3786"
                                                    ],
                                                    [
                                                        0.5555555555555556,
                                                        "#d8576b"
                                                    ],
                                                    [
                                                        0.6666666666666666,
                                                        "#ed7953"
                                                    ],
                                                    [
                                                        0.7777777777777778,
                                                        "#fb9f3a"
                                                    ],
                                                    [
                                                        0.8888888888888888,
                                                        "#fdca26"
                                                    ],
                                                    [
                                                        1,
                                                        "#f0f921"
                                                    ]
                                                ],
                                                "type": "histogram2dcontour"
                                            }
                                        ],
                                        "mesh3d": [
                                            {
                                                "colorbar": {
                                                    "outlinewidth": 0,
                                                    "ticks": ""
                                                },
                                                "type": "mesh3d"
                                            }
                                        ],
                                        "parcoords": [
                                            {
                                                "line": {
                                                    "colorbar": {
                                                        "outlinewidth": 0,
                                                        "ticks": ""
                                                    }
                                                },
                                                "type": "parcoords"
                                            }
                                        ],
                                        "pie": [
                                            {
                                                "automargin": true,
                                                "type": "pie"
                                            }
                                        ],
                                        "scatter": [
                                            {
                                                "marker": {
                                                    "colorbar": {
                                                        "outlinewidth": 0,
                                                        "ticks": ""
                                                    }
                                                },
                                                "type": "scatter"
                                            }
                                        ],
                                        "scatter3d": [
                                            {
                                                "line": {
                                                    "colorbar": {
                                                        "outlinewidth": 0,
                                                        "ticks": ""
                                                    }
                                                },
                                                "marker": {
                                                    "colorbar": {
                                                        "outlinewidth": 0,
                                                        "ticks": ""
                                                    }
                                                },
                                                "type": "scatter3d"
                                            }
                                        ],
                                        "scattercarpet": [
                                            {
                                                "marker": {
                                                    "colorbar": {
                                                        "outlinewidth": 0,
                                                        "ticks": ""
                                                    }
                                                },
                                                "type": "scattercarpet"
                                            }
                                        ],
                                        "scattergeo": [
                                            {
                                                "marker": {
                                                    "colorbar": {
                                                        "outlinewidth": 0,
                                                        "ticks": ""
                                                    }
                                                },
                                                "type": "scattergeo"
                                            }
                                        ],
                                        "scattergl": [
                                            {
                                                "marker": {
                                                    "colorbar": {
                                                        "outlinewidth": 0,
                                                        "ticks": ""
                                                    }
                                                },
                                                "type": "scattergl"
                                            }
                                        ],
                                        "scattermapbox": [
                                            {
                                                "marker": {
                                                    "colorbar": {
                                                        "outlinewidth": 0,
                                                        "ticks": ""
                                                    }
                                                },
                                                "type": "scattermapbox"
                                            }
                                        ],
                                        "scatterpolar": [
                                            {
                                                "marker": {
                                                    "colorbar": {
                                                        "outlinewidth": 0,
                                                        "ticks": ""
                                                    }
                                                },
                                                "type": "scatterpolar"
                                            }
                                        ],
                                        "scatterpolargl": [
                                            {
                                                "marker": {
                                                    "colorbar": {
                                                        "outlinewidth": 0,
                                                        "ticks": ""
                                                    }
                                                },
                                                "type": "scatterpolargl"
                                            }
                                        ],
                                        "scatterternary": [
                                            {
                                                "marker": {
                                                    "colorbar": {
                                                        "outlinewidth": 0,
                                                        "ticks": ""
                                                    }
                                                },
                                                "type": "scatterternary"
                                            }
                                        ],
                                        "surface": [
                                            {
                                                "colorbar": {
                                                    "outlinewidth": 0,
                                                    "ticks": ""
                                                },
                                                "colorscale": [
                                                    [
                                                        0,
                                                        "#0d0887"
                                                    ],
                                                    [
                                                        0.1111111111111111,
                                                        "#46039f"
                                                    ],
                                                    [
                                                        0.2222222222222222,
                                                        "#7201a8"
                                                    ],
                                                    [
                                                        0.3333333333333333,
                                                        "#9c179e"
                                                    ],
                                                    [
                                                        0.4444444444444444,
                                                        "#bd3786"
                                                    ],
                                                    [
                                                        0.5555555555555556,
                                                        "#d8576b"
                                                    ],
                                                    [
                                                        0.6666666666666666,
                                                        "#ed7953"
                                                    ],
                                                    [
                                                        0.7777777777777778,
                                                        "#fb9f3a"
                                                    ],
                                                    [
                                                        0.8888888888888888,
                                                        "#fdca26"
                                                    ],
                                                    [
                                                        1,
                                                        "#f0f921"
                                                    ]
                                                ],
                                                "type": "surface"
                                            }
                                        ],
                                        "table": [
                                            {
                                                "cells": {
                                                    "fill": {
                                                        "color": "#EBF0F8"
                                                    },
                                                    "line": {
                                                        "color": "white"
                                                    }
                                                },
                                                "header": {
                                                    "fill": {
                                                        "color": "#C8D4E3"
                                                    },
                                                    "line": {
                                                        "color": "white"
                                                    }
                                                },
                                                "type": "table"
                                            }
                                        ]
                                    },
                                    "layout": {
                                        "annotationdefaults": {
                                            "arrowcolor": "#2a3f5f",
                                            "arrowhead": 0,
                                            "arrowwidth": 1
                                        },
                                        "autotypenumbers": "strict",
                                        "coloraxis": {
                                            "colorbar": {
                                                "outlinewidth": 0,
                                                "ticks": ""
                                            }
                                        },
                                        "colorscale": {
                                            "diverging": [
                                                [
                                                    0,
                                                    "#8e0152"
                                                ],
                                                [
                                                    0.1,
                                                    "#c51b7d"
                                                ],
                                                [
                                                    0.2,
                                                    "#de77ae"
                                                ],
                                                [
                                                    0.3,
                                                    "#f1b6da"
                                                ],
                                                [
                                                    0.4,
                                                    "#fde0ef"
                                                ],
                                                [
                                                    0.5,
                                                    "#f7f7f7"
                                                ],
                                                [
                                                    0.6,
                                                    "#e6f5d0"
                                                ],
                                                [
                                                    0.7,
                                                    "#b8e186"
                                                ],
                                                [
                                                    0.8,
                                                    "#7fbc41"
                                                ],
                                                [
                                                    0.9,
                                                    "#4d9221"
                                                ],
                                                [
                                                    1,
                                                    "#276419"
                                                ]
                                            ],
                                            "sequential": [
                                                [
                                                    0,
                                                    "#0d0887"
                                                ],
                                                [
                                                    0.1111111111111111,
                                                    "#46039f"
                                                ],
                                                [
                                                    0.2222222222222222,
                                                    "#7201a8"
                                                ],
                                                [
                                                    0.3333333333333333,
                                                    "#9c179e"
                                                ],
                                                [
                                                    0.4444444444444444,
                                                    "#bd3786"
                                                ],
                                                [
                                                    0.5555555555555556,
                                                    "#d8576b"
                                                ],
                                                [
                                                    0.6666666666666666,
                                                    "#ed7953"
                                                ],
                                                [
                                                    0.7777777777777778,
                                                    "#fb9f3a"
                                                ],
                                                [
                                                    0.8888888888888888,
                                                    "#fdca26"
                                                ],
                                                [
                                                    1,
                                                    "#f0f921"
                                                ]
                                            ],
                                            "sequentialminus": [
                                                [
                                                    0,
                                                    "#0d0887"
                                                ],
                                                [
                                                    0.1111111111111111,
                                                    "#46039f"
                                                ],
                                                [
                                                    0.2222222222222222,
                                                    "#7201a8"
                                                ],
                                                [
                                                    0.3333333333333333,
                                                    "#9c179e"
                                                ],
                                                [
                                                    0.4444444444444444,
                                                    "#bd3786"
                                                ],
                                                [
                                                    0.5555555555555556,
                                                    "#d8576b"
                                                ],
                                                [
                                                    0.6666666666666666,
                                                    "#ed7953"
                                                ],
                                                [
                                                    0.7777777777777778,
                                                    "#fb9f3a"
                                                ],
                                                [
                                                    0.8888888888888888,
                                                    "#fdca26"
                                                ],
                                                [
                                                    1,
                                                    "#f0f921"
                                                ]
                                            ]
                                        },
                                        "colorway": [
                                            "#636efa",
                                            "#EF553B",
                                            "#00cc96",
                                            "#ab63fa",
                                            "#FFA15A",
                                            "#19d3f3",
                                            "#FF6692",
                                            "#B6E880",
                                            "#FF97FF",
                                            "#FECB52"
                                        ],
                                        "font": {
                                            "color": "#2a3f5f"
                                        },
                                        "geo": {
                                            "bgcolor": "white",
                                            "lakecolor": "white",
                                            "landcolor": "#E5ECF6",
                                            "showlakes": true,
                                            "showland": true,
                                            "subunitcolor": "white"
                                        },
                                        "hoverlabel": {
                                            "align": "left"
                                        },
                                        "hovermode": "closest",
                                        "mapbox": {
                                            "style": "light"
                                        },
                                        "paper_bgcolor": "white",
                                        "plot_bgcolor": "#E5ECF6",
                                        "polar": {
                                            "angularaxis": {
                                                "gridcolor": "white",
                                                "linecolor": "white",
                                                "ticks": ""
                                            },
                                            "bgcolor": "#E5ECF6",
                                            "radialaxis": {
                                                "gridcolor": "white",
                                                "linecolor": "white",
                                                "ticks": ""
                                            }
                                        },
                                        "scene": {
                                            "xaxis": {
                                                "backgroundcolor": "#E5ECF6",
                                                "gridcolor": "white",
                                                "gridwidth": 2,
                                                "linecolor": "white",
                                                "showbackground": true,
                                                "ticks": "",
                                                "zerolinecolor": "white"
                                            },
                                            "yaxis": {
                                                "backgroundcolor": "#E5ECF6",
                                                "gridcolor": "white",
                                                "gridwidth": 2,
                                                "linecolor": "white",
                                                "showbackground": true,
                                                "ticks": "",
                                                "zerolinecolor": "white"
                                            },
                                            "zaxis": {
                                                "backgroundcolor": "#E5ECF6",
                                                "gridcolor": "white",
                                                "gridwidth": 2,
                                                "linecolor": "white",
                                                "showbackground": true,
                                                "ticks": "",
                                                "zerolinecolor": "white"
                                            }
                                        },
                                        "shapedefaults": {
                                            "line": {
                                                "color": "#2a3f5f"
                                            }
                                        },
                                        "ternary": {
                                            "aaxis": {
                                                "gridcolor": "white",
                                                "linecolor": "white",
                                                "ticks": ""
                                            },
                                            "baxis": {
                                                "gridcolor": "white",
                                                "linecolor": "white",
                                                "ticks": ""
                                            },
                                            "bgcolor": "#E5ECF6",
                                            "caxis": {
                                                "gridcolor": "white",
                                                "linecolor": "white",
                                                "ticks": ""
                                            }
                                        },
                                        "title": {
                                            "x": 0.05
                                        },
                                        "xaxis": {
                                            "automargin": true,
                                            "gridcolor": "white",
                                            "linecolor": "white",
                                            "ticks": "",
                                            "title": {
                                                "standoff": 15
                                            },
                                            "zerolinecolor": "white",
                                            "zerolinewidth": 2
                                        },
                                        "yaxis": {
                                            "automargin": true,
                                            "gridcolor": "white",
                                            "linecolor": "white",
                                            "ticks": "",
                                            "title": {
                                                "standoff": 15
                                            },
                                            "zerolinecolor": "white",
                                            "zerolinewidth": 2
                                        }
                                    }
                                }
                            }
                        }
                    },
                    "metadata": {}
                }
            ],
            "metadata": {}
        },
        {
            "cell_type": "code",
            "execution_count": 120,
            "source": [
                "graph=px.scatter_matrix(radar_tweet, dimensions=[\"p2\", 'Frequence'], color='Frequence')\r\n",
                "graph.show()"
            ],
            "outputs": [
                {
                    "output_type": "display_data",
                    "data": {
                        "application/vnd.plotly.v1+json": {
                            "config": {
                                "plotlyServerURL": "https://plot.ly"
                            },
                            "data": [
                                {
                                    "dimensions": [
                                        {
                                            "axis": {
                                                "matches": true
                                            },
                                            "label": "p2",
                                            "values": [
                                                3.226427814231424,
                                                0,
                                                1.3648317549489184,
                                                5.292353485655289,
                                                0,
                                                3.030927136185733,
                                                0,
                                                20.995756594575045,
                                                0,
                                                0.4133861840286545,
                                                6.568709638656523,
                                                0,
                                                3.4026625775708164,
                                                0,
                                                0.4076824206025275,
                                                13.809446011888486,
                                                0,
                                                31.720934514307235,
                                                0.8618755598851776,
                                                0,
                                                5.928236872633495,
                                                0.3803650085650885,
                                                3.63947882413236,
                                                13.239195352885751,
                                                0.820893034579347,
                                                0,
                                                0,
                                                3.224116280130845,
                                                7.764431287675812,
                                                0,
                                                0,
                                                0,
                                                0,
                                                0,
                                                7.423708119536945,
                                                0,
                                                0,
                                                0,
                                                0.4731558991612316,
                                                0.5455442746543394,
                                                0,
                                                1.7533227766138164,
                                                12.63719207344412,
                                                0,
                                                0.1513404468240313,
                                                0,
                                                12.760457155738267,
                                                12.10426151475294,
                                                4.099373604766108,
                                                3.6109210365866886,
                                                0,
                                                0,
                                                2.497415378106691,
                                                0,
                                                0.6437168840331176,
                                                0,
                                                17.13453533415555,
                                                0,
                                                0,
                                                18.554606581585748,
                                                1.8426665919024143,
                                                1.0912386255697637,
                                                0,
                                                22.22316773402944,
                                                0.2290630079686977,
                                                0,
                                                1.3387157638229508,
                                                0,
                                                3.145896796985037,
                                                0.8313157865954388,
                                                0,
                                                1.4192892558893844,
                                                2.102268910530252,
                                                0,
                                                0,
                                                0,
                                                0,
                                                0,
                                                0,
                                                0,
                                                0,
                                                0,
                                                0
                                            ]
                                        },
                                        {
                                            "axis": {
                                                "matches": true
                                            },
                                            "label": "Frequence",
                                            "values": [
                                                3,
                                                2,
                                                6,
                                                5,
                                                11,
                                                9,
                                                6,
                                                7,
                                                4,
                                                3,
                                                9,
                                                2,
                                                4,
                                                8,
                                                1,
                                                8,
                                                2,
                                                3,
                                                2,
                                                3,
                                                4,
                                                6,
                                                5,
                                                9,
                                                5,
                                                6,
                                                1,
                                                2,
                                                10,
                                                5,
                                                1,
                                                2,
                                                12,
                                                2,
                                                22,
                                                6,
                                                2,
                                                3,
                                                6,
                                                3,
                                                11,
                                                9,
                                                15,
                                                13,
                                                5,
                                                5,
                                                9,
                                                7,
                                                15,
                                                12,
                                                7,
                                                10,
                                                14,
                                                8,
                                                14,
                                                8,
                                                17,
                                                15,
                                                3,
                                                6,
                                                5,
                                                13,
                                                1,
                                                16,
                                                6,
                                                26,
                                                18,
                                                2,
                                                6,
                                                4,
                                                4,
                                                14,
                                                5,
                                                3,
                                                16,
                                                2,
                                                1,
                                                1,
                                                1,
                                                1,
                                                3,
                                                2,
                                                3
                                            ]
                                        }
                                    ],
                                    "hovertemplate": "%{xaxis.title.text}=%{x}<br>%{yaxis.title.text}=%{y}<br>Frequence=%{marker.color}<extra></extra>",
                                    "legendgroup": "",
                                    "marker": {
                                        "color": [
                                            3,
                                            2,
                                            6,
                                            5,
                                            11,
                                            9,
                                            6,
                                            7,
                                            4,
                                            3,
                                            9,
                                            2,
                                            4,
                                            8,
                                            1,
                                            8,
                                            2,
                                            3,
                                            2,
                                            3,
                                            4,
                                            6,
                                            5,
                                            9,
                                            5,
                                            6,
                                            1,
                                            2,
                                            10,
                                            5,
                                            1,
                                            2,
                                            12,
                                            2,
                                            22,
                                            6,
                                            2,
                                            3,
                                            6,
                                            3,
                                            11,
                                            9,
                                            15,
                                            13,
                                            5,
                                            5,
                                            9,
                                            7,
                                            15,
                                            12,
                                            7,
                                            10,
                                            14,
                                            8,
                                            14,
                                            8,
                                            17,
                                            15,
                                            3,
                                            6,
                                            5,
                                            13,
                                            1,
                                            16,
                                            6,
                                            26,
                                            18,
                                            2,
                                            6,
                                            4,
                                            4,
                                            14,
                                            5,
                                            3,
                                            16,
                                            2,
                                            1,
                                            1,
                                            1,
                                            1,
                                            3,
                                            2,
                                            3
                                        ],
                                        "coloraxis": "coloraxis",
                                        "symbol": "circle"
                                    },
                                    "name": "",
                                    "showlegend": false,
                                    "type": "splom"
                                }
                            ],
                            "layout": {
                                "coloraxis": {
                                    "colorbar": {
                                        "title": {
                                            "text": "Frequence"
                                        }
                                    },
                                    "colorscale": [
                                        [
                                            0,
                                            "#0d0887"
                                        ],
                                        [
                                            0.1111111111111111,
                                            "#46039f"
                                        ],
                                        [
                                            0.2222222222222222,
                                            "#7201a8"
                                        ],
                                        [
                                            0.3333333333333333,
                                            "#9c179e"
                                        ],
                                        [
                                            0.4444444444444444,
                                            "#bd3786"
                                        ],
                                        [
                                            0.5555555555555556,
                                            "#d8576b"
                                        ],
                                        [
                                            0.6666666666666666,
                                            "#ed7953"
                                        ],
                                        [
                                            0.7777777777777778,
                                            "#fb9f3a"
                                        ],
                                        [
                                            0.8888888888888888,
                                            "#fdca26"
                                        ],
                                        [
                                            1,
                                            "#f0f921"
                                        ]
                                    ]
                                },
                                "dragmode": "select",
                                "legend": {
                                    "tracegroupgap": 0
                                },
                                "margin": {
                                    "t": 60
                                },
                                "template": {
                                    "data": {
                                        "bar": [
                                            {
                                                "error_x": {
                                                    "color": "#2a3f5f"
                                                },
                                                "error_y": {
                                                    "color": "#2a3f5f"
                                                },
                                                "marker": {
                                                    "line": {
                                                        "color": "#E5ECF6",
                                                        "width": 0.5
                                                    },
                                                    "pattern": {
                                                        "fillmode": "overlay",
                                                        "size": 10,
                                                        "solidity": 0.2
                                                    }
                                                },
                                                "type": "bar"
                                            }
                                        ],
                                        "barpolar": [
                                            {
                                                "marker": {
                                                    "line": {
                                                        "color": "#E5ECF6",
                                                        "width": 0.5
                                                    },
                                                    "pattern": {
                                                        "fillmode": "overlay",
                                                        "size": 10,
                                                        "solidity": 0.2
                                                    }
                                                },
                                                "type": "barpolar"
                                            }
                                        ],
                                        "carpet": [
                                            {
                                                "aaxis": {
                                                    "endlinecolor": "#2a3f5f",
                                                    "gridcolor": "white",
                                                    "linecolor": "white",
                                                    "minorgridcolor": "white",
                                                    "startlinecolor": "#2a3f5f"
                                                },
                                                "baxis": {
                                                    "endlinecolor": "#2a3f5f",
                                                    "gridcolor": "white",
                                                    "linecolor": "white",
                                                    "minorgridcolor": "white",
                                                    "startlinecolor": "#2a3f5f"
                                                },
                                                "type": "carpet"
                                            }
                                        ],
                                        "choropleth": [
                                            {
                                                "colorbar": {
                                                    "outlinewidth": 0,
                                                    "ticks": ""
                                                },
                                                "type": "choropleth"
                                            }
                                        ],
                                        "contour": [
                                            {
                                                "colorbar": {
                                                    "outlinewidth": 0,
                                                    "ticks": ""
                                                },
                                                "colorscale": [
                                                    [
                                                        0,
                                                        "#0d0887"
                                                    ],
                                                    [
                                                        0.1111111111111111,
                                                        "#46039f"
                                                    ],
                                                    [
                                                        0.2222222222222222,
                                                        "#7201a8"
                                                    ],
                                                    [
                                                        0.3333333333333333,
                                                        "#9c179e"
                                                    ],
                                                    [
                                                        0.4444444444444444,
                                                        "#bd3786"
                                                    ],
                                                    [
                                                        0.5555555555555556,
                                                        "#d8576b"
                                                    ],
                                                    [
                                                        0.6666666666666666,
                                                        "#ed7953"
                                                    ],
                                                    [
                                                        0.7777777777777778,
                                                        "#fb9f3a"
                                                    ],
                                                    [
                                                        0.8888888888888888,
                                                        "#fdca26"
                                                    ],
                                                    [
                                                        1,
                                                        "#f0f921"
                                                    ]
                                                ],
                                                "type": "contour"
                                            }
                                        ],
                                        "contourcarpet": [
                                            {
                                                "colorbar": {
                                                    "outlinewidth": 0,
                                                    "ticks": ""
                                                },
                                                "type": "contourcarpet"
                                            }
                                        ],
                                        "heatmap": [
                                            {
                                                "colorbar": {
                                                    "outlinewidth": 0,
                                                    "ticks": ""
                                                },
                                                "colorscale": [
                                                    [
                                                        0,
                                                        "#0d0887"
                                                    ],
                                                    [
                                                        0.1111111111111111,
                                                        "#46039f"
                                                    ],
                                                    [
                                                        0.2222222222222222,
                                                        "#7201a8"
                                                    ],
                                                    [
                                                        0.3333333333333333,
                                                        "#9c179e"
                                                    ],
                                                    [
                                                        0.4444444444444444,
                                                        "#bd3786"
                                                    ],
                                                    [
                                                        0.5555555555555556,
                                                        "#d8576b"
                                                    ],
                                                    [
                                                        0.6666666666666666,
                                                        "#ed7953"
                                                    ],
                                                    [
                                                        0.7777777777777778,
                                                        "#fb9f3a"
                                                    ],
                                                    [
                                                        0.8888888888888888,
                                                        "#fdca26"
                                                    ],
                                                    [
                                                        1,
                                                        "#f0f921"
                                                    ]
                                                ],
                                                "type": "heatmap"
                                            }
                                        ],
                                        "heatmapgl": [
                                            {
                                                "colorbar": {
                                                    "outlinewidth": 0,
                                                    "ticks": ""
                                                },
                                                "colorscale": [
                                                    [
                                                        0,
                                                        "#0d0887"
                                                    ],
                                                    [
                                                        0.1111111111111111,
                                                        "#46039f"
                                                    ],
                                                    [
                                                        0.2222222222222222,
                                                        "#7201a8"
                                                    ],
                                                    [
                                                        0.3333333333333333,
                                                        "#9c179e"
                                                    ],
                                                    [
                                                        0.4444444444444444,
                                                        "#bd3786"
                                                    ],
                                                    [
                                                        0.5555555555555556,
                                                        "#d8576b"
                                                    ],
                                                    [
                                                        0.6666666666666666,
                                                        "#ed7953"
                                                    ],
                                                    [
                                                        0.7777777777777778,
                                                        "#fb9f3a"
                                                    ],
                                                    [
                                                        0.8888888888888888,
                                                        "#fdca26"
                                                    ],
                                                    [
                                                        1,
                                                        "#f0f921"
                                                    ]
                                                ],
                                                "type": "heatmapgl"
                                            }
                                        ],
                                        "histogram": [
                                            {
                                                "marker": {
                                                    "pattern": {
                                                        "fillmode": "overlay",
                                                        "size": 10,
                                                        "solidity": 0.2
                                                    }
                                                },
                                                "type": "histogram"
                                            }
                                        ],
                                        "histogram2d": [
                                            {
                                                "colorbar": {
                                                    "outlinewidth": 0,
                                                    "ticks": ""
                                                },
                                                "colorscale": [
                                                    [
                                                        0,
                                                        "#0d0887"
                                                    ],
                                                    [
                                                        0.1111111111111111,
                                                        "#46039f"
                                                    ],
                                                    [
                                                        0.2222222222222222,
                                                        "#7201a8"
                                                    ],
                                                    [
                                                        0.3333333333333333,
                                                        "#9c179e"
                                                    ],
                                                    [
                                                        0.4444444444444444,
                                                        "#bd3786"
                                                    ],
                                                    [
                                                        0.5555555555555556,
                                                        "#d8576b"
                                                    ],
                                                    [
                                                        0.6666666666666666,
                                                        "#ed7953"
                                                    ],
                                                    [
                                                        0.7777777777777778,
                                                        "#fb9f3a"
                                                    ],
                                                    [
                                                        0.8888888888888888,
                                                        "#fdca26"
                                                    ],
                                                    [
                                                        1,
                                                        "#f0f921"
                                                    ]
                                                ],
                                                "type": "histogram2d"
                                            }
                                        ],
                                        "histogram2dcontour": [
                                            {
                                                "colorbar": {
                                                    "outlinewidth": 0,
                                                    "ticks": ""
                                                },
                                                "colorscale": [
                                                    [
                                                        0,
                                                        "#0d0887"
                                                    ],
                                                    [
                                                        0.1111111111111111,
                                                        "#46039f"
                                                    ],
                                                    [
                                                        0.2222222222222222,
                                                        "#7201a8"
                                                    ],
                                                    [
                                                        0.3333333333333333,
                                                        "#9c179e"
                                                    ],
                                                    [
                                                        0.4444444444444444,
                                                        "#bd3786"
                                                    ],
                                                    [
                                                        0.5555555555555556,
                                                        "#d8576b"
                                                    ],
                                                    [
                                                        0.6666666666666666,
                                                        "#ed7953"
                                                    ],
                                                    [
                                                        0.7777777777777778,
                                                        "#fb9f3a"
                                                    ],
                                                    [
                                                        0.8888888888888888,
                                                        "#fdca26"
                                                    ],
                                                    [
                                                        1,
                                                        "#f0f921"
                                                    ]
                                                ],
                                                "type": "histogram2dcontour"
                                            }
                                        ],
                                        "mesh3d": [
                                            {
                                                "colorbar": {
                                                    "outlinewidth": 0,
                                                    "ticks": ""
                                                },
                                                "type": "mesh3d"
                                            }
                                        ],
                                        "parcoords": [
                                            {
                                                "line": {
                                                    "colorbar": {
                                                        "outlinewidth": 0,
                                                        "ticks": ""
                                                    }
                                                },
                                                "type": "parcoords"
                                            }
                                        ],
                                        "pie": [
                                            {
                                                "automargin": true,
                                                "type": "pie"
                                            }
                                        ],
                                        "scatter": [
                                            {
                                                "marker": {
                                                    "colorbar": {
                                                        "outlinewidth": 0,
                                                        "ticks": ""
                                                    }
                                                },
                                                "type": "scatter"
                                            }
                                        ],
                                        "scatter3d": [
                                            {
                                                "line": {
                                                    "colorbar": {
                                                        "outlinewidth": 0,
                                                        "ticks": ""
                                                    }
                                                },
                                                "marker": {
                                                    "colorbar": {
                                                        "outlinewidth": 0,
                                                        "ticks": ""
                                                    }
                                                },
                                                "type": "scatter3d"
                                            }
                                        ],
                                        "scattercarpet": [
                                            {
                                                "marker": {
                                                    "colorbar": {
                                                        "outlinewidth": 0,
                                                        "ticks": ""
                                                    }
                                                },
                                                "type": "scattercarpet"
                                            }
                                        ],
                                        "scattergeo": [
                                            {
                                                "marker": {
                                                    "colorbar": {
                                                        "outlinewidth": 0,
                                                        "ticks": ""
                                                    }
                                                },
                                                "type": "scattergeo"
                                            }
                                        ],
                                        "scattergl": [
                                            {
                                                "marker": {
                                                    "colorbar": {
                                                        "outlinewidth": 0,
                                                        "ticks": ""
                                                    }
                                                },
                                                "type": "scattergl"
                                            }
                                        ],
                                        "scattermapbox": [
                                            {
                                                "marker": {
                                                    "colorbar": {
                                                        "outlinewidth": 0,
                                                        "ticks": ""
                                                    }
                                                },
                                                "type": "scattermapbox"
                                            }
                                        ],
                                        "scatterpolar": [
                                            {
                                                "marker": {
                                                    "colorbar": {
                                                        "outlinewidth": 0,
                                                        "ticks": ""
                                                    }
                                                },
                                                "type": "scatterpolar"
                                            }
                                        ],
                                        "scatterpolargl": [
                                            {
                                                "marker": {
                                                    "colorbar": {
                                                        "outlinewidth": 0,
                                                        "ticks": ""
                                                    }
                                                },
                                                "type": "scatterpolargl"
                                            }
                                        ],
                                        "scatterternary": [
                                            {
                                                "marker": {
                                                    "colorbar": {
                                                        "outlinewidth": 0,
                                                        "ticks": ""
                                                    }
                                                },
                                                "type": "scatterternary"
                                            }
                                        ],
                                        "surface": [
                                            {
                                                "colorbar": {
                                                    "outlinewidth": 0,
                                                    "ticks": ""
                                                },
                                                "colorscale": [
                                                    [
                                                        0,
                                                        "#0d0887"
                                                    ],
                                                    [
                                                        0.1111111111111111,
                                                        "#46039f"
                                                    ],
                                                    [
                                                        0.2222222222222222,
                                                        "#7201a8"
                                                    ],
                                                    [
                                                        0.3333333333333333,
                                                        "#9c179e"
                                                    ],
                                                    [
                                                        0.4444444444444444,
                                                        "#bd3786"
                                                    ],
                                                    [
                                                        0.5555555555555556,
                                                        "#d8576b"
                                                    ],
                                                    [
                                                        0.6666666666666666,
                                                        "#ed7953"
                                                    ],
                                                    [
                                                        0.7777777777777778,
                                                        "#fb9f3a"
                                                    ],
                                                    [
                                                        0.8888888888888888,
                                                        "#fdca26"
                                                    ],
                                                    [
                                                        1,
                                                        "#f0f921"
                                                    ]
                                                ],
                                                "type": "surface"
                                            }
                                        ],
                                        "table": [
                                            {
                                                "cells": {
                                                    "fill": {
                                                        "color": "#EBF0F8"
                                                    },
                                                    "line": {
                                                        "color": "white"
                                                    }
                                                },
                                                "header": {
                                                    "fill": {
                                                        "color": "#C8D4E3"
                                                    },
                                                    "line": {
                                                        "color": "white"
                                                    }
                                                },
                                                "type": "table"
                                            }
                                        ]
                                    },
                                    "layout": {
                                        "annotationdefaults": {
                                            "arrowcolor": "#2a3f5f",
                                            "arrowhead": 0,
                                            "arrowwidth": 1
                                        },
                                        "autotypenumbers": "strict",
                                        "coloraxis": {
                                            "colorbar": {
                                                "outlinewidth": 0,
                                                "ticks": ""
                                            }
                                        },
                                        "colorscale": {
                                            "diverging": [
                                                [
                                                    0,
                                                    "#8e0152"
                                                ],
                                                [
                                                    0.1,
                                                    "#c51b7d"
                                                ],
                                                [
                                                    0.2,
                                                    "#de77ae"
                                                ],
                                                [
                                                    0.3,
                                                    "#f1b6da"
                                                ],
                                                [
                                                    0.4,
                                                    "#fde0ef"
                                                ],
                                                [
                                                    0.5,
                                                    "#f7f7f7"
                                                ],
                                                [
                                                    0.6,
                                                    "#e6f5d0"
                                                ],
                                                [
                                                    0.7,
                                                    "#b8e186"
                                                ],
                                                [
                                                    0.8,
                                                    "#7fbc41"
                                                ],
                                                [
                                                    0.9,
                                                    "#4d9221"
                                                ],
                                                [
                                                    1,
                                                    "#276419"
                                                ]
                                            ],
                                            "sequential": [
                                                [
                                                    0,
                                                    "#0d0887"
                                                ],
                                                [
                                                    0.1111111111111111,
                                                    "#46039f"
                                                ],
                                                [
                                                    0.2222222222222222,
                                                    "#7201a8"
                                                ],
                                                [
                                                    0.3333333333333333,
                                                    "#9c179e"
                                                ],
                                                [
                                                    0.4444444444444444,
                                                    "#bd3786"
                                                ],
                                                [
                                                    0.5555555555555556,
                                                    "#d8576b"
                                                ],
                                                [
                                                    0.6666666666666666,
                                                    "#ed7953"
                                                ],
                                                [
                                                    0.7777777777777778,
                                                    "#fb9f3a"
                                                ],
                                                [
                                                    0.8888888888888888,
                                                    "#fdca26"
                                                ],
                                                [
                                                    1,
                                                    "#f0f921"
                                                ]
                                            ],
                                            "sequentialminus": [
                                                [
                                                    0,
                                                    "#0d0887"
                                                ],
                                                [
                                                    0.1111111111111111,
                                                    "#46039f"
                                                ],
                                                [
                                                    0.2222222222222222,
                                                    "#7201a8"
                                                ],
                                                [
                                                    0.3333333333333333,
                                                    "#9c179e"
                                                ],
                                                [
                                                    0.4444444444444444,
                                                    "#bd3786"
                                                ],
                                                [
                                                    0.5555555555555556,
                                                    "#d8576b"
                                                ],
                                                [
                                                    0.6666666666666666,
                                                    "#ed7953"
                                                ],
                                                [
                                                    0.7777777777777778,
                                                    "#fb9f3a"
                                                ],
                                                [
                                                    0.8888888888888888,
                                                    "#fdca26"
                                                ],
                                                [
                                                    1,
                                                    "#f0f921"
                                                ]
                                            ]
                                        },
                                        "colorway": [
                                            "#636efa",
                                            "#EF553B",
                                            "#00cc96",
                                            "#ab63fa",
                                            "#FFA15A",
                                            "#19d3f3",
                                            "#FF6692",
                                            "#B6E880",
                                            "#FF97FF",
                                            "#FECB52"
                                        ],
                                        "font": {
                                            "color": "#2a3f5f"
                                        },
                                        "geo": {
                                            "bgcolor": "white",
                                            "lakecolor": "white",
                                            "landcolor": "#E5ECF6",
                                            "showlakes": true,
                                            "showland": true,
                                            "subunitcolor": "white"
                                        },
                                        "hoverlabel": {
                                            "align": "left"
                                        },
                                        "hovermode": "closest",
                                        "mapbox": {
                                            "style": "light"
                                        },
                                        "paper_bgcolor": "white",
                                        "plot_bgcolor": "#E5ECF6",
                                        "polar": {
                                            "angularaxis": {
                                                "gridcolor": "white",
                                                "linecolor": "white",
                                                "ticks": ""
                                            },
                                            "bgcolor": "#E5ECF6",
                                            "radialaxis": {
                                                "gridcolor": "white",
                                                "linecolor": "white",
                                                "ticks": ""
                                            }
                                        },
                                        "scene": {
                                            "xaxis": {
                                                "backgroundcolor": "#E5ECF6",
                                                "gridcolor": "white",
                                                "gridwidth": 2,
                                                "linecolor": "white",
                                                "showbackground": true,
                                                "ticks": "",
                                                "zerolinecolor": "white"
                                            },
                                            "yaxis": {
                                                "backgroundcolor": "#E5ECF6",
                                                "gridcolor": "white",
                                                "gridwidth": 2,
                                                "linecolor": "white",
                                                "showbackground": true,
                                                "ticks": "",
                                                "zerolinecolor": "white"
                                            },
                                            "zaxis": {
                                                "backgroundcolor": "#E5ECF6",
                                                "gridcolor": "white",
                                                "gridwidth": 2,
                                                "linecolor": "white",
                                                "showbackground": true,
                                                "ticks": "",
                                                "zerolinecolor": "white"
                                            }
                                        },
                                        "shapedefaults": {
                                            "line": {
                                                "color": "#2a3f5f"
                                            }
                                        },
                                        "ternary": {
                                            "aaxis": {
                                                "gridcolor": "white",
                                                "linecolor": "white",
                                                "ticks": ""
                                            },
                                            "baxis": {
                                                "gridcolor": "white",
                                                "linecolor": "white",
                                                "ticks": ""
                                            },
                                            "bgcolor": "#E5ECF6",
                                            "caxis": {
                                                "gridcolor": "white",
                                                "linecolor": "white",
                                                "ticks": ""
                                            }
                                        },
                                        "title": {
                                            "x": 0.05
                                        },
                                        "xaxis": {
                                            "automargin": true,
                                            "gridcolor": "white",
                                            "linecolor": "white",
                                            "ticks": "",
                                            "title": {
                                                "standoff": 15
                                            },
                                            "zerolinecolor": "white",
                                            "zerolinewidth": 2
                                        },
                                        "yaxis": {
                                            "automargin": true,
                                            "gridcolor": "white",
                                            "linecolor": "white",
                                            "ticks": "",
                                            "title": {
                                                "standoff": 15
                                            },
                                            "zerolinecolor": "white",
                                            "zerolinewidth": 2
                                        }
                                    }
                                }
                            }
                        }
                    },
                    "metadata": {}
                }
            ],
            "metadata": {}
        },
        {
            "cell_type": "code",
            "execution_count": 133,
            "source": [
                "import plotly.graph_objects as go\r\n",
                "from plotly.subplots import make_subplots\r\n",
                "fig = make_subplots(specs=[[{\"secondary_y\": True}]])\r\n",
                "fig.add_trace(\r\n",
                "    go.Scatter(x=radar_tweet.date, y=radar_tweet.Frequence, name=\"Tweet frequence\"),\r\n",
                "    secondary_y=False,\r\n",
                ")\r\n",
                "fig.add_trace(\r\n",
                "    go.Scatter(x=radar_tweet.date, y=radar_tweet.p2, name=\"Radar\"),\r\n",
                "    secondary_y=True,\r\n",
                ")\r\n",
                "fig.update_layout(\r\n",
                "    title_text=\"Tweets frequency and Radar in temporal series\"\r\n",
                ")\r\n",
                "fig.update_yaxes(title_text=\"<b>Tweets frequence</b> yaxis\", secondary_y=False)\r\n",
                "fig.update_yaxes(title_text=\"<b>Radar</b> yaxis\", secondary_y=True)\r\n",
                "\r\n",
                "fig.show()\r\n"
            ],
            "outputs": [
                {
                    "output_type": "display_data",
                    "data": {
                        "application/vnd.plotly.v1+json": {
                            "config": {
                                "plotlyServerURL": "https://plot.ly"
                            },
                            "data": [
                                {
                                    "name": "Tweet frequence",
                                    "type": "scatter",
                                    "x": [
                                        "01-01-2019",
                                        "02-01-2019",
                                        "03-01-2019",
                                        "04-01-2019",
                                        "05-01-2019",
                                        "06-01-2019",
                                        "07-01-2019",
                                        "08-01-2019",
                                        "09-01-2019",
                                        "10-01-2019",
                                        "11-01-2019",
                                        "12-01-2019",
                                        "14-01-2019",
                                        "15-01-2019",
                                        "16-01-2019",
                                        "17-01-2019",
                                        "18-01-2019",
                                        "19-01-2019",
                                        "20-01-2019",
                                        "21-01-2019",
                                        "22-01-2019",
                                        "23-01-2019",
                                        "24-01-2019",
                                        "25-01-2019",
                                        "26-01-2019",
                                        "27-01-2019",
                                        "28-01-2019",
                                        "29-01-2019",
                                        "30-01-2019",
                                        "31-01-2019",
                                        "01-02-2019",
                                        "03-02-2019",
                                        "04-02-2019",
                                        "05-02-2019",
                                        "06-02-2019",
                                        "07-02-2019",
                                        "09-02-2019",
                                        "11-02-2019",
                                        "12-02-2019",
                                        "13-02-2019",
                                        "14-02-2019",
                                        "15-02-2019",
                                        "16-02-2019",
                                        "17-02-2019",
                                        "18-02-2019",
                                        "19-02-2019",
                                        "20-02-2019",
                                        "21-02-2019",
                                        "22-02-2019",
                                        "23-02-2019",
                                        "24-02-2019",
                                        "25-02-2019",
                                        "26-02-2019",
                                        "27-02-2019",
                                        "28-02-2019",
                                        "01-03-2019",
                                        "02-03-2019",
                                        "03-03-2019",
                                        "04-03-2019",
                                        "05-03-2019",
                                        "06-03-2019",
                                        "07-03-2019",
                                        "08-03-2019",
                                        "09-03-2019",
                                        "10-03-2019",
                                        "11-03-2019",
                                        "12-03-2019",
                                        "13-03-2019",
                                        "14-03-2019",
                                        "15-03-2019",
                                        "16-03-2019",
                                        "17-03-2019",
                                        "19-03-2019",
                                        "20-03-2019",
                                        "21-03-2019",
                                        "22-03-2019",
                                        "23-03-2019",
                                        "25-03-2019",
                                        "26-03-2019",
                                        "27-03-2019",
                                        "28-03-2019",
                                        "30-03-2019",
                                        "31-03-2019"
                                    ],
                                    "xaxis": "x",
                                    "y": [
                                        3,
                                        2,
                                        6,
                                        5,
                                        11,
                                        9,
                                        6,
                                        7,
                                        4,
                                        3,
                                        9,
                                        2,
                                        4,
                                        8,
                                        1,
                                        8,
                                        2,
                                        3,
                                        2,
                                        3,
                                        4,
                                        6,
                                        5,
                                        9,
                                        5,
                                        6,
                                        1,
                                        2,
                                        10,
                                        5,
                                        1,
                                        2,
                                        12,
                                        2,
                                        22,
                                        6,
                                        2,
                                        3,
                                        6,
                                        3,
                                        11,
                                        9,
                                        15,
                                        13,
                                        5,
                                        5,
                                        9,
                                        7,
                                        15,
                                        12,
                                        7,
                                        10,
                                        14,
                                        8,
                                        14,
                                        8,
                                        17,
                                        15,
                                        3,
                                        6,
                                        5,
                                        13,
                                        1,
                                        16,
                                        6,
                                        26,
                                        18,
                                        2,
                                        6,
                                        4,
                                        4,
                                        14,
                                        5,
                                        3,
                                        16,
                                        2,
                                        1,
                                        1,
                                        1,
                                        1,
                                        3,
                                        2,
                                        3
                                    ],
                                    "yaxis": "y"
                                },
                                {
                                    "name": "Radar",
                                    "type": "scatter",
                                    "x": [
                                        "01-01-2019",
                                        "02-01-2019",
                                        "03-01-2019",
                                        "04-01-2019",
                                        "05-01-2019",
                                        "06-01-2019",
                                        "07-01-2019",
                                        "08-01-2019",
                                        "09-01-2019",
                                        "10-01-2019",
                                        "11-01-2019",
                                        "12-01-2019",
                                        "14-01-2019",
                                        "15-01-2019",
                                        "16-01-2019",
                                        "17-01-2019",
                                        "18-01-2019",
                                        "19-01-2019",
                                        "20-01-2019",
                                        "21-01-2019",
                                        "22-01-2019",
                                        "23-01-2019",
                                        "24-01-2019",
                                        "25-01-2019",
                                        "26-01-2019",
                                        "27-01-2019",
                                        "28-01-2019",
                                        "29-01-2019",
                                        "30-01-2019",
                                        "31-01-2019",
                                        "01-02-2019",
                                        "03-02-2019",
                                        "04-02-2019",
                                        "05-02-2019",
                                        "06-02-2019",
                                        "07-02-2019",
                                        "09-02-2019",
                                        "11-02-2019",
                                        "12-02-2019",
                                        "13-02-2019",
                                        "14-02-2019",
                                        "15-02-2019",
                                        "16-02-2019",
                                        "17-02-2019",
                                        "18-02-2019",
                                        "19-02-2019",
                                        "20-02-2019",
                                        "21-02-2019",
                                        "22-02-2019",
                                        "23-02-2019",
                                        "24-02-2019",
                                        "25-02-2019",
                                        "26-02-2019",
                                        "27-02-2019",
                                        "28-02-2019",
                                        "01-03-2019",
                                        "02-03-2019",
                                        "03-03-2019",
                                        "04-03-2019",
                                        "05-03-2019",
                                        "06-03-2019",
                                        "07-03-2019",
                                        "08-03-2019",
                                        "09-03-2019",
                                        "10-03-2019",
                                        "11-03-2019",
                                        "12-03-2019",
                                        "13-03-2019",
                                        "14-03-2019",
                                        "15-03-2019",
                                        "16-03-2019",
                                        "17-03-2019",
                                        "19-03-2019",
                                        "20-03-2019",
                                        "21-03-2019",
                                        "22-03-2019",
                                        "23-03-2019",
                                        "25-03-2019",
                                        "26-03-2019",
                                        "27-03-2019",
                                        "28-03-2019",
                                        "30-03-2019",
                                        "31-03-2019"
                                    ],
                                    "xaxis": "x",
                                    "y": [
                                        3.226427814231424,
                                        0,
                                        1.3648317549489184,
                                        5.292353485655289,
                                        0,
                                        3.030927136185733,
                                        0,
                                        20.995756594575045,
                                        0,
                                        0.4133861840286545,
                                        6.568709638656523,
                                        0,
                                        3.4026625775708164,
                                        0,
                                        0.4076824206025275,
                                        13.809446011888486,
                                        0,
                                        31.720934514307235,
                                        0.8618755598851776,
                                        0,
                                        5.928236872633495,
                                        0.3803650085650885,
                                        3.63947882413236,
                                        13.239195352885751,
                                        0.820893034579347,
                                        0,
                                        0,
                                        3.224116280130845,
                                        7.764431287675812,
                                        0,
                                        0,
                                        0,
                                        0,
                                        0,
                                        7.423708119536945,
                                        0,
                                        0,
                                        0,
                                        0.4731558991612316,
                                        0.5455442746543394,
                                        0,
                                        1.7533227766138164,
                                        12.63719207344412,
                                        0,
                                        0.1513404468240313,
                                        0,
                                        12.760457155738267,
                                        12.10426151475294,
                                        4.099373604766108,
                                        3.6109210365866886,
                                        0,
                                        0,
                                        2.497415378106691,
                                        0,
                                        0.6437168840331176,
                                        0,
                                        17.13453533415555,
                                        0,
                                        0,
                                        18.554606581585748,
                                        1.8426665919024143,
                                        1.0912386255697637,
                                        0,
                                        22.22316773402944,
                                        0.2290630079686977,
                                        0,
                                        1.3387157638229508,
                                        0,
                                        3.145896796985037,
                                        0.8313157865954388,
                                        0,
                                        1.4192892558893844,
                                        2.102268910530252,
                                        0,
                                        0,
                                        0,
                                        0,
                                        0,
                                        0,
                                        0,
                                        0,
                                        0,
                                        0
                                    ],
                                    "yaxis": "y2"
                                }
                            ],
                            "layout": {
                                "template": {
                                    "data": {
                                        "bar": [
                                            {
                                                "error_x": {
                                                    "color": "#2a3f5f"
                                                },
                                                "error_y": {
                                                    "color": "#2a3f5f"
                                                },
                                                "marker": {
                                                    "line": {
                                                        "color": "#E5ECF6",
                                                        "width": 0.5
                                                    },
                                                    "pattern": {
                                                        "fillmode": "overlay",
                                                        "size": 10,
                                                        "solidity": 0.2
                                                    }
                                                },
                                                "type": "bar"
                                            }
                                        ],
                                        "barpolar": [
                                            {
                                                "marker": {
                                                    "line": {
                                                        "color": "#E5ECF6",
                                                        "width": 0.5
                                                    },
                                                    "pattern": {
                                                        "fillmode": "overlay",
                                                        "size": 10,
                                                        "solidity": 0.2
                                                    }
                                                },
                                                "type": "barpolar"
                                            }
                                        ],
                                        "carpet": [
                                            {
                                                "aaxis": {
                                                    "endlinecolor": "#2a3f5f",
                                                    "gridcolor": "white",
                                                    "linecolor": "white",
                                                    "minorgridcolor": "white",
                                                    "startlinecolor": "#2a3f5f"
                                                },
                                                "baxis": {
                                                    "endlinecolor": "#2a3f5f",
                                                    "gridcolor": "white",
                                                    "linecolor": "white",
                                                    "minorgridcolor": "white",
                                                    "startlinecolor": "#2a3f5f"
                                                },
                                                "type": "carpet"
                                            }
                                        ],
                                        "choropleth": [
                                            {
                                                "colorbar": {
                                                    "outlinewidth": 0,
                                                    "ticks": ""
                                                },
                                                "type": "choropleth"
                                            }
                                        ],
                                        "contour": [
                                            {
                                                "colorbar": {
                                                    "outlinewidth": 0,
                                                    "ticks": ""
                                                },
                                                "colorscale": [
                                                    [
                                                        0,
                                                        "#0d0887"
                                                    ],
                                                    [
                                                        0.1111111111111111,
                                                        "#46039f"
                                                    ],
                                                    [
                                                        0.2222222222222222,
                                                        "#7201a8"
                                                    ],
                                                    [
                                                        0.3333333333333333,
                                                        "#9c179e"
                                                    ],
                                                    [
                                                        0.4444444444444444,
                                                        "#bd3786"
                                                    ],
                                                    [
                                                        0.5555555555555556,
                                                        "#d8576b"
                                                    ],
                                                    [
                                                        0.6666666666666666,
                                                        "#ed7953"
                                                    ],
                                                    [
                                                        0.7777777777777778,
                                                        "#fb9f3a"
                                                    ],
                                                    [
                                                        0.8888888888888888,
                                                        "#fdca26"
                                                    ],
                                                    [
                                                        1,
                                                        "#f0f921"
                                                    ]
                                                ],
                                                "type": "contour"
                                            }
                                        ],
                                        "contourcarpet": [
                                            {
                                                "colorbar": {
                                                    "outlinewidth": 0,
                                                    "ticks": ""
                                                },
                                                "type": "contourcarpet"
                                            }
                                        ],
                                        "heatmap": [
                                            {
                                                "colorbar": {
                                                    "outlinewidth": 0,
                                                    "ticks": ""
                                                },
                                                "colorscale": [
                                                    [
                                                        0,
                                                        "#0d0887"
                                                    ],
                                                    [
                                                        0.1111111111111111,
                                                        "#46039f"
                                                    ],
                                                    [
                                                        0.2222222222222222,
                                                        "#7201a8"
                                                    ],
                                                    [
                                                        0.3333333333333333,
                                                        "#9c179e"
                                                    ],
                                                    [
                                                        0.4444444444444444,
                                                        "#bd3786"
                                                    ],
                                                    [
                                                        0.5555555555555556,
                                                        "#d8576b"
                                                    ],
                                                    [
                                                        0.6666666666666666,
                                                        "#ed7953"
                                                    ],
                                                    [
                                                        0.7777777777777778,
                                                        "#fb9f3a"
                                                    ],
                                                    [
                                                        0.8888888888888888,
                                                        "#fdca26"
                                                    ],
                                                    [
                                                        1,
                                                        "#f0f921"
                                                    ]
                                                ],
                                                "type": "heatmap"
                                            }
                                        ],
                                        "heatmapgl": [
                                            {
                                                "colorbar": {
                                                    "outlinewidth": 0,
                                                    "ticks": ""
                                                },
                                                "colorscale": [
                                                    [
                                                        0,
                                                        "#0d0887"
                                                    ],
                                                    [
                                                        0.1111111111111111,
                                                        "#46039f"
                                                    ],
                                                    [
                                                        0.2222222222222222,
                                                        "#7201a8"
                                                    ],
                                                    [
                                                        0.3333333333333333,
                                                        "#9c179e"
                                                    ],
                                                    [
                                                        0.4444444444444444,
                                                        "#bd3786"
                                                    ],
                                                    [
                                                        0.5555555555555556,
                                                        "#d8576b"
                                                    ],
                                                    [
                                                        0.6666666666666666,
                                                        "#ed7953"
                                                    ],
                                                    [
                                                        0.7777777777777778,
                                                        "#fb9f3a"
                                                    ],
                                                    [
                                                        0.8888888888888888,
                                                        "#fdca26"
                                                    ],
                                                    [
                                                        1,
                                                        "#f0f921"
                                                    ]
                                                ],
                                                "type": "heatmapgl"
                                            }
                                        ],
                                        "histogram": [
                                            {
                                                "marker": {
                                                    "pattern": {
                                                        "fillmode": "overlay",
                                                        "size": 10,
                                                        "solidity": 0.2
                                                    }
                                                },
                                                "type": "histogram"
                                            }
                                        ],
                                        "histogram2d": [
                                            {
                                                "colorbar": {
                                                    "outlinewidth": 0,
                                                    "ticks": ""
                                                },
                                                "colorscale": [
                                                    [
                                                        0,
                                                        "#0d0887"
                                                    ],
                                                    [
                                                        0.1111111111111111,
                                                        "#46039f"
                                                    ],
                                                    [
                                                        0.2222222222222222,
                                                        "#7201a8"
                                                    ],
                                                    [
                                                        0.3333333333333333,
                                                        "#9c179e"
                                                    ],
                                                    [
                                                        0.4444444444444444,
                                                        "#bd3786"
                                                    ],
                                                    [
                                                        0.5555555555555556,
                                                        "#d8576b"
                                                    ],
                                                    [
                                                        0.6666666666666666,
                                                        "#ed7953"
                                                    ],
                                                    [
                                                        0.7777777777777778,
                                                        "#fb9f3a"
                                                    ],
                                                    [
                                                        0.8888888888888888,
                                                        "#fdca26"
                                                    ],
                                                    [
                                                        1,
                                                        "#f0f921"
                                                    ]
                                                ],
                                                "type": "histogram2d"
                                            }
                                        ],
                                        "histogram2dcontour": [
                                            {
                                                "colorbar": {
                                                    "outlinewidth": 0,
                                                    "ticks": ""
                                                },
                                                "colorscale": [
                                                    [
                                                        0,
                                                        "#0d0887"
                                                    ],
                                                    [
                                                        0.1111111111111111,
                                                        "#46039f"
                                                    ],
                                                    [
                                                        0.2222222222222222,
                                                        "#7201a8"
                                                    ],
                                                    [
                                                        0.3333333333333333,
                                                        "#9c179e"
                                                    ],
                                                    [
                                                        0.4444444444444444,
                                                        "#bd3786"
                                                    ],
                                                    [
                                                        0.5555555555555556,
                                                        "#d8576b"
                                                    ],
                                                    [
                                                        0.6666666666666666,
                                                        "#ed7953"
                                                    ],
                                                    [
                                                        0.7777777777777778,
                                                        "#fb9f3a"
                                                    ],
                                                    [
                                                        0.8888888888888888,
                                                        "#fdca26"
                                                    ],
                                                    [
                                                        1,
                                                        "#f0f921"
                                                    ]
                                                ],
                                                "type": "histogram2dcontour"
                                            }
                                        ],
                                        "mesh3d": [
                                            {
                                                "colorbar": {
                                                    "outlinewidth": 0,
                                                    "ticks": ""
                                                },
                                                "type": "mesh3d"
                                            }
                                        ],
                                        "parcoords": [
                                            {
                                                "line": {
                                                    "colorbar": {
                                                        "outlinewidth": 0,
                                                        "ticks": ""
                                                    }
                                                },
                                                "type": "parcoords"
                                            }
                                        ],
                                        "pie": [
                                            {
                                                "automargin": true,
                                                "type": "pie"
                                            }
                                        ],
                                        "scatter": [
                                            {
                                                "marker": {
                                                    "colorbar": {
                                                        "outlinewidth": 0,
                                                        "ticks": ""
                                                    }
                                                },
                                                "type": "scatter"
                                            }
                                        ],
                                        "scatter3d": [
                                            {
                                                "line": {
                                                    "colorbar": {
                                                        "outlinewidth": 0,
                                                        "ticks": ""
                                                    }
                                                },
                                                "marker": {
                                                    "colorbar": {
                                                        "outlinewidth": 0,
                                                        "ticks": ""
                                                    }
                                                },
                                                "type": "scatter3d"
                                            }
                                        ],
                                        "scattercarpet": [
                                            {
                                                "marker": {
                                                    "colorbar": {
                                                        "outlinewidth": 0,
                                                        "ticks": ""
                                                    }
                                                },
                                                "type": "scattercarpet"
                                            }
                                        ],
                                        "scattergeo": [
                                            {
                                                "marker": {
                                                    "colorbar": {
                                                        "outlinewidth": 0,
                                                        "ticks": ""
                                                    }
                                                },
                                                "type": "scattergeo"
                                            }
                                        ],
                                        "scattergl": [
                                            {
                                                "marker": {
                                                    "colorbar": {
                                                        "outlinewidth": 0,
                                                        "ticks": ""
                                                    }
                                                },
                                                "type": "scattergl"
                                            }
                                        ],
                                        "scattermapbox": [
                                            {
                                                "marker": {
                                                    "colorbar": {
                                                        "outlinewidth": 0,
                                                        "ticks": ""
                                                    }
                                                },
                                                "type": "scattermapbox"
                                            }
                                        ],
                                        "scatterpolar": [
                                            {
                                                "marker": {
                                                    "colorbar": {
                                                        "outlinewidth": 0,
                                                        "ticks": ""
                                                    }
                                                },
                                                "type": "scatterpolar"
                                            }
                                        ],
                                        "scatterpolargl": [
                                            {
                                                "marker": {
                                                    "colorbar": {
                                                        "outlinewidth": 0,
                                                        "ticks": ""
                                                    }
                                                },
                                                "type": "scatterpolargl"
                                            }
                                        ],
                                        "scatterternary": [
                                            {
                                                "marker": {
                                                    "colorbar": {
                                                        "outlinewidth": 0,
                                                        "ticks": ""
                                                    }
                                                },
                                                "type": "scatterternary"
                                            }
                                        ],
                                        "surface": [
                                            {
                                                "colorbar": {
                                                    "outlinewidth": 0,
                                                    "ticks": ""
                                                },
                                                "colorscale": [
                                                    [
                                                        0,
                                                        "#0d0887"
                                                    ],
                                                    [
                                                        0.1111111111111111,
                                                        "#46039f"
                                                    ],
                                                    [
                                                        0.2222222222222222,
                                                        "#7201a8"
                                                    ],
                                                    [
                                                        0.3333333333333333,
                                                        "#9c179e"
                                                    ],
                                                    [
                                                        0.4444444444444444,
                                                        "#bd3786"
                                                    ],
                                                    [
                                                        0.5555555555555556,
                                                        "#d8576b"
                                                    ],
                                                    [
                                                        0.6666666666666666,
                                                        "#ed7953"
                                                    ],
                                                    [
                                                        0.7777777777777778,
                                                        "#fb9f3a"
                                                    ],
                                                    [
                                                        0.8888888888888888,
                                                        "#fdca26"
                                                    ],
                                                    [
                                                        1,
                                                        "#f0f921"
                                                    ]
                                                ],
                                                "type": "surface"
                                            }
                                        ],
                                        "table": [
                                            {
                                                "cells": {
                                                    "fill": {
                                                        "color": "#EBF0F8"
                                                    },
                                                    "line": {
                                                        "color": "white"
                                                    }
                                                },
                                                "header": {
                                                    "fill": {
                                                        "color": "#C8D4E3"
                                                    },
                                                    "line": {
                                                        "color": "white"
                                                    }
                                                },
                                                "type": "table"
                                            }
                                        ]
                                    },
                                    "layout": {
                                        "annotationdefaults": {
                                            "arrowcolor": "#2a3f5f",
                                            "arrowhead": 0,
                                            "arrowwidth": 1
                                        },
                                        "autotypenumbers": "strict",
                                        "coloraxis": {
                                            "colorbar": {
                                                "outlinewidth": 0,
                                                "ticks": ""
                                            }
                                        },
                                        "colorscale": {
                                            "diverging": [
                                                [
                                                    0,
                                                    "#8e0152"
                                                ],
                                                [
                                                    0.1,
                                                    "#c51b7d"
                                                ],
                                                [
                                                    0.2,
                                                    "#de77ae"
                                                ],
                                                [
                                                    0.3,
                                                    "#f1b6da"
                                                ],
                                                [
                                                    0.4,
                                                    "#fde0ef"
                                                ],
                                                [
                                                    0.5,
                                                    "#f7f7f7"
                                                ],
                                                [
                                                    0.6,
                                                    "#e6f5d0"
                                                ],
                                                [
                                                    0.7,
                                                    "#b8e186"
                                                ],
                                                [
                                                    0.8,
                                                    "#7fbc41"
                                                ],
                                                [
                                                    0.9,
                                                    "#4d9221"
                                                ],
                                                [
                                                    1,
                                                    "#276419"
                                                ]
                                            ],
                                            "sequential": [
                                                [
                                                    0,
                                                    "#0d0887"
                                                ],
                                                [
                                                    0.1111111111111111,
                                                    "#46039f"
                                                ],
                                                [
                                                    0.2222222222222222,
                                                    "#7201a8"
                                                ],
                                                [
                                                    0.3333333333333333,
                                                    "#9c179e"
                                                ],
                                                [
                                                    0.4444444444444444,
                                                    "#bd3786"
                                                ],
                                                [
                                                    0.5555555555555556,
                                                    "#d8576b"
                                                ],
                                                [
                                                    0.6666666666666666,
                                                    "#ed7953"
                                                ],
                                                [
                                                    0.7777777777777778,
                                                    "#fb9f3a"
                                                ],
                                                [
                                                    0.8888888888888888,
                                                    "#fdca26"
                                                ],
                                                [
                                                    1,
                                                    "#f0f921"
                                                ]
                                            ],
                                            "sequentialminus": [
                                                [
                                                    0,
                                                    "#0d0887"
                                                ],
                                                [
                                                    0.1111111111111111,
                                                    "#46039f"
                                                ],
                                                [
                                                    0.2222222222222222,
                                                    "#7201a8"
                                                ],
                                                [
                                                    0.3333333333333333,
                                                    "#9c179e"
                                                ],
                                                [
                                                    0.4444444444444444,
                                                    "#bd3786"
                                                ],
                                                [
                                                    0.5555555555555556,
                                                    "#d8576b"
                                                ],
                                                [
                                                    0.6666666666666666,
                                                    "#ed7953"
                                                ],
                                                [
                                                    0.7777777777777778,
                                                    "#fb9f3a"
                                                ],
                                                [
                                                    0.8888888888888888,
                                                    "#fdca26"
                                                ],
                                                [
                                                    1,
                                                    "#f0f921"
                                                ]
                                            ]
                                        },
                                        "colorway": [
                                            "#636efa",
                                            "#EF553B",
                                            "#00cc96",
                                            "#ab63fa",
                                            "#FFA15A",
                                            "#19d3f3",
                                            "#FF6692",
                                            "#B6E880",
                                            "#FF97FF",
                                            "#FECB52"
                                        ],
                                        "font": {
                                            "color": "#2a3f5f"
                                        },
                                        "geo": {
                                            "bgcolor": "white",
                                            "lakecolor": "white",
                                            "landcolor": "#E5ECF6",
                                            "showlakes": true,
                                            "showland": true,
                                            "subunitcolor": "white"
                                        },
                                        "hoverlabel": {
                                            "align": "left"
                                        },
                                        "hovermode": "closest",
                                        "mapbox": {
                                            "style": "light"
                                        },
                                        "paper_bgcolor": "white",
                                        "plot_bgcolor": "#E5ECF6",
                                        "polar": {
                                            "angularaxis": {
                                                "gridcolor": "white",
                                                "linecolor": "white",
                                                "ticks": ""
                                            },
                                            "bgcolor": "#E5ECF6",
                                            "radialaxis": {
                                                "gridcolor": "white",
                                                "linecolor": "white",
                                                "ticks": ""
                                            }
                                        },
                                        "scene": {
                                            "xaxis": {
                                                "backgroundcolor": "#E5ECF6",
                                                "gridcolor": "white",
                                                "gridwidth": 2,
                                                "linecolor": "white",
                                                "showbackground": true,
                                                "ticks": "",
                                                "zerolinecolor": "white"
                                            },
                                            "yaxis": {
                                                "backgroundcolor": "#E5ECF6",
                                                "gridcolor": "white",
                                                "gridwidth": 2,
                                                "linecolor": "white",
                                                "showbackground": true,
                                                "ticks": "",
                                                "zerolinecolor": "white"
                                            },
                                            "zaxis": {
                                                "backgroundcolor": "#E5ECF6",
                                                "gridcolor": "white",
                                                "gridwidth": 2,
                                                "linecolor": "white",
                                                "showbackground": true,
                                                "ticks": "",
                                                "zerolinecolor": "white"
                                            }
                                        },
                                        "shapedefaults": {
                                            "line": {
                                                "color": "#2a3f5f"
                                            }
                                        },
                                        "ternary": {
                                            "aaxis": {
                                                "gridcolor": "white",
                                                "linecolor": "white",
                                                "ticks": ""
                                            },
                                            "baxis": {
                                                "gridcolor": "white",
                                                "linecolor": "white",
                                                "ticks": ""
                                            },
                                            "bgcolor": "#E5ECF6",
                                            "caxis": {
                                                "gridcolor": "white",
                                                "linecolor": "white",
                                                "ticks": ""
                                            }
                                        },
                                        "title": {
                                            "x": 0.05
                                        },
                                        "xaxis": {
                                            "automargin": true,
                                            "gridcolor": "white",
                                            "linecolor": "white",
                                            "ticks": "",
                                            "title": {
                                                "standoff": 15
                                            },
                                            "zerolinecolor": "white",
                                            "zerolinewidth": 2
                                        },
                                        "yaxis": {
                                            "automargin": true,
                                            "gridcolor": "white",
                                            "linecolor": "white",
                                            "ticks": "",
                                            "title": {
                                                "standoff": 15
                                            },
                                            "zerolinecolor": "white",
                                            "zerolinewidth": 2
                                        }
                                    }
                                },
                                "title": {
                                    "text": "Tweets frequency and Radar in temporal series"
                                },
                                "xaxis": {
                                    "anchor": "y",
                                    "domain": [
                                        0,
                                        0.94
                                    ]
                                },
                                "yaxis": {
                                    "anchor": "x",
                                    "domain": [
                                        0,
                                        1
                                    ],
                                    "title": {
                                        "text": "<b>Tweets frequence</b> yaxis"
                                    }
                                },
                                "yaxis2": {
                                    "anchor": "x",
                                    "overlaying": "y",
                                    "side": "right",
                                    "title": {
                                        "text": "<b>Radar</b> yaxis"
                                    }
                                }
                            }
                        }
                    },
                    "metadata": {}
                }
            ],
            "metadata": {}
        },
        {
            "cell_type": "markdown",
            "source": [
                "# Statistical manipulation"
            ],
            "metadata": {}
        },
        {
            "cell_type": "markdown",
            "source": [
                "## Pearson correlation "
            ],
            "metadata": {}
        },
        {
            "cell_type": "code",
            "execution_count": 134,
            "source": [
                "from scipy import stats"
            ],
            "outputs": [],
            "metadata": {}
        },
        {
            "cell_type": "code",
            "execution_count": 138,
            "source": [
                "r, pvalue=stats.pearsonr(radar_tweet.Frequence.array, radar_tweet.p2.array)\r\n"
            ],
            "outputs": [],
            "metadata": {}
        },
        {
            "cell_type": "code",
            "execution_count": 143,
            "source": [
                "print('Valor de R, pela correlação de Pearson:', r, '\\n P-valor:', pvalue )"
            ],
            "outputs": [
                {
                    "output_type": "stream",
                    "name": "stdout",
                    "text": [
                        "Valor de R, pela correlação de Pearson: 0.22762528972342108 \n",
                        " P-valor: 0.03849288888296602\n"
                    ]
                }
            ],
            "metadata": {}
        },
        {
            "cell_type": "markdown",
            "source": [
                "## Spearman"
            ],
            "metadata": {}
        },
        {
            "cell_type": "code",
            "execution_count": 144,
            "source": [
                "r, pvalue = stats.spearmanr(radar_tweet.Frequence.array, radar_tweet.p2.array)\r\n"
            ],
            "outputs": [],
            "metadata": {}
        },
        {
            "cell_type": "code",
            "execution_count": 145,
            "source": [
                "print('Valor de R, pela correlação de Spearman:', r, '\\n P-valor:', pvalue)\r\n"
            ],
            "outputs": [
                {
                    "output_type": "stream",
                    "name": "stdout",
                    "text": [
                        "Valor de R, pela correlação de Spearman: 0.39404726662115314 \n",
                        " P-valor: 0.00022797765835817242\n"
                    ]
                }
            ],
            "metadata": {}
        },
        {
            "cell_type": "markdown",
            "source": [
                "## KendallTau"
            ],
            "metadata": {}
        },
        {
            "cell_type": "code",
            "execution_count": 146,
            "source": [
                "r, pvalue = stats.kendalltau(radar_tweet.Frequence.array, radar_tweet.p2.array)\r\n"
            ],
            "outputs": [],
            "metadata": {}
        },
        {
            "cell_type": "code",
            "execution_count": 150,
            "source": [
                "print('Valor de R, pela correlação de Kendalls tau:', r, '\\n P-valor:', pvalue)\r\n"
            ],
            "outputs": [
                {
                    "output_type": "stream",
                    "name": "stdout",
                    "text": [
                        "Valor de R, pela correlação de Kendalls tau: 0.29979677986084935 \n",
                        " P-valor: 0.00029747462616516685\n"
                    ]
                }
            ],
            "metadata": {}
        }
    ],
    "metadata": {
        "orig_nbformat": 4,
        "language_info": {
            "name": "python",
            "version": "3.9.1",
            "mimetype": "text/x-python",
            "codemirror_mode": {
                "name": "ipython",
                "version": 3
            },
            "pygments_lexer": "ipython3",
            "nbconvert_exporter": "python",
            "file_extension": ".py"
        },
        "kernelspec": {
            "name": "python3",
            "display_name": "Python 3.9.1 64-bit"
        },
        "interpreter": {
            "hash": "dc67bf48dca25d5593b63dfc136110705a20e5c5ab637a099633370d0e5e8b53"
        }
    },
    "nbformat": 4,
    "nbformat_minor": 2
}