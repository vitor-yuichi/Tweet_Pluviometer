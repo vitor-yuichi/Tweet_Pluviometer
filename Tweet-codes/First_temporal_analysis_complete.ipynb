{
  "nbformat": 4,
  "nbformat_minor": 0,
  "metadata": {
    "colab": {
      "name": "TweetWindow.ipynb",
      "provenance": [],
      "collapsed_sections": [
        "kuXHo0iWMFil",
        "KZE_zmI7Uh4x"
      ],
      "toc_visible": true,
      "authorship_tag": "ABX9TyNmacrz6wUtwsauclhLcgNY",
      "include_colab_link": true
    },
    "kernelspec": {
      "name": "python3",
      "display_name": "Python 3"
    },
    "language_info": {
      "name": "python"
    }
  },
  "cells": [
    {
      "cell_type": "markdown",
      "metadata": {
        "id": "view-in-github",
        "colab_type": "text"
      },
      "source": [
        "<a href=\"https://colab.research.google.com/github/vitor-yuichi/Tweet_Pluviometer/blob/main/Tweet-codes/First_temporal_analysis_complete.ipynb\" target=\"_parent\"><img src=\"https://colab.research.google.com/assets/colab-badge.svg\" alt=\"Open In Colab\"/></a>"
      ]
    },
    {
      "cell_type": "markdown",
      "metadata": {
        "id": "ZOgN64yAdxFK"
      },
      "source": [
        "#Importing tweets archive "
      ]
    },
    {
      "cell_type": "code",
      "metadata": {
        "colab": {
          "base_uri": "https://localhost:8080/"
        },
        "id": "Z-Acr96Pecyi",
        "outputId": "a0dab3b8-0ce7-4c6c-c4ec-03e01edf272d"
      },
      "source": [
        "import pandas as pd \n",
        "import matplotlib.pyplot as plt \n",
        "import numpy as np \n",
        "from google.colab import drive\n",
        "drive.mount('/content/gdrive') \n",
        "import datetime \n",
        "from collections import Counter\n",
        "import datetime\n",
        "import seaborn as sns \n",
        "import scipy\n",
        "from matplotlib.lines import Line2D"
      ],
      "execution_count": 67,
      "outputs": [
        {
          "output_type": "stream",
          "text": [
            "Drive already mounted at /content/gdrive; to attempt to forcibly remount, call drive.mount(\"/content/gdrive\", force_remount=True).\n"
          ],
          "name": "stdout"
        }
      ]
    },
    {
      "cell_type": "code",
      "metadata": {
        "colab": {
          "base_uri": "https://localhost:8080/",
          "height": 424
        },
        "id": "B2SJn39CfCLW",
        "outputId": "aa80e220-87a7-4487-e643-9ba442d39d45"
      },
      "source": [
        "df=pd.read_csv(r'/content/gdrive/My Drive/Colab Notebooks/Tweets/re5.csv')\n",
        "df.drop(columns=['id','username', 'retweets','favorites', 'permalink','mentions','hashtags','geo','emojis','lang', 'verified','replyCount','quoteCount'], axis=1, inplace=True)\n",
        "df"
      ],
      "execution_count": 2,
      "outputs": [
        {
          "output_type": "execute_result",
          "data": {
            "text/html": [
              "<div>\n",
              "<style scoped>\n",
              "    .dataframe tbody tr th:only-of-type {\n",
              "        vertical-align: middle;\n",
              "    }\n",
              "\n",
              "    .dataframe tbody tr th {\n",
              "        vertical-align: top;\n",
              "    }\n",
              "\n",
              "    .dataframe thead th {\n",
              "        text-align: right;\n",
              "    }\n",
              "</style>\n",
              "<table border=\"1\" class=\"dataframe\">\n",
              "  <thead>\n",
              "    <tr style=\"text-align: right;\">\n",
              "      <th></th>\n",
              "      <th>date</th>\n",
              "      <th>text</th>\n",
              "    </tr>\n",
              "  </thead>\n",
              "  <tbody>\n",
              "    <tr>\n",
              "      <th>0</th>\n",
              "      <td>2019-01-01 23:57:13</td>\n",
              "      <td>padrealessandrocampos #somostodospadrealessand...</td>\n",
              "    </tr>\n",
              "    <tr>\n",
              "      <th>1</th>\n",
              "      <td>2019-01-01 23:54:32</td>\n",
              "      <td>Começando o ano com a melhor pessoa ao meu lad...</td>\n",
              "    </tr>\n",
              "    <tr>\n",
              "      <th>2</th>\n",
              "      <td>2019-01-01 23:53:55</td>\n",
              "      <td>Acabou de publicar uma foto em Canzuá https://...</td>\n",
              "    </tr>\n",
              "    <tr>\n",
              "      <th>3</th>\n",
              "      <td>2019-01-01 23:52:04</td>\n",
              "      <td>Seguindo com a tentativa de manter a arte em m...</td>\n",
              "    </tr>\n",
              "    <tr>\n",
              "      <th>4</th>\n",
              "      <td>2019-01-01 23:51:44</td>\n",
              "      <td>Celebrando a Vida e a Conquista! Posse como Co...</td>\n",
              "    </tr>\n",
              "    <tr>\n",
              "      <th>...</th>\n",
              "      <td>...</td>\n",
              "      <td>...</td>\n",
              "    </tr>\n",
              "    <tr>\n",
              "      <th>62526</th>\n",
              "      <td>2019-03-12 00:03:31</td>\n",
              "      <td>R$24 99 em Brás  Sao Paulo  Brazil https://t.c...</td>\n",
              "    </tr>\n",
              "    <tr>\n",
              "      <th>62527</th>\n",
              "      <td>2019-03-12 00:02:33</td>\n",
              "      <td>Acabou de publicar uma foto em Pthirillo Ind. ...</td>\n",
              "    </tr>\n",
              "    <tr>\n",
              "      <th>62528</th>\n",
              "      <td>2019-03-12 00:01:38</td>\n",
              "      <td>R$24 99 em PTRL Jeans https://t.co/U1OHev3qTw</td>\n",
              "    </tr>\n",
              "    <tr>\n",
              "      <th>62529</th>\n",
              "      <td>2019-03-12 00:00:26</td>\n",
              "      <td>Matar o leão? Pode ser do IR? Kkkkk em São Pau...</td>\n",
              "    </tr>\n",
              "    <tr>\n",
              "      <th>62530</th>\n",
              "      <td>2019-03-12 00:00:12</td>\n",
              "      <td>Domingo  17/03  tem correção da prova da OAB a...</td>\n",
              "    </tr>\n",
              "  </tbody>\n",
              "</table>\n",
              "<p>62531 rows × 2 columns</p>\n",
              "</div>"
            ],
            "text/plain": [
              "                      date                                               text\n",
              "0      2019-01-01 23:57:13  padrealessandrocampos #somostodospadrealessand...\n",
              "1      2019-01-01 23:54:32  Começando o ano com a melhor pessoa ao meu lad...\n",
              "2      2019-01-01 23:53:55  Acabou de publicar uma foto em Canzuá https://...\n",
              "3      2019-01-01 23:52:04  Seguindo com a tentativa de manter a arte em m...\n",
              "4      2019-01-01 23:51:44  Celebrando a Vida e a Conquista! Posse como Co...\n",
              "...                    ...                                                ...\n",
              "62526  2019-03-12 00:03:31  R$24 99 em Brás  Sao Paulo  Brazil https://t.c...\n",
              "62527  2019-03-12 00:02:33  Acabou de publicar uma foto em Pthirillo Ind. ...\n",
              "62528  2019-03-12 00:01:38      R$24 99 em PTRL Jeans https://t.co/U1OHev3qTw\n",
              "62529  2019-03-12 00:00:26  Matar o leão? Pode ser do IR? Kkkkk em São Pau...\n",
              "62530  2019-03-12 00:00:12  Domingo  17/03  tem correção da prova da OAB a...\n",
              "\n",
              "[62531 rows x 2 columns]"
            ]
          },
          "metadata": {
            "tags": []
          },
          "execution_count": 2
        }
      ]
    },
    {
      "cell_type": "markdown",
      "metadata": {
        "id": "evjDeacHnHfC"
      },
      "source": [
        "# First Temporal Window \n",
        "# Cutting the date 01/03 to 12/03"
      ]
    },
    {
      "cell_type": "markdown",
      "metadata": {
        "id": "ZuAhKq_Pkxaw"
      },
      "source": [
        "## Adjusting and filtering the date "
      ]
    },
    {
      "cell_type": "code",
      "metadata": {
        "id": "KpfC0HqNk2vP"
      },
      "source": [
        "df.date=pd.to_datetime(df.date)\n",
        "df['date'] = df['date'].dt.tz_localize('UTC').dt.tz_convert('America/Sao_Paulo')\n"
      ],
      "execution_count": 3,
      "outputs": []
    },
    {
      "cell_type": "code",
      "metadata": {
        "id": "BDe-ZDDulP4T"
      },
      "source": [
        "df.sort_values(by='date', inplace=True)\n"
      ],
      "execution_count": 4,
      "outputs": []
    },
    {
      "cell_type": "code",
      "metadata": {
        "colab": {
          "base_uri": "https://localhost:8080/",
          "height": 424
        },
        "id": "gbnqLUAvlqrL",
        "outputId": "a3505f19-5022-46c2-a5cc-ffd49a1f714f"
      },
      "source": [
        "df['Time'] = df['date'].dt.strftime('%H:%M')\n",
        "df['Date']=df['date'].dt.strftime('%Y-%m-%d')\n",
        "#Separating the hour from the day to filter for the temporal window (16h-20h)\n",
        "df"
      ],
      "execution_count": 5,
      "outputs": [
        {
          "output_type": "execute_result",
          "data": {
            "text/html": [
              "<div>\n",
              "<style scoped>\n",
              "    .dataframe tbody tr th:only-of-type {\n",
              "        vertical-align: middle;\n",
              "    }\n",
              "\n",
              "    .dataframe tbody tr th {\n",
              "        vertical-align: top;\n",
              "    }\n",
              "\n",
              "    .dataframe thead th {\n",
              "        text-align: right;\n",
              "    }\n",
              "</style>\n",
              "<table border=\"1\" class=\"dataframe\">\n",
              "  <thead>\n",
              "    <tr style=\"text-align: right;\">\n",
              "      <th></th>\n",
              "      <th>date</th>\n",
              "      <th>text</th>\n",
              "      <th>Time</th>\n",
              "      <th>Date</th>\n",
              "    </tr>\n",
              "  </thead>\n",
              "  <tbody>\n",
              "    <tr>\n",
              "      <th>1036</th>\n",
              "      <td>2018-12-31 22:00:34-02:00</td>\n",
              "      <td>Me despeço de 2018 com muita gratidão e espero...</td>\n",
              "      <td>22:00</td>\n",
              "      <td>2018-12-31</td>\n",
              "    </tr>\n",
              "    <tr>\n",
              "      <th>1035</th>\n",
              "      <td>2018-12-31 22:00:56-02:00</td>\n",
              "      <td>Último dia merece né...\\n#carioca  #cariocaems...</td>\n",
              "      <td>22:00</td>\n",
              "      <td>2018-12-31</td>\n",
              "    </tr>\n",
              "    <tr>\n",
              "      <th>1034</th>\n",
              "      <td>2018-12-31 22:01:03-02:00</td>\n",
              "      <td>Snow White 👩🏻✨ #newyearseve #anonovo2019 #bran...</td>\n",
              "      <td>22:01</td>\n",
              "      <td>2018-12-31</td>\n",
              "    </tr>\n",
              "    <tr>\n",
              "      <th>1033</th>\n",
              "      <td>2018-12-31 22:01:20-02:00</td>\n",
              "      <td>Tudo de bom nesse ano que se inicia  muita paz...</td>\n",
              "      <td>22:01</td>\n",
              "      <td>2018-12-31</td>\n",
              "    </tr>\n",
              "    <tr>\n",
              "      <th>1032</th>\n",
              "      <td>2018-12-31 22:01:51-02:00</td>\n",
              "      <td>#family #newyear #welcome2019  #hapiness #bles...</td>\n",
              "      <td>22:01</td>\n",
              "      <td>2018-12-31</td>\n",
              "    </tr>\n",
              "    <tr>\n",
              "      <th>...</th>\n",
              "      <td>...</td>\n",
              "      <td>...</td>\n",
              "      <td>...</td>\n",
              "      <td>...</td>\n",
              "    </tr>\n",
              "    <tr>\n",
              "      <th>61650</th>\n",
              "      <td>2019-03-12 20:55:29-03:00</td>\n",
              "      <td>#DeusnocontroledeTudo em São Paulo  Brazil htt...</td>\n",
              "      <td>20:55</td>\n",
              "      <td>2019-03-12</td>\n",
              "    </tr>\n",
              "    <tr>\n",
              "      <th>61649</th>\n",
              "      <td>2019-03-12 20:58:09-03:00</td>\n",
              "      <td>@COMMU_Oficial ↖️↘️ Pois é @COMMU_Oficial \\n( ...</td>\n",
              "      <td>20:58</td>\n",
              "      <td>2019-03-12</td>\n",
              "    </tr>\n",
              "    <tr>\n",
              "      <th>61648</th>\n",
              "      <td>2019-03-12 20:58:24-03:00</td>\n",
              "      <td>Aula 8 da School of AI na @lambdatres https://...</td>\n",
              "      <td>20:58</td>\n",
              "      <td>2019-03-12</td>\n",
              "    </tr>\n",
              "    <tr>\n",
              "      <th>61647</th>\n",
              "      <td>2019-03-12 20:58:47-03:00</td>\n",
              "      <td>Amanhã é dia de fórum e  por consequência  de ...</td>\n",
              "      <td>20:58</td>\n",
              "      <td>2019-03-12</td>\n",
              "    </tr>\n",
              "    <tr>\n",
              "      <th>61646</th>\n",
              "      <td>2019-03-12 20:58:58-03:00</td>\n",
              "      <td>Cada marca que eu carrego é um aprendizado  um...</td>\n",
              "      <td>20:58</td>\n",
              "      <td>2019-03-12</td>\n",
              "    </tr>\n",
              "  </tbody>\n",
              "</table>\n",
              "<p>62531 rows × 4 columns</p>\n",
              "</div>"
            ],
            "text/plain": [
              "                           date  ...        Date\n",
              "1036  2018-12-31 22:00:34-02:00  ...  2018-12-31\n",
              "1035  2018-12-31 22:00:56-02:00  ...  2018-12-31\n",
              "1034  2018-12-31 22:01:03-02:00  ...  2018-12-31\n",
              "1033  2018-12-31 22:01:20-02:00  ...  2018-12-31\n",
              "1032  2018-12-31 22:01:51-02:00  ...  2018-12-31\n",
              "...                         ...  ...         ...\n",
              "61650 2019-03-12 20:55:29-03:00  ...  2019-03-12\n",
              "61649 2019-03-12 20:58:09-03:00  ...  2019-03-12\n",
              "61648 2019-03-12 20:58:24-03:00  ...  2019-03-12\n",
              "61647 2019-03-12 20:58:47-03:00  ...  2019-03-12\n",
              "61646 2019-03-12 20:58:58-03:00  ...  2019-03-12\n",
              "\n",
              "[62531 rows x 4 columns]"
            ]
          },
          "metadata": {
            "tags": []
          },
          "execution_count": 5
        }
      ]
    },
    {
      "cell_type": "code",
      "metadata": {
        "id": "HleJSSzPmPN7"
      },
      "source": [
        "cutfor16_20=df[((df.Time>'14:00') & (df.Time<'20:00'))]\n"
      ],
      "execution_count": 6,
      "outputs": []
    },
    {
      "cell_type": "code",
      "metadata": {
        "id": "2Guxaf0Yokxz"
      },
      "source": [
        "first_twindow=cutfor16_20[((cutfor16_20.Date>='2019-03-01') & (cutfor16_20.Date<='2019-03-12'))]"
      ],
      "execution_count": 7,
      "outputs": []
    },
    {
      "cell_type": "markdown",
      "metadata": {
        "id": "9Aesk16Uo-Eo"
      },
      "source": [
        "## Filtering for the word list associate to flood (HIDRO/METEO)"
      ]
    },
    {
      "cell_type": "code",
      "metadata": {
        "id": "Hdj-kYg7pGwQ"
      },
      "source": [
        "meteo_hidro=['chuva','rain','temporal', 'lightning', 'tempestade','nublado','trovão','rainbow','precipitação','alagado','alagamento','enchente','enxente','inundação','raio']\n",
        "first_twindow_filtered=first_twindow[(first_twindow.text.str.contains('|'.join(meteo_hidro), case=False))]"
      ],
      "execution_count": 8,
      "outputs": []
    },
    {
      "cell_type": "code",
      "metadata": {
        "colab": {
          "base_uri": "https://localhost:8080/",
          "height": 424
        },
        "id": "G_fNh7sfKKEi",
        "outputId": "fefeefce-e1a6-4589-fbf9-2843787992f1"
      },
      "source": [
        "first_twindow_filtered"
      ],
      "execution_count": 9,
      "outputs": [
        {
          "output_type": "execute_result",
          "data": {
            "text/html": [
              "<div>\n",
              "<style scoped>\n",
              "    .dataframe tbody tr th:only-of-type {\n",
              "        vertical-align: middle;\n",
              "    }\n",
              "\n",
              "    .dataframe tbody tr th {\n",
              "        vertical-align: top;\n",
              "    }\n",
              "\n",
              "    .dataframe thead th {\n",
              "        text-align: right;\n",
              "    }\n",
              "</style>\n",
              "<table border=\"1\" class=\"dataframe\">\n",
              "  <thead>\n",
              "    <tr style=\"text-align: right;\">\n",
              "      <th></th>\n",
              "      <th>date</th>\n",
              "      <th>text</th>\n",
              "      <th>Time</th>\n",
              "      <th>Date</th>\n",
              "    </tr>\n",
              "  </thead>\n",
              "  <tbody>\n",
              "    <tr>\n",
              "      <th>51146</th>\n",
              "      <td>2019-03-01 14:09:16-03:00</td>\n",
              "      <td>#Repost @onerpmbr (get_repost)\\nRainha é rainh...</td>\n",
              "      <td>14:09</td>\n",
              "      <td>2019-03-01</td>\n",
              "    </tr>\n",
              "    <tr>\n",
              "      <th>51133</th>\n",
              "      <td>2019-03-01 14:18:47-03:00</td>\n",
              "      <td>Sexta feira - Chuva - Gravação do mesmo jeito ...</td>\n",
              "      <td>14:18</td>\n",
              "      <td>2019-03-01</td>\n",
              "    </tr>\n",
              "    <tr>\n",
              "      <th>50979</th>\n",
              "      <td>2019-03-01 17:27:13-03:00</td>\n",
              "      <td>Plates of meat 🦶💀 #raiox #xray #saopaulo em La...</td>\n",
              "      <td>17:27</td>\n",
              "      <td>2019-03-01</td>\n",
              "    </tr>\n",
              "    <tr>\n",
              "      <th>52091</th>\n",
              "      <td>2019-03-02 14:41:38-03:00</td>\n",
              "      <td>#Frio❄  #Chuva🌦  #Sol☀️  tudo isso em apenas 2...</td>\n",
              "      <td>14:41</td>\n",
              "      <td>2019-03-02</td>\n",
              "    </tr>\n",
              "    <tr>\n",
              "      <th>51924</th>\n",
              "      <td>2019-03-02 17:48:23-03:00</td>\n",
              "      <td>Boa tarde galera. Bom  Feriadão  Minha musik G...</td>\n",
              "      <td>17:48</td>\n",
              "      <td>2019-03-02</td>\n",
              "    </tr>\n",
              "    <tr>\n",
              "      <th>...</th>\n",
              "      <td>...</td>\n",
              "      <td>...</td>\n",
              "      <td>...</td>\n",
              "      <td>...</td>\n",
              "    </tr>\n",
              "    <tr>\n",
              "      <th>61831</th>\n",
              "      <td>2019-03-12 17:30:11-03:00</td>\n",
              "      <td>Caraca! É cada pedrada . #Chuva de #Granizo em...</td>\n",
              "      <td>17:30</td>\n",
              "      <td>2019-03-12</td>\n",
              "    </tr>\n",
              "    <tr>\n",
              "      <th>61826</th>\n",
              "      <td>2019-03-12 17:36:30-03:00</td>\n",
              "      <td>Rabo com trança pode \\n#thiagobraga #brazil #h...</td>\n",
              "      <td>17:36</td>\n",
              "      <td>2019-03-12</td>\n",
              "    </tr>\n",
              "    <tr>\n",
              "      <th>61806</th>\n",
              "      <td>2019-03-12 18:02:17-03:00</td>\n",
              "      <td>O sol tentando vencer a chuva.\\n#aguasdemarço ...</td>\n",
              "      <td>18:02</td>\n",
              "      <td>2019-03-12</td>\n",
              "    </tr>\n",
              "    <tr>\n",
              "      <th>61782</th>\n",
              "      <td>2019-03-12 18:32:24-03:00</td>\n",
              "      <td>ORAR PARA NADA ALAGAR\\na chuva começa e o cora...</td>\n",
              "      <td>18:32</td>\n",
              "      <td>2019-03-12</td>\n",
              "    </tr>\n",
              "    <tr>\n",
              "      <th>61702</th>\n",
              "      <td>2019-03-12 19:58:56-03:00</td>\n",
              "      <td>🕶! #oculos #eu #sol #depois #chuva #pb #ruybri...</td>\n",
              "      <td>19:58</td>\n",
              "      <td>2019-03-12</td>\n",
              "    </tr>\n",
              "  </tbody>\n",
              "</table>\n",
              "<p>83 rows × 4 columns</p>\n",
              "</div>"
            ],
            "text/plain": [
              "                           date  ...        Date\n",
              "51146 2019-03-01 14:09:16-03:00  ...  2019-03-01\n",
              "51133 2019-03-01 14:18:47-03:00  ...  2019-03-01\n",
              "50979 2019-03-01 17:27:13-03:00  ...  2019-03-01\n",
              "52091 2019-03-02 14:41:38-03:00  ...  2019-03-02\n",
              "51924 2019-03-02 17:48:23-03:00  ...  2019-03-02\n",
              "...                         ...  ...         ...\n",
              "61831 2019-03-12 17:30:11-03:00  ...  2019-03-12\n",
              "61826 2019-03-12 17:36:30-03:00  ...  2019-03-12\n",
              "61806 2019-03-12 18:02:17-03:00  ...  2019-03-12\n",
              "61782 2019-03-12 18:32:24-03:00  ...  2019-03-12\n",
              "61702 2019-03-12 19:58:56-03:00  ...  2019-03-12\n",
              "\n",
              "[83 rows x 4 columns]"
            ]
          },
          "metadata": {
            "tags": []
          },
          "execution_count": 9
        }
      ]
    },
    {
      "cell_type": "markdown",
      "metadata": {
        "id": "k36tz2vIqLKP"
      },
      "source": [
        "## Importing the flood data and adjusting the date for the first temporal window"
      ]
    },
    {
      "cell_type": "code",
      "metadata": {
        "id": "hoOQlzpyqSPJ"
      },
      "source": [
        "flood_2KM=pd.read_csv(r'/content/gdrive/My Drive/Colab Notebooks/Selecao_Alag_Vitor.csv',delimiter=\",\", decimal=\",\")\n"
      ],
      "execution_count": 10,
      "outputs": []
    },
    {
      "cell_type": "code",
      "metadata": {
        "id": "QH08pjdXrnUr"
      },
      "source": [
        "flood_first_twindow=flood_2KM[(flood_2KM['MES,N,16,6']==3)]"
      ],
      "execution_count": 11,
      "outputs": []
    },
    {
      "cell_type": "code",
      "metadata": {
        "colab": {
          "base_uri": "https://localhost:8080/",
          "height": 981
        },
        "id": "uelqXDQE2OGZ",
        "outputId": "cf4ac9dc-549a-484f-9f1c-23f224a163f0"
      },
      "source": [
        "#adjusting de flood time to the temporal window (16h-20h)\n",
        "flood_first_twindow=flood_first_twindow[((flood_first_twindow['H_INICIO,C,254']>='16:00:00') & (flood_first_twindow['H_INICIO,C,254']<='20:00:00'))]\n",
        "flood_first_twindow"
      ],
      "execution_count": 12,
      "outputs": [
        {
          "output_type": "execute_result",
          "data": {
            "text/html": [
              "<div>\n",
              "<style scoped>\n",
              "    .dataframe tbody tr th:only-of-type {\n",
              "        vertical-align: middle;\n",
              "    }\n",
              "\n",
              "    .dataframe tbody tr th {\n",
              "        vertical-align: top;\n",
              "    }\n",
              "\n",
              "    .dataframe thead th {\n",
              "        text-align: right;\n",
              "    }\n",
              "</style>\n",
              "<table border=\"1\" class=\"dataframe\">\n",
              "  <thead>\n",
              "    <tr style=\"text-align: right;\">\n",
              "      <th></th>\n",
              "      <th>SEQ,N,16,6</th>\n",
              "      <th>LONG,N,16,6</th>\n",
              "      <th>LAT,N,16,6</th>\n",
              "      <th>LOCAL_ED,C,254</th>\n",
              "      <th>LOCALIZACA,C,254</th>\n",
              "      <th>REFERENCIA,C,254</th>\n",
              "      <th>DATA,D</th>\n",
              "      <th>MES,N,16,6</th>\n",
              "      <th>H_INICIO,C,254</th>\n",
              "      <th>H_FIM,C,254</th>\n",
              "      <th>DURACAO,C,254</th>\n",
              "      <th>DUR_H,N,7,2</th>\n",
              "    </tr>\n",
              "  </thead>\n",
              "  <tbody>\n",
              "    <tr>\n",
              "      <th>57</th>\n",
              "      <td>486</td>\n",
              "      <td>-46.642490</td>\n",
              "      <td>-23.536600</td>\n",
              "      <td>AV RIO BRANCO</td>\n",
              "      <td>AV RIO BRANCO REPUBLICA</td>\n",
              "      <td>AV DUQ DE CAXIAS-BAIRROCENTRO - UNICA-SE</td>\n",
              "      <td>02/03/2019</td>\n",
              "      <td>3</td>\n",
              "      <td>19:13:00</td>\n",
              "      <td>19:23:00</td>\n",
              "      <td>00:10:00</td>\n",
              "      <td>0.17</td>\n",
              "    </tr>\n",
              "    <tr>\n",
              "      <th>58</th>\n",
              "      <td>494</td>\n",
              "      <td>-46.638115</td>\n",
              "      <td>-23.547317</td>\n",
              "      <td>TN PAPA JOAO PAULO II</td>\n",
              "      <td>TN PAPA JOAO PAULO II (REPUBLICA)</td>\n",
              "      <td>ALTURA DO N├ÜMERO 0 - SANTANA/AEROPORTO</td>\n",
              "      <td>02/03/2019</td>\n",
              "      <td>3</td>\n",
              "      <td>19:29:00</td>\n",
              "      <td>20:42:00</td>\n",
              "      <td>01:13:00</td>\n",
              "      <td>1.22</td>\n",
              "    </tr>\n",
              "    <tr>\n",
              "      <th>59</th>\n",
              "      <td>496</td>\n",
              "      <td>-46.638240</td>\n",
              "      <td>-23.550330</td>\n",
              "      <td>AV VINTE E TRES DE MAIO</td>\n",
              "      <td>AV VINTE E TRES DE MAIO</td>\n",
              "      <td>PC DA BANDEIRA - SANTANA/AEROPORTO</td>\n",
              "      <td>02/03/2019</td>\n",
              "      <td>3</td>\n",
              "      <td>19:43:00</td>\n",
              "      <td>19:55:00</td>\n",
              "      <td>00:12:00</td>\n",
              "      <td>0.20</td>\n",
              "    </tr>\n",
              "    <tr>\n",
              "      <th>61</th>\n",
              "      <td>536</td>\n",
              "      <td>-46.632190</td>\n",
              "      <td>-23.541980</td>\n",
              "      <td>R VINTE E CINCO DE MARCO</td>\n",
              "      <td>R VINTE E CINCO DE MARCO</td>\n",
              "      <td>R HERCULES FLORENCE-UNICO-SE</td>\n",
              "      <td>05/03/2019</td>\n",
              "      <td>3</td>\n",
              "      <td>18:12:00</td>\n",
              "      <td>21:09:00</td>\n",
              "      <td>02:57:00</td>\n",
              "      <td>2.95</td>\n",
              "    </tr>\n",
              "    <tr>\n",
              "      <th>62</th>\n",
              "      <td>539</td>\n",
              "      <td>-46.628150</td>\n",
              "      <td>-23.540280</td>\n",
              "      <td>AV DO ESTADO</td>\n",
              "      <td>AV DO ESTADO</td>\n",
              "      <td>ALTURA DO NUMERO 2950-SANTANAIPIRANGA-SE</td>\n",
              "      <td>05/03/2019</td>\n",
              "      <td>3</td>\n",
              "      <td>18:20:00</td>\n",
              "      <td>21:16:00</td>\n",
              "      <td>02:56:00</td>\n",
              "      <td>2.93</td>\n",
              "    </tr>\n",
              "    <tr>\n",
              "      <th>63</th>\n",
              "      <td>540</td>\n",
              "      <td>-46.629470</td>\n",
              "      <td>-23.540356</td>\n",
              "      <td>AV MERCURIO</td>\n",
              "      <td>AV MERCURIO</td>\n",
              "      <td>R DA CANTAREIRA-UNICO - DIREITA-SE</td>\n",
              "      <td>05/03/2019</td>\n",
              "      <td>3</td>\n",
              "      <td>18:24:00</td>\n",
              "      <td>21:17:00</td>\n",
              "      <td>02:53:00</td>\n",
              "      <td>2.88</td>\n",
              "    </tr>\n",
              "    <tr>\n",
              "      <th>64</th>\n",
              "      <td>541</td>\n",
              "      <td>-46.630740</td>\n",
              "      <td>-23.539930</td>\n",
              "      <td>AV SEN QUEIROS</td>\n",
              "      <td>AV SEN QUEIROS</td>\n",
              "      <td>R BR DE DUPRAT-UNICO - DIREITA-SE</td>\n",
              "      <td>05/03/2019</td>\n",
              "      <td>3</td>\n",
              "      <td>18:24:00</td>\n",
              "      <td>21:16:00</td>\n",
              "      <td>02:52:00</td>\n",
              "      <td>2.87</td>\n",
              "    </tr>\n",
              "    <tr>\n",
              "      <th>65</th>\n",
              "      <td>543</td>\n",
              "      <td>-46.628560</td>\n",
              "      <td>-23.557170</td>\n",
              "      <td>R TEIXEIRA LEITE</td>\n",
              "      <td>R TEIXEIRA LEITE LIBERDADE</td>\n",
              "      <td>R S PAULO-UNICO-SE</td>\n",
              "      <td>05/03/2019</td>\n",
              "      <td>3</td>\n",
              "      <td>18:37:00</td>\n",
              "      <td>20:33:00</td>\n",
              "      <td>01:56:00</td>\n",
              "      <td>1.93</td>\n",
              "    </tr>\n",
              "    <tr>\n",
              "      <th>66</th>\n",
              "      <td>575</td>\n",
              "      <td>-46.641155</td>\n",
              "      <td>-23.538239</td>\n",
              "      <td>AV RIO BRANCO</td>\n",
              "      <td>AV RIO BRANCO</td>\n",
              "      <td>R DOS GUSMOES-CENTROBAIRRO-SE</td>\n",
              "      <td>07/03/2019</td>\n",
              "      <td>3</td>\n",
              "      <td>16:48:00</td>\n",
              "      <td>19:21:00</td>\n",
              "      <td>02:33:00</td>\n",
              "      <td>2.55</td>\n",
              "    </tr>\n",
              "    <tr>\n",
              "      <th>67</th>\n",
              "      <td>576</td>\n",
              "      <td>-46.627042</td>\n",
              "      <td>-23.543123</td>\n",
              "      <td>AV MERCURIO</td>\n",
              "      <td>AV MERCURIO</td>\n",
              "      <td>PC S VITO-UNICO - ESQUERDA-SE</td>\n",
              "      <td>07/03/2019</td>\n",
              "      <td>3</td>\n",
              "      <td>17:34:00</td>\n",
              "      <td>17:58:00</td>\n",
              "      <td>00:24:00</td>\n",
              "      <td>0.40</td>\n",
              "    </tr>\n",
              "    <tr>\n",
              "      <th>68</th>\n",
              "      <td>577</td>\n",
              "      <td>-46.629470</td>\n",
              "      <td>-23.540356</td>\n",
              "      <td>AV MERCURIO</td>\n",
              "      <td>AV MERCURIO</td>\n",
              "      <td>R DA CANTAREIRA-UNICO - ESQUERDA-SE</td>\n",
              "      <td>07/03/2019</td>\n",
              "      <td>3</td>\n",
              "      <td>17:38:00</td>\n",
              "      <td>19:23:00</td>\n",
              "      <td>01:45:00</td>\n",
              "      <td>1.75</td>\n",
              "    </tr>\n",
              "    <tr>\n",
              "      <th>69</th>\n",
              "      <td>578</td>\n",
              "      <td>-46.642590</td>\n",
              "      <td>-23.542060</td>\n",
              "      <td>PC DA REPUBLICA</td>\n",
              "      <td>PC DA REPUBLICA</td>\n",
              "      <td>ALTURA DO NUMERO 497-UNICO-SE</td>\n",
              "      <td>07/03/2019</td>\n",
              "      <td>3</td>\n",
              "      <td>17:42:00</td>\n",
              "      <td>19:41:00</td>\n",
              "      <td>01:59:00</td>\n",
              "      <td>1.98</td>\n",
              "    </tr>\n",
              "    <tr>\n",
              "      <th>70</th>\n",
              "      <td>579</td>\n",
              "      <td>-46.641670</td>\n",
              "      <td>-23.537910</td>\n",
              "      <td>AV RIO BRANCO</td>\n",
              "      <td>AV RIO BRANCO</td>\n",
              "      <td>ALTURA DO NUMERO 625-BAIRROCENTRO-SE</td>\n",
              "      <td>07/03/2019</td>\n",
              "      <td>3</td>\n",
              "      <td>17:58:00</td>\n",
              "      <td>19:21:00</td>\n",
              "      <td>01:23:00</td>\n",
              "      <td>1.38</td>\n",
              "    </tr>\n",
              "    <tr>\n",
              "      <th>71</th>\n",
              "      <td>580</td>\n",
              "      <td>-46.640838</td>\n",
              "      <td>-23.538277</td>\n",
              "      <td>AV RIO BRANCO</td>\n",
              "      <td>AV RIO BRANCO</td>\n",
              "      <td>ALTURA DO NUMERO 530-BAIRROCENTRO-SE</td>\n",
              "      <td>07/03/2019</td>\n",
              "      <td>3</td>\n",
              "      <td>18:02:00</td>\n",
              "      <td>19:22:00</td>\n",
              "      <td>01:20:00</td>\n",
              "      <td>1.33</td>\n",
              "    </tr>\n",
              "    <tr>\n",
              "      <th>72</th>\n",
              "      <td>586</td>\n",
              "      <td>-46.611555</td>\n",
              "      <td>-23.540030</td>\n",
              "      <td>AV CELSO GARCIA</td>\n",
              "      <td>AV CELSO GARCIA</td>\n",
              "      <td>R JOSE DE ALENCAR-CENTROBAIRRO - UNICA-MO</td>\n",
              "      <td>09/03/2019</td>\n",
              "      <td>3</td>\n",
              "      <td>18:00:00</td>\n",
              "      <td>18:00:00</td>\n",
              "      <td>00:00:00</td>\n",
              "      <td>0.00</td>\n",
              "    </tr>\n",
              "    <tr>\n",
              "      <th>73</th>\n",
              "      <td>587</td>\n",
              "      <td>-46.611555</td>\n",
              "      <td>-23.540030</td>\n",
              "      <td>AV CELSO GARCIA</td>\n",
              "      <td>AV CELSO GARCIA</td>\n",
              "      <td>R JOSE DE ALENCAR-CENTROBAIRRO - UNICA-MO</td>\n",
              "      <td>09/03/2019</td>\n",
              "      <td>3</td>\n",
              "      <td>18:00:00</td>\n",
              "      <td>18:36:00</td>\n",
              "      <td>00:36:00</td>\n",
              "      <td>0.60</td>\n",
              "    </tr>\n",
              "    <tr>\n",
              "      <th>79</th>\n",
              "      <td>715</td>\n",
              "      <td>-46.638806</td>\n",
              "      <td>-23.549408</td>\n",
              "      <td>AV VINTE E TRES DE MAIO</td>\n",
              "      <td>AV. VINTE E TRES DE MAIO (LIBERDADE)</td>\n",
              "      <td>PC DA BANDEIRA - SANTANA/AEROPORTO</td>\n",
              "      <td>19/03/2019</td>\n",
              "      <td>3</td>\n",
              "      <td>18:07:00</td>\n",
              "      <td>18:56:00</td>\n",
              "      <td>00:49:00</td>\n",
              "      <td>0.82</td>\n",
              "    </tr>\n",
              "  </tbody>\n",
              "</table>\n",
              "</div>"
            ],
            "text/plain": [
              "    SEQ,N,16,6  LONG,N,16,6  LAT,N,16,6  ... H_FIM,C,254 DURACAO,C,254 DUR_H,N,7,2\n",
              "57         486   -46.642490  -23.536600  ...    19:23:00      00:10:00        0.17\n",
              "58         494   -46.638115  -23.547317  ...    20:42:00      01:13:00        1.22\n",
              "59         496   -46.638240  -23.550330  ...    19:55:00      00:12:00        0.20\n",
              "61         536   -46.632190  -23.541980  ...    21:09:00      02:57:00        2.95\n",
              "62         539   -46.628150  -23.540280  ...    21:16:00      02:56:00        2.93\n",
              "63         540   -46.629470  -23.540356  ...    21:17:00      02:53:00        2.88\n",
              "64         541   -46.630740  -23.539930  ...    21:16:00      02:52:00        2.87\n",
              "65         543   -46.628560  -23.557170  ...    20:33:00      01:56:00        1.93\n",
              "66         575   -46.641155  -23.538239  ...    19:21:00      02:33:00        2.55\n",
              "67         576   -46.627042  -23.543123  ...    17:58:00      00:24:00        0.40\n",
              "68         577   -46.629470  -23.540356  ...    19:23:00      01:45:00        1.75\n",
              "69         578   -46.642590  -23.542060  ...    19:41:00      01:59:00        1.98\n",
              "70         579   -46.641670  -23.537910  ...    19:21:00      01:23:00        1.38\n",
              "71         580   -46.640838  -23.538277  ...    19:22:00      01:20:00        1.33\n",
              "72         586   -46.611555  -23.540030  ...    18:00:00      00:00:00        0.00\n",
              "73         587   -46.611555  -23.540030  ...    18:36:00      00:36:00        0.60\n",
              "79         715   -46.638806  -23.549408  ...    18:56:00      00:49:00        0.82\n",
              "\n",
              "[17 rows x 12 columns]"
            ]
          },
          "metadata": {
            "tags": []
          },
          "execution_count": 12
        }
      ]
    },
    {
      "cell_type": "code",
      "metadata": {
        "colab": {
          "base_uri": "https://localhost:8080/"
        },
        "id": "CvotaYgotDdv",
        "outputId": "986b6c89-ed83-435a-afa1-927be2a94f36"
      },
      "source": [
        "pd.to_datetime(flood_first_twindow['DATA,D']).dt.strftime('%Y-%d-%m')\n"
      ],
      "execution_count": 13,
      "outputs": [
        {
          "output_type": "execute_result",
          "data": {
            "text/plain": [
              "57    2019-03-02\n",
              "58    2019-03-02\n",
              "59    2019-03-02\n",
              "61    2019-03-05\n",
              "62    2019-03-05\n",
              "63    2019-03-05\n",
              "64    2019-03-05\n",
              "65    2019-03-05\n",
              "66    2019-03-07\n",
              "67    2019-03-07\n",
              "68    2019-03-07\n",
              "69    2019-03-07\n",
              "70    2019-03-07\n",
              "71    2019-03-07\n",
              "72    2019-03-09\n",
              "73    2019-03-09\n",
              "79    2019-19-03\n",
              "Name: DATA,D, dtype: object"
            ]
          },
          "metadata": {
            "tags": []
          },
          "execution_count": 13
        }
      ]
    },
    {
      "cell_type": "code",
      "metadata": {
        "id": "JXV4JD-teZdM"
      },
      "source": [
        "fidelity_first_twindow=first_twindow_filtered[first_twindow_filtered.Date.isin(pd.to_datetime(flood_first_twindow['DATA,D']).dt.strftime('%Y-%d-%m'))]\n"
      ],
      "execution_count": 14,
      "outputs": []
    },
    {
      "cell_type": "markdown",
      "metadata": {
        "id": "RoM1b_2qkJsM"
      },
      "source": [
        "## Strength and Fidelity tweets"
      ]
    },
    {
      "cell_type": "markdown",
      "metadata": {
        "id": "hIczHT2PMBl0"
      },
      "source": [
        "### Fidelity"
      ]
    },
    {
      "cell_type": "code",
      "metadata": {
        "id": "ZDHujPVrkjSW",
        "colab": {
          "base_uri": "https://localhost:8080/",
          "height": 542
        },
        "outputId": "58c44a7d-e4bd-47fe-cc9f-34426a2abef1"
      },
      "source": [
        "plot_first_fidelity=fidelity_first_twindow.Date.value_counts().to_frame()\n",
        "plot_first_fidelity.reset_index(inplace=True)\n",
        "plot_first_fidelity.sort_values(by='index', inplace=True)\n",
        "plot_first_fidelity\n",
        "plt.style.use(\"seaborn-dark\") #estilo cyberpunk\n",
        "for param in ['figure.facecolor', 'axes.facecolor', 'savefig.facecolor']:\n",
        "    plt.rcParams[param] = '#212946'\n",
        "for param in ['text.color', 'axes.labelcolor', 'xtick.color', 'ytick.color']:\n",
        "    plt.rcParams[param] = '0.9'  # very light grey\n",
        "ax=plot_first_fidelity.plot.bar(x='index', y='Date', color='Green', figsize=(12,8))\n",
        "ax.set_xlabel('Flood dates')\n",
        "ax.set_ylabel('Fidelity')\n",
        "ax.set_title('Flood Date x Fidelity', color='White')\n",
        "ax.get_legend().remove()\n",
        "ax.grid(color='#2A3459')\n",
        "plt.rcParams.update({'font.size': 30})\n",
        "ax.tick_params(axis='x', rotation=45)\n",
        "for p in ax.patches:\n",
        "  ax.annotate(np.round(p.get_height(),decimals=2),(p.get_x()+p.get_width()/2., p.get_height()),ha='center', va='center', xytext=(0, 10), textcoords='offset points')\n",
        "\n"
      ],
      "execution_count": 15,
      "outputs": [
        {
          "output_type": "display_data",
          "data": {
            "image/png": "[encoded data removed]",
            "text/plain": [
              "<Figure size 864x576 with 1 Axes>"
            ]
          },
          "metadata": {
            "tags": []
          }
        }
      ]
    },
    {
      "cell_type": "markdown",
      "metadata": {
        "id": "kuXHo0iWMFil"
      },
      "source": [
        "### Strength"
      ]
    },
    {
      "cell_type": "code",
      "metadata": {
        "id": "Ns1raJ-3lqwS",
        "colab": {
          "base_uri": "https://localhost:8080/",
          "height": 0
        },
        "outputId": "20f47d78-7e1a-4d50-aa26-e56da5cef024"
      },
      "source": [
        "first_plot_strength=first_twindow_filtered.Date.value_counts().to_frame().reset_index().sort_values(by='index')\n",
        "plt.style.use(\"seaborn-dark\") #estilo cyberpunk\n",
        "for param in ['figure.facecolor', 'axes.facecolor', 'savefig.facecolor']:\n",
        "    plt.rcParams[param] = '#212946'\n",
        "for param in ['text.color', 'axes.labelcolor', 'xtick.color', 'ytick.color']:\n",
        "    plt.rcParams[param] = '0.9'  # very light grey\n",
        "ax1=first_plot_strength.plot.bar(x='index', y='Date', color='Purple', figsize=(12,8))\n",
        "ax1.set_xlabel('Flood dates')\n",
        "ax1.set_ylabel('Strength')\n",
        "ax1.set_title('Flood date x Strength')\n",
        "ax1.legend(['Frequency'])\n",
        "ax1.grid(color='#2A3459')\n",
        "plt.rcParams.update({'font.size': 24})\n",
        "ax1.get_legend().remove()\n",
        "ax1.tick_params(axis='x', rotation=45)\n",
        "for p in ax1.patches:\n",
        "  ax1.annotate(np.round(p.get_height(),decimals=2),(p.get_x()+p.get_width()/2., p.get_height()),ha='center', va='center', xytext=(0, 10), textcoords='offset points')"
      ],
      "execution_count": 16,
      "outputs": [
        {
          "output_type": "display_data",
          "data": {
            "image/png": "[encoded data removed]",
            "text/plain": [
              "<Figure size 864x576 with 1 Axes>"
            ]
          },
          "metadata": {
            "tags": []
          }
        }
      ]
    },
    {
      "cell_type": "markdown",
      "metadata": {
        "id": "OUnrJssIKROO"
      },
      "source": [
        "## Dispersion plots, Frequency of flood x Frequency of tweets "
      ]
    },
    {
      "cell_type": "markdown",
      "metadata": {
        "id": "txTAzZOuMnJs"
      },
      "source": [
        "### Strength Dispersion \n"
      ]
    },
    {
      "cell_type": "code",
      "metadata": {
        "colab": {
          "base_uri": "https://localhost:8080/",
          "height": 437
        },
        "id": "lnP0DbEYNCg4",
        "outputId": "06ded01d-5456-4beb-d092-511d9fa6d90f"
      },
      "source": [
        "pd.to_datetime(flood_first_twindow['DATA,D']).dt.strftime('%Y-%d-%m')\n",
        "first_scatter=(first_twindow_filtered.Date.value_counts().to_frame()).join(pd.to_datetime(flood_first_twindow['DATA,D']).dt.strftime('%Y-%d-%m').\n",
        "value_counts().to_frame())\n",
        "first_scatter=first_scatter.reset_index().sort_values(by='index').fillna(0)\n",
        "plt.style.use(\"seaborn-dark\") #estilo cyberpunk\n",
        "for param in ['figure.facecolor', 'axes.facecolor', 'savefig.facecolor']:\n",
        "    plt.rcParams[param] = '#212946'\n",
        "for param in ['text.color', 'axes.labelcolor', 'xtick.color', 'ytick.color']:\n",
        "    plt.rcParams[param] = '0.9'  # very light grey\n",
        "ax2=first_scatter.plot.scatter(x='DATA,D', y='Date', color='Cyan', figsize=(12,6), s=50)\n",
        "ax2.grid(color='#2A3459')\n",
        "ax2.set_xlabel(\"Frequency of Floods\")\n",
        "ax2.set_ylabel('Strength')\n",
        "ax2.set_title(\"Frequency of flood x Strength\")\n",
        "plt.rcParams.update({'font.size': 30})"
      ],
      "execution_count": 17,
      "outputs": [
        {
          "output_type": "display_data",
          "data": {
            "image/png": "[encoded data removed]",
            "text/plain": [
              "<Figure size 864x432 with 1 Axes>"
            ]
          },
          "metadata": {
            "tags": []
          }
        }
      ]
    },
    {
      "cell_type": "markdown",
      "metadata": {
        "id": "KZE_zmI7Uh4x"
      },
      "source": [
        "### Fidelity Dispersion"
      ]
    },
    {
      "cell_type": "code",
      "metadata": {
        "colab": {
          "base_uri": "https://localhost:8080/",
          "height": 0
        },
        "id": "c8ZBKvROUm2G",
        "outputId": "d1d43eb3-1bb0-4afb-f2f2-450020a7600a"
      },
      "source": [
        "first_scatter1=(fidelity_first_twindow.Date.value_counts().to_frame().join(pd.to_datetime(flood_first_twindow['DATA,D']).dt.strftime('%Y-%d-%m').\n",
        "value_counts().to_frame())).reset_index().sort_values(by='index')\n",
        "plt.style.use(\"seaborn-dark\") #estilo cyberpunk\n",
        "for param in ['figure.facecolor', 'axes.facecolor', 'savefig.facecolor']:\n",
        "    plt.rcParams[param] = '#212946'\n",
        "for param in ['text.color', 'axes.labelcolor', 'xtick.color', 'ytick.color']:\n",
        "    plt.rcParams[param] = '0.9'  # very light grey\n",
        "ax3=first_scatter1.plot.scatter(x='DATA,D', y='Date', color='Cyan', figsize=(12,6),s=50)\n",
        "ax3.grid(color='#2A3459')\n",
        "ax3.set_xlabel(\"Frequency of Floods\")\n",
        "ax3.set_ylabel('Fidelity')\n",
        "ax3.set_title('Flood frequency x Fidelity')\n",
        "plt.rcParams.update({'font.size': 30})"
      ],
      "execution_count": 18,
      "outputs": [
        {
          "output_type": "display_data",
          "data": {
            "image/png": "[encoded data removed]",
            "text/plain": [
              "<Figure size 864x432 with 1 Axes>"
            ]
          },
          "metadata": {
            "tags": []
          }
        }
      ]
    },
    {
      "cell_type": "markdown",
      "metadata": {
        "id": "7lEtwX35aBWz"
      },
      "source": [
        "## Duration of flood x frequency of tweets\n"
      ]
    },
    {
      "cell_type": "markdown",
      "metadata": {
        "id": "P5jxvdjwaVMb"
      },
      "source": [
        "### Fidelity Dispersion \n",
        "\n"
      ]
    },
    {
      "cell_type": "code",
      "metadata": {
        "colab": {
          "base_uri": "https://localhost:8080/",
          "height": 564
        },
        "id": "9Z9mALNwatI2",
        "outputId": "3ee9349c-db2c-4466-87e9-3c86e257f9e0"
      },
      "source": [
        "first_scatter3=((pd.to_datetime(flood_first_twindow['DATA,D']).dt.strftime('%Y-%d-%m')).to_frame().join(flood_first_twindow['DUR_H,N,7,2']\n",
        "                                                                                        .astype(float).to_frame())).groupby(['DATA,D']).sum()\n",
        "first_scatter3=(first_scatter3.assign(tweet=fidelity_first_twindow.Date.value_counts())).fillna(0)\n",
        "plt.style.use(\"seaborn-dark\") #estilo cyberpunk\n",
        "for param in ['figure.facecolor', 'axes.facecolor', 'savefig.facecolor']:\n",
        "    plt.rcParams[param] = '#212946'\n",
        "for param in ['text.color', 'axes.labelcolor', 'xtick.color', 'ytick.color']:\n",
        "    plt.rcParams[param] = '0.9'  # very light grey\n",
        "ax4=first_scatter3.plot.scatter(x='DUR_H,N,7,2', y='tweet', color='Cyan' ,figsize=(12,8), s=50)\n",
        "ax4.grid(color='#2A3459')\n",
        "ax4.set_xlabel(\"Duration of Floods\")\n",
        "ax4.set_ylabel('Fidelity')\n",
        "ax4.set_title('Flood duration x Fidelity', color='Cyan')\n",
        "plt.rcParams.update({'font.size': 35})"
      ],
      "execution_count": 19,
      "outputs": [
        {
          "output_type": "display_data",
          "data": {
            "image/png": "[encoded data removed]",
            "text/plain": [
              "<Figure size 864x576 with 1 Axes>"
            ]
          },
          "metadata": {
            "tags": []
          }
        }
      ]
    },
    {
      "cell_type": "code",
      "metadata": {
        "colab": {
          "base_uri": "https://localhost:8080/",
          "height": 237
        },
        "id": "Vytc_ZnrnAkO",
        "outputId": "11b4e63b-fca7-4d9d-c20b-9e923e1f7c72"
      },
      "source": [
        "first_scatter3"
      ],
      "execution_count": 20,
      "outputs": [
        {
          "output_type": "execute_result",
          "data": {
            "text/html": [
              "<div>\n",
              "<style scoped>\n",
              "    .dataframe tbody tr th:only-of-type {\n",
              "        vertical-align: middle;\n",
              "    }\n",
              "\n",
              "    .dataframe tbody tr th {\n",
              "        vertical-align: top;\n",
              "    }\n",
              "\n",
              "    .dataframe thead th {\n",
              "        text-align: right;\n",
              "    }\n",
              "</style>\n",
              "<table border=\"1\" class=\"dataframe\">\n",
              "  <thead>\n",
              "    <tr style=\"text-align: right;\">\n",
              "      <th></th>\n",
              "      <th>DUR_H,N,7,2</th>\n",
              "      <th>tweet</th>\n",
              "    </tr>\n",
              "    <tr>\n",
              "      <th>DATA,D</th>\n",
              "      <th></th>\n",
              "      <th></th>\n",
              "    </tr>\n",
              "  </thead>\n",
              "  <tbody>\n",
              "    <tr>\n",
              "      <th>2019-03-02</th>\n",
              "      <td>1.59</td>\n",
              "      <td>7.0</td>\n",
              "    </tr>\n",
              "    <tr>\n",
              "      <th>2019-03-05</th>\n",
              "      <td>13.56</td>\n",
              "      <td>4.0</td>\n",
              "    </tr>\n",
              "    <tr>\n",
              "      <th>2019-03-07</th>\n",
              "      <td>9.39</td>\n",
              "      <td>8.0</td>\n",
              "    </tr>\n",
              "    <tr>\n",
              "      <th>2019-03-09</th>\n",
              "      <td>0.60</td>\n",
              "      <td>12.0</td>\n",
              "    </tr>\n",
              "    <tr>\n",
              "      <th>2019-19-03</th>\n",
              "      <td>0.82</td>\n",
              "      <td>0.0</td>\n",
              "    </tr>\n",
              "  </tbody>\n",
              "</table>\n",
              "</div>"
            ],
            "text/plain": [
              "            DUR_H,N,7,2  tweet\n",
              "DATA,D                        \n",
              "2019-03-02         1.59    7.0\n",
              "2019-03-05        13.56    4.0\n",
              "2019-03-07         9.39    8.0\n",
              "2019-03-09         0.60   12.0\n",
              "2019-19-03         0.82    0.0"
            ]
          },
          "metadata": {
            "tags": []
          },
          "execution_count": 20
        }
      ]
    },
    {
      "cell_type": "markdown",
      "metadata": {
        "id": "ITq1NHGo1LZV"
      },
      "source": [
        "## Words Fidelity Frequence\n",
        "\n",
        "\n",
        "\n"
      ]
    },
    {
      "cell_type": "code",
      "metadata": {
        "colab": {
          "base_uri": "https://localhost:8080/",
          "height": 770
        },
        "id": "3SsnC0tF1WwL",
        "outputId": "dc808597-b6ac-4bea-c1f4-12042c07f26e"
      },
      "source": [
        "meteo_hidro\n",
        "fidelity_words_count=(fidelity_first_twindow.text.str.split(expand=True).stack().value_counts().to_frame()\n",
        ".reset_index())\n",
        "fidelity_words_frequency=(fidelity_words_count[fidelity_words_count['index'].str.contains('|'.join(meteo_hidro), case=False)])\n",
        "fidelity_words_frequency.columns=['Words', 'Frequence']\n",
        "pd.merge(fidelity_words_frequency, fidelity_words_frequency, on = 'Words')"
      ],
      "execution_count": 21,
      "outputs": [
        {
          "output_type": "execute_result",
          "data": {
            "text/html": [
              "<div>\n",
              "<style scoped>\n",
              "    .dataframe tbody tr th:only-of-type {\n",
              "        vertical-align: middle;\n",
              "    }\n",
              "\n",
              "    .dataframe tbody tr th {\n",
              "        vertical-align: top;\n",
              "    }\n",
              "\n",
              "    .dataframe thead th {\n",
              "        text-align: right;\n",
              "    }\n",
              "</style>\n",
              "<table border=\"1\" class=\"dataframe\">\n",
              "  <thead>\n",
              "    <tr style=\"text-align: right;\">\n",
              "      <th></th>\n",
              "      <th>Words</th>\n",
              "      <th>Frequence_x</th>\n",
              "      <th>Frequence_y</th>\n",
              "    </tr>\n",
              "  </thead>\n",
              "  <tbody>\n",
              "    <tr>\n",
              "      <th>0</th>\n",
              "      <td>chuva</td>\n",
              "      <td>13</td>\n",
              "      <td>13</td>\n",
              "    </tr>\n",
              "    <tr>\n",
              "      <th>1</th>\n",
              "      <td>#chuva</td>\n",
              "      <td>4</td>\n",
              "      <td>4</td>\n",
              "    </tr>\n",
              "    <tr>\n",
              "      <th>2</th>\n",
              "      <td>#rain</td>\n",
              "      <td>2</td>\n",
              "      <td>2</td>\n",
              "    </tr>\n",
              "    <tr>\n",
              "      <th>3</th>\n",
              "      <td>rain</td>\n",
              "      <td>1</td>\n",
              "      <td>1</td>\n",
              "    </tr>\n",
              "    <tr>\n",
              "      <th>4</th>\n",
              "      <td>#Chuva🌦</td>\n",
              "      <td>1</td>\n",
              "      <td>1</td>\n",
              "    </tr>\n",
              "    <tr>\n",
              "      <th>5</th>\n",
              "      <td>#rainy</td>\n",
              "      <td>1</td>\n",
              "      <td>1</td>\n",
              "    </tr>\n",
              "    <tr>\n",
              "      <th>6</th>\n",
              "      <td>lightning!</td>\n",
              "      <td>1</td>\n",
              "      <td>1</td>\n",
              "    </tr>\n",
              "    <tr>\n",
              "      <th>7</th>\n",
              "      <td>rain...</td>\n",
              "      <td>1</td>\n",
              "      <td>1</td>\n",
              "    </tr>\n",
              "    <tr>\n",
              "      <th>8</th>\n",
              "      <td>Tempestade⛈⛈⛈</td>\n",
              "      <td>1</td>\n",
              "      <td>1</td>\n",
              "    </tr>\n",
              "    <tr>\n",
              "      <th>9</th>\n",
              "      <td>chuva😋😋😋🌧</td>\n",
              "      <td>1</td>\n",
              "      <td>1</td>\n",
              "    </tr>\n",
              "    <tr>\n",
              "      <th>10</th>\n",
              "      <td>#Lightning…</td>\n",
              "      <td>1</td>\n",
              "      <td>1</td>\n",
              "    </tr>\n",
              "    <tr>\n",
              "      <th>11</th>\n",
              "      <td>Chuvaaaa</td>\n",
              "      <td>1</td>\n",
              "      <td>1</td>\n",
              "    </tr>\n",
              "    <tr>\n",
              "      <th>12</th>\n",
              "      <td>#train</td>\n",
              "      <td>1</td>\n",
              "      <td>1</td>\n",
              "    </tr>\n",
              "    <tr>\n",
              "      <th>13</th>\n",
              "      <td>chuva.</td>\n",
              "      <td>1</td>\n",
              "      <td>1</td>\n",
              "    </tr>\n",
              "    <tr>\n",
              "      <th>14</th>\n",
              "      <td>#dianublado…</td>\n",
              "      <td>1</td>\n",
              "      <td>1</td>\n",
              "    </tr>\n",
              "    <tr>\n",
              "      <th>15</th>\n",
              "      <td>chuva!!😂😂😂</td>\n",
              "      <td>1</td>\n",
              "      <td>1</td>\n",
              "    </tr>\n",
              "    <tr>\n",
              "      <th>16</th>\n",
              "      <td>#tempestade</td>\n",
              "      <td>1</td>\n",
              "      <td>1</td>\n",
              "    </tr>\n",
              "    <tr>\n",
              "      <th>17</th>\n",
              "      <td>tempestade</td>\n",
              "      <td>1</td>\n",
              "      <td>1</td>\n",
              "    </tr>\n",
              "    <tr>\n",
              "      <th>18</th>\n",
              "      <td>CHUVA</td>\n",
              "      <td>1</td>\n",
              "      <td>1</td>\n",
              "    </tr>\n",
              "    <tr>\n",
              "      <th>19</th>\n",
              "      <td>chuva).</td>\n",
              "      <td>1</td>\n",
              "      <td>1</td>\n",
              "    </tr>\n",
              "    <tr>\n",
              "      <th>20</th>\n",
              "      <td>chuva!</td>\n",
              "      <td>1</td>\n",
              "      <td>1</td>\n",
              "    </tr>\n",
              "    <tr>\n",
              "      <th>21</th>\n",
              "      <td>Chuva</td>\n",
              "      <td>1</td>\n",
              "      <td>1</td>\n",
              "    </tr>\n",
              "    <tr>\n",
              "      <th>22</th>\n",
              "      <td>precipitação</td>\n",
              "      <td>1</td>\n",
              "      <td>1</td>\n",
              "    </tr>\n",
              "  </tbody>\n",
              "</table>\n",
              "</div>"
            ],
            "text/plain": [
              "            Words  Frequence_x  Frequence_y\n",
              "0           chuva           13           13\n",
              "1          #chuva            4            4\n",
              "2           #rain            2            2\n",
              "3            rain            1            1\n",
              "4         #Chuva🌦            1            1\n",
              "5          #rainy            1            1\n",
              "6      lightning!            1            1\n",
              "7         rain...            1            1\n",
              "8   Tempestade⛈⛈⛈            1            1\n",
              "9       chuva😋😋😋🌧            1            1\n",
              "10    #Lightning…            1            1\n",
              "11       Chuvaaaa            1            1\n",
              "12         #train            1            1\n",
              "13         chuva.            1            1\n",
              "14   #dianublado…            1            1\n",
              "15     chuva!!😂😂😂            1            1\n",
              "16    #tempestade            1            1\n",
              "17     tempestade            1            1\n",
              "18          CHUVA            1            1\n",
              "19        chuva).            1            1\n",
              "20         chuva!            1            1\n",
              "21          Chuva            1            1\n",
              "22   precipitação            1            1"
            ]
          },
          "metadata": {
            "tags": []
          },
          "execution_count": 21
        }
      ]
    },
    {
      "cell_type": "markdown",
      "metadata": {
        "id": "NwH_JnyILj-K"
      },
      "source": [
        "# Agregate tweets per day (16h-20), first temporal window\n"
      ]
    },
    {
      "cell_type": "markdown",
      "metadata": {
        "id": "449FnlUlOygs"
      },
      "source": [
        "## Time of floods and tweets filter for a time radius of 2 hours before"
      ]
    },
    {
      "cell_type": "code",
      "metadata": {
        "colab": {
          "base_uri": "https://localhost:8080/"
        },
        "id": "QiS8J0t1Mvrz",
        "outputId": "6c7c4529-5567-4198-9857-797dddbf499a"
      },
      "source": [
        "#Time of tweets window according to the time of flooding\n",
        "lst1=[flood_first_twindow['H_INICIO,C,254'].max(), flood_first_twindow['H_INICIO,C,254'].min()]\n",
        "lst1\n"
      ],
      "execution_count": 22,
      "outputs": [
        {
          "output_type": "execute_result",
          "data": {
            "text/plain": [
              "['19:43:00', '16:48:00']"
            ]
          },
          "metadata": {
            "tags": []
          },
          "execution_count": 22
        }
      ]
    },
    {
      "cell_type": "code",
      "metadata": {
        "id": "fxc4cy4oOIYT"
      },
      "source": [
        "#Filtering de tweets acordding to lst1 (Tweets that ocurred 2 hours before a flood)\n",
        "tweet_window=df[((df.Time>='14:48') &(df.Time<='19:43') & (df.Date>='2019-03-01') & (df.Date<='2019-03-12'))]"
      ],
      "execution_count": 23,
      "outputs": []
    },
    {
      "cell_type": "markdown",
      "metadata": {
        "id": "VFy1u_1pPZHI"
      },
      "source": [
        "# Filtering the words for the temporal cut (tweet_window)"
      ]
    },
    {
      "cell_type": "code",
      "metadata": {
        "colab": {
          "base_uri": "https://localhost:8080/"
        },
        "id": "Mz7jWagDwyeI",
        "outputId": "2734c090-eee1-4797-b831-2ee50133bfc9"
      },
      "source": [
        "tweet_window['text']=tweet_window['text'].str.replace('\\.','', regex=True)"
      ],
      "execution_count": 24,
      "outputs": [
        {
          "output_type": "stream",
          "text": [
            "/usr/local/lib/python3.7/dist-packages/ipykernel_launcher.py:1: SettingWithCopyWarning: \n",
            "A value is trying to be set on a copy of a slice from a DataFrame.\n",
            "Try using .loc[row_indexer,col_indexer] = value instead\n",
            "\n",
            "See the caveats in the documentation: https://pandas.pydata.org/pandas-docs/stable/user_guide/indexing.html#returning-a-view-versus-a-copy\n",
            "  \"\"\"Entry point for launching an IPython kernel.\n"
          ],
          "name": "stderr"
        }
      ]
    },
    {
      "cell_type": "code",
      "metadata": {
        "id": "eiZnMaCNQVB7"
      },
      "source": [
        "\n",
        "meteo_hidro=['chuva','rain','temporal', 'lightning', 'tempestade','trovão','rainbow','precipitação','alagado','alagamento','enchente','enxente','inundação','raio','chovendo']\n",
        "tweet_window_filtered=tweet_window[tweet_window.text.str.contains('\\W|\\W'.join(meteo_hidro), case=False,regex=True)]"
      ],
      "execution_count": 25,
      "outputs": []
    },
    {
      "cell_type": "code",
      "metadata": {
        "colab": {
          "base_uri": "https://localhost:8080/",
          "height": 1000
        },
        "id": "HL5T32CzsVW0",
        "outputId": "82bb1dcb-612e-4e11-a66c-ab56e5e01223"
      },
      "source": [
        "tweet_window_filtered"
      ],
      "execution_count": 26,
      "outputs": [
        {
          "output_type": "execute_result",
          "data": {
            "text/html": [
              "<div>\n",
              "<style scoped>\n",
              "    .dataframe tbody tr th:only-of-type {\n",
              "        vertical-align: middle;\n",
              "    }\n",
              "\n",
              "    .dataframe tbody tr th {\n",
              "        vertical-align: top;\n",
              "    }\n",
              "\n",
              "    .dataframe thead th {\n",
              "        text-align: right;\n",
              "    }\n",
              "</style>\n",
              "<table border=\"1\" class=\"dataframe\">\n",
              "  <thead>\n",
              "    <tr style=\"text-align: right;\">\n",
              "      <th></th>\n",
              "      <th>date</th>\n",
              "      <th>text</th>\n",
              "      <th>Time</th>\n",
              "      <th>Date</th>\n",
              "    </tr>\n",
              "  </thead>\n",
              "  <tbody>\n",
              "    <tr>\n",
              "      <th>51903</th>\n",
              "      <td>2019-03-02 18:10:53-03:00</td>\n",
              "      <td>Chove chuva! em São Paulo  Brazil https://tco/...</td>\n",
              "      <td>18:10</td>\n",
              "      <td>2019-03-02</td>\n",
              "    </tr>\n",
              "    <tr>\n",
              "      <th>51898</th>\n",
              "      <td>2019-03-02 18:17:02-03:00</td>\n",
              "      <td>Blooms in the rain 場所: São Paulo  Brazil https...</td>\n",
              "      <td>18:17</td>\n",
              "      <td>2019-03-02</td>\n",
              "    </tr>\n",
              "    <tr>\n",
              "      <th>51873</th>\n",
              "      <td>2019-03-02 18:48:31-03:00</td>\n",
              "      <td>O chuva quero que caia de vagar! #carnaval #20...</td>\n",
              "      <td>18:48</td>\n",
              "      <td>2019-03-02</td>\n",
              "    </tr>\n",
              "    <tr>\n",
              "      <th>51844</th>\n",
              "      <td>2019-03-02 19:14:22-03:00</td>\n",
              "      <td>Passa a chuva aqui em Casarão Augusta https://...</td>\n",
              "      <td>19:14</td>\n",
              "      <td>2019-03-02</td>\n",
              "    </tr>\n",
              "    <tr>\n",
              "      <th>53027</th>\n",
              "      <td>2019-03-03 14:57:37-03:00</td>\n",
              "      <td>#chuva #chuvadegranizo em São Paulo  Brazil ht...</td>\n",
              "      <td>14:57</td>\n",
              "      <td>2019-03-03</td>\n",
              "    </tr>\n",
              "    <tr>\n",
              "      <th>53010</th>\n",
              "      <td>2019-03-03 15:14:11-03:00</td>\n",
              "      <td>No seco ou no molhado  na chuva ou no sol  com...</td>\n",
              "      <td>15:14</td>\n",
              "      <td>2019-03-03</td>\n",
              "    </tr>\n",
              "    <tr>\n",
              "      <th>52860</th>\n",
              "      <td>2019-03-03 17:58:15-03:00</td>\n",
              "      <td>Cisne Rainbow? Bailarina? Capa? Heroí? Anja de...</td>\n",
              "      <td>17:58</td>\n",
              "      <td>2019-03-03</td>\n",
              "    </tr>\n",
              "    <tr>\n",
              "      <th>53914</th>\n",
              "      <td>2019-03-04 15:39:54-03:00</td>\n",
              "      <td>#PegaDica A Catástrofe do Sucesso\\nO espetácul...</td>\n",
              "      <td>15:39</td>\n",
              "      <td>2019-03-04</td>\n",
              "    </tr>\n",
              "    <tr>\n",
              "      <th>54856</th>\n",
              "      <td>2019-03-05 17:21:13-03:00</td>\n",
              "      <td>Segue o bloco (mesmo co chuva) #sampa #carnava...</td>\n",
              "      <td>17:21</td>\n",
              "      <td>2019-03-05</td>\n",
              "    </tr>\n",
              "    <tr>\n",
              "      <th>54824</th>\n",
              "      <td>2019-03-05 17:42:36-03:00</td>\n",
              "      <td>Ta chovendo! Vim preparado ☔ em Bloco Da Pabll...</td>\n",
              "      <td>17:42</td>\n",
              "      <td>2019-03-05</td>\n",
              "    </tr>\n",
              "    <tr>\n",
              "      <th>54766</th>\n",
              "      <td>2019-03-05 18:49:45-03:00</td>\n",
              "      <td>Apesar da chuva\\n#showroomdummy \\n#belavista\\n...</td>\n",
              "      <td>18:49</td>\n",
              "      <td>2019-03-05</td>\n",
              "    </tr>\n",
              "    <tr>\n",
              "      <th>55947</th>\n",
              "      <td>2019-03-06 15:15:39-03:00</td>\n",
              "      <td>É brilho que a gente quer nesse carnaval né?! ...</td>\n",
              "      <td>15:15</td>\n",
              "      <td>2019-03-06</td>\n",
              "    </tr>\n",
              "    <tr>\n",
              "      <th>56972</th>\n",
              "      <td>2019-03-07 14:58:34-03:00</td>\n",
              "      <td>Boa tarde galera E hoje vai desabar de novo Cu...</td>\n",
              "      <td>14:58</td>\n",
              "      <td>2019-03-07</td>\n",
              "    </tr>\n",
              "    <tr>\n",
              "      <th>56947</th>\n",
              "      <td>2019-03-07 15:13:49-03:00</td>\n",
              "      <td>ACHO QUE TA CHOVENDO FORTE PELOS LADOS DE CÁ\\n...</td>\n",
              "      <td>15:13</td>\n",
              "      <td>2019-03-07</td>\n",
              "    </tr>\n",
              "    <tr>\n",
              "      <th>56938</th>\n",
              "      <td>2019-03-07 15:21:57-03:00</td>\n",
              "      <td>#tbt do #sol #pordosol de anos anteriores Nest...</td>\n",
              "      <td>15:21</td>\n",
              "      <td>2019-03-07</td>\n",
              "    </tr>\n",
              "    <tr>\n",
              "      <th>56907</th>\n",
              "      <td>2019-03-07 16:06:03-03:00</td>\n",
              "      <td>O que cê tá fazendo Klaudia enquanto essa chuv...</td>\n",
              "      <td>16:06</td>\n",
              "      <td>2019-03-07</td>\n",
              "    </tr>\n",
              "    <tr>\n",
              "      <th>56849</th>\n",
              "      <td>2019-03-07 17:27:02-03:00</td>\n",
              "      <td>CHUVA NÉ ?!!! em São Paulo  Brazil https://tco...</td>\n",
              "      <td>17:27</td>\n",
              "      <td>2019-03-07</td>\n",
              "    </tr>\n",
              "    <tr>\n",
              "      <th>56843</th>\n",
              "      <td>2019-03-07 17:34:08-03:00</td>\n",
              "      <td>Formação da chuva em São Paulo #detalhes #Deta...</td>\n",
              "      <td>17:34</td>\n",
              "      <td>2019-03-07</td>\n",
              "    </tr>\n",
              "    <tr>\n",
              "      <th>56823</th>\n",
              "      <td>2019-03-07 17:48:13-03:00</td>\n",
              "      <td>🍃🍂⛈🌨🌩Dia de chuva na casa da vó 🌪 tem que ter ...</td>\n",
              "      <td>17:48</td>\n",
              "      <td>2019-03-07</td>\n",
              "    </tr>\n",
              "    <tr>\n",
              "      <th>56780</th>\n",
              "      <td>2019-03-07 18:33:47-03:00</td>\n",
              "      <td>Após uma grande tempestade vem essa beleza em ...</td>\n",
              "      <td>18:33</td>\n",
              "      <td>2019-03-07</td>\n",
              "    </tr>\n",
              "    <tr>\n",
              "      <th>56701</th>\n",
              "      <td>2019-03-07 19:31:36-03:00</td>\n",
              "      <td>Olha a chuva que encaramos hoje na Anchieta Só...</td>\n",
              "      <td>19:31</td>\n",
              "      <td>2019-03-07</td>\n",
              "    </tr>\n",
              "    <tr>\n",
              "      <th>59069</th>\n",
              "      <td>2019-03-09 15:24:00-03:00</td>\n",
              "      <td>Vc passa ou já passou por algum dilema em sua ...</td>\n",
              "      <td>15:24</td>\n",
              "      <td>2019-03-09</td>\n",
              "    </tr>\n",
              "    <tr>\n",
              "      <th>58991</th>\n",
              "      <td>2019-03-09 16:56:01-03:00</td>\n",
              "      <td>Esperando outro bloco passar antes da chuva!!😂...</td>\n",
              "      <td>16:56</td>\n",
              "      <td>2019-03-09</td>\n",
              "    </tr>\n",
              "    <tr>\n",
              "      <th>58969</th>\n",
              "      <td>2019-03-09 17:23:58-03:00</td>\n",
              "      <td>Sun and rain 🌦 \\n#gratidao #obrigadodeuspormai...</td>\n",
              "      <td>17:23</td>\n",
              "      <td>2019-03-09</td>\n",
              "    </tr>\n",
              "    <tr>\n",
              "      <th>58947</th>\n",
              "      <td>2019-03-09 17:49:31-03:00</td>\n",
              "      <td>O que um pouco de sorte e paciência conseguem ...</td>\n",
              "      <td>17:49</td>\n",
              "      <td>2019-03-09</td>\n",
              "    </tr>\n",
              "    <tr>\n",
              "      <th>58919</th>\n",
              "      <td>2019-03-09 18:34:36-03:00</td>\n",
              "      <td>🌆 #rain #sunset #nightfall #splovers #sampa em...</td>\n",
              "      <td>18:34</td>\n",
              "      <td>2019-03-09</td>\n",
              "    </tr>\n",
              "    <tr>\n",
              "      <th>58895</th>\n",
              "      <td>2019-03-09 19:09:09-03:00</td>\n",
              "      <td>“Ele disse: não chore  que chorar enfraquece\\n...</td>\n",
              "      <td>19:09</td>\n",
              "      <td>2019-03-09</td>\n",
              "    </tr>\n",
              "    <tr>\n",
              "      <th>58878</th>\n",
              "      <td>2019-03-09 19:18:42-03:00</td>\n",
              "      <td>Chuva miúda não mata ninguém\\n#BaianaSystem #C...</td>\n",
              "      <td>19:18</td>\n",
              "      <td>2019-03-09</td>\n",
              "    </tr>\n",
              "    <tr>\n",
              "      <th>58875</th>\n",
              "      <td>2019-03-09 19:24:45-03:00</td>\n",
              "      <td>Teve bloco Largadinho com @claudialeitte em Sã...</td>\n",
              "      <td>19:24</td>\n",
              "      <td>2019-03-09</td>\n",
              "    </tr>\n",
              "    <tr>\n",
              "      <th>58864</th>\n",
              "      <td>2019-03-09 19:30:29-03:00</td>\n",
              "      <td>E pra fechar o carnaval  chuva pra lavar a alm...</td>\n",
              "      <td>19:30</td>\n",
              "      <td>2019-03-09</td>\n",
              "    </tr>\n",
              "    <tr>\n",
              "      <th>58857</th>\n",
              "      <td>2019-03-09 19:39:54-03:00</td>\n",
              "      <td>ATENÇÃO! A sessão de hoje (9) da #TAGMachine f...</td>\n",
              "      <td>19:39</td>\n",
              "      <td>2019-03-09</td>\n",
              "    </tr>\n",
              "    <tr>\n",
              "      <th>58856</th>\n",
              "      <td>2019-03-09 19:40:24-03:00</td>\n",
              "      <td>E o sigabemcaminhoneira é o melhor bloco de Sã...</td>\n",
              "      <td>19:40</td>\n",
              "      <td>2019-03-09</td>\n",
              "    </tr>\n",
              "    <tr>\n",
              "      <th>59978</th>\n",
              "      <td>2019-03-10 17:07:52-03:00</td>\n",
              "      <td>#noite #chuva #saopaulo #ceu - Final de tarde ...</td>\n",
              "      <td>17:07</td>\n",
              "      <td>2019-03-10</td>\n",
              "    </tr>\n",
              "    <tr>\n",
              "      <th>59917</th>\n",
              "      <td>2019-03-10 18:04:28-03:00</td>\n",
              "      <td>É carnaval ainda gente!\\nNesse domingo de fest...</td>\n",
              "      <td>18:04</td>\n",
              "      <td>2019-03-10</td>\n",
              "    </tr>\n",
              "    <tr>\n",
              "      <th>61067</th>\n",
              "      <td>2019-03-11 15:25:42-03:00</td>\n",
              "      <td>Já passei por tantas tempestades que até perd...</td>\n",
              "      <td>15:25</td>\n",
              "      <td>2019-03-11</td>\n",
              "    </tr>\n",
              "    <tr>\n",
              "      <th>61059</th>\n",
              "      <td>2019-03-11 15:32:29-03:00</td>\n",
              "      <td>E seguimos alegres tirando onda nesse que é o ...</td>\n",
              "      <td>15:32</td>\n",
              "      <td>2019-03-11</td>\n",
              "    </tr>\n",
              "    <tr>\n",
              "      <th>60980</th>\n",
              "      <td>2019-03-11 17:08:18-03:00</td>\n",
              "      <td>#breakingnews🚨 12 dead and 6 injured joao dori...</td>\n",
              "      <td>17:08</td>\n",
              "      <td>2019-03-11</td>\n",
              "    </tr>\n",
              "    <tr>\n",
              "      <th>60961</th>\n",
              "      <td>2019-03-11 17:26:51-03:00</td>\n",
              "      <td>🙏\\nDiante do Caos MEDITE!\\n🙏✨❤️\\nSim  ela medi...</td>\n",
              "      <td>17:26</td>\n",
              "      <td>2019-03-11</td>\n",
              "    </tr>\n",
              "    <tr>\n",
              "      <th>60959</th>\n",
              "      <td>2019-03-11 17:30:37-03:00</td>\n",
              "      <td>Boa tarde galera E em Sao Paulo  a chuva causa...</td>\n",
              "      <td>17:30</td>\n",
              "      <td>2019-03-11</td>\n",
              "    </tr>\n",
              "    <tr>\n",
              "      <th>60903</th>\n",
              "      <td>2019-03-11 18:33:26-03:00</td>\n",
              "      <td>dia caótico sampa/ #temporal #sampa #brasil em...</td>\n",
              "      <td>18:33</td>\n",
              "      <td>2019-03-11</td>\n",
              "    </tr>\n",
              "    <tr>\n",
              "      <th>60869</th>\n",
              "      <td>2019-03-11 19:12:42-03:00</td>\n",
              "      <td>🔴 LINK NOS STORIES\\nWee Gee - In The Rain\\n#Bl...</td>\n",
              "      <td>19:12</td>\n",
              "      <td>2019-03-11</td>\n",
              "    </tr>\n",
              "    <tr>\n",
              "      <th>61862</th>\n",
              "      <td>2019-03-12 17:00:29-03:00</td>\n",
              "      <td>Será que vem mais chuva?🤨 #boatardinha #rain #...</td>\n",
              "      <td>17:00</td>\n",
              "      <td>2019-03-12</td>\n",
              "    </tr>\n",
              "    <tr>\n",
              "      <th>61859</th>\n",
              "      <td>2019-03-12 17:04:02-03:00</td>\n",
              "      <td>Há 3 anos nesta mesma data eu disse SIM a você...</td>\n",
              "      <td>17:04</td>\n",
              "      <td>2019-03-12</td>\n",
              "    </tr>\n",
              "    <tr>\n",
              "      <th>61834</th>\n",
              "      <td>2019-03-12 17:25:31-03:00</td>\n",
              "      <td>Hi there check it out the damage that the conc...</td>\n",
              "      <td>17:25</td>\n",
              "      <td>2019-03-12</td>\n",
              "    </tr>\n",
              "    <tr>\n",
              "      <th>61831</th>\n",
              "      <td>2019-03-12 17:30:11-03:00</td>\n",
              "      <td>Caraca! É cada pedrada  #Chuva de #Granizo em ...</td>\n",
              "      <td>17:30</td>\n",
              "      <td>2019-03-12</td>\n",
              "    </tr>\n",
              "    <tr>\n",
              "      <th>61806</th>\n",
              "      <td>2019-03-12 18:02:17-03:00</td>\n",
              "      <td>O sol tentando vencer a chuva\\n#aguasdemarço #...</td>\n",
              "      <td>18:02</td>\n",
              "      <td>2019-03-12</td>\n",
              "    </tr>\n",
              "    <tr>\n",
              "      <th>61782</th>\n",
              "      <td>2019-03-12 18:32:24-03:00</td>\n",
              "      <td>ORAR PARA NADA ALAGAR\\na chuva começa e o cora...</td>\n",
              "      <td>18:32</td>\n",
              "      <td>2019-03-12</td>\n",
              "    </tr>\n",
              "  </tbody>\n",
              "</table>\n",
              "</div>"
            ],
            "text/plain": [
              "                           date  ...        Date\n",
              "51903 2019-03-02 18:10:53-03:00  ...  2019-03-02\n",
              "51898 2019-03-02 18:17:02-03:00  ...  2019-03-02\n",
              "51873 2019-03-02 18:48:31-03:00  ...  2019-03-02\n",
              "51844 2019-03-02 19:14:22-03:00  ...  2019-03-02\n",
              "53027 2019-03-03 14:57:37-03:00  ...  2019-03-03\n",
              "53010 2019-03-03 15:14:11-03:00  ...  2019-03-03\n",
              "52860 2019-03-03 17:58:15-03:00  ...  2019-03-03\n",
              "53914 2019-03-04 15:39:54-03:00  ...  2019-03-04\n",
              "54856 2019-03-05 17:21:13-03:00  ...  2019-03-05\n",
              "54824 2019-03-05 17:42:36-03:00  ...  2019-03-05\n",
              "54766 2019-03-05 18:49:45-03:00  ...  2019-03-05\n",
              "55947 2019-03-06 15:15:39-03:00  ...  2019-03-06\n",
              "56972 2019-03-07 14:58:34-03:00  ...  2019-03-07\n",
              "56947 2019-03-07 15:13:49-03:00  ...  2019-03-07\n",
              "56938 2019-03-07 15:21:57-03:00  ...  2019-03-07\n",
              "56907 2019-03-07 16:06:03-03:00  ...  2019-03-07\n",
              "56849 2019-03-07 17:27:02-03:00  ...  2019-03-07\n",
              "56843 2019-03-07 17:34:08-03:00  ...  2019-03-07\n",
              "56823 2019-03-07 17:48:13-03:00  ...  2019-03-07\n",
              "56780 2019-03-07 18:33:47-03:00  ...  2019-03-07\n",
              "56701 2019-03-07 19:31:36-03:00  ...  2019-03-07\n",
              "59069 2019-03-09 15:24:00-03:00  ...  2019-03-09\n",
              "58991 2019-03-09 16:56:01-03:00  ...  2019-03-09\n",
              "58969 2019-03-09 17:23:58-03:00  ...  2019-03-09\n",
              "58947 2019-03-09 17:49:31-03:00  ...  2019-03-09\n",
              "58919 2019-03-09 18:34:36-03:00  ...  2019-03-09\n",
              "58895 2019-03-09 19:09:09-03:00  ...  2019-03-09\n",
              "58878 2019-03-09 19:18:42-03:00  ...  2019-03-09\n",
              "58875 2019-03-09 19:24:45-03:00  ...  2019-03-09\n",
              "58864 2019-03-09 19:30:29-03:00  ...  2019-03-09\n",
              "58857 2019-03-09 19:39:54-03:00  ...  2019-03-09\n",
              "58856 2019-03-09 19:40:24-03:00  ...  2019-03-09\n",
              "59978 2019-03-10 17:07:52-03:00  ...  2019-03-10\n",
              "59917 2019-03-10 18:04:28-03:00  ...  2019-03-10\n",
              "61067 2019-03-11 15:25:42-03:00  ...  2019-03-11\n",
              "61059 2019-03-11 15:32:29-03:00  ...  2019-03-11\n",
              "60980 2019-03-11 17:08:18-03:00  ...  2019-03-11\n",
              "60961 2019-03-11 17:26:51-03:00  ...  2019-03-11\n",
              "60959 2019-03-11 17:30:37-03:00  ...  2019-03-11\n",
              "60903 2019-03-11 18:33:26-03:00  ...  2019-03-11\n",
              "60869 2019-03-11 19:12:42-03:00  ...  2019-03-11\n",
              "61862 2019-03-12 17:00:29-03:00  ...  2019-03-12\n",
              "61859 2019-03-12 17:04:02-03:00  ...  2019-03-12\n",
              "61834 2019-03-12 17:25:31-03:00  ...  2019-03-12\n",
              "61831 2019-03-12 17:30:11-03:00  ...  2019-03-12\n",
              "61806 2019-03-12 18:02:17-03:00  ...  2019-03-12\n",
              "61782 2019-03-12 18:32:24-03:00  ...  2019-03-12\n",
              "\n",
              "[47 rows x 4 columns]"
            ]
          },
          "metadata": {
            "tags": []
          },
          "execution_count": 26
        }
      ]
    },
    {
      "cell_type": "markdown",
      "metadata": {
        "id": "1ZoSk04nTxME"
      },
      "source": [
        "## Tweets per day "
      ]
    },
    {
      "cell_type": "code",
      "metadata": {
        "colab": {
          "base_uri": "https://localhost:8080/",
          "height": 362
        },
        "id": "iKICVClyT1SQ",
        "outputId": "58ad7306-d413-4787-e19a-310fca31dc84"
      },
      "source": [
        "archive1_1=(tweet_window_filtered.Date.value_counts().to_frame().reset_index().sort_values(by='index'))\n",
        "archive1_1"
      ],
      "execution_count": 27,
      "outputs": [
        {
          "output_type": "execute_result",
          "data": {
            "text/html": [
              "<div>\n",
              "<style scoped>\n",
              "    .dataframe tbody tr th:only-of-type {\n",
              "        vertical-align: middle;\n",
              "    }\n",
              "\n",
              "    .dataframe tbody tr th {\n",
              "        vertical-align: top;\n",
              "    }\n",
              "\n",
              "    .dataframe thead th {\n",
              "        text-align: right;\n",
              "    }\n",
              "</style>\n",
              "<table border=\"1\" class=\"dataframe\">\n",
              "  <thead>\n",
              "    <tr style=\"text-align: right;\">\n",
              "      <th></th>\n",
              "      <th>index</th>\n",
              "      <th>Date</th>\n",
              "    </tr>\n",
              "  </thead>\n",
              "  <tbody>\n",
              "    <tr>\n",
              "      <th>4</th>\n",
              "      <td>2019-03-02</td>\n",
              "      <td>4</td>\n",
              "    </tr>\n",
              "    <tr>\n",
              "      <th>6</th>\n",
              "      <td>2019-03-03</td>\n",
              "      <td>3</td>\n",
              "    </tr>\n",
              "    <tr>\n",
              "      <th>8</th>\n",
              "      <td>2019-03-04</td>\n",
              "      <td>1</td>\n",
              "    </tr>\n",
              "    <tr>\n",
              "      <th>5</th>\n",
              "      <td>2019-03-05</td>\n",
              "      <td>3</td>\n",
              "    </tr>\n",
              "    <tr>\n",
              "      <th>9</th>\n",
              "      <td>2019-03-06</td>\n",
              "      <td>1</td>\n",
              "    </tr>\n",
              "    <tr>\n",
              "      <th>1</th>\n",
              "      <td>2019-03-07</td>\n",
              "      <td>9</td>\n",
              "    </tr>\n",
              "    <tr>\n",
              "      <th>0</th>\n",
              "      <td>2019-03-09</td>\n",
              "      <td>11</td>\n",
              "    </tr>\n",
              "    <tr>\n",
              "      <th>7</th>\n",
              "      <td>2019-03-10</td>\n",
              "      <td>2</td>\n",
              "    </tr>\n",
              "    <tr>\n",
              "      <th>2</th>\n",
              "      <td>2019-03-11</td>\n",
              "      <td>7</td>\n",
              "    </tr>\n",
              "    <tr>\n",
              "      <th>3</th>\n",
              "      <td>2019-03-12</td>\n",
              "      <td>6</td>\n",
              "    </tr>\n",
              "  </tbody>\n",
              "</table>\n",
              "</div>"
            ],
            "text/plain": [
              "        index  Date\n",
              "4  2019-03-02     4\n",
              "6  2019-03-03     3\n",
              "8  2019-03-04     1\n",
              "5  2019-03-05     3\n",
              "9  2019-03-06     1\n",
              "1  2019-03-07     9\n",
              "0  2019-03-09    11\n",
              "7  2019-03-10     2\n",
              "2  2019-03-11     7\n",
              "3  2019-03-12     6"
            ]
          },
          "metadata": {
            "tags": []
          },
          "execution_count": 27
        }
      ]
    },
    {
      "cell_type": "markdown",
      "metadata": {
        "id": "CugbXsqiU2Fd"
      },
      "source": [
        "## Flood per day"
      ]
    },
    {
      "cell_type": "code",
      "metadata": {
        "colab": {
          "base_uri": "https://localhost:8080/",
          "height": 237
        },
        "id": "kGK9ZPEzVHWF",
        "outputId": "4f1373d3-c6da-491f-b0a6-d56334b7d594"
      },
      "source": [
        "archive1_2=pd.to_datetime(flood_first_twindow['DATA,D']).dt.strftime('%Y-%d-%m').value_counts().to_frame().reset_index().sort_values(by='index')\n",
        "archive1_2.set_index('index')"
      ],
      "execution_count": 28,
      "outputs": [
        {
          "output_type": "execute_result",
          "data": {
            "text/html": [
              "<div>\n",
              "<style scoped>\n",
              "    .dataframe tbody tr th:only-of-type {\n",
              "        vertical-align: middle;\n",
              "    }\n",
              "\n",
              "    .dataframe tbody tr th {\n",
              "        vertical-align: top;\n",
              "    }\n",
              "\n",
              "    .dataframe thead th {\n",
              "        text-align: right;\n",
              "    }\n",
              "</style>\n",
              "<table border=\"1\" class=\"dataframe\">\n",
              "  <thead>\n",
              "    <tr style=\"text-align: right;\">\n",
              "      <th></th>\n",
              "      <th>DATA,D</th>\n",
              "    </tr>\n",
              "    <tr>\n",
              "      <th>index</th>\n",
              "      <th></th>\n",
              "    </tr>\n",
              "  </thead>\n",
              "  <tbody>\n",
              "    <tr>\n",
              "      <th>2019-03-02</th>\n",
              "      <td>3</td>\n",
              "    </tr>\n",
              "    <tr>\n",
              "      <th>2019-03-05</th>\n",
              "      <td>5</td>\n",
              "    </tr>\n",
              "    <tr>\n",
              "      <th>2019-03-07</th>\n",
              "      <td>6</td>\n",
              "    </tr>\n",
              "    <tr>\n",
              "      <th>2019-03-09</th>\n",
              "      <td>2</td>\n",
              "    </tr>\n",
              "    <tr>\n",
              "      <th>2019-19-03</th>\n",
              "      <td>1</td>\n",
              "    </tr>\n",
              "  </tbody>\n",
              "</table>\n",
              "</div>"
            ],
            "text/plain": [
              "            DATA,D\n",
              "index             \n",
              "2019-03-02       3\n",
              "2019-03-05       5\n",
              "2019-03-07       6\n",
              "2019-03-09       2\n",
              "2019-19-03       1"
            ]
          },
          "metadata": {
            "tags": []
          },
          "execution_count": 28
        }
      ]
    },
    {
      "cell_type": "markdown",
      "metadata": {
        "id": "OaEZrxnAXral"
      },
      "source": [
        "## Duration of flood per day"
      ]
    },
    {
      "cell_type": "code",
      "metadata": {
        "colab": {
          "base_uri": "https://localhost:8080/",
          "height": 206
        },
        "id": "_HK6CAtyXvWe",
        "outputId": "bbe1f897-4957-4f7b-dd0f-c921e6838deb"
      },
      "source": [
        "archive1_3=((pd.to_datetime(flood_first_twindow['DATA,D']).dt.strftime('%Y-%d-%m')).to_frame().join(flood_first_twindow['DUR_H,N,7,2']\n",
        "                                                                                        .astype(float).to_frame())).groupby(['DATA,D']).sum()\n",
        "archive1_3=archive1_3.reset_index()\n",
        "archive1_3.columns=['index', 'duration']\n",
        "archive1_3"
      ],
      "execution_count": 29,
      "outputs": [
        {
          "output_type": "execute_result",
          "data": {
            "text/html": [
              "<div>\n",
              "<style scoped>\n",
              "    .dataframe tbody tr th:only-of-type {\n",
              "        vertical-align: middle;\n",
              "    }\n",
              "\n",
              "    .dataframe tbody tr th {\n",
              "        vertical-align: top;\n",
              "    }\n",
              "\n",
              "    .dataframe thead th {\n",
              "        text-align: right;\n",
              "    }\n",
              "</style>\n",
              "<table border=\"1\" class=\"dataframe\">\n",
              "  <thead>\n",
              "    <tr style=\"text-align: right;\">\n",
              "      <th></th>\n",
              "      <th>index</th>\n",
              "      <th>duration</th>\n",
              "    </tr>\n",
              "  </thead>\n",
              "  <tbody>\n",
              "    <tr>\n",
              "      <th>0</th>\n",
              "      <td>2019-03-02</td>\n",
              "      <td>1.59</td>\n",
              "    </tr>\n",
              "    <tr>\n",
              "      <th>1</th>\n",
              "      <td>2019-03-05</td>\n",
              "      <td>13.56</td>\n",
              "    </tr>\n",
              "    <tr>\n",
              "      <th>2</th>\n",
              "      <td>2019-03-07</td>\n",
              "      <td>9.39</td>\n",
              "    </tr>\n",
              "    <tr>\n",
              "      <th>3</th>\n",
              "      <td>2019-03-09</td>\n",
              "      <td>0.60</td>\n",
              "    </tr>\n",
              "    <tr>\n",
              "      <th>4</th>\n",
              "      <td>2019-19-03</td>\n",
              "      <td>0.82</td>\n",
              "    </tr>\n",
              "  </tbody>\n",
              "</table>\n",
              "</div>"
            ],
            "text/plain": [
              "        index  duration\n",
              "0  2019-03-02      1.59\n",
              "1  2019-03-05     13.56\n",
              "2  2019-03-07      9.39\n",
              "3  2019-03-09      0.60\n",
              "4  2019-19-03      0.82"
            ]
          },
          "metadata": {
            "tags": []
          },
          "execution_count": 29
        }
      ]
    },
    {
      "cell_type": "markdown",
      "metadata": {
        "id": "cxuD2gNPZGUX"
      },
      "source": [
        "## Agregate File "
      ]
    },
    {
      "cell_type": "code",
      "metadata": {
        "id": "ztVF_HHOZI1v",
        "colab": {
          "base_uri": "https://localhost:8080/",
          "height": 394
        },
        "outputId": "f54dabb2-bc68-4095-df7e-cee2b68f67a6"
      },
      "source": [
        "archive1=archive1_1.set_index('index').join(archive1_2.set_index('index').join(archive1_3.set_index('index'))).fillna(0)\n",
        "archive1.columns=['Tweets frequence', 'Floods frequency','Duration']\n",
        "archive1.to_csv(r'/content/gdrive/My Drive/Colab Notebooks/Tweets/arquivo1.csv',index=True)\n",
        "archive1"
      ],
      "execution_count": 30,
      "outputs": [
        {
          "output_type": "execute_result",
          "data": {
            "text/html": [
              "<div>\n",
              "<style scoped>\n",
              "    .dataframe tbody tr th:only-of-type {\n",
              "        vertical-align: middle;\n",
              "    }\n",
              "\n",
              "    .dataframe tbody tr th {\n",
              "        vertical-align: top;\n",
              "    }\n",
              "\n",
              "    .dataframe thead th {\n",
              "        text-align: right;\n",
              "    }\n",
              "</style>\n",
              "<table border=\"1\" class=\"dataframe\">\n",
              "  <thead>\n",
              "    <tr style=\"text-align: right;\">\n",
              "      <th></th>\n",
              "      <th>Tweets frequence</th>\n",
              "      <th>Floods frequency</th>\n",
              "      <th>Duration</th>\n",
              "    </tr>\n",
              "    <tr>\n",
              "      <th>index</th>\n",
              "      <th></th>\n",
              "      <th></th>\n",
              "      <th></th>\n",
              "    </tr>\n",
              "  </thead>\n",
              "  <tbody>\n",
              "    <tr>\n",
              "      <th>2019-03-02</th>\n",
              "      <td>4</td>\n",
              "      <td>3.0</td>\n",
              "      <td>1.59</td>\n",
              "    </tr>\n",
              "    <tr>\n",
              "      <th>2019-03-03</th>\n",
              "      <td>3</td>\n",
              "      <td>0.0</td>\n",
              "      <td>0.00</td>\n",
              "    </tr>\n",
              "    <tr>\n",
              "      <th>2019-03-04</th>\n",
              "      <td>1</td>\n",
              "      <td>0.0</td>\n",
              "      <td>0.00</td>\n",
              "    </tr>\n",
              "    <tr>\n",
              "      <th>2019-03-05</th>\n",
              "      <td>3</td>\n",
              "      <td>5.0</td>\n",
              "      <td>13.56</td>\n",
              "    </tr>\n",
              "    <tr>\n",
              "      <th>2019-03-06</th>\n",
              "      <td>1</td>\n",
              "      <td>0.0</td>\n",
              "      <td>0.00</td>\n",
              "    </tr>\n",
              "    <tr>\n",
              "      <th>2019-03-07</th>\n",
              "      <td>9</td>\n",
              "      <td>6.0</td>\n",
              "      <td>9.39</td>\n",
              "    </tr>\n",
              "    <tr>\n",
              "      <th>2019-03-09</th>\n",
              "      <td>11</td>\n",
              "      <td>2.0</td>\n",
              "      <td>0.60</td>\n",
              "    </tr>\n",
              "    <tr>\n",
              "      <th>2019-03-10</th>\n",
              "      <td>2</td>\n",
              "      <td>0.0</td>\n",
              "      <td>0.00</td>\n",
              "    </tr>\n",
              "    <tr>\n",
              "      <th>2019-03-11</th>\n",
              "      <td>7</td>\n",
              "      <td>0.0</td>\n",
              "      <td>0.00</td>\n",
              "    </tr>\n",
              "    <tr>\n",
              "      <th>2019-03-12</th>\n",
              "      <td>6</td>\n",
              "      <td>0.0</td>\n",
              "      <td>0.00</td>\n",
              "    </tr>\n",
              "  </tbody>\n",
              "</table>\n",
              "</div>"
            ],
            "text/plain": [
              "            Tweets frequence  Floods frequency  Duration\n",
              "index                                                   \n",
              "2019-03-02                 4               3.0      1.59\n",
              "2019-03-03                 3               0.0      0.00\n",
              "2019-03-04                 1               0.0      0.00\n",
              "2019-03-05                 3               5.0     13.56\n",
              "2019-03-06                 1               0.0      0.00\n",
              "2019-03-07                 9               6.0      9.39\n",
              "2019-03-09                11               2.0      0.60\n",
              "2019-03-10                 2               0.0      0.00\n",
              "2019-03-11                 7               0.0      0.00\n",
              "2019-03-12                 6               0.0      0.00"
            ]
          },
          "metadata": {
            "tags": []
          },
          "execution_count": 30
        }
      ]
    },
    {
      "cell_type": "markdown",
      "metadata": {
        "id": "95yRL3QzazbT"
      },
      "source": [
        "# Plots \n"
      ]
    },
    {
      "cell_type": "code",
      "metadata": {
        "id": "JWfER9ki5sH2"
      },
      "source": [
        "colors=[]\n",
        "lst_1=archive1['Tweets frequence'].tolist()\n",
        "lst_2=archive1['Floods frequency'].tolist()\n",
        "for val in range(0,len(lst_1)):\n",
        "  if ((lst_1[val]>=3) & (lst_2[val]!=0))==True:\n",
        "    colors.append('Green')\n",
        "  elif ((lst_1[val]>=3) & (lst_2[val]==0))==True:\n",
        "    colors.append('Yellow')\n",
        "  elif ((lst_1[val]<=3)&(lst_2[val]!=0))==True:\n",
        "    colors.append('Red')\n",
        "  else:\n",
        "    colors.append('white')"
      ],
      "execution_count": 60,
      "outputs": []
    },
    {
      "cell_type": "code",
      "metadata": {
        "colab": {
          "base_uri": "https://localhost:8080/",
          "height": 613
        },
        "id": "NgAaOZXgbAWj",
        "outputId": "a8933887-080b-4b47-e8f6-084cc1654f89"
      },
      "source": [
        "plt.style.use(\"seaborn-dark\") #estilo cyberpunk\n",
        "\n",
        "for param in ['figure.facecolor', 'axes.facecolor', 'savefig.facecolor']:\n",
        "    plt.rcParams[param] = '#212946'\n",
        "for param in ['text.color', 'axes.labelcolor', 'xtick.color', 'ytick.color']:\n",
        "    plt.rcParams[param] = '0.9'  # very light grey\n",
        "\n",
        "mask1=archive1[archive1['Floods frequency']!=0]\n",
        "ax=archive1.plot.bar( y='Tweets frequence', figsize=(12,8), use_index=True, color=colors, linewidth=0 )\n",
        "ax.grid(color='#2A3459')\n",
        "plt.rcParams.update({'font.size': 20})\n",
        "ax.tick_params(axis='x', rotation=45)\n",
        "ax.axhline(y=3, xmin=0,color='Purple')\n",
        "ax.set_xlabel(\"Date\")\n",
        "ax.set_ylabel(\"Frequency of tweets\")\n",
        "ax.set_title(\"Tweets Classification\")\n",
        "\n",
        "legend_elements = [Line2D([0], [0], color='green', lw=4, label='Positive'),\n",
        "                   Line2D([0], [0], color='yellow', lw=4, label='False-Positive'),\n",
        "                   Line2D([0], [0], color='White', lw=4, label='No floods'),\n",
        "                   Line2D([0], [0], color='Red', lw=4, label='Flood not detected')]\n",
        "ax.legend(handles=legend_elements)\n",
        "for p in ax.patches:\n",
        "  ax.annotate(np.round(p.get_height(),decimals=2),(p.get_x()+p.get_width()/2., p.get_height()),ha='center', va='center', xytext=(0, 10), textcoords='offset points')"
      ],
      "execution_count": 69,
      "outputs": [
        {
          "output_type": "display_data",
          "data": {
            "image/png": "[encoded data removed]",
            "text/plain": [
              "<Figure size 864x576 with 1 Axes>"
            ]
          },
          "metadata": {
            "tags": []
          }
        }
      ]
    },
    {
      "cell_type": "code",
      "metadata": {
        "colab": {
          "base_uri": "https://localhost:8080/",
          "height": 206
        },
        "id": "pd4gkLfHbTll",
        "outputId": "ed7736a6-c3b7-4cd0-fdf2-4e576e09a8e3"
      },
      "source": [
        "archive1[archive1['Floods frequency']!=0] #the minimum number of tweets is 4 \n"
      ],
      "execution_count": 33,
      "outputs": [
        {
          "output_type": "execute_result",
          "data": {
            "text/html": [
              "<div>\n",
              "<style scoped>\n",
              "    .dataframe tbody tr th:only-of-type {\n",
              "        vertical-align: middle;\n",
              "    }\n",
              "\n",
              "    .dataframe tbody tr th {\n",
              "        vertical-align: top;\n",
              "    }\n",
              "\n",
              "    .dataframe thead th {\n",
              "        text-align: right;\n",
              "    }\n",
              "</style>\n",
              "<table border=\"1\" class=\"dataframe\">\n",
              "  <thead>\n",
              "    <tr style=\"text-align: right;\">\n",
              "      <th></th>\n",
              "      <th>Tweets frequence</th>\n",
              "      <th>Floods frequency</th>\n",
              "      <th>Duration</th>\n",
              "    </tr>\n",
              "    <tr>\n",
              "      <th>index</th>\n",
              "      <th></th>\n",
              "      <th></th>\n",
              "      <th></th>\n",
              "    </tr>\n",
              "  </thead>\n",
              "  <tbody>\n",
              "    <tr>\n",
              "      <th>2019-03-02</th>\n",
              "      <td>4</td>\n",
              "      <td>3.0</td>\n",
              "      <td>1.59</td>\n",
              "    </tr>\n",
              "    <tr>\n",
              "      <th>2019-03-05</th>\n",
              "      <td>3</td>\n",
              "      <td>5.0</td>\n",
              "      <td>13.56</td>\n",
              "    </tr>\n",
              "    <tr>\n",
              "      <th>2019-03-07</th>\n",
              "      <td>9</td>\n",
              "      <td>6.0</td>\n",
              "      <td>9.39</td>\n",
              "    </tr>\n",
              "    <tr>\n",
              "      <th>2019-03-09</th>\n",
              "      <td>11</td>\n",
              "      <td>2.0</td>\n",
              "      <td>0.60</td>\n",
              "    </tr>\n",
              "  </tbody>\n",
              "</table>\n",
              "</div>"
            ],
            "text/plain": [
              "            Tweets frequence  Floods frequency  Duration\n",
              "index                                                   \n",
              "2019-03-02                 4               3.0      1.59\n",
              "2019-03-05                 3               5.0     13.56\n",
              "2019-03-07                 9               6.0      9.39\n",
              "2019-03-09                11               2.0      0.60"
            ]
          },
          "metadata": {
            "tags": []
          },
          "execution_count": 33
        }
      ]
    },
    {
      "cell_type": "markdown",
      "metadata": {
        "id": "Vw9QGedlogsB"
      },
      "source": [
        "#Linear Regression and Hypothesis Test"
      ]
    },
    {
      "cell_type": "markdown",
      "metadata": {
        "id": "LbuaDxIkpRSn"
      },
      "source": [
        "## Script for hypothesis test"
      ]
    },
    {
      "cell_type": "code",
      "metadata": {
        "id": "x0BkKuwqhK_3"
      },
      "source": [
        "\n",
        "def teste_hipotese(x,y,alfa=0.05):\n",
        "    \n",
        "    \n",
        "    '''T-test hypothesis testing for regression. Returns 1 if null Hypthotesis can be rejected (considering the chosen alfa )\n",
        "    and 0 if it can't.\n",
        "    \n",
        "    Parameters:\n",
        "    -------------------------------------------\n",
        "    x and y: Variables \n",
        "    alfa: Desired statistical significance.'''\n",
        "    \n",
        "    n = len(x)\n",
        "    xmed = np.sum(x)/n;\n",
        "    ymed = np.sum(y)/n;\n",
        "    i = 0\n",
        "    ttable = 1.960\n",
        "    reject=0       \n",
        "    reject0=0     \n",
        "    Sxy = 0\n",
        "    Sxx = 0 \n",
        "    Syy = 0\n",
        "    for i in range(n):\n",
        "        Sxy = Sxy + ((x[i]-xmed)*(y[i]-ymed))\n",
        "        Sxx = Sxx + np.power(x[i]-xmed, 2)\n",
        "\n",
        "    b1 = Sxy/Sxx\n",
        "    b0 = ymed-b1*xmed\n",
        "\n",
        "    for i in range(n):\n",
        "        Syy = Syy + np.power(y[i]-ymed, 2)\n",
        "\n",
        "    R2 = np.power(Sxy,2)/(Sxx*Syy)\n",
        "    R2a = 1 - ((n-1)/(n-2))*(1-R2)\n",
        "    QME = (Syy-(b1*Sxy))/(n-2)\n",
        "    bla = (1.0/n) + (xmed*xmed)/(Sxx)\n",
        "    t0 = b0 / np.sqrt(QME*bla)\n",
        "    t = b1 / np.sqrt(QME/Sxx)\n",
        "    \n",
        "        \n",
        "    pvalue = 2*(1 - scipy.stats.t.cdf(np.abs(t),df=n-2))\n",
        "    if np.abs(pvalue)<=alfa:\n",
        "        reject=1\n",
        "    else:\n",
        "        reject=0\n",
        "    \n",
        "    return reject,pvalue\n"
      ],
      "execution_count": 34,
      "outputs": []
    },
    {
      "cell_type": "code",
      "metadata": {
        "id": "GK0e1Zvi1TTr",
        "colab": {
          "base_uri": "https://localhost:8080/",
          "height": 394
        },
        "outputId": "60b5bca8-97e6-4c00-9da7-706812e75e59"
      },
      "source": [
        "archive1"
      ],
      "execution_count": 35,
      "outputs": [
        {
          "output_type": "execute_result",
          "data": {
            "text/html": [
              "<div>\n",
              "<style scoped>\n",
              "    .dataframe tbody tr th:only-of-type {\n",
              "        vertical-align: middle;\n",
              "    }\n",
              "\n",
              "    .dataframe tbody tr th {\n",
              "        vertical-align: top;\n",
              "    }\n",
              "\n",
              "    .dataframe thead th {\n",
              "        text-align: right;\n",
              "    }\n",
              "</style>\n",
              "<table border=\"1\" class=\"dataframe\">\n",
              "  <thead>\n",
              "    <tr style=\"text-align: right;\">\n",
              "      <th></th>\n",
              "      <th>Tweets frequence</th>\n",
              "      <th>Floods frequency</th>\n",
              "      <th>Duration</th>\n",
              "    </tr>\n",
              "    <tr>\n",
              "      <th>index</th>\n",
              "      <th></th>\n",
              "      <th></th>\n",
              "      <th></th>\n",
              "    </tr>\n",
              "  </thead>\n",
              "  <tbody>\n",
              "    <tr>\n",
              "      <th>2019-03-02</th>\n",
              "      <td>4</td>\n",
              "      <td>3.0</td>\n",
              "      <td>1.59</td>\n",
              "    </tr>\n",
              "    <tr>\n",
              "      <th>2019-03-03</th>\n",
              "      <td>3</td>\n",
              "      <td>0.0</td>\n",
              "      <td>0.00</td>\n",
              "    </tr>\n",
              "    <tr>\n",
              "      <th>2019-03-04</th>\n",
              "      <td>1</td>\n",
              "      <td>0.0</td>\n",
              "      <td>0.00</td>\n",
              "    </tr>\n",
              "    <tr>\n",
              "      <th>2019-03-05</th>\n",
              "      <td>3</td>\n",
              "      <td>5.0</td>\n",
              "      <td>13.56</td>\n",
              "    </tr>\n",
              "    <tr>\n",
              "      <th>2019-03-06</th>\n",
              "      <td>1</td>\n",
              "      <td>0.0</td>\n",
              "      <td>0.00</td>\n",
              "    </tr>\n",
              "    <tr>\n",
              "      <th>2019-03-07</th>\n",
              "      <td>9</td>\n",
              "      <td>6.0</td>\n",
              "      <td>9.39</td>\n",
              "    </tr>\n",
              "    <tr>\n",
              "      <th>2019-03-09</th>\n",
              "      <td>11</td>\n",
              "      <td>2.0</td>\n",
              "      <td>0.60</td>\n",
              "    </tr>\n",
              "    <tr>\n",
              "      <th>2019-03-10</th>\n",
              "      <td>2</td>\n",
              "      <td>0.0</td>\n",
              "      <td>0.00</td>\n",
              "    </tr>\n",
              "    <tr>\n",
              "      <th>2019-03-11</th>\n",
              "      <td>7</td>\n",
              "      <td>0.0</td>\n",
              "      <td>0.00</td>\n",
              "    </tr>\n",
              "    <tr>\n",
              "      <th>2019-03-12</th>\n",
              "      <td>6</td>\n",
              "      <td>0.0</td>\n",
              "      <td>0.00</td>\n",
              "    </tr>\n",
              "  </tbody>\n",
              "</table>\n",
              "</div>"
            ],
            "text/plain": [
              "            Tweets frequence  Floods frequency  Duration\n",
              "index                                                   \n",
              "2019-03-02                 4               3.0      1.59\n",
              "2019-03-03                 3               0.0      0.00\n",
              "2019-03-04                 1               0.0      0.00\n",
              "2019-03-05                 3               5.0     13.56\n",
              "2019-03-06                 1               0.0      0.00\n",
              "2019-03-07                 9               6.0      9.39\n",
              "2019-03-09                11               2.0      0.60\n",
              "2019-03-10                 2               0.0      0.00\n",
              "2019-03-11                 7               0.0      0.00\n",
              "2019-03-12                 6               0.0      0.00"
            ]
          },
          "metadata": {
            "tags": []
          },
          "execution_count": 35
        }
      ]
    },
    {
      "cell_type": "code",
      "metadata": {
        "id": "xVFbEe76p4yM"
      },
      "source": [
        "lst_hip=[teste_hipotese(archive1['Tweets frequence'], archive1['Floods frequency'],alfa=0.05),\n",
        "teste_hipotese(archive1['Tweets frequence'], archive1['Floods frequency'], alfa=0.05),\n",
        "teste_hipotese(archive1['Tweets frequence'],archive1['Duration'], alfa=0.05),\n",
        "teste_hipotese(archive1['Tweets frequence'],archive1['Duration'], alfa=5)]\n",
        "hypothesis=pd.DataFrame(lst_hip, columns=[['Value', 'p-value']])"
      ],
      "execution_count": 36,
      "outputs": []
    },
    {
      "cell_type": "code",
      "metadata": {
        "colab": {
          "base_uri": "https://localhost:8080/",
          "height": 174
        },
        "id": "tJK-x0XEtMCO",
        "outputId": "73075a4b-dbbd-4e99-f7ee-feed692f94f1"
      },
      "source": [
        "hypothesis"
      ],
      "execution_count": 37,
      "outputs": [
        {
          "output_type": "execute_result",
          "data": {
            "text/html": [
              "<div>\n",
              "<style scoped>\n",
              "    .dataframe tbody tr th:only-of-type {\n",
              "        vertical-align: middle;\n",
              "    }\n",
              "\n",
              "    .dataframe tbody tr th {\n",
              "        vertical-align: top;\n",
              "    }\n",
              "\n",
              "    .dataframe thead tr th {\n",
              "        text-align: left;\n",
              "    }\n",
              "</style>\n",
              "<table border=\"1\" class=\"dataframe\">\n",
              "  <thead>\n",
              "    <tr>\n",
              "      <th></th>\n",
              "      <th>Value</th>\n",
              "      <th>p-value</th>\n",
              "    </tr>\n",
              "  </thead>\n",
              "  <tbody>\n",
              "    <tr>\n",
              "      <th>0</th>\n",
              "      <td>0</td>\n",
              "      <td>0.267977</td>\n",
              "    </tr>\n",
              "    <tr>\n",
              "      <th>1</th>\n",
              "      <td>0</td>\n",
              "      <td>0.267977</td>\n",
              "    </tr>\n",
              "    <tr>\n",
              "      <th>2</th>\n",
              "      <td>0</td>\n",
              "      <td>0.713357</td>\n",
              "    </tr>\n",
              "    <tr>\n",
              "      <th>3</th>\n",
              "      <td>1</td>\n",
              "      <td>0.713357</td>\n",
              "    </tr>\n",
              "  </tbody>\n",
              "</table>\n",
              "</div>"
            ],
            "text/plain": [
              "  Value   p-value\n",
              "0     0  0.267977\n",
              "1     0  0.267977\n",
              "2     0  0.713357\n",
              "3     1  0.713357"
            ]
          },
          "metadata": {
            "tags": []
          },
          "execution_count": 37
        }
      ]
    },
    {
      "cell_type": "markdown",
      "metadata": {
        "id": "Tz4IY-9MLypJ"
      },
      "source": [
        "# Confusion Matrix "
      ]
    },
    {
      "cell_type": "code",
      "metadata": {
        "id": "YIAvTFO3M5M4"
      },
      "source": [
        "import mlxtend\n"
      ],
      "execution_count": 38,
      "outputs": []
    },
    {
      "cell_type": "code",
      "metadata": {
        "colab": {
          "base_uri": "https://localhost:8080/",
          "height": 396
        },
        "id": "rI66xi-iAlGK",
        "outputId": "65ef7c37-85eb-4bf1-de67-d50e26a4aa5b"
      },
      "source": [
        "names =np.array([['TWF', 'TNF'], ['NTWF', 'NTNF']])\n",
        "days=np.array([[4,7],[0, 1]])\n",
        "colors=['blue', 'red', 'green','black']\n",
        "sns.set(rc={'figure.figsize':(12,6)})\n",
        "ax_sns=sns.heatmap(days, annot=names, annot_kws={'va':'bottom'},fmt=\"\",xticklabels=False,yticklabels=False)\n",
        "ax_sns=sns.heatmap(days, annot=days, annot_kws={'va':'top'}, fmt=\"\", cbar=False,xticklabels=False, yticklabels=False, cmap=\"viridis\")\n",
        "ax_sns.set(xlabel='', ylabel='')\n",
        "ax_sns.set_title(\"Confusion Matrix\", fontweight =\"bold\")\n"
      ],
      "execution_count": 39,
      "outputs": [
        {
          "output_type": "execute_result",
          "data": {
            "text/plain": [
              "Text(0.5, 1.0, 'Confusion Matrix')"
            ]
          },
          "metadata": {
            "tags": []
          },
          "execution_count": 39
        },
        {
          "output_type": "display_data",
          "data": {
            "image/png": "[encoded data removed]",
            "text/plain": [
              "<Figure size 864x432 with 2 Axes>"
            ]
          },
          "metadata": {
            "tags": []
          }
        }
      ]
    },
    {
      "cell_type": "markdown",
      "metadata": {
        "id": "ZOhVHPpXSy9d"
      },
      "source": [
        "# Temporal series of HIDRO/METEO words "
      ]
    },
    {
      "cell_type": "markdown",
      "metadata": {
        "id": "4-l4csFhdQ4j"
      },
      "source": [
        "## For METEO frequence "
      ]
    },
    {
      "cell_type": "code",
      "metadata": {
        "id": "1CWj5KUHSqoY"
      },
      "source": [
        "import re\n",
        "meteo_hidro\n",
        "meteo=['chuva', 'rain', 'temporal','lightning', 'tempestade', 'trovão','rainbow','precipitação', 'chovendo']\n",
        "hidro=['alagado', 'alagamento', 'enchente', 'enxente', 'inundação','raio','alagar']"
      ],
      "execution_count": 40,
      "outputs": []
    },
    {
      "cell_type": "code",
      "metadata": {
        "colab": {
          "base_uri": "https://localhost:8080/"
        },
        "id": "ben6sIRQTv24",
        "outputId": "167f6055-6d3b-46a0-8938-365f644a057b"
      },
      "source": [
        "text_tweet=tweet_window_filtered.text.tolist()\n",
        "freq_meteo=[0]*len(meteo)\n",
        "len(text_tweet)\n"
      ],
      "execution_count": 41,
      "outputs": [
        {
          "output_type": "execute_result",
          "data": {
            "text/plain": [
              "47"
            ]
          },
          "metadata": {
            "tags": []
          },
          "execution_count": 41
        }
      ]
    },
    {
      "cell_type": "code",
      "metadata": {
        "id": "ZktCu2k-UoQ-"
      },
      "source": [
        "#for METEO words count \n",
        "for i in range (0,len(text_tweet)):\n",
        "  for j in range (0,len(meteo)):\n",
        "    if re.search(meteo[j], text_tweet[i], re.IGNORECASE)!=None:\n",
        "      freq_meteo[j]=freq_meteo[j]+1"
      ],
      "execution_count": 42,
      "outputs": []
    },
    {
      "cell_type": "code",
      "metadata": {
        "colab": {
          "base_uri": "https://localhost:8080/",
          "height": 332
        },
        "id": "O5EjzxMVVrXS",
        "outputId": "59ed4027-0dc1-46e0-ddc0-1dfe46efdb85"
      },
      "source": [
        "lists=[meteo, freq_meteo]\n",
        "freq_meteo_df=pd.concat([pd.Series(x) for x in lists], axis=1)\n",
        "freq_meteo_df.columns=('words', 'frequence')\n",
        "freq_meteo_df"
      ],
      "execution_count": 43,
      "outputs": [
        {
          "output_type": "execute_result",
          "data": {
            "text/html": [
              "<div>\n",
              "<style scoped>\n",
              "    .dataframe tbody tr th:only-of-type {\n",
              "        vertical-align: middle;\n",
              "    }\n",
              "\n",
              "    .dataframe tbody tr th {\n",
              "        vertical-align: top;\n",
              "    }\n",
              "\n",
              "    .dataframe thead th {\n",
              "        text-align: right;\n",
              "    }\n",
              "</style>\n",
              "<table border=\"1\" class=\"dataframe\">\n",
              "  <thead>\n",
              "    <tr style=\"text-align: right;\">\n",
              "      <th></th>\n",
              "      <th>words</th>\n",
              "      <th>frequence</th>\n",
              "    </tr>\n",
              "  </thead>\n",
              "  <tbody>\n",
              "    <tr>\n",
              "      <th>0</th>\n",
              "      <td>chuva</td>\n",
              "      <td>31</td>\n",
              "    </tr>\n",
              "    <tr>\n",
              "      <th>1</th>\n",
              "      <td>rain</td>\n",
              "      <td>9</td>\n",
              "    </tr>\n",
              "    <tr>\n",
              "      <th>2</th>\n",
              "      <td>temporal</td>\n",
              "      <td>3</td>\n",
              "    </tr>\n",
              "    <tr>\n",
              "      <th>3</th>\n",
              "      <td>lightning</td>\n",
              "      <td>1</td>\n",
              "    </tr>\n",
              "    <tr>\n",
              "      <th>4</th>\n",
              "      <td>tempestade</td>\n",
              "      <td>3</td>\n",
              "    </tr>\n",
              "    <tr>\n",
              "      <th>5</th>\n",
              "      <td>trovão</td>\n",
              "      <td>1</td>\n",
              "    </tr>\n",
              "    <tr>\n",
              "      <th>6</th>\n",
              "      <td>rainbow</td>\n",
              "      <td>2</td>\n",
              "    </tr>\n",
              "    <tr>\n",
              "      <th>7</th>\n",
              "      <td>precipitação</td>\n",
              "      <td>1</td>\n",
              "    </tr>\n",
              "    <tr>\n",
              "      <th>8</th>\n",
              "      <td>chovendo</td>\n",
              "      <td>2</td>\n",
              "    </tr>\n",
              "  </tbody>\n",
              "</table>\n",
              "</div>"
            ],
            "text/plain": [
              "          words  frequence\n",
              "0         chuva         31\n",
              "1          rain          9\n",
              "2      temporal          3\n",
              "3     lightning          1\n",
              "4    tempestade          3\n",
              "5        trovão          1\n",
              "6       rainbow          2\n",
              "7  precipitação          1\n",
              "8      chovendo          2"
            ]
          },
          "metadata": {
            "tags": []
          },
          "execution_count": 43
        }
      ]
    },
    {
      "cell_type": "markdown",
      "metadata": {
        "id": "KWmom_FcdVEl"
      },
      "source": [
        "## For Hidro Frequence "
      ]
    },
    {
      "cell_type": "code",
      "metadata": {
        "colab": {
          "base_uri": "https://localhost:8080/"
        },
        "id": "GizwamT9y-96",
        "outputId": "82c345ab-aedd-44b2-ddbd-0f7dbb1a249f"
      },
      "source": [
        "freq_hidro=[0]*len(hidro)\n",
        "#for hidro words frequence \n",
        "#for METEO words count \n",
        "for i in range (0,len(text_tweet)):\n",
        "  for j in range (0,len(hidro)):\n",
        "    if re.search(hidro[j], text_tweet[i], re.IGNORECASE):\n",
        "      freq_hidro[j]=freq_hidro[j]+1\n",
        "freq_hidro"
      ],
      "execution_count": 44,
      "outputs": [
        {
          "output_type": "execute_result",
          "data": {
            "text/plain": [
              "[0, 1, 0, 0, 0, 0, 1]"
            ]
          },
          "metadata": {
            "tags": []
          },
          "execution_count": 44
        }
      ]
    },
    {
      "cell_type": "code",
      "metadata": {
        "colab": {
          "base_uri": "https://localhost:8080/",
          "height": 269
        },
        "id": "rSadYv_10krs",
        "outputId": "b0784564-2b89-47e8-fcc9-bf8307ae5626"
      },
      "source": [
        "lists1=[hidro, freq_hidro]\n",
        "hidro_freq_df=pd.concat([pd.Series(x) for x in lists1], axis=1)\n",
        "hidro_freq_df.columns=['Words', 'frequence']\n",
        "hidro_freq_df"
      ],
      "execution_count": 45,
      "outputs": [
        {
          "output_type": "execute_result",
          "data": {
            "text/html": [
              "<div>\n",
              "<style scoped>\n",
              "    .dataframe tbody tr th:only-of-type {\n",
              "        vertical-align: middle;\n",
              "    }\n",
              "\n",
              "    .dataframe tbody tr th {\n",
              "        vertical-align: top;\n",
              "    }\n",
              "\n",
              "    .dataframe thead th {\n",
              "        text-align: right;\n",
              "    }\n",
              "</style>\n",
              "<table border=\"1\" class=\"dataframe\">\n",
              "  <thead>\n",
              "    <tr style=\"text-align: right;\">\n",
              "      <th></th>\n",
              "      <th>Words</th>\n",
              "      <th>frequence</th>\n",
              "    </tr>\n",
              "  </thead>\n",
              "  <tbody>\n",
              "    <tr>\n",
              "      <th>0</th>\n",
              "      <td>alagado</td>\n",
              "      <td>0</td>\n",
              "    </tr>\n",
              "    <tr>\n",
              "      <th>1</th>\n",
              "      <td>alagamento</td>\n",
              "      <td>1</td>\n",
              "    </tr>\n",
              "    <tr>\n",
              "      <th>2</th>\n",
              "      <td>enchente</td>\n",
              "      <td>0</td>\n",
              "    </tr>\n",
              "    <tr>\n",
              "      <th>3</th>\n",
              "      <td>enxente</td>\n",
              "      <td>0</td>\n",
              "    </tr>\n",
              "    <tr>\n",
              "      <th>4</th>\n",
              "      <td>inundação</td>\n",
              "      <td>0</td>\n",
              "    </tr>\n",
              "    <tr>\n",
              "      <th>5</th>\n",
              "      <td>raio</td>\n",
              "      <td>0</td>\n",
              "    </tr>\n",
              "    <tr>\n",
              "      <th>6</th>\n",
              "      <td>alagar</td>\n",
              "      <td>1</td>\n",
              "    </tr>\n",
              "  </tbody>\n",
              "</table>\n",
              "</div>"
            ],
            "text/plain": [
              "        Words  frequence\n",
              "0     alagado          0\n",
              "1  alagamento          1\n",
              "2    enchente          0\n",
              "3     enxente          0\n",
              "4   inundação          0\n",
              "5        raio          0\n",
              "6      alagar          1"
            ]
          },
          "metadata": {
            "tags": []
          },
          "execution_count": 45
        }
      ]
    },
    {
      "cell_type": "markdown",
      "metadata": {
        "id": "qJAGPcZY1Jn-"
      },
      "source": [
        "# HIDRO/METEO temporal series "
      ]
    },
    {
      "cell_type": "code",
      "metadata": {
        "id": "WAperfJ57SL4"
      },
      "source": [
        "from collections import Counter"
      ],
      "execution_count": 46,
      "outputs": []
    },
    {
      "cell_type": "code",
      "metadata": {
        "colab": {
          "base_uri": "https://localhost:8080/"
        },
        "id": "6En2iifT3kaL",
        "outputId": "84945a21-4d85-42bf-ce87-f586f7eb7bc6"
      },
      "source": [
        "text_data=tweet_window_filtered.Date.tolist()\n",
        "dictdata=Counter(text_data)\n",
        "dict_data=pd.DataFrame.from_dict(dictdata, orient='index')\n",
        "text_data_freq=dict_data[0].tolist()\n",
        "text_data_freq #number of iterations in each date of tweets "
      ],
      "execution_count": 47,
      "outputs": [
        {
          "output_type": "execute_result",
          "data": {
            "text/plain": [
              "[4, 3, 1, 3, 1, 9, 11, 2, 7, 6]"
            ]
          },
          "metadata": {
            "tags": []
          },
          "execution_count": 47
        }
      ]
    },
    {
      "cell_type": "code",
      "metadata": {
        "id": "cMGeD6Uk7wJH"
      },
      "source": [
        "\n",
        "for i in range(0, len(text_data_freq)): #number of days\n",
        "  for j in range(0, text_data_freq[i]): #each necessary iteration \n",
        "     for k in range (0,len(hidro)):\n",
        "       if re.search(hidro[k], text_tweet[j], re.IGNORECASE):\n",
        "         freq_meteo_temporal[i]=freq_meteo_temporal[i]+1\n",
        "count=0"
      ],
      "execution_count": 48,
      "outputs": []
    },
    {
      "cell_type": "code",
      "metadata": {
        "id": "CGY99H2pV8T9"
      },
      "source": [
        "\n",
        "for j in range(0, 4): #each necessary iteration \n",
        "  for k in range(0,len(hidro)):\n",
        "    if (re.search(hidro[k], text_tweet[j], re.IGNORECASE)!=None):\n",
        "      count=count+1\n",
        "      "
      ],
      "execution_count": 49,
      "outputs": []
    },
    {
      "cell_type": "code",
      "metadata": {
        "id": "O3b1tgLCTLnk"
      },
      "source": [
        "#for hidro\n",
        "freq_hidro_temporal=[0]*len(text_data_freq)\n",
        "aux=0\n",
        "aux1=0\n",
        "i=0\n",
        "count=0\n",
        "while i<len(text_data_freq): \n",
        "  for l in range (0, text_data_freq[i]):\n",
        "    for k in range(0,len(hidro)):\n",
        "      if (re.search(hidro[k], text_tweet[aux], re.IGNORECASE)!=None):\n",
        "        count=count+1\n",
        "    aux=aux+1\n",
        "    aux1=aux1+1\n",
        "    if aux1==(text_data_freq[i]):\n",
        "      freq_hidro_temporal[i]=count\n",
        "      aux1=0\n",
        "      count=0\n",
        "  i=i+1\n",
        "  \n",
        "      \n",
        "  "
      ],
      "execution_count": 50,
      "outputs": []
    },
    {
      "cell_type": "code",
      "metadata": {
        "colab": {
          "base_uri": "https://localhost:8080/"
        },
        "id": "HGLDG18EaQxU",
        "outputId": "5bf1b6e5-8b62-47bd-8602-1ede929955ad"
      },
      "source": [
        "freq_hidro_temporal"
      ],
      "execution_count": 51,
      "outputs": [
        {
          "output_type": "execute_result",
          "data": {
            "text/plain": [
              "[0, 0, 0, 0, 0, 0, 0, 0, 0, 2]"
            ]
          },
          "metadata": {
            "tags": []
          },
          "execution_count": 51
        }
      ]
    },
    {
      "cell_type": "code",
      "metadata": {
        "id": "Q65TtMbEpCaa"
      },
      "source": [
        "#for hidro\n",
        "freq_meteo_temporal=[0]*len(text_data_freq)\n",
        "aux=0\n",
        "aux1=0\n",
        "i=0\n",
        "count=0\n",
        "while i<len(text_data_freq): \n",
        "  for l in range (0, text_data_freq[i]):\n",
        "    for k in range(0,len(meteo)):\n",
        "      if (re.search(meteo[k], text_tweet[aux], re.IGNORECASE)!=None):\n",
        "        count=count+1\n",
        "    aux=aux+1\n",
        "    aux1=aux1+1\n",
        "    if aux1==(text_data_freq[i]):\n",
        "      freq_meteo_temporal[i]=count\n",
        "      aux1=0\n",
        "      count=0\n",
        "  i=i+1"
      ],
      "execution_count": 52,
      "outputs": []
    },
    {
      "cell_type": "code",
      "metadata": {
        "colab": {
          "base_uri": "https://localhost:8080/"
        },
        "id": "4-0hhE2aq4gX",
        "outputId": "84e60ec8-7e81-4820-949b-b0732e6f023c"
      },
      "source": [
        "sum(freq_meteo_temporal)"
      ],
      "execution_count": 53,
      "outputs": [
        {
          "output_type": "execute_result",
          "data": {
            "text/plain": [
              "53"
            ]
          },
          "metadata": {
            "tags": []
          },
          "execution_count": 53
        }
      ]
    },
    {
      "cell_type": "code",
      "metadata": {
        "colab": {
          "base_uri": "https://localhost:8080/",
          "height": 394
        },
        "id": "LYt_DmJprW7G",
        "outputId": "7435beb8-b048-4168-9794-b74fca4b896f"
      },
      "source": [
        "archive1['METEO']=freq_meteo_temporal\n",
        "archive1['HIDRO']=freq_hidro_temporal\n",
        "archive1"
      ],
      "execution_count": 54,
      "outputs": [
        {
          "output_type": "execute_result",
          "data": {
            "text/html": [
              "<div>\n",
              "<style scoped>\n",
              "    .dataframe tbody tr th:only-of-type {\n",
              "        vertical-align: middle;\n",
              "    }\n",
              "\n",
              "    .dataframe tbody tr th {\n",
              "        vertical-align: top;\n",
              "    }\n",
              "\n",
              "    .dataframe thead th {\n",
              "        text-align: right;\n",
              "    }\n",
              "</style>\n",
              "<table border=\"1\" class=\"dataframe\">\n",
              "  <thead>\n",
              "    <tr style=\"text-align: right;\">\n",
              "      <th></th>\n",
              "      <th>Tweets frequence</th>\n",
              "      <th>Floods frequency</th>\n",
              "      <th>Duration</th>\n",
              "      <th>METEO</th>\n",
              "      <th>HIDRO</th>\n",
              "    </tr>\n",
              "    <tr>\n",
              "      <th>index</th>\n",
              "      <th></th>\n",
              "      <th></th>\n",
              "      <th></th>\n",
              "      <th></th>\n",
              "      <th></th>\n",
              "    </tr>\n",
              "  </thead>\n",
              "  <tbody>\n",
              "    <tr>\n",
              "      <th>2019-03-02</th>\n",
              "      <td>4</td>\n",
              "      <td>3.0</td>\n",
              "      <td>1.59</td>\n",
              "      <td>4</td>\n",
              "      <td>0</td>\n",
              "    </tr>\n",
              "    <tr>\n",
              "      <th>2019-03-03</th>\n",
              "      <td>3</td>\n",
              "      <td>0.0</td>\n",
              "      <td>0.00</td>\n",
              "      <td>4</td>\n",
              "      <td>0</td>\n",
              "    </tr>\n",
              "    <tr>\n",
              "      <th>2019-03-04</th>\n",
              "      <td>1</td>\n",
              "      <td>0.0</td>\n",
              "      <td>0.00</td>\n",
              "      <td>1</td>\n",
              "      <td>0</td>\n",
              "    </tr>\n",
              "    <tr>\n",
              "      <th>2019-03-05</th>\n",
              "      <td>3</td>\n",
              "      <td>5.0</td>\n",
              "      <td>13.56</td>\n",
              "      <td>3</td>\n",
              "      <td>0</td>\n",
              "    </tr>\n",
              "    <tr>\n",
              "      <th>2019-03-06</th>\n",
              "      <td>1</td>\n",
              "      <td>0.0</td>\n",
              "      <td>0.00</td>\n",
              "      <td>2</td>\n",
              "      <td>0</td>\n",
              "    </tr>\n",
              "    <tr>\n",
              "      <th>2019-03-07</th>\n",
              "      <td>9</td>\n",
              "      <td>6.0</td>\n",
              "      <td>9.39</td>\n",
              "      <td>10</td>\n",
              "      <td>0</td>\n",
              "    </tr>\n",
              "    <tr>\n",
              "      <th>2019-03-09</th>\n",
              "      <td>11</td>\n",
              "      <td>2.0</td>\n",
              "      <td>0.60</td>\n",
              "      <td>12</td>\n",
              "      <td>0</td>\n",
              "    </tr>\n",
              "    <tr>\n",
              "      <th>2019-03-10</th>\n",
              "      <td>2</td>\n",
              "      <td>0.0</td>\n",
              "      <td>0.00</td>\n",
              "      <td>2</td>\n",
              "      <td>0</td>\n",
              "    </tr>\n",
              "    <tr>\n",
              "      <th>2019-03-11</th>\n",
              "      <td>7</td>\n",
              "      <td>0.0</td>\n",
              "      <td>0.00</td>\n",
              "      <td>8</td>\n",
              "      <td>0</td>\n",
              "    </tr>\n",
              "    <tr>\n",
              "      <th>2019-03-12</th>\n",
              "      <td>6</td>\n",
              "      <td>0.0</td>\n",
              "      <td>0.00</td>\n",
              "      <td>7</td>\n",
              "      <td>2</td>\n",
              "    </tr>\n",
              "  </tbody>\n",
              "</table>\n",
              "</div>"
            ],
            "text/plain": [
              "            Tweets frequence  Floods frequency  Duration  METEO  HIDRO\n",
              "index                                                                 \n",
              "2019-03-02                 4               3.0      1.59      4      0\n",
              "2019-03-03                 3               0.0      0.00      4      0\n",
              "2019-03-04                 1               0.0      0.00      1      0\n",
              "2019-03-05                 3               5.0     13.56      3      0\n",
              "2019-03-06                 1               0.0      0.00      2      0\n",
              "2019-03-07                 9               6.0      9.39     10      0\n",
              "2019-03-09                11               2.0      0.60     12      0\n",
              "2019-03-10                 2               0.0      0.00      2      0\n",
              "2019-03-11                 7               0.0      0.00      8      0\n",
              "2019-03-12                 6               0.0      0.00      7      2"
            ]
          },
          "metadata": {
            "tags": []
          },
          "execution_count": 54
        }
      ]
    },
    {
      "cell_type": "markdown",
      "metadata": {
        "id": "fvZ-DAo5On6r"
      },
      "source": [
        "# Pizza plots \n"
      ]
    },
    {
      "cell_type": "code",
      "metadata": {
        "colab": {
          "base_uri": "https://localhost:8080/",
          "height": 112
        },
        "id": "M5bR-doROrpE",
        "outputId": "9495cdc4-4f14-465b-e6eb-5fa2eb255aab"
      },
      "source": [
        "floods_days_archive1=archive1[archive1['Floods frequency']!=0]\n",
        "floods_days_archive1\n",
        "no_floods_days_archive1=archive1[archive1['Floods frequency']==0]\n",
        "no_floods_days_archive1['METEO'].sum()\n",
        "floods_days_archive1['METEO'].sum()\n",
        "pizza_plot={\"Flood days\":[floods_days_archive1['METEO'].sum()], \"No flood days\":[no_floods_days_archive1['METEO'].sum()]}\n",
        "pizza_plot1=pd.DataFrame.from_dict(pizza_plot, orient='index')\n",
        "pizza_plot1"
      ],
      "execution_count": 55,
      "outputs": [
        {
          "output_type": "execute_result",
          "data": {
            "text/html": [
              "<div>\n",
              "<style scoped>\n",
              "    .dataframe tbody tr th:only-of-type {\n",
              "        vertical-align: middle;\n",
              "    }\n",
              "\n",
              "    .dataframe tbody tr th {\n",
              "        vertical-align: top;\n",
              "    }\n",
              "\n",
              "    .dataframe thead th {\n",
              "        text-align: right;\n",
              "    }\n",
              "</style>\n",
              "<table border=\"1\" class=\"dataframe\">\n",
              "  <thead>\n",
              "    <tr style=\"text-align: right;\">\n",
              "      <th></th>\n",
              "      <th>0</th>\n",
              "    </tr>\n",
              "  </thead>\n",
              "  <tbody>\n",
              "    <tr>\n",
              "      <th>Flood days</th>\n",
              "      <td>29</td>\n",
              "    </tr>\n",
              "    <tr>\n",
              "      <th>No flood days</th>\n",
              "      <td>24</td>\n",
              "    </tr>\n",
              "  </tbody>\n",
              "</table>\n",
              "</div>"
            ],
            "text/plain": [
              "                0\n",
              "Flood days     29\n",
              "No flood days  24"
            ]
          },
          "metadata": {
            "tags": []
          },
          "execution_count": 55
        }
      ]
    },
    {
      "cell_type": "code",
      "metadata": {
        "colab": {
          "base_uri": "https://localhost:8080/",
          "height": 374
        },
        "id": "RYuL3faagQ9K",
        "outputId": "13581d24-8c72-46f6-b797-40ada2aafe78"
      },
      "source": [
        "plt.style.use(\"seaborn-dark\") #estilo cyberpunk\n",
        "\n",
        "for param in ['figure.facecolor', 'axes.facecolor', 'savefig.facecolor']:\n",
        "    plt.rcParams[param] = '#212946'\n",
        "for param in ['text.color', 'axes.labelcolor', 'xtick.color', 'ytick.color']:\n",
        "    plt.rcParams[param] = '0.9'  # very light grey\n",
        "pizza_plot1.plot.pie(y=0)"
      ],
      "execution_count": 56,
      "outputs": [
        {
          "output_type": "execute_result",
          "data": {
            "text/plain": [
              "<matplotlib.axes._subplots.AxesSubplot at 0x7f0828dd3150>"
            ]
          },
          "metadata": {
            "tags": []
          },
          "execution_count": 56
        },
        {
          "output_type": "display_data",
          "data": {
            "image/png": "[encoded data removed]",
            "text/plain": [
              "<Figure size 864x432 with 1 Axes>"
            ]
          },
          "metadata": {
            "tags": []
          }
        }
      ]
    },
    {
      "cell_type": "code",
      "metadata": {
        "id": "gDUsOKpkQgTh",
        "colab": {
          "base_uri": "https://localhost:8080/",
          "height": 341
        },
        "outputId": "d17deb17-93ff-4028-bdbd-1fd41ed63a80"
      },
      "source": [
        "sns.set_style(\"darkgrid\")\n",
        "fig, axes = plt.subplots(nrows=1, ncols=2, figsize=(16, 5))\n",
        "axes[0].boxplot(floods_days_archive1['METEO'], showbox=True)\n",
        "axes[0].set_title('Flood days', fontsize=25, color='black')\n",
        "axes[1].boxplot(no_floods_days_archive1['METEO'])\n",
        "axes[1].set_title('No flood days', fontsize=25, color='black')\n",
        "axes[0].tick_params(axis='y', labelsize=20)\n",
        "axes[1].tick_params(axis='y', labelsize=20)\n",
        "\n"
      ],
      "execution_count": 57,
      "outputs": [
        {
          "output_type": "display_data",
          "data": {
            "image/png": "[encoded data removed]",
            "text/plain": [
              "<Figure size 1152x360 with 2 Axes>"
            ]
          },
          "metadata": {
            "tags": []
          }
        }
      ]
    },
    {
      "cell_type": "code",
      "metadata": {
        "colab": {
          "base_uri": "https://localhost:8080/",
          "height": 642
        },
        "id": "zSnIQ3xSZAsR",
        "outputId": "672f3f55-bfdd-4951-82b4-237a0f86d2ac"
      },
      "source": [
        "sns.set_theme(style=\"whitegrid\")\n",
        "sns.set(rc={'figure.figsize':(12,10)})\n",
        "sns.set(font_scale = 2)\n",
        "x_names=['Floods days', 'No floods day']\n",
        "ax_sns1=sns.boxplot(data=[floods_days_archive1['METEO'],no_floods_days_archive1['METEO']],  hue_order=x_names)\n",
        "ax_sns1.set_xticklabels(x_names)\n",
        "ax_sns1.set_title('Boxplots', fontsize=20)\n"
      ],
      "execution_count": 58,
      "outputs": [
        {
          "output_type": "execute_result",
          "data": {
            "text/plain": [
              "Text(0.5, 1.0, 'Boxplots')"
            ]
          },
          "metadata": {
            "tags": []
          },
          "execution_count": 58
        },
        {
          "output_type": "display_data",
          "data": {
            "image/png": "[encoded data removed]",
            "text/plain": [
              "<Figure size 864x720 with 1 Axes>"
            ]
          },
          "metadata": {
            "tags": []
          }
        }
      ]
    }
  ]
}