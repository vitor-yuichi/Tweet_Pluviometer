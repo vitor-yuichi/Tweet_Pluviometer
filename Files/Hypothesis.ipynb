{
  "nbformat": 4,
  "nbformat_minor": 0,
  "metadata": {
    "colab": {
      "name": "Hypothesis ",
      "provenance": [],
      "collapsed_sections": [],
      "include_colab_link": true
    },
    "kernelspec": {
      "name": "python3",
      "display_name": "Python 3"
    },
    "language_info": {
      "name": "python"
    }
  },
  "cells": [
    {
      "cell_type": "markdown",
      "metadata": {
        "id": "view-in-github",
        "colab_type": "text"
      },
      "source": [
        "<a href=\"https://colab.research.google.com/github/vitor-yuichi/Tweet_Pluviometer/blob/main/Files/Hypothesis.ipynb\" target=\"_parent\"><img src=\"https://colab.research.google.com/assets/colab-badge.svg\" alt=\"Open In Colab\"/></a>"
      ]
    },
    {
      "cell_type": "code",
      "metadata": {
        "colab": {
          "base_uri": "https://localhost:8080/"
        },
        "id": "Eh90_EQjUiLH",
        "outputId": "363853f6-f93c-458e-e251-872b344d8bbb"
      },
      "source": [
        "import pandas as pd \n",
        "from scipy import stats \n",
        "from google.colab import drive\n",
        "drive.mount('/content/gdrive') \n",
        "import numpy as np"
      ],
      "execution_count": null,
      "outputs": [
        {
          "output_type": "stream",
          "text": [
            "Mounted at /content/gdrive\n"
          ],
          "name": "stdout"
        }
      ]
    },
    {
      "cell_type": "markdown",
      "metadata": {
        "id": "NHVwPCSxeEZi"
      },
      "source": [
        "# Shapiro WilK test "
      ]
    },
    {
      "cell_type": "code",
      "metadata": {
        "colab": {
          "base_uri": "https://localhost:8080/",
          "height": 351
        },
        "id": "KsyVzuhxeRpT",
        "outputId": "f923e53a-5b28-4564-ab40-dc5b873ece77"
      },
      "source": [
        "#archive_flood=pd.read_csv(r'/content/drive/Shareddrives/Colabs/Colab Notebooks/Tweets/arquivo1.csv') #Temp. path\n",
        "archive_flood=pd.read_csv(r'/content/gdrive/My Drive/Colab Notebooks/Tweets/arquivo1.csv')\n",
        "archive_flood"
      ],
      "execution_count": null,
      "outputs": [
        {
          "output_type": "execute_result",
          "data": {
            "text/html": [
              "<div>\n",
              "<style scoped>\n",
              "    .dataframe tbody tr th:only-of-type {\n",
              "        vertical-align: middle;\n",
              "    }\n",
              "\n",
              "    .dataframe tbody tr th {\n",
              "        vertical-align: top;\n",
              "    }\n",
              "\n",
              "    .dataframe thead th {\n",
              "        text-align: right;\n",
              "    }\n",
              "</style>\n",
              "<table border=\"1\" class=\"dataframe\">\n",
              "  <thead>\n",
              "    <tr style=\"text-align: right;\">\n",
              "      <th></th>\n",
              "      <th>index</th>\n",
              "      <th>Tweets frequence</th>\n",
              "      <th>Floods frequency</th>\n",
              "      <th>Duration</th>\n",
              "      <th>METEO</th>\n",
              "      <th>HIDRO</th>\n",
              "    </tr>\n",
              "  </thead>\n",
              "  <tbody>\n",
              "    <tr>\n",
              "      <th>0</th>\n",
              "      <td>2019-03-02</td>\n",
              "      <td>4</td>\n",
              "      <td>3.0</td>\n",
              "      <td>1.59</td>\n",
              "      <td>4</td>\n",
              "      <td>0</td>\n",
              "    </tr>\n",
              "    <tr>\n",
              "      <th>1</th>\n",
              "      <td>2019-03-03</td>\n",
              "      <td>3</td>\n",
              "      <td>0.0</td>\n",
              "      <td>0.00</td>\n",
              "      <td>4</td>\n",
              "      <td>0</td>\n",
              "    </tr>\n",
              "    <tr>\n",
              "      <th>2</th>\n",
              "      <td>2019-03-04</td>\n",
              "      <td>1</td>\n",
              "      <td>0.0</td>\n",
              "      <td>0.00</td>\n",
              "      <td>1</td>\n",
              "      <td>0</td>\n",
              "    </tr>\n",
              "    <tr>\n",
              "      <th>3</th>\n",
              "      <td>2019-03-05</td>\n",
              "      <td>3</td>\n",
              "      <td>5.0</td>\n",
              "      <td>13.56</td>\n",
              "      <td>3</td>\n",
              "      <td>0</td>\n",
              "    </tr>\n",
              "    <tr>\n",
              "      <th>4</th>\n",
              "      <td>2019-03-06</td>\n",
              "      <td>1</td>\n",
              "      <td>0.0</td>\n",
              "      <td>0.00</td>\n",
              "      <td>2</td>\n",
              "      <td>0</td>\n",
              "    </tr>\n",
              "    <tr>\n",
              "      <th>5</th>\n",
              "      <td>2019-03-07</td>\n",
              "      <td>9</td>\n",
              "      <td>6.0</td>\n",
              "      <td>9.39</td>\n",
              "      <td>10</td>\n",
              "      <td>0</td>\n",
              "    </tr>\n",
              "    <tr>\n",
              "      <th>6</th>\n",
              "      <td>2019-03-09</td>\n",
              "      <td>11</td>\n",
              "      <td>2.0</td>\n",
              "      <td>0.60</td>\n",
              "      <td>12</td>\n",
              "      <td>0</td>\n",
              "    </tr>\n",
              "    <tr>\n",
              "      <th>7</th>\n",
              "      <td>2019-03-10</td>\n",
              "      <td>2</td>\n",
              "      <td>0.0</td>\n",
              "      <td>0.00</td>\n",
              "      <td>2</td>\n",
              "      <td>0</td>\n",
              "    </tr>\n",
              "    <tr>\n",
              "      <th>8</th>\n",
              "      <td>2019-03-11</td>\n",
              "      <td>7</td>\n",
              "      <td>0.0</td>\n",
              "      <td>0.00</td>\n",
              "      <td>8</td>\n",
              "      <td>0</td>\n",
              "    </tr>\n",
              "    <tr>\n",
              "      <th>9</th>\n",
              "      <td>2019-03-12</td>\n",
              "      <td>6</td>\n",
              "      <td>0.0</td>\n",
              "      <td>0.00</td>\n",
              "      <td>7</td>\n",
              "      <td>2</td>\n",
              "    </tr>\n",
              "  </tbody>\n",
              "</table>\n",
              "</div>"
            ],
            "text/plain": [
              "        index  Tweets frequence  Floods frequency  Duration  METEO  HIDRO\n",
              "0  2019-03-02                 4               3.0      1.59      4      0\n",
              "1  2019-03-03                 3               0.0      0.00      4      0\n",
              "2  2019-03-04                 1               0.0      0.00      1      0\n",
              "3  2019-03-05                 3               5.0     13.56      3      0\n",
              "4  2019-03-06                 1               0.0      0.00      2      0\n",
              "5  2019-03-07                 9               6.0      9.39     10      0\n",
              "6  2019-03-09                11               2.0      0.60     12      0\n",
              "7  2019-03-10                 2               0.0      0.00      2      0\n",
              "8  2019-03-11                 7               0.0      0.00      8      0\n",
              "9  2019-03-12                 6               0.0      0.00      7      2"
            ]
          },
          "metadata": {
            "tags": []
          },
          "execution_count": 2
        }
      ]
    },
    {
      "cell_type": "markdown",
      "metadata": {
        "id": "IVF1AqT619wX"
      },
      "source": [
        "## Shapiro-Wilk's concept \n",
        "This statistical method is a test of normality. It is widely used in many other tests.\n",
        "\n",
        "\n",
        "1.   The Shapiro-Wilk test tests the null hypothesis that a sample y1,y2,⋯,yn, taken from a population, has a normal distribution.\n",
        "2.   Reject the null hypothesis if p<alpha \\\\\n",
        "\n",
        "Assuming alpha = 0.05  \n",
        "If we reject the null hypothesis, we conclude that out variable is not normally distributed. \n",
        "\n",
        "\n",
        "\n",
        "\n",
        "\n",
        "\n",
        "\n",
        "\n",
        "\n",
        "\n",
        "\n",
        "\n",
        "\n"
      ]
    },
    {
      "cell_type": "code",
      "metadata": {
        "id": "GJXkEZgC6Upb",
        "colab": {
          "base_uri": "https://localhost:8080/"
        },
        "outputId": "06209e5e-f97c-4386-b939-df61432479a4"
      },
      "source": [
        "flood_days=archive_flood[archive_flood['Floods frequency']!=0]\n",
        "no_flood=archive_flood[archive_flood['Floods frequency']==0]\n",
        "no_flood, flood_days"
      ],
      "execution_count": null,
      "outputs": [
        {
          "output_type": "execute_result",
          "data": {
            "text/plain": [
              "(        index  Tweets frequence  Floods frequency  Duration  METEO  HIDRO\n",
              " 1  2019-03-03                 3               0.0       0.0      4      0\n",
              " 2  2019-03-04                 1               0.0       0.0      1      0\n",
              " 4  2019-03-06                 1               0.0       0.0      2      0\n",
              " 7  2019-03-10                 2               0.0       0.0      2      0\n",
              " 8  2019-03-11                 7               0.0       0.0      8      0\n",
              " 9  2019-03-12                 6               0.0       0.0      7      2,\n",
              "         index  Tweets frequence  Floods frequency  Duration  METEO  HIDRO\n",
              " 0  2019-03-02                 4               3.0      1.59      4      0\n",
              " 3  2019-03-05                 3               5.0     13.56      3      0\n",
              " 5  2019-03-07                 9               6.0      9.39     10      0\n",
              " 6  2019-03-09                11               2.0      0.60     12      0)"
            ]
          },
          "metadata": {
            "tags": []
          },
          "execution_count": 3
        }
      ]
    },
    {
      "cell_type": "markdown",
      "metadata": {
        "id": "PCrP3i16a38v"
      },
      "source": [
        "## Problema:\n",
        "* Recomendo a leitura deste artigo: https://www.ncbi.nlm.nih.gov/pmc/articles/PMC3693611/\n",
        "* Atenção a citação: \"For small sample sizes, normality tests have little power to reject the null hypothesis and therefore small samples most often pass normality tests\"\n",
        "* Devido a quantidade reduzida de observações, um teste paramétrico não tem poder explicativo"
      ]
    },
    {
      "cell_type": "markdown",
      "metadata": {
        "id": "NvAiAGwya5Vz"
      },
      "source": [
        ""
      ]
    },
    {
      "cell_type": "code",
      "metadata": {
        "colab": {
          "base_uri": "https://localhost:8080/"
        },
        "id": "_3u_SLCcZ6c3",
        "outputId": "488e1484-d8d0-4f34-94a6-9566a00b4f2c"
      },
      "source": [
        "#Check the sample sizes \n",
        "print('flood/non-flood:',flood_days.shape[0],'/',no_flood.shape[0])"
      ],
      "execution_count": null,
      "outputs": [
        {
          "output_type": "stream",
          "text": [
            "flood/non-flood: 4 / 6\n"
          ],
          "name": "stdout"
        }
      ]
    },
    {
      "cell_type": "code",
      "metadata": {
        "colab": {
          "base_uri": "https://localhost:8080/"
        },
        "id": "4jwvJoh3grf7",
        "outputId": "ac8b779f-018f-4b24-ef5a-7f5f99ff7745"
      },
      "source": [
        "#flood days \n",
        "shapiro_stat, shapiro_p_value = stats.shapiro(flood_days['METEO'].array)\n",
        "print(\"Statistics of Shapiro-Wilk in flood days = \"+ str(shapiro_stat))\n",
        "print(\"p-value (flood day) = \"+ str(shapiro_p_value))\n",
        "\n",
        "#no flood days \n",
        "shapiro_stat1, shapiro_p_value1=stats.shapiro(no_flood['METEO'].array)\n",
        "print(\"Statistics of Shapiro-Wilk in no floods day = \"+ str(shapiro_stat1))\n",
        "print(\"p-value (no flood) = \"+ str(shapiro_p_value1))\n",
        "\n",
        "\n",
        "#Segundo as definições anteriores, é bem provavel que o SW implique normalidade... apesar de nãos ser"
      ],
      "execution_count": null,
      "outputs": [
        {
          "output_type": "stream",
          "text": [
            "Statistics of Shapiro-Wilk in flood days = 0.8783182501792908\n",
            "p-value (flood day) = 0.3315027952194214\n",
            "Statistics of Shapiro-Wilk in no floods day = 0.8804032206535339\n",
            "p-value (no flood) = 0.2709139883518219\n"
          ],
          "name": "stdout"
        }
      ]
    },
    {
      "cell_type": "code",
      "metadata": {
        "colab": {
          "base_uri": "https://localhost:8080/"
        },
        "id": "XPIYOVPMiLBp",
        "outputId": "63548f12-ebab-464a-82b5-289cbbc6c551"
      },
      "source": [
        "# testing the hypothesis assuming alpha = 0.05\n",
        "if shapiro_p_value>0.05: \n",
        "  print('The p value for flood days is ' + str(shapiro_p_value))\n",
        "  print( 'The p value is greater than alpha, so the hypothesis cannot be rejected')\n",
        "else:\n",
        "  print('Reject the null hypothesis')\n",
        "if shapiro_p_value1>0.05:\n",
        "  print('The p value for no flood days is ' + str(shapiro_p_value1))\n",
        "  print( 'The p value is greater than alpha, so the hypothesis cannot be rejected')\n",
        "else:\n",
        "  print('Reject the null hypothesis')"
      ],
      "execution_count": null,
      "outputs": [
        {
          "output_type": "stream",
          "text": [
            "The p value for flood days is 0.3315027952194214\n",
            "The p value is greater than alpha, so the hypothesis cannot be rejected\n",
            "The p value for no flood days is 0.2709139883518219\n",
            "The p value is greater than alpha, so the hypothesis cannot be rejected\n"
          ],
          "name": "stdout"
        }
      ]
    },
    {
      "cell_type": "markdown",
      "metadata": {
        "id": "vy-UGK_4mn5R"
      },
      "source": [
        "# MannWhitney test \n"
      ]
    },
    {
      "cell_type": "markdown",
      "metadata": {
        "id": "9NlDjtKV8gRF"
      },
      "source": [
        "## Mann-Whitney concept \n",
        "The Mann–Whitney test is a nonparametric test that aims to test the equality of two populations. It is used when we have two samples coming from two populations.\n",
        "The null hypothesis that, for randomly selected values X and Y from two populations, the probability of X being greater than Y is equal to the probability of Y being greater than X.\n",
        "\n",
        "if (p-value<alpha), reject the null hypothesis \n",
        "\n",
        "Reject the null hypothesis "
      ]
    },
    {
      "cell_type": "code",
      "metadata": {
        "colab": {
          "base_uri": "https://localhost:8080/"
        },
        "id": "QA_I_a-IneLQ",
        "outputId": "f7513418-120c-4523-c3ba-d6b8d3540ce4"
      },
      "source": [
        "\n",
        "x,y=stats.mannwhitneyu(flood_days['METEO'].array, no_flood['METEO'].array,alternative='two-sided')\n",
        "print(\"The statistics: \", x)\n",
        "print(\"The p-value\", y)\n",
        "if y<=0.05:\n",
        "  print(\"Reject the null hypothesis, that the probability of X being greater than Y is equal to the probability of Y being greater than X\")\n",
        "else:\n",
        "  print(\"The null hypothesis cannot be rejected\")"
      ],
      "execution_count": null,
      "outputs": [
        {
          "output_type": "stream",
          "text": [
            "The statistics:  18.5\n",
            "The p-value 0.19808444160085592\n",
            "The null hypothesis cannot be rejected\n"
          ],
          "name": "stdout"
        }
      ]
    },
    {
      "cell_type": "code",
      "metadata": {
        "colab": {
          "base_uri": "https://localhost:8080/"
        },
        "id": "GuNA4mjCc0hG",
        "outputId": "808fd5df-74c5-4ac4-d8e6-fb7db3c8acf2"
      },
      "source": [
        "#Ajustes/comentários\n",
        "\n",
        "#... annwhitneyu always reports the statistic associated with the first sample, which, in this case, is males.\n",
        "#Em resumo, a comparação aqui é de flood_days em relação a no_flood (pois vem primeiro na sua lista de parâmetros)\n",
        "#Acredito que esta seja a ordem ideal, pois temos um conhecimento a priori que nos dias de alagamento a frequência de tweets é maior\n",
        "#Com isso, admitindo que um é maior que o outro, um teste unilateral ('greater') faz mais sentido (deixa o teste ainda mais robusto...)\n",
        "\n",
        "x,y=stats.mannwhitneyu(flood_days['METEO'].array, no_flood['METEO'].array, alternative='greater')\n",
        "print(\"The statistics: \", x)\n",
        "print(\"The p-value\", y)\n",
        "if y<=0.05:\n",
        "  print(\"Reject the null hypothesis, that the probability of X being greater than Y is equal to the probability of Y being greater than X\")\n",
        "else:\n",
        "  print(\"The null hypothesis cannot be rejected\")"
      ],
      "execution_count": null,
      "outputs": [
        {
          "output_type": "stream",
          "text": [
            "The statistics:  18.5\n",
            "The p-value 0.09904222080042796\n",
            "The null hypothesis cannot be rejected\n"
          ],
          "name": "stdout"
        }
      ]
    },
    {
      "cell_type": "code",
      "metadata": {
        "id": "_jOvOf02_JXC"
      },
      "source": [
        "#Teste de Kruskal-Wallis\n",
        "#Este teste é indicado para duas ou mais amostras -- incluí aqui apenas por teste..."
      ],
      "execution_count": null,
      "outputs": []
    },
    {
      "cell_type": "code",
      "metadata": {
        "colab": {
          "base_uri": "https://localhost:8080/"
        },
        "id": "OuajS1F0f0PG",
        "outputId": "cdd8c40e-243e-4b75-8b9a-119752d44aa8"
      },
      "source": [
        "from scipy.stats import kruskal\n",
        "stat, p = kruskal(flood_days['METEO'].array, no_flood['METEO'].array)\n",
        "print(\"The statistics: \", stat)\n",
        "print(\"The p-value\", p)\n",
        "if y<=0.05:\n",
        "  print(\"Reject the null hypothesis, that the probability of X being greater than Y is equal to the probability of Y being greater than X\")\n",
        "else:\n",
        "  print(\"The null hypothesis cannot be rejected\")"
      ],
      "execution_count": null,
      "outputs": [
        {
          "output_type": "stream",
          "text": [
            "The statistics:  1.9440184049079767\n",
            "The p-value 0.1632328854401128\n",
            "The null hypothesis cannot be rejected\n"
          ],
          "name": "stdout"
        }
      ]
    },
    {
      "cell_type": "markdown",
      "metadata": {
        "id": "cWQsG6kummDG"
      },
      "source": [
        "#Second Temporal Window"
      ]
    },
    {
      "cell_type": "code",
      "metadata": {
        "colab": {
          "base_uri": "https://localhost:8080/",
          "height": 653
        },
        "id": "S35ii8yzmsyX",
        "outputId": "cb6362dc-f7e3-42d9-8041-a3edb231b89a"
      },
      "source": [
        "second_tw=pd.read_csv(r'/content/gdrive/My Drive/Colab Notebooks/Tweets//Second_Twindow.csv')\n",
        "second_tw"
      ],
      "execution_count": null,
      "outputs": [
        {
          "output_type": "execute_result",
          "data": {
            "text/html": [
              "<div>\n",
              "<style scoped>\n",
              "    .dataframe tbody tr th:only-of-type {\n",
              "        vertical-align: middle;\n",
              "    }\n",
              "\n",
              "    .dataframe tbody tr th {\n",
              "        vertical-align: top;\n",
              "    }\n",
              "\n",
              "    .dataframe thead th {\n",
              "        text-align: right;\n",
              "    }\n",
              "</style>\n",
              "<table border=\"1\" class=\"dataframe\">\n",
              "  <thead>\n",
              "    <tr style=\"text-align: right;\">\n",
              "      <th></th>\n",
              "      <th>index</th>\n",
              "      <th>Tweets Frequence</th>\n",
              "      <th>Floods Frequence</th>\n",
              "      <th>Duration</th>\n",
              "      <th>METEO</th>\n",
              "      <th>HIDRO</th>\n",
              "    </tr>\n",
              "  </thead>\n",
              "  <tbody>\n",
              "    <tr>\n",
              "      <th>0</th>\n",
              "      <td>2019-01-03</td>\n",
              "      <td>2</td>\n",
              "      <td>0.0</td>\n",
              "      <td>0.00</td>\n",
              "      <td>1</td>\n",
              "      <td>1</td>\n",
              "    </tr>\n",
              "    <tr>\n",
              "      <th>1</th>\n",
              "      <td>2019-02-03</td>\n",
              "      <td>6</td>\n",
              "      <td>3.0</td>\n",
              "      <td>1.59</td>\n",
              "      <td>6</td>\n",
              "      <td>0</td>\n",
              "    </tr>\n",
              "    <tr>\n",
              "      <th>2</th>\n",
              "      <td>2019-03-03</td>\n",
              "      <td>5</td>\n",
              "      <td>0.0</td>\n",
              "      <td>0.00</td>\n",
              "      <td>6</td>\n",
              "      <td>0</td>\n",
              "    </tr>\n",
              "    <tr>\n",
              "      <th>3</th>\n",
              "      <td>2019-04-03</td>\n",
              "      <td>1</td>\n",
              "      <td>0.0</td>\n",
              "      <td>0.00</td>\n",
              "      <td>1</td>\n",
              "      <td>0</td>\n",
              "    </tr>\n",
              "    <tr>\n",
              "      <th>4</th>\n",
              "      <td>2019-05-03</td>\n",
              "      <td>2</td>\n",
              "      <td>5.0</td>\n",
              "      <td>13.56</td>\n",
              "      <td>2</td>\n",
              "      <td>0</td>\n",
              "    </tr>\n",
              "    <tr>\n",
              "      <th>5</th>\n",
              "      <td>2019-06-03</td>\n",
              "      <td>1</td>\n",
              "      <td>0.0</td>\n",
              "      <td>0.00</td>\n",
              "      <td>2</td>\n",
              "      <td>0</td>\n",
              "    </tr>\n",
              "    <tr>\n",
              "      <th>6</th>\n",
              "      <td>2019-07-03</td>\n",
              "      <td>8</td>\n",
              "      <td>6.0</td>\n",
              "      <td>9.39</td>\n",
              "      <td>9</td>\n",
              "      <td>0</td>\n",
              "    </tr>\n",
              "    <tr>\n",
              "      <th>7</th>\n",
              "      <td>2019-09-03</td>\n",
              "      <td>11</td>\n",
              "      <td>2.0</td>\n",
              "      <td>0.60</td>\n",
              "      <td>12</td>\n",
              "      <td>0</td>\n",
              "    </tr>\n",
              "    <tr>\n",
              "      <th>8</th>\n",
              "      <td>2019-10-03</td>\n",
              "      <td>2</td>\n",
              "      <td>0.0</td>\n",
              "      <td>0.00</td>\n",
              "      <td>2</td>\n",
              "      <td>0</td>\n",
              "    </tr>\n",
              "    <tr>\n",
              "      <th>9</th>\n",
              "      <td>2019-11-03</td>\n",
              "      <td>7</td>\n",
              "      <td>0.0</td>\n",
              "      <td>0.00</td>\n",
              "      <td>8</td>\n",
              "      <td>0</td>\n",
              "    </tr>\n",
              "    <tr>\n",
              "      <th>10</th>\n",
              "      <td>2019-12-03</td>\n",
              "      <td>9</td>\n",
              "      <td>0.0</td>\n",
              "      <td>0.00</td>\n",
              "      <td>9</td>\n",
              "      <td>2</td>\n",
              "    </tr>\n",
              "    <tr>\n",
              "      <th>11</th>\n",
              "      <td>2019-13-03</td>\n",
              "      <td>1</td>\n",
              "      <td>0.0</td>\n",
              "      <td>0.00</td>\n",
              "      <td>1</td>\n",
              "      <td>0</td>\n",
              "    </tr>\n",
              "    <tr>\n",
              "      <th>12</th>\n",
              "      <td>2019-14-03</td>\n",
              "      <td>3</td>\n",
              "      <td>0.0</td>\n",
              "      <td>0.00</td>\n",
              "      <td>4</td>\n",
              "      <td>0</td>\n",
              "    </tr>\n",
              "    <tr>\n",
              "      <th>13</th>\n",
              "      <td>2019-15-03</td>\n",
              "      <td>1</td>\n",
              "      <td>0.0</td>\n",
              "      <td>0.00</td>\n",
              "      <td>0</td>\n",
              "      <td>1</td>\n",
              "    </tr>\n",
              "    <tr>\n",
              "      <th>14</th>\n",
              "      <td>2019-16-03</td>\n",
              "      <td>3</td>\n",
              "      <td>0.0</td>\n",
              "      <td>0.00</td>\n",
              "      <td>3</td>\n",
              "      <td>0</td>\n",
              "    </tr>\n",
              "    <tr>\n",
              "      <th>15</th>\n",
              "      <td>2019-17-03</td>\n",
              "      <td>12</td>\n",
              "      <td>0.0</td>\n",
              "      <td>0.00</td>\n",
              "      <td>11</td>\n",
              "      <td>0</td>\n",
              "    </tr>\n",
              "    <tr>\n",
              "      <th>16</th>\n",
              "      <td>2019-21-03</td>\n",
              "      <td>6</td>\n",
              "      <td>0.0</td>\n",
              "      <td>0.00</td>\n",
              "      <td>7</td>\n",
              "      <td>0</td>\n",
              "    </tr>\n",
              "    <tr>\n",
              "      <th>17</th>\n",
              "      <td>2019-22-03</td>\n",
              "      <td>1</td>\n",
              "      <td>0.0</td>\n",
              "      <td>0.00</td>\n",
              "      <td>1</td>\n",
              "      <td>0</td>\n",
              "    </tr>\n",
              "    <tr>\n",
              "      <th>18</th>\n",
              "      <td>2019-28-03</td>\n",
              "      <td>2</td>\n",
              "      <td>0.0</td>\n",
              "      <td>0.00</td>\n",
              "      <td>2</td>\n",
              "      <td>1</td>\n",
              "    </tr>\n",
              "    <tr>\n",
              "      <th>19</th>\n",
              "      <td>2019-31-03</td>\n",
              "      <td>2</td>\n",
              "      <td>0.0</td>\n",
              "      <td>0.00</td>\n",
              "      <td>2</td>\n",
              "      <td>0</td>\n",
              "    </tr>\n",
              "  </tbody>\n",
              "</table>\n",
              "</div>"
            ],
            "text/plain": [
              "         index  Tweets Frequence  Floods Frequence  Duration  METEO  HIDRO\n",
              "0   2019-01-03                 2               0.0      0.00      1      1\n",
              "1   2019-02-03                 6               3.0      1.59      6      0\n",
              "2   2019-03-03                 5               0.0      0.00      6      0\n",
              "3   2019-04-03                 1               0.0      0.00      1      0\n",
              "4   2019-05-03                 2               5.0     13.56      2      0\n",
              "5   2019-06-03                 1               0.0      0.00      2      0\n",
              "6   2019-07-03                 8               6.0      9.39      9      0\n",
              "7   2019-09-03                11               2.0      0.60     12      0\n",
              "8   2019-10-03                 2               0.0      0.00      2      0\n",
              "9   2019-11-03                 7               0.0      0.00      8      0\n",
              "10  2019-12-03                 9               0.0      0.00      9      2\n",
              "11  2019-13-03                 1               0.0      0.00      1      0\n",
              "12  2019-14-03                 3               0.0      0.00      4      0\n",
              "13  2019-15-03                 1               0.0      0.00      0      1\n",
              "14  2019-16-03                 3               0.0      0.00      3      0\n",
              "15  2019-17-03                12               0.0      0.00     11      0\n",
              "16  2019-21-03                 6               0.0      0.00      7      0\n",
              "17  2019-22-03                 1               0.0      0.00      1      0\n",
              "18  2019-28-03                 2               0.0      0.00      2      1\n",
              "19  2019-31-03                 2               0.0      0.00      2      0"
            ]
          },
          "metadata": {
            "tags": []
          },
          "execution_count": 11
        }
      ]
    },
    {
      "cell_type": "code",
      "metadata": {
        "id": "x6o1fKvApy2d"
      },
      "source": [
        "flood_days=second_tw[second_tw['Floods Frequence']!=0]\n",
        "no_flood=second_tw[second_tw['Floods Frequence']==0]"
      ],
      "execution_count": null,
      "outputs": []
    },
    {
      "cell_type": "code",
      "metadata": {
        "colab": {
          "base_uri": "https://localhost:8080/"
        },
        "id": "bUElLIeBpr5m",
        "outputId": "95c328a9-72a4-44be-8564-efba93618b9f"
      },
      "source": [
        "x,y=stats.mannwhitneyu(flood_days['METEO'].array, no_flood['METEO'].array, alternative='greater')\n",
        "print(\"The statistics: \", x)\n",
        "print(\"The p-value\", y)\n",
        "if y<=0.05:\n",
        "  print(\"Reject the null hypothesis, that the probability of X being greater than Y is equal to the probability of Y being greater than X\")\n",
        "else:\n",
        "  print(\"The null hypothesis cannot be rejected\")"
      ],
      "execution_count": null,
      "outputs": [
        {
          "output_type": "stream",
          "text": [
            "The statistics:  49.0\n",
            "The p-value 0.05725926424753307\n",
            "The null hypothesis cannot be rejected\n"
          ],
          "name": "stdout"
        }
      ]
    },
    {
      "cell_type": "markdown",
      "metadata": {
        "id": "kWb1-2tQu_dS"
      },
      "source": [
        "# Third Window "
      ]
    },
    {
      "cell_type": "code",
      "metadata": {
        "colab": {
          "base_uri": "https://localhost:8080/",
          "height": 1000
        },
        "id": "ofNjf2oSvLjt",
        "outputId": "be525620-f6a9-480a-a0ed-23195956531d"
      },
      "source": [
        "third_tw=pd.read_csv(r'/content/gdrive/My Drive/Colab Notebooks/Tweets/Third_Twindow.csv')\n",
        "third_tw"
      ],
      "execution_count": null,
      "outputs": [
        {
          "output_type": "execute_result",
          "data": {
            "text/html": [
              "<div>\n",
              "<style scoped>\n",
              "    .dataframe tbody tr th:only-of-type {\n",
              "        vertical-align: middle;\n",
              "    }\n",
              "\n",
              "    .dataframe tbody tr th {\n",
              "        vertical-align: top;\n",
              "    }\n",
              "\n",
              "    .dataframe thead th {\n",
              "        text-align: right;\n",
              "    }\n",
              "</style>\n",
              "<table border=\"1\" class=\"dataframe\">\n",
              "  <thead>\n",
              "    <tr style=\"text-align: right;\">\n",
              "      <th></th>\n",
              "      <th>index</th>\n",
              "      <th>Tweets Frequence</th>\n",
              "      <th>Floods Frequence</th>\n",
              "      <th>Duration</th>\n",
              "      <th>METEO</th>\n",
              "    </tr>\n",
              "  </thead>\n",
              "  <tbody>\n",
              "    <tr>\n",
              "      <th>0</th>\n",
              "      <td>2019-02-03</td>\n",
              "      <td>2</td>\n",
              "      <td>0.0</td>\n",
              "      <td>0.00</td>\n",
              "      <td>3</td>\n",
              "    </tr>\n",
              "    <tr>\n",
              "      <th>1</th>\n",
              "      <td>2019-02-04</td>\n",
              "      <td>3</td>\n",
              "      <td>0.0</td>\n",
              "      <td>0.00</td>\n",
              "      <td>4</td>\n",
              "    </tr>\n",
              "    <tr>\n",
              "      <th>2</th>\n",
              "      <td>2019-02-05</td>\n",
              "      <td>1</td>\n",
              "      <td>0.0</td>\n",
              "      <td>0.00</td>\n",
              "      <td>1</td>\n",
              "    </tr>\n",
              "    <tr>\n",
              "      <th>3</th>\n",
              "      <td>2019-02-06</td>\n",
              "      <td>9</td>\n",
              "      <td>2.0</td>\n",
              "      <td>4.01</td>\n",
              "      <td>9</td>\n",
              "    </tr>\n",
              "    <tr>\n",
              "      <th>4</th>\n",
              "      <td>2019-02-11</td>\n",
              "      <td>2</td>\n",
              "      <td>0.0</td>\n",
              "      <td>0.00</td>\n",
              "      <td>3</td>\n",
              "    </tr>\n",
              "    <tr>\n",
              "      <th>5</th>\n",
              "      <td>2019-02-12</td>\n",
              "      <td>3</td>\n",
              "      <td>0.0</td>\n",
              "      <td>0.00</td>\n",
              "      <td>4</td>\n",
              "    </tr>\n",
              "    <tr>\n",
              "      <th>6</th>\n",
              "      <td>2019-02-13</td>\n",
              "      <td>2</td>\n",
              "      <td>0.0</td>\n",
              "      <td>0.00</td>\n",
              "      <td>2</td>\n",
              "    </tr>\n",
              "    <tr>\n",
              "      <th>7</th>\n",
              "      <td>2019-02-14</td>\n",
              "      <td>7</td>\n",
              "      <td>0.0</td>\n",
              "      <td>0.00</td>\n",
              "      <td>7</td>\n",
              "    </tr>\n",
              "    <tr>\n",
              "      <th>8</th>\n",
              "      <td>2019-02-15</td>\n",
              "      <td>5</td>\n",
              "      <td>0.0</td>\n",
              "      <td>0.00</td>\n",
              "      <td>5</td>\n",
              "    </tr>\n",
              "    <tr>\n",
              "      <th>9</th>\n",
              "      <td>2019-02-16</td>\n",
              "      <td>8</td>\n",
              "      <td>2.0</td>\n",
              "      <td>6.80</td>\n",
              "      <td>8</td>\n",
              "    </tr>\n",
              "    <tr>\n",
              "      <th>10</th>\n",
              "      <td>2019-02-17</td>\n",
              "      <td>5</td>\n",
              "      <td>0.0</td>\n",
              "      <td>0.00</td>\n",
              "      <td>5</td>\n",
              "    </tr>\n",
              "    <tr>\n",
              "      <th>11</th>\n",
              "      <td>2019-02-18</td>\n",
              "      <td>1</td>\n",
              "      <td>0.0</td>\n",
              "      <td>0.00</td>\n",
              "      <td>2</td>\n",
              "    </tr>\n",
              "    <tr>\n",
              "      <th>12</th>\n",
              "      <td>2019-02-19</td>\n",
              "      <td>4</td>\n",
              "      <td>0.0</td>\n",
              "      <td>0.00</td>\n",
              "      <td>4</td>\n",
              "    </tr>\n",
              "    <tr>\n",
              "      <th>13</th>\n",
              "      <td>2019-02-20</td>\n",
              "      <td>6</td>\n",
              "      <td>0.0</td>\n",
              "      <td>0.00</td>\n",
              "      <td>6</td>\n",
              "    </tr>\n",
              "    <tr>\n",
              "      <th>14</th>\n",
              "      <td>2019-02-21</td>\n",
              "      <td>2</td>\n",
              "      <td>7.0</td>\n",
              "      <td>12.72</td>\n",
              "      <td>2</td>\n",
              "    </tr>\n",
              "    <tr>\n",
              "      <th>15</th>\n",
              "      <td>2019-02-22</td>\n",
              "      <td>6</td>\n",
              "      <td>0.0</td>\n",
              "      <td>0.00</td>\n",
              "      <td>7</td>\n",
              "    </tr>\n",
              "    <tr>\n",
              "      <th>16</th>\n",
              "      <td>2019-02-23</td>\n",
              "      <td>2</td>\n",
              "      <td>0.0</td>\n",
              "      <td>0.00</td>\n",
              "      <td>2</td>\n",
              "    </tr>\n",
              "    <tr>\n",
              "      <th>17</th>\n",
              "      <td>2019-02-24</td>\n",
              "      <td>4</td>\n",
              "      <td>1.0</td>\n",
              "      <td>1.75</td>\n",
              "      <td>4</td>\n",
              "    </tr>\n",
              "    <tr>\n",
              "      <th>18</th>\n",
              "      <td>2019-02-25</td>\n",
              "      <td>1</td>\n",
              "      <td>0.0</td>\n",
              "      <td>0.00</td>\n",
              "      <td>1</td>\n",
              "    </tr>\n",
              "    <tr>\n",
              "      <th>19</th>\n",
              "      <td>2019-02-26</td>\n",
              "      <td>4</td>\n",
              "      <td>0.0</td>\n",
              "      <td>0.00</td>\n",
              "      <td>5</td>\n",
              "    </tr>\n",
              "    <tr>\n",
              "      <th>20</th>\n",
              "      <td>2019-02-27</td>\n",
              "      <td>2</td>\n",
              "      <td>0.0</td>\n",
              "      <td>0.00</td>\n",
              "      <td>1</td>\n",
              "    </tr>\n",
              "    <tr>\n",
              "      <th>21</th>\n",
              "      <td>2019-02-28</td>\n",
              "      <td>7</td>\n",
              "      <td>0.0</td>\n",
              "      <td>0.00</td>\n",
              "      <td>8</td>\n",
              "    </tr>\n",
              "    <tr>\n",
              "      <th>22</th>\n",
              "      <td>2019-03-01</td>\n",
              "      <td>2</td>\n",
              "      <td>0.0</td>\n",
              "      <td>0.00</td>\n",
              "      <td>1</td>\n",
              "    </tr>\n",
              "    <tr>\n",
              "      <th>23</th>\n",
              "      <td>2019-03-02</td>\n",
              "      <td>6</td>\n",
              "      <td>3.0</td>\n",
              "      <td>1.59</td>\n",
              "      <td>6</td>\n",
              "    </tr>\n",
              "    <tr>\n",
              "      <th>24</th>\n",
              "      <td>2019-03-03</td>\n",
              "      <td>5</td>\n",
              "      <td>0.0</td>\n",
              "      <td>0.00</td>\n",
              "      <td>6</td>\n",
              "    </tr>\n",
              "    <tr>\n",
              "      <th>25</th>\n",
              "      <td>2019-03-04</td>\n",
              "      <td>1</td>\n",
              "      <td>0.0</td>\n",
              "      <td>0.00</td>\n",
              "      <td>1</td>\n",
              "    </tr>\n",
              "    <tr>\n",
              "      <th>26</th>\n",
              "      <td>2019-03-05</td>\n",
              "      <td>2</td>\n",
              "      <td>5.0</td>\n",
              "      <td>13.56</td>\n",
              "      <td>2</td>\n",
              "    </tr>\n",
              "    <tr>\n",
              "      <th>27</th>\n",
              "      <td>2019-03-06</td>\n",
              "      <td>1</td>\n",
              "      <td>0.0</td>\n",
              "      <td>0.00</td>\n",
              "      <td>2</td>\n",
              "    </tr>\n",
              "    <tr>\n",
              "      <th>28</th>\n",
              "      <td>2019-03-07</td>\n",
              "      <td>8</td>\n",
              "      <td>6.0</td>\n",
              "      <td>9.39</td>\n",
              "      <td>9</td>\n",
              "    </tr>\n",
              "    <tr>\n",
              "      <th>29</th>\n",
              "      <td>2019-03-09</td>\n",
              "      <td>11</td>\n",
              "      <td>2.0</td>\n",
              "      <td>0.60</td>\n",
              "      <td>12</td>\n",
              "    </tr>\n",
              "    <tr>\n",
              "      <th>30</th>\n",
              "      <td>2019-03-10</td>\n",
              "      <td>2</td>\n",
              "      <td>0.0</td>\n",
              "      <td>0.00</td>\n",
              "      <td>2</td>\n",
              "    </tr>\n",
              "    <tr>\n",
              "      <th>31</th>\n",
              "      <td>2019-03-11</td>\n",
              "      <td>7</td>\n",
              "      <td>0.0</td>\n",
              "      <td>0.00</td>\n",
              "      <td>8</td>\n",
              "    </tr>\n",
              "    <tr>\n",
              "      <th>32</th>\n",
              "      <td>2019-03-12</td>\n",
              "      <td>9</td>\n",
              "      <td>0.0</td>\n",
              "      <td>0.00</td>\n",
              "      <td>9</td>\n",
              "    </tr>\n",
              "    <tr>\n",
              "      <th>33</th>\n",
              "      <td>2019-03-13</td>\n",
              "      <td>1</td>\n",
              "      <td>0.0</td>\n",
              "      <td>0.00</td>\n",
              "      <td>1</td>\n",
              "    </tr>\n",
              "    <tr>\n",
              "      <th>34</th>\n",
              "      <td>2019-03-14</td>\n",
              "      <td>3</td>\n",
              "      <td>0.0</td>\n",
              "      <td>0.00</td>\n",
              "      <td>4</td>\n",
              "    </tr>\n",
              "    <tr>\n",
              "      <th>35</th>\n",
              "      <td>2019-03-15</td>\n",
              "      <td>1</td>\n",
              "      <td>0.0</td>\n",
              "      <td>0.00</td>\n",
              "      <td>0</td>\n",
              "    </tr>\n",
              "    <tr>\n",
              "      <th>36</th>\n",
              "      <td>2019-03-16</td>\n",
              "      <td>3</td>\n",
              "      <td>0.0</td>\n",
              "      <td>0.00</td>\n",
              "      <td>3</td>\n",
              "    </tr>\n",
              "    <tr>\n",
              "      <th>37</th>\n",
              "      <td>2019-03-17</td>\n",
              "      <td>12</td>\n",
              "      <td>0.0</td>\n",
              "      <td>0.00</td>\n",
              "      <td>11</td>\n",
              "    </tr>\n",
              "    <tr>\n",
              "      <th>38</th>\n",
              "      <td>2019-03-21</td>\n",
              "      <td>6</td>\n",
              "      <td>0.0</td>\n",
              "      <td>0.00</td>\n",
              "      <td>7</td>\n",
              "    </tr>\n",
              "    <tr>\n",
              "      <th>39</th>\n",
              "      <td>2019-03-22</td>\n",
              "      <td>1</td>\n",
              "      <td>0.0</td>\n",
              "      <td>0.00</td>\n",
              "      <td>1</td>\n",
              "    </tr>\n",
              "    <tr>\n",
              "      <th>40</th>\n",
              "      <td>2019-03-28</td>\n",
              "      <td>2</td>\n",
              "      <td>0.0</td>\n",
              "      <td>0.00</td>\n",
              "      <td>2</td>\n",
              "    </tr>\n",
              "    <tr>\n",
              "      <th>41</th>\n",
              "      <td>2019-03-31</td>\n",
              "      <td>2</td>\n",
              "      <td>0.0</td>\n",
              "      <td>0.00</td>\n",
              "      <td>2</td>\n",
              "    </tr>\n",
              "  </tbody>\n",
              "</table>\n",
              "</div>"
            ],
            "text/plain": [
              "         index  Tweets Frequence  Floods Frequence  Duration  METEO\n",
              "0   2019-02-03                 2               0.0      0.00      3\n",
              "1   2019-02-04                 3               0.0      0.00      4\n",
              "2   2019-02-05                 1               0.0      0.00      1\n",
              "3   2019-02-06                 9               2.0      4.01      9\n",
              "4   2019-02-11                 2               0.0      0.00      3\n",
              "5   2019-02-12                 3               0.0      0.00      4\n",
              "6   2019-02-13                 2               0.0      0.00      2\n",
              "7   2019-02-14                 7               0.0      0.00      7\n",
              "8   2019-02-15                 5               0.0      0.00      5\n",
              "9   2019-02-16                 8               2.0      6.80      8\n",
              "10  2019-02-17                 5               0.0      0.00      5\n",
              "11  2019-02-18                 1               0.0      0.00      2\n",
              "12  2019-02-19                 4               0.0      0.00      4\n",
              "13  2019-02-20                 6               0.0      0.00      6\n",
              "14  2019-02-21                 2               7.0     12.72      2\n",
              "15  2019-02-22                 6               0.0      0.00      7\n",
              "16  2019-02-23                 2               0.0      0.00      2\n",
              "17  2019-02-24                 4               1.0      1.75      4\n",
              "18  2019-02-25                 1               0.0      0.00      1\n",
              "19  2019-02-26                 4               0.0      0.00      5\n",
              "20  2019-02-27                 2               0.0      0.00      1\n",
              "21  2019-02-28                 7               0.0      0.00      8\n",
              "22  2019-03-01                 2               0.0      0.00      1\n",
              "23  2019-03-02                 6               3.0      1.59      6\n",
              "24  2019-03-03                 5               0.0      0.00      6\n",
              "25  2019-03-04                 1               0.0      0.00      1\n",
              "26  2019-03-05                 2               5.0     13.56      2\n",
              "27  2019-03-06                 1               0.0      0.00      2\n",
              "28  2019-03-07                 8               6.0      9.39      9\n",
              "29  2019-03-09                11               2.0      0.60     12\n",
              "30  2019-03-10                 2               0.0      0.00      2\n",
              "31  2019-03-11                 7               0.0      0.00      8\n",
              "32  2019-03-12                 9               0.0      0.00      9\n",
              "33  2019-03-13                 1               0.0      0.00      1\n",
              "34  2019-03-14                 3               0.0      0.00      4\n",
              "35  2019-03-15                 1               0.0      0.00      0\n",
              "36  2019-03-16                 3               0.0      0.00      3\n",
              "37  2019-03-17                12               0.0      0.00     11\n",
              "38  2019-03-21                 6               0.0      0.00      7\n",
              "39  2019-03-22                 1               0.0      0.00      1\n",
              "40  2019-03-28                 2               0.0      0.00      2\n",
              "41  2019-03-31                 2               0.0      0.00      2"
            ]
          },
          "metadata": {
            "tags": []
          },
          "execution_count": 14
        }
      ]
    },
    {
      "cell_type": "code",
      "metadata": {
        "colab": {
          "base_uri": "https://localhost:8080/"
        },
        "id": "dDDkrXLUvdu6",
        "outputId": "e31863eb-a9c0-4da8-9084-d3ee640c18ba"
      },
      "source": [
        "flood_days=third_tw[third_tw['Floods Frequence']!=0]\n",
        "no_flood=third_tw[third_tw['Floods Frequence']==0]\n",
        "x,y=stats.mannwhitneyu(flood_days['METEO'].array, no_flood['METEO'].array, alternative='greater')\n",
        "print(\"The statistics: \", x)\n",
        "print(\"The p-value\", y)\n",
        "if y<=0.05:\n",
        "  print(\"Reject the null hypothesis, that the probability of X being greater than Y is equal to the probability of Y being greater than X\")\n",
        "else:\n",
        "  print(\"The null hypothesis cannot be rejected\")"
      ],
      "execution_count": null,
      "outputs": [
        {
          "output_type": "stream",
          "text": [
            "The statistics:  199.0\n",
            "The p-value 0.021690115767079427\n",
            "Reject the null hypothesis, that the probability of X being greater than Y is equal to the probability of Y being greater than X\n"
          ],
          "name": "stdout"
        }
      ]
    },
    {
      "cell_type": "code",
      "metadata": {
        "colab": {
          "base_uri": "https://localhost:8080/",
          "height": 290
        },
        "id": "nALgeuvYv9Of",
        "outputId": "55e4e7ec-72d9-44a9-e304-2b7444279298"
      },
      "source": [
        "third_tw[third_tw['Floods Frequence']!=0]"
      ],
      "execution_count": null,
      "outputs": [
        {
          "output_type": "execute_result",
          "data": {
            "text/html": [
              "<div>\n",
              "<style scoped>\n",
              "    .dataframe tbody tr th:only-of-type {\n",
              "        vertical-align: middle;\n",
              "    }\n",
              "\n",
              "    .dataframe tbody tr th {\n",
              "        vertical-align: top;\n",
              "    }\n",
              "\n",
              "    .dataframe thead th {\n",
              "        text-align: right;\n",
              "    }\n",
              "</style>\n",
              "<table border=\"1\" class=\"dataframe\">\n",
              "  <thead>\n",
              "    <tr style=\"text-align: right;\">\n",
              "      <th></th>\n",
              "      <th>index</th>\n",
              "      <th>Tweets Frequence</th>\n",
              "      <th>Floods Frequence</th>\n",
              "      <th>Duration</th>\n",
              "      <th>METEO</th>\n",
              "    </tr>\n",
              "  </thead>\n",
              "  <tbody>\n",
              "    <tr>\n",
              "      <th>3</th>\n",
              "      <td>2019-02-06</td>\n",
              "      <td>9</td>\n",
              "      <td>2.0</td>\n",
              "      <td>4.01</td>\n",
              "      <td>9</td>\n",
              "    </tr>\n",
              "    <tr>\n",
              "      <th>9</th>\n",
              "      <td>2019-02-16</td>\n",
              "      <td>8</td>\n",
              "      <td>2.0</td>\n",
              "      <td>6.80</td>\n",
              "      <td>8</td>\n",
              "    </tr>\n",
              "    <tr>\n",
              "      <th>14</th>\n",
              "      <td>2019-02-21</td>\n",
              "      <td>2</td>\n",
              "      <td>7.0</td>\n",
              "      <td>12.72</td>\n",
              "      <td>2</td>\n",
              "    </tr>\n",
              "    <tr>\n",
              "      <th>17</th>\n",
              "      <td>2019-02-24</td>\n",
              "      <td>4</td>\n",
              "      <td>1.0</td>\n",
              "      <td>1.75</td>\n",
              "      <td>4</td>\n",
              "    </tr>\n",
              "    <tr>\n",
              "      <th>23</th>\n",
              "      <td>2019-03-02</td>\n",
              "      <td>6</td>\n",
              "      <td>3.0</td>\n",
              "      <td>1.59</td>\n",
              "      <td>6</td>\n",
              "    </tr>\n",
              "    <tr>\n",
              "      <th>26</th>\n",
              "      <td>2019-03-05</td>\n",
              "      <td>2</td>\n",
              "      <td>5.0</td>\n",
              "      <td>13.56</td>\n",
              "      <td>2</td>\n",
              "    </tr>\n",
              "    <tr>\n",
              "      <th>28</th>\n",
              "      <td>2019-03-07</td>\n",
              "      <td>8</td>\n",
              "      <td>6.0</td>\n",
              "      <td>9.39</td>\n",
              "      <td>9</td>\n",
              "    </tr>\n",
              "    <tr>\n",
              "      <th>29</th>\n",
              "      <td>2019-03-09</td>\n",
              "      <td>11</td>\n",
              "      <td>2.0</td>\n",
              "      <td>0.60</td>\n",
              "      <td>12</td>\n",
              "    </tr>\n",
              "  </tbody>\n",
              "</table>\n",
              "</div>"
            ],
            "text/plain": [
              "         index  Tweets Frequence  Floods Frequence  Duration  METEO\n",
              "3   2019-02-06                 9               2.0      4.01      9\n",
              "9   2019-02-16                 8               2.0      6.80      8\n",
              "14  2019-02-21                 2               7.0     12.72      2\n",
              "17  2019-02-24                 4               1.0      1.75      4\n",
              "23  2019-03-02                 6               3.0      1.59      6\n",
              "26  2019-03-05                 2               5.0     13.56      2\n",
              "28  2019-03-07                 8               6.0      9.39      9\n",
              "29  2019-03-09                11               2.0      0.60     12"
            ]
          },
          "metadata": {
            "tags": []
          },
          "execution_count": 16
        }
      ]
    },
    {
      "cell_type": "code",
      "metadata": {
        "id": "84s3d4ZwHb1r"
      },
      "source": [
        ""
      ],
      "execution_count": null,
      "outputs": []
    },
    {
      "cell_type": "markdown",
      "metadata": {
        "id": "Emhhv9ccTy3W"
      },
      "source": [
        "#Last Window"
      ]
    },
    {
      "cell_type": "code",
      "metadata": {
        "colab": {
          "base_uri": "https://localhost:8080/",
          "height": 408
        },
        "id": "x33GIXIBT0yn",
        "outputId": "6e889e50-a8e3-4ae6-d425-89f2e0c96978"
      },
      "source": [
        "four_tw=pd.read_csv(r'/content/gdrive/My Drive/Colab Notebooks/Tweets/Fourth_Twindow.csv')\n",
        "four_tw"
      ],
      "execution_count": null,
      "outputs": [
        {
          "output_type": "execute_result",
          "data": {
            "text/html": [
              "<div>\n",
              "<style scoped>\n",
              "    .dataframe tbody tr th:only-of-type {\n",
              "        vertical-align: middle;\n",
              "    }\n",
              "\n",
              "    .dataframe tbody tr th {\n",
              "        vertical-align: top;\n",
              "    }\n",
              "\n",
              "    .dataframe thead th {\n",
              "        text-align: right;\n",
              "    }\n",
              "</style>\n",
              "<table border=\"1\" class=\"dataframe\">\n",
              "  <thead>\n",
              "    <tr style=\"text-align: right;\">\n",
              "      <th></th>\n",
              "      <th>index</th>\n",
              "      <th>Tweets Frequence</th>\n",
              "      <th>Floods Frequence</th>\n",
              "      <th>Duration</th>\n",
              "      <th>METEO</th>\n",
              "    </tr>\n",
              "  </thead>\n",
              "  <tbody>\n",
              "    <tr>\n",
              "      <th>0</th>\n",
              "      <td>2019-01-01</td>\n",
              "      <td>2</td>\n",
              "      <td>1.0</td>\n",
              "      <td>0.82</td>\n",
              "      <td>3</td>\n",
              "    </tr>\n",
              "    <tr>\n",
              "      <th>1</th>\n",
              "      <td>2019-01-03</td>\n",
              "      <td>1</td>\n",
              "      <td>3.0</td>\n",
              "      <td>1.03</td>\n",
              "      <td>2</td>\n",
              "    </tr>\n",
              "    <tr>\n",
              "      <th>2</th>\n",
              "      <td>2019-01-04</td>\n",
              "      <td>2</td>\n",
              "      <td>1.0</td>\n",
              "      <td>1.63</td>\n",
              "      <td>2</td>\n",
              "    </tr>\n",
              "    <tr>\n",
              "      <th>3</th>\n",
              "      <td>2019-01-05</td>\n",
              "      <td>2</td>\n",
              "      <td>0.0</td>\n",
              "      <td>0.00</td>\n",
              "      <td>2</td>\n",
              "    </tr>\n",
              "    <tr>\n",
              "      <th>4</th>\n",
              "      <td>2019-01-07</td>\n",
              "      <td>5</td>\n",
              "      <td>0.0</td>\n",
              "      <td>0.00</td>\n",
              "      <td>5</td>\n",
              "    </tr>\n",
              "    <tr>\n",
              "      <th>...</th>\n",
              "      <td>...</td>\n",
              "      <td>...</td>\n",
              "      <td>...</td>\n",
              "      <td>...</td>\n",
              "      <td>...</td>\n",
              "    </tr>\n",
              "    <tr>\n",
              "      <th>62</th>\n",
              "      <td>2019-03-17</td>\n",
              "      <td>12</td>\n",
              "      <td>0.0</td>\n",
              "      <td>0.00</td>\n",
              "      <td>11</td>\n",
              "    </tr>\n",
              "    <tr>\n",
              "      <th>63</th>\n",
              "      <td>2019-03-21</td>\n",
              "      <td>6</td>\n",
              "      <td>0.0</td>\n",
              "      <td>0.00</td>\n",
              "      <td>7</td>\n",
              "    </tr>\n",
              "    <tr>\n",
              "      <th>64</th>\n",
              "      <td>2019-03-22</td>\n",
              "      <td>1</td>\n",
              "      <td>0.0</td>\n",
              "      <td>0.00</td>\n",
              "      <td>1</td>\n",
              "    </tr>\n",
              "    <tr>\n",
              "      <th>65</th>\n",
              "      <td>2019-03-28</td>\n",
              "      <td>2</td>\n",
              "      <td>0.0</td>\n",
              "      <td>0.00</td>\n",
              "      <td>2</td>\n",
              "    </tr>\n",
              "    <tr>\n",
              "      <th>66</th>\n",
              "      <td>2019-03-31</td>\n",
              "      <td>2</td>\n",
              "      <td>0.0</td>\n",
              "      <td>0.00</td>\n",
              "      <td>2</td>\n",
              "    </tr>\n",
              "  </tbody>\n",
              "</table>\n",
              "<p>67 rows × 5 columns</p>\n",
              "</div>"
            ],
            "text/plain": [
              "         index  Tweets Frequence  Floods Frequence  Duration  METEO\n",
              "0   2019-01-01                 2               1.0      0.82      3\n",
              "1   2019-01-03                 1               3.0      1.03      2\n",
              "2   2019-01-04                 2               1.0      1.63      2\n",
              "3   2019-01-05                 2               0.0      0.00      2\n",
              "4   2019-01-07                 5               0.0      0.00      5\n",
              "..         ...               ...               ...       ...    ...\n",
              "62  2019-03-17                12               0.0      0.00     11\n",
              "63  2019-03-21                 6               0.0      0.00      7\n",
              "64  2019-03-22                 1               0.0      0.00      1\n",
              "65  2019-03-28                 2               0.0      0.00      2\n",
              "66  2019-03-31                 2               0.0      0.00      2\n",
              "\n",
              "[67 rows x 5 columns]"
            ]
          },
          "metadata": {
            "tags": []
          },
          "execution_count": 17
        }
      ]
    },
    {
      "cell_type": "code",
      "metadata": {
        "colab": {
          "base_uri": "https://localhost:8080/"
        },
        "id": "3Vq6jpxTT_IW",
        "outputId": "6142b908-96ad-48e0-b982-bdeb15a0f8fc"
      },
      "source": [
        "flood_days=four_tw[four_tw['Floods Frequence']!=0]\n",
        "no_flood=four_tw[four_tw['Floods Frequence']==0]\n",
        "x,y=stats.mannwhitneyu(flood_days['METEO'].array, no_flood['METEO'].array, alternative='greater')\n",
        "print(\"The statistics: \", x)\n",
        "print(\"The p-value\", y)\n",
        "if y<=0.05:\n",
        "  print(\"Reject the null hypothesis, that the probability of X being greater than Y is equal to the probability of Y being greater than X\")\n",
        "else:\n",
        "  print(\"The null hypothesis cannot be rejected\")"
      ],
      "execution_count": null,
      "outputs": [
        {
          "output_type": "stream",
          "text": [
            "The statistics:  558.0\n",
            "The p-value 0.012948659711990402\n",
            "Reject the null hypothesis, that the probability of X being greater than Y is equal to the probability of Y being greater than X\n"
          ],
          "name": "stdout"
        }
      ]
    }
  ]
}